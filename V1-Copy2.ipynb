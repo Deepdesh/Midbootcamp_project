{
 "cells": [
  {
   "cell_type": "markdown",
   "metadata": {},
   "source": [
    "# Importing relevant libraries"
   ]
  },
  {
   "cell_type": "code",
   "execution_count": 2,
   "metadata": {},
   "outputs": [],
   "source": [
    "import pandas as pd\n",
    "import numpy as np\n",
    "\n",
    "import matplotlib.pyplot as plt\n",
    "import seaborn as sns\n",
    "\n",
    "import time\n",
    "from datetime import time\n",
    "\n",
    "from sklearn.preprocessing import MinMaxScaler #map min value to 0 and max value to 1\n",
    "from sklearn.preprocessing import StandardScaler #for each value it will subtract the mean value, shifts the axis, and the ..\n",
    "from sklearn.model_selection import train_test_split\n",
    "import scipy.stats as st\n",
    "\n",
    "from sklearn.neighbors import KNeighborsRegressor\n",
    "from sklearn import linear_model\n",
    "from sklearn.metrics import r2_score\n",
    "from sklearn.neural_network import MLPRegressor\n",
    "from sklearn.datasets import make_regression\n",
    "# To make run all you ask in one cell\n",
    "from IPython.core.interactiveshell import InteractiveShell\n",
    "InteractiveShell.ast_node_interactivity = \"all\""
   ]
  },
  {
   "cell_type": "markdown",
   "metadata": {},
   "source": [
    "# Preliminary data exploration"
   ]
  },
  {
   "cell_type": "code",
   "execution_count": 3,
   "metadata": {},
   "outputs": [],
   "source": [
    "data_water= pd.read_csv(\"/Users/deshdeepak/ironhack/UNHCR/new_data/drinking_water.csv\")\n",
    "data_sanitation = pd.read_csv(\"/Users/deshdeepak/ironhack/UNHCR/new_data/sanitation.csv\")\n",
    "data_asylum = pd.read_excel(\"/Users/deshdeepak/ironhack/UNHCR/new_data/asylum_applications-2.xlsx\")\n",
    "data_refugees = pd.read_excel(\"/Users/deshdeepak/ironhack/UNHCR/new_data/demographics2.xlsx\")\n",
    "voice= pd.read_excel(\"/Users/deshdeepak/ironhack/UNHCR/new_data/Voice.xlsx\")\n",
    "political=pd.read_excel(\"/Users/deshdeepak/ironhack/UNHCR/new_data/Political.xlsx\")\n",
    "government=pd.read_excel(\"/Users/deshdeepak/ironhack/UNHCR/new_data/Government.xlsx\")\n",
    "regulatory= pd.read_excel(\"/Users/deshdeepak/ironhack/UNHCR/new_data/Regulatory.xlsx\")\n",
    "rule=pd.read_excel(\"/Users/deshdeepak/ironhack/UNHCR/new_data/Rule of Law.xlsx\")\n",
    "corruption=pd.read_excel(\"/Users/deshdeepak/ironhack/UNHCR/new_data/Control of Corruption.xlsx\")\n",
    "vih= pd.read_excel(\"/Users/deshdeepak/ironhack/UNHCR/new_data/VIH.xlsx\")\n",
    "intestinal= pd.read_excel(\"/Users/deshdeepak/ironhack/UNHCR/new_data/intestinal.xlsx\")\n",
    "form_government = pd.read_excel(\"/Users/deshdeepak/ironhack/UNHCR/new_data/form_government.xlsx\")"
   ]
  },
  {
   "cell_type": "code",
   "execution_count": 4,
   "metadata": {},
   "outputs": [
    {
     "data": {
      "text/plain": [
       "(3774, 8)"
      ]
     },
     "execution_count": 4,
     "metadata": {},
     "output_type": "execute_result"
    },
    {
     "data": {
      "text/plain": [
       "(3828, 8)"
      ]
     },
     "execution_count": 4,
     "metadata": {},
     "output_type": "execute_result"
    },
    {
     "data": {
      "text/plain": [
       "(13400, 3)"
      ]
     },
     "execution_count": 4,
     "metadata": {},
     "output_type": "execute_result"
    },
    {
     "data": {
      "text/plain": [
       "(9577, 3)"
      ]
     },
     "execution_count": 4,
     "metadata": {},
     "output_type": "execute_result"
    },
    {
     "data": {
      "text/plain": [
       "(864, 3)"
      ]
     },
     "execution_count": 4,
     "metadata": {},
     "output_type": "execute_result"
    },
    {
     "data": {
      "text/plain": [
       "(864, 3)"
      ]
     },
     "execution_count": 4,
     "metadata": {},
     "output_type": "execute_result"
    },
    {
     "data": {
      "text/plain": [
       "(864, 3)"
      ]
     },
     "execution_count": 4,
     "metadata": {},
     "output_type": "execute_result"
    },
    {
     "data": {
      "text/plain": [
       "(864, 3)"
      ]
     },
     "execution_count": 4,
     "metadata": {},
     "output_type": "execute_result"
    },
    {
     "data": {
      "text/plain": [
       "(864, 3)"
      ]
     },
     "execution_count": 4,
     "metadata": {},
     "output_type": "execute_result"
    },
    {
     "data": {
      "text/plain": [
       "(864, 3)"
      ]
     },
     "execution_count": 4,
     "metadata": {},
     "output_type": "execute_result"
    },
    {
     "data": {
      "text/plain": [
       "(880, 3)"
      ]
     },
     "execution_count": 4,
     "metadata": {},
     "output_type": "execute_result"
    },
    {
     "data": {
      "text/plain": [
       "(864, 3)"
      ]
     },
     "execution_count": 4,
     "metadata": {},
     "output_type": "execute_result"
    },
    {
     "data": {
      "text/plain": [
       "(54, 3)"
      ]
     },
     "execution_count": 4,
     "metadata": {},
     "output_type": "execute_result"
    }
   ],
   "source": [
    "data_water.shape\n",
    "data_sanitation.shape\n",
    "data_asylum.shape\n",
    "data_refugees.shape\n",
    "voice.shape\n",
    "political.shape\n",
    "government.shape\n",
    "regulatory.shape\n",
    "rule.shape\n",
    "corruption.shape\n",
    "vih.shape\n",
    "intestinal.shape\n",
    "form_government.shape"
   ]
  },
  {
   "cell_type": "code",
   "execution_count": 5,
   "metadata": {},
   "outputs": [
    {
     "data": {
      "text/html": [
       "<div>\n",
       "<style scoped>\n",
       "    .dataframe tbody tr th:only-of-type {\n",
       "        vertical-align: middle;\n",
       "    }\n",
       "\n",
       "    .dataframe tbody tr th {\n",
       "        vertical-align: top;\n",
       "    }\n",
       "\n",
       "    .dataframe thead th {\n",
       "        text-align: right;\n",
       "    }\n",
       "</style>\n",
       "<table border=\"1\" class=\"dataframe\">\n",
       "  <thead>\n",
       "    <tr style=\"text-align: right;\">\n",
       "      <th></th>\n",
       "      <th>Country</th>\n",
       "      <th>Form of Government</th>\n",
       "    </tr>\n",
       "  </thead>\n",
       "  <tbody>\n",
       "    <tr>\n",
       "      <th>0</th>\n",
       "      <td>Algeria</td>\n",
       "      <td>parliamentary unitary republic</td>\n",
       "    </tr>\n",
       "    <tr>\n",
       "      <th>1</th>\n",
       "      <td>Angola</td>\n",
       "      <td>presidential unitary republic</td>\n",
       "    </tr>\n",
       "    <tr>\n",
       "      <th>2</th>\n",
       "      <td>Benin</td>\n",
       "      <td>presidential unitary republic</td>\n",
       "    </tr>\n",
       "    <tr>\n",
       "      <th>3</th>\n",
       "      <td>Botswana</td>\n",
       "      <td>parliamentary unitary republic</td>\n",
       "    </tr>\n",
       "    <tr>\n",
       "      <th>4</th>\n",
       "      <td>Burkina Faso</td>\n",
       "      <td>presidential unitary republic</td>\n",
       "    </tr>\n",
       "  </tbody>\n",
       "</table>\n",
       "</div>"
      ],
      "text/plain": [
       "        Country              Form of Government\n",
       "0       Algeria  parliamentary unitary republic\n",
       "1        Angola   presidential unitary republic\n",
       "2         Benin   presidential unitary republic\n",
       "3      Botswana  parliamentary unitary republic\n",
       "4  Burkina Faso   presidential unitary republic"
      ]
     },
     "execution_count": 5,
     "metadata": {},
     "output_type": "execute_result"
    }
   ],
   "source": [
    "\n",
    "form_government = form_government.drop(['Unnamed: 2'],axis=1)\n",
    "form_government.head()"
   ]
  },
  {
   "cell_type": "code",
   "execution_count": 6,
   "metadata": {
    "scrolled": false
   },
   "outputs": [
    {
     "name": "stdout",
     "output_type": "stream",
     "text": [
      "<class 'pandas.core.frame.DataFrame'>\n",
      "RangeIndex: 3774 entries, 0 to 3773\n",
      "Data columns (total 8 columns):\n",
      " #   Column          Non-Null Count  Dtype  \n",
      "---  ------          --------------  -----  \n",
      " 0   ISO3            3774 non-null   object \n",
      " 1   Country         3774 non-null   object \n",
      " 2   Residence Type  3774 non-null   object \n",
      " 3   Service Type    3774 non-null   object \n",
      " 4   Year            3774 non-null   int64  \n",
      " 5   Coverage        3774 non-null   float64\n",
      " 6   Population      3774 non-null   float64\n",
      " 7   Service level   3774 non-null   object \n",
      "dtypes: float64(2), int64(1), object(5)\n",
      "memory usage: 236.0+ KB\n",
      "<class 'pandas.core.frame.DataFrame'>\n",
      "RangeIndex: 3828 entries, 0 to 3827\n",
      "Data columns (total 8 columns):\n",
      " #   Column          Non-Null Count  Dtype  \n",
      "---  ------          --------------  -----  \n",
      " 0   ISO3            3828 non-null   object \n",
      " 1   Country         3828 non-null   object \n",
      " 2   Residence Type  3828 non-null   object \n",
      " 3   Service Type    3828 non-null   object \n",
      " 4   Year            3828 non-null   int64  \n",
      " 5   Coverage        3828 non-null   float64\n",
      " 6   Population      3828 non-null   float64\n",
      " 7   Service level   3828 non-null   object \n",
      "dtypes: float64(2), int64(1), object(5)\n",
      "memory usage: 239.4+ KB\n",
      "<class 'pandas.core.frame.DataFrame'>\n",
      "RangeIndex: 13400 entries, 0 to 13399\n",
      "Data columns (total 3 columns):\n",
      " #   Column             Non-Null Count  Dtype \n",
      "---  ------             --------------  ----- \n",
      " 0   Year               13400 non-null  int64 \n",
      " 1   Country of origin  13400 non-null  object\n",
      " 2   applied            13400 non-null  int64 \n",
      "dtypes: int64(2), object(1)\n",
      "memory usage: 314.2+ KB\n",
      "<class 'pandas.core.frame.DataFrame'>\n",
      "RangeIndex: 9577 entries, 0 to 9576\n",
      "Data columns (total 3 columns):\n",
      " #   Column             Non-Null Count  Dtype \n",
      "---  ------             --------------  ----- \n",
      " 0   Year               9577 non-null   int64 \n",
      " 1   Country of origin  9577 non-null   object\n",
      " 2   Total              9577 non-null   int64 \n",
      "dtypes: int64(2), object(1)\n",
      "memory usage: 224.6+ KB\n",
      "<class 'pandas.core.frame.DataFrame'>\n",
      "RangeIndex: 864 entries, 0 to 863\n",
      "Data columns (total 3 columns):\n",
      " #   Column                     Non-Null Count  Dtype  \n",
      "---  ------                     --------------  -----  \n",
      " 0   Country                    864 non-null    object \n",
      " 1   Year                       864 non-null    int64  \n",
      " 2   Voice and Accountability   855 non-null    float64\n",
      "dtypes: float64(1), int64(1), object(1)\n",
      "memory usage: 20.4+ KB\n",
      "<class 'pandas.core.frame.DataFrame'>\n",
      "RangeIndex: 864 entries, 0 to 863\n",
      "Data columns (total 3 columns):\n",
      " #   Column                                       Non-Null Count  Dtype  \n",
      "---  ------                                       --------------  -----  \n",
      " 0   Country                                      864 non-null    object \n",
      " 1   Year                                         864 non-null    int64  \n",
      " 2   Political Stability and Absence of Violence  855 non-null    float64\n",
      "dtypes: float64(1), int64(1), object(1)\n",
      "memory usage: 20.4+ KB\n",
      "<class 'pandas.core.frame.DataFrame'>\n",
      "RangeIndex: 864 entries, 0 to 863\n",
      "Data columns (total 3 columns):\n",
      " #   Column       Non-Null Count  Dtype  \n",
      "---  ------       --------------  -----  \n",
      " 0   Country      864 non-null    object \n",
      " 1   Year         864 non-null    int64  \n",
      " 2   Government   855 non-null    float64\n",
      "dtypes: float64(1), int64(1), object(1)\n",
      "memory usage: 20.4+ KB\n",
      "<class 'pandas.core.frame.DataFrame'>\n",
      "RangeIndex: 864 entries, 0 to 863\n",
      "Data columns (total 3 columns):\n",
      " #   Column              Non-Null Count  Dtype  \n",
      "---  ------              --------------  -----  \n",
      " 0   Country             864 non-null    object \n",
      " 1   Year                864 non-null    int64  \n",
      " 2   Regulatory Quality  855 non-null    float64\n",
      "dtypes: float64(1), int64(1), object(1)\n",
      "memory usage: 20.4+ KB\n",
      "<class 'pandas.core.frame.DataFrame'>\n",
      "RangeIndex: 864 entries, 0 to 863\n",
      "Data columns (total 3 columns):\n",
      " #   Column       Non-Null Count  Dtype  \n",
      "---  ------       --------------  -----  \n",
      " 0   Country      864 non-null    object \n",
      " 1   Year         864 non-null    int64  \n",
      " 2   Rule of Law  855 non-null    float64\n",
      "dtypes: float64(1), int64(1), object(1)\n",
      "memory usage: 20.4+ KB\n",
      "<class 'pandas.core.frame.DataFrame'>\n",
      "RangeIndex: 864 entries, 0 to 863\n",
      "Data columns (total 3 columns):\n",
      " #   Column                 Non-Null Count  Dtype  \n",
      "---  ------                 --------------  -----  \n",
      " 0   Country                864 non-null    object \n",
      " 1   Year                   864 non-null    int64  \n",
      " 2   Control of Corruption  856 non-null    float64\n",
      "dtypes: float64(1), int64(1), object(1)\n",
      "memory usage: 20.4+ KB\n",
      "<class 'pandas.core.frame.DataFrame'>\n",
      "RangeIndex: 880 entries, 0 to 879\n",
      "Data columns (total 3 columns):\n",
      " #   Column         Non-Null Count  Dtype  \n",
      "---  ------         --------------  -----  \n",
      " 0   location_name  880 non-null    object \n",
      " 1   year           880 non-null    int64  \n",
      " 2   val            880 non-null    float64\n",
      "dtypes: float64(1), int64(1), object(1)\n",
      "memory usage: 20.8+ KB\n",
      "<class 'pandas.core.frame.DataFrame'>\n",
      "RangeIndex: 864 entries, 0 to 863\n",
      "Data columns (total 3 columns):\n",
      " #   Column         Non-Null Count  Dtype  \n",
      "---  ------         --------------  -----  \n",
      " 0   location_name  864 non-null    object \n",
      " 1   year           864 non-null    int64  \n",
      " 2   val            864 non-null    float64\n",
      "dtypes: float64(1), int64(1), object(1)\n",
      "memory usage: 20.4+ KB\n",
      "<class 'pandas.core.frame.DataFrame'>\n",
      "RangeIndex: 54 entries, 0 to 53\n",
      "Data columns (total 2 columns):\n",
      " #   Column              Non-Null Count  Dtype \n",
      "---  ------              --------------  ----- \n",
      " 0   Country             54 non-null     object\n",
      " 1   Form of Government  54 non-null     object\n",
      "dtypes: object(2)\n",
      "memory usage: 992.0+ bytes\n"
     ]
    }
   ],
   "source": [
    "data_water.info()\n",
    "data_sanitation.info()\n",
    "data_asylum.info()\n",
    "data_refugees.info()\n",
    "voice.info()\n",
    "political.info()\n",
    "government.info()\n",
    "regulatory.info()\n",
    "rule.info()\n",
    "corruption.info()\n",
    "vih.info()\n",
    "intestinal.info()\n",
    "form_government.info()"
   ]
  },
  {
   "cell_type": "code",
   "execution_count": 7,
   "metadata": {},
   "outputs": [],
   "source": [
    "def clean(x):\n",
    "    if x in ['Cape Verde']:\n",
    "        return 'Cabo Verde'\n",
    "    elif x in ['Congo, Rep.']:\n",
    "        return 'Congo'\n",
    "    elif x in ['Congo, Dem. Rep.']:\n",
    "        return 'Democratic Republic of the Congo'\n",
    "    elif x in ['Egypt, Arab Rep.']:\n",
    "        return 'Egypt'\n",
    "    elif x in ['Gambia, The']:\n",
    "        return 'Gambia'\n",
    "    elif x in ['Tanzania']:\n",
    "        return 'United Republic of Tanzania'\n",
    "    else:\n",
    "        return x\n",
    "    \n",
    "def clean2(x):\n",
    "    if x in ['Central African Rep.']:\n",
    "        return 'Central African Republic'\n",
    "    elif x in ['Dem. Rep. of the Congo']:\n",
    "        return 'Democratic Republic of the Congo'\n",
    "    elif x in ['United Rep. of Tanzania']:\n",
    "        return 'United Republic of Tanzania'\n",
    "    else:\n",
    "        return x\n",
    "    "
   ]
  },
  {
   "cell_type": "code",
   "execution_count": 8,
   "metadata": {},
   "outputs": [],
   "source": [
    "voice['Country'] = list(map(clean, voice['Country']))\n",
    "political['Country'] = list(map(clean, political['Country']))\n",
    "government['Country'] = list(map(clean, government['Country']))\n",
    "regulatory['Country'] = list(map(clean, regulatory['Country']))\n",
    "rule['Country'] = list(map(clean, rule['Country']))\n",
    "corruption['Country'] = list(map(clean, corruption['Country']))\n",
    "data_asylum['Country of origin'] = list(map(clean2, data_asylum['Country of origin']))\n",
    "data_refugees['Country of origin'] = list(map(clean2, data_refugees['Country of origin']))\n",
    "\n",
    "\n"
   ]
  },
  {
   "cell_type": "code",
   "execution_count": 9,
   "metadata": {},
   "outputs": [],
   "source": [
    "data_water = data_water.rename(columns={'Coverage':'water_coverage','Population':'water_population'})\n",
    "data_sanitation= data_sanitation.rename(columns={'Coverage':'sanitation_coverage','Population':'sanitation_population'})\n",
    "\n",
    "\n",
    "data_water.columns = data_water.columns.str.replace(' ','_')\n",
    "data_water.columns = data_water.columns.str.lower()\n",
    "\n",
    "data_sanitation.columns = data_sanitation.columns.str.replace(' ','_')\n",
    "data_sanitation.columns = data_sanitation.columns.str.lower()\n",
    "\n",
    "data_asylum.columns = data_asylum.columns.str.replace(' ','_')\n",
    "data_asylum.columns = data_asylum.columns.str.lower()\n",
    "\n",
    "data_refugees.columns = data_refugees.columns.str.replace(' ','_')\n",
    "data_refugees.columns = data_refugees.columns.str.lower()\n",
    "\n",
    "voice.columns = voice.columns.str.replace(' ','_')\n",
    "voice.columns = voice.columns.str.lower()\n",
    "\n",
    "government.columns = government.columns.str.replace(' ','_')\n",
    "government.columns = government.columns.str.lower()\n",
    "\n",
    "political.columns = political.columns.str.replace(' ','_')\n",
    "political.columns = political.columns.str.lower()\n",
    "\n",
    "regulatory.columns = regulatory.columns.str.replace(' ','_')\n",
    "regulatory.columns = regulatory.columns.str.lower()\n",
    "\n",
    "rule.columns = rule.columns.str.replace(' ','_')\n",
    "rule.columns = rule.columns.str.lower()\n",
    "\n",
    "corruption.columns = corruption.columns.str.replace(' ','_')\n",
    "corruption.columns = corruption.columns.str.lower()\n",
    "\n",
    "vih.columns = vih.columns.str.replace(' ','_')\n",
    "vih.columns = vih.columns.str.lower()\n",
    "\n",
    "intestinal.columns = intestinal.columns.str.replace(' ','_')\n",
    "intestinal.columns = intestinal.columns.str.lower()\n",
    "\n",
    "form_government.columns = form_government.columns.str.replace(' ','_')\n",
    "form_government.columns = form_government.columns.str.lower()"
   ]
  },
  {
   "cell_type": "code",
   "execution_count": 10,
   "metadata": {},
   "outputs": [],
   "source": [
    "data_water = data_water.drop(['iso3','residence_type','service_type'], axis = 1)\n",
    "data_sanitation = data_sanitation.drop(['iso3','residence_type','service_type'], axis = 1)"
   ]
  },
  {
   "cell_type": "code",
   "execution_count": 11,
   "metadata": {},
   "outputs": [
    {
     "data": {
      "text/plain": [
       "(3774, 5)"
      ]
     },
     "execution_count": 11,
     "metadata": {},
     "output_type": "execute_result"
    },
    {
     "data": {
      "text/plain": [
       "(3828, 5)"
      ]
     },
     "execution_count": 11,
     "metadata": {},
     "output_type": "execute_result"
    },
    {
     "data": {
      "text/plain": [
       "(13400, 3)"
      ]
     },
     "execution_count": 11,
     "metadata": {},
     "output_type": "execute_result"
    },
    {
     "data": {
      "text/plain": [
       "(9577, 3)"
      ]
     },
     "execution_count": 11,
     "metadata": {},
     "output_type": "execute_result"
    },
    {
     "data": {
      "text/plain": [
       "(864, 3)"
      ]
     },
     "execution_count": 11,
     "metadata": {},
     "output_type": "execute_result"
    },
    {
     "data": {
      "text/plain": [
       "(864, 3)"
      ]
     },
     "execution_count": 11,
     "metadata": {},
     "output_type": "execute_result"
    },
    {
     "data": {
      "text/plain": [
       "(864, 3)"
      ]
     },
     "execution_count": 11,
     "metadata": {},
     "output_type": "execute_result"
    },
    {
     "data": {
      "text/plain": [
       "(864, 3)"
      ]
     },
     "execution_count": 11,
     "metadata": {},
     "output_type": "execute_result"
    },
    {
     "data": {
      "text/plain": [
       "(864, 3)"
      ]
     },
     "execution_count": 11,
     "metadata": {},
     "output_type": "execute_result"
    },
    {
     "data": {
      "text/plain": [
       "(864, 3)"
      ]
     },
     "execution_count": 11,
     "metadata": {},
     "output_type": "execute_result"
    },
    {
     "data": {
      "text/plain": [
       "(880, 3)"
      ]
     },
     "execution_count": 11,
     "metadata": {},
     "output_type": "execute_result"
    },
    {
     "data": {
      "text/plain": [
       "(864, 3)"
      ]
     },
     "execution_count": 11,
     "metadata": {},
     "output_type": "execute_result"
    },
    {
     "data": {
      "text/plain": [
       "(54, 2)"
      ]
     },
     "execution_count": 11,
     "metadata": {},
     "output_type": "execute_result"
    }
   ],
   "source": [
    "data_water.shape\n",
    "data_sanitation.shape\n",
    "data_asylum.shape\n",
    "data_refugees.shape\n",
    "voice.shape\n",
    "political.shape\n",
    "government.shape\n",
    "regulatory.shape\n",
    "rule.shape\n",
    "corruption.shape\n",
    "vih.shape\n",
    "intestinal.shape\n",
    "form_government.shape"
   ]
  },
  {
   "cell_type": "code",
   "execution_count": 12,
   "metadata": {},
   "outputs": [
    {
     "name": "stdout",
     "output_type": "stream",
     "text": [
      "<class 'pandas.core.frame.DataFrame'>\n",
      "RangeIndex: 3774 entries, 0 to 3773\n",
      "Data columns (total 5 columns):\n",
      " #   Column            Non-Null Count  Dtype  \n",
      "---  ------            --------------  -----  \n",
      " 0   country           3774 non-null   object \n",
      " 1   year              3774 non-null   int64  \n",
      " 2   water_coverage    3774 non-null   float64\n",
      " 3   water_population  3774 non-null   float64\n",
      " 4   service_level     3774 non-null   object \n",
      "dtypes: float64(2), int64(1), object(2)\n",
      "memory usage: 147.5+ KB\n",
      "<class 'pandas.core.frame.DataFrame'>\n",
      "RangeIndex: 3828 entries, 0 to 3827\n",
      "Data columns (total 5 columns):\n",
      " #   Column                 Non-Null Count  Dtype  \n",
      "---  ------                 --------------  -----  \n",
      " 0   country                3828 non-null   object \n",
      " 1   year                   3828 non-null   int64  \n",
      " 2   sanitation_coverage    3828 non-null   float64\n",
      " 3   sanitation_population  3828 non-null   float64\n",
      " 4   service_level          3828 non-null   object \n",
      "dtypes: float64(2), int64(1), object(2)\n",
      "memory usage: 149.7+ KB\n",
      "<class 'pandas.core.frame.DataFrame'>\n",
      "RangeIndex: 13400 entries, 0 to 13399\n",
      "Data columns (total 3 columns):\n",
      " #   Column             Non-Null Count  Dtype \n",
      "---  ------             --------------  ----- \n",
      " 0   year               13400 non-null  int64 \n",
      " 1   country_of_origin  13400 non-null  object\n",
      " 2   applied            13400 non-null  int64 \n",
      "dtypes: int64(2), object(1)\n",
      "memory usage: 314.2+ KB\n",
      "<class 'pandas.core.frame.DataFrame'>\n",
      "RangeIndex: 9577 entries, 0 to 9576\n",
      "Data columns (total 3 columns):\n",
      " #   Column             Non-Null Count  Dtype \n",
      "---  ------             --------------  ----- \n",
      " 0   year               9577 non-null   int64 \n",
      " 1   country_of_origin  9577 non-null   object\n",
      " 2   total              9577 non-null   int64 \n",
      "dtypes: int64(2), object(1)\n",
      "memory usage: 224.6+ KB\n",
      "<class 'pandas.core.frame.DataFrame'>\n",
      "RangeIndex: 864 entries, 0 to 863\n",
      "Data columns (total 3 columns):\n",
      " #   Column                     Non-Null Count  Dtype  \n",
      "---  ------                     --------------  -----  \n",
      " 0   country                    864 non-null    object \n",
      " 1   year                       864 non-null    int64  \n",
      " 2   voice_and_accountability_  855 non-null    float64\n",
      "dtypes: float64(1), int64(1), object(1)\n",
      "memory usage: 20.4+ KB\n",
      "<class 'pandas.core.frame.DataFrame'>\n",
      "RangeIndex: 864 entries, 0 to 863\n",
      "Data columns (total 3 columns):\n",
      " #   Column                                       Non-Null Count  Dtype  \n",
      "---  ------                                       --------------  -----  \n",
      " 0   country                                      864 non-null    object \n",
      " 1   year                                         864 non-null    int64  \n",
      " 2   political_stability_and_absence_of_violence  855 non-null    float64\n",
      "dtypes: float64(1), int64(1), object(1)\n",
      "memory usage: 20.4+ KB\n",
      "<class 'pandas.core.frame.DataFrame'>\n",
      "RangeIndex: 864 entries, 0 to 863\n",
      "Data columns (total 3 columns):\n",
      " #   Column       Non-Null Count  Dtype  \n",
      "---  ------       --------------  -----  \n",
      " 0   country      864 non-null    object \n",
      " 1   year         864 non-null    int64  \n",
      " 2   government_  855 non-null    float64\n",
      "dtypes: float64(1), int64(1), object(1)\n",
      "memory usage: 20.4+ KB\n",
      "<class 'pandas.core.frame.DataFrame'>\n",
      "RangeIndex: 864 entries, 0 to 863\n",
      "Data columns (total 3 columns):\n",
      " #   Column              Non-Null Count  Dtype  \n",
      "---  ------              --------------  -----  \n",
      " 0   country             864 non-null    object \n",
      " 1   year                864 non-null    int64  \n",
      " 2   regulatory_quality  855 non-null    float64\n",
      "dtypes: float64(1), int64(1), object(1)\n",
      "memory usage: 20.4+ KB\n",
      "<class 'pandas.core.frame.DataFrame'>\n",
      "RangeIndex: 864 entries, 0 to 863\n",
      "Data columns (total 3 columns):\n",
      " #   Column       Non-Null Count  Dtype  \n",
      "---  ------       --------------  -----  \n",
      " 0   country      864 non-null    object \n",
      " 1   year         864 non-null    int64  \n",
      " 2   rule_of_law  855 non-null    float64\n",
      "dtypes: float64(1), int64(1), object(1)\n",
      "memory usage: 20.4+ KB\n",
      "<class 'pandas.core.frame.DataFrame'>\n",
      "RangeIndex: 864 entries, 0 to 863\n",
      "Data columns (total 3 columns):\n",
      " #   Column                 Non-Null Count  Dtype  \n",
      "---  ------                 --------------  -----  \n",
      " 0   country                864 non-null    object \n",
      " 1   year                   864 non-null    int64  \n",
      " 2   control_of_corruption  856 non-null    float64\n",
      "dtypes: float64(1), int64(1), object(1)\n",
      "memory usage: 20.4+ KB\n",
      "<class 'pandas.core.frame.DataFrame'>\n",
      "RangeIndex: 880 entries, 0 to 879\n",
      "Data columns (total 3 columns):\n",
      " #   Column         Non-Null Count  Dtype  \n",
      "---  ------         --------------  -----  \n",
      " 0   location_name  880 non-null    object \n",
      " 1   year           880 non-null    int64  \n",
      " 2   val            880 non-null    float64\n",
      "dtypes: float64(1), int64(1), object(1)\n",
      "memory usage: 20.8+ KB\n",
      "<class 'pandas.core.frame.DataFrame'>\n",
      "RangeIndex: 864 entries, 0 to 863\n",
      "Data columns (total 3 columns):\n",
      " #   Column         Non-Null Count  Dtype  \n",
      "---  ------         --------------  -----  \n",
      " 0   location_name  864 non-null    object \n",
      " 1   year           864 non-null    int64  \n",
      " 2   val            864 non-null    float64\n",
      "dtypes: float64(1), int64(1), object(1)\n",
      "memory usage: 20.4+ KB\n",
      "<class 'pandas.core.frame.DataFrame'>\n",
      "RangeIndex: 54 entries, 0 to 53\n",
      "Data columns (total 2 columns):\n",
      " #   Column              Non-Null Count  Dtype \n",
      "---  ------              --------------  ----- \n",
      " 0   country             54 non-null     object\n",
      " 1   form_of_government  54 non-null     object\n",
      "dtypes: object(2)\n",
      "memory usage: 992.0+ bytes\n"
     ]
    }
   ],
   "source": [
    "data_water.info()\n",
    "data_sanitation.info()\n",
    "data_asylum.info()\n",
    "data_refugees.info()\n",
    "voice.info()\n",
    "political.info()\n",
    "government.info()\n",
    "regulatory.info()\n",
    "rule.info()\n",
    "corruption.info()\n",
    "vih.info()\n",
    "intestinal.info()\n",
    "form_government.info()"
   ]
  },
  {
   "cell_type": "code",
   "execution_count": 13,
   "metadata": {},
   "outputs": [
    {
     "data": {
      "text/plain": [
       "country     year  voice_and_accountability_\n",
       "Algeria     2002  18.905472                    1\n",
       "Mozambique  2004  47.596153                    1\n",
       "            2006  44.711540                    1\n",
       "            2007  45.673077                    1\n",
       "            2008  45.192307                    1\n",
       "                                              ..\n",
       "Eswatini    2002  9.950249                     1\n",
       "            2003  6.965174                     1\n",
       "            2004  7.692307                     1\n",
       "            2005  8.173077                     1\n",
       "Zimbabwe    2017  14.778325                    1\n",
       "Length: 855, dtype: int64"
      ]
     },
     "execution_count": 13,
     "metadata": {},
     "output_type": "execute_result"
    },
    {
     "data": {
      "text/plain": [
       "country     year  political_stability_and_absence_of_violence\n",
       "Algeria     2002  6.878307                                       1\n",
       "Mozambique  2004  44.660194                                      1\n",
       "            2006  61.835751                                      1\n",
       "            2007  55.555557                                      1\n",
       "            2008  57.211540                                      1\n",
       "                                                                ..\n",
       "Eswatini    2002  49.206348                                      1\n",
       "            2003  45.226131                                      1\n",
       "            2004  44.174759                                      1\n",
       "            2005  35.436893                                      1\n",
       "Zimbabwe    2017  20.952381                                      1\n",
       "Length: 855, dtype: int64"
      ]
     },
     "execution_count": 13,
     "metadata": {},
     "output_type": "execute_result"
    },
    {
     "data": {
      "text/plain": [
       "country     year  government_\n",
       "Algeria     2002  31.122450      1\n",
       "Mozambique  2004  35.960590      1\n",
       "            2006  31.219513      1\n",
       "            2007  35.922329      1\n",
       "            2008  37.378639      1\n",
       "                                ..\n",
       "Eswatini    2002  35.204082      1\n",
       "            2003  23.979591      1\n",
       "            2004  12.315271      1\n",
       "            2005  13.725491      1\n",
       "Zimbabwe    2017  11.057693      1\n",
       "Length: 855, dtype: int64"
      ]
     },
     "execution_count": 13,
     "metadata": {},
     "output_type": "execute_result"
    },
    {
     "data": {
      "text/plain": [
       "country                           form_of_government                           \n",
       "Algeria                           parliamentary unitary republic                   1\n",
       "Sao Tome and Principe             semi-presidential unitary republic               1\n",
       "Madagascar                        semi-presidential devolved republic              1\n",
       "Malawi                            presidential unitary republic                    1\n",
       "Mali                              presidential unitary republic                    1\n",
       "Mauritania                        presidential republic                            1\n",
       "Mauritius                         semi-presidential unitary republic               1\n",
       "Morocco                           parliamentary unitary constitutional monarchy    1\n",
       "Mozambique                        presidential unitary republic                    1\n",
       "Namibia                           presidential unitary republic                    1\n",
       "Niger                             semi-presidential unitary republic               1\n",
       "Nigeria                           presidential unitary federation                  1\n",
       "Rwanda                            presidential unitary republic                    1\n",
       "Senegal                           presidential unitary republic                    1\n",
       "Angola                            presidential unitary republic                    1\n",
       "Seychelles                        presidential unitary republic                    1\n",
       "Sierra Leone                      presidential unitary republic                    1\n",
       "Somalia                           semi-presidential federal republic               1\n",
       "South Africa                      semi-presidential unitary republic               1\n",
       "South Sudan                       presidential federal republic                    1\n",
       "Sudan                             presidential federal republic                    1\n",
       "Togo                              presidential unitary republic                    1\n",
       "Tunisia                           presidential unitary republic                    1\n",
       "Uganda                            presidential unitary republic                    1\n",
       "United Republic of Tanzania       presidential federacy republic                   1\n",
       "Zambia                            presidential unitary republic                    1\n",
       "Libya                             parliamentary republic                           1\n",
       "Liberia                           presidential unitary republic                    1\n",
       "Lesotho                           parliamentary unitary constitutional monarchy    1\n",
       "Kenya                             presidential unitary republic                    1\n",
       "Benin                             presidential unitary republic                    1\n",
       "Botswana                          parliamentary unitary republic                   1\n",
       "Burkina Faso                      presidential unitary republic                    1\n",
       "Burundi                           presidential unitary republic                    1\n",
       "Cabo Verde                        parliamentary unitary republic                   1\n",
       "Cameroon                          presidential unitary republic                    1\n",
       "Central African Republic          presidential unitary republic                    1\n",
       "Chad                              presidential unitary republic                    1\n",
       "Comoros                           presidential federal republic                    1\n",
       "Congo                             presidential unitary republic                    1\n",
       "Cote d'Ivoire                     presidential unitary republic                    1\n",
       "Democratic Republic of the Congo  semi-presidential unitary republic               1\n",
       "Djibouti                          presidential unitary republic                    1\n",
       "Egypt                             semi-presidential unitary republic               1\n",
       "Equatorial Guinea                 presidential unitary republic                    1\n",
       "Eritrea                           presidential unitary republic                    1\n",
       "Eswatini                          unitary absolute monarchy                        1\n",
       "Ethiopia                          semi-presidential federal republic               1\n",
       "Gabon                             presidential unitary republic                    1\n",
       "Gambia                            presidential unitary republic                    1\n",
       "Ghana                             presidential unitary republic                    1\n",
       "Guinea                            presidential unitary republic                    1\n",
       "Guinea-Bissau                     semi-presidential unitary republic               1\n",
       "Zimbabwe                          presidential unitary republic                    1\n",
       "dtype: int64"
      ]
     },
     "execution_count": 13,
     "metadata": {},
     "output_type": "execute_result"
    }
   ],
   "source": [
    "\n",
    "voice.value_counts()\n",
    "political.value_counts()\n",
    "government.value_counts()\n",
    "form_government.value_counts()\n"
   ]
  },
  {
   "cell_type": "code",
   "execution_count": 14,
   "metadata": {},
   "outputs": [],
   "source": [
    "data1 = pd.merge(left = data_water, #this is a table\n",
    "                                 right = data_sanitation, #this is a table\n",
    "                                 how = 'left',  #how do we merge\n",
    "                                 left_on = [\"country\",\"year\",\"service_level\"], \n",
    "                                 right_on= [\"country\",\"year\",\"service_level\"])"
   ]
  },
  {
   "cell_type": "code",
   "execution_count": 15,
   "metadata": {},
   "outputs": [
    {
     "data": {
      "text/html": [
       "<div>\n",
       "<style scoped>\n",
       "    .dataframe tbody tr th:only-of-type {\n",
       "        vertical-align: middle;\n",
       "    }\n",
       "\n",
       "    .dataframe tbody tr th {\n",
       "        vertical-align: top;\n",
       "    }\n",
       "\n",
       "    .dataframe thead th {\n",
       "        text-align: right;\n",
       "    }\n",
       "</style>\n",
       "<table border=\"1\" class=\"dataframe\">\n",
       "  <thead>\n",
       "    <tr style=\"text-align: right;\">\n",
       "      <th></th>\n",
       "      <th>country</th>\n",
       "      <th>year</th>\n",
       "      <th>water_coverage</th>\n",
       "      <th>water_population</th>\n",
       "      <th>service_level</th>\n",
       "      <th>sanitation_coverage</th>\n",
       "      <th>sanitation_population</th>\n",
       "    </tr>\n",
       "  </thead>\n",
       "  <tbody>\n",
       "    <tr>\n",
       "      <th>0</th>\n",
       "      <td>Angola</td>\n",
       "      <td>2001</td>\n",
       "      <td>42.25467</td>\n",
       "      <td>7.176224e+06</td>\n",
       "      <td>At least basic</td>\n",
       "      <td>28.98922</td>\n",
       "      <td>4.923316e+06</td>\n",
       "    </tr>\n",
       "    <tr>\n",
       "      <th>1</th>\n",
       "      <td>Angola</td>\n",
       "      <td>2002</td>\n",
       "      <td>43.37680</td>\n",
       "      <td>7.622452e+06</td>\n",
       "      <td>At least basic</td>\n",
       "      <td>30.42247</td>\n",
       "      <td>5.346033e+06</td>\n",
       "    </tr>\n",
       "    <tr>\n",
       "      <th>2</th>\n",
       "      <td>Angola</td>\n",
       "      <td>2003</td>\n",
       "      <td>44.36387</td>\n",
       "      <td>8.075720e+06</td>\n",
       "      <td>At least basic</td>\n",
       "      <td>31.85606</td>\n",
       "      <td>5.798876e+06</td>\n",
       "    </tr>\n",
       "    <tr>\n",
       "      <th>3</th>\n",
       "      <td>Angola</td>\n",
       "      <td>2004</td>\n",
       "      <td>45.35134</td>\n",
       "      <td>8.555854e+06</td>\n",
       "      <td>At least basic</td>\n",
       "      <td>33.29039</td>\n",
       "      <td>6.280471e+06</td>\n",
       "    </tr>\n",
       "    <tr>\n",
       "      <th>4</th>\n",
       "      <td>Angola</td>\n",
       "      <td>2005</td>\n",
       "      <td>46.33602</td>\n",
       "      <td>9.059869e+06</td>\n",
       "      <td>At least basic</td>\n",
       "      <td>34.72264</td>\n",
       "      <td>6.789158e+06</td>\n",
       "    </tr>\n",
       "    <tr>\n",
       "      <th>5</th>\n",
       "      <td>Angola</td>\n",
       "      <td>2006</td>\n",
       "      <td>47.15023</td>\n",
       "      <td>9.553767e+06</td>\n",
       "      <td>At least basic</td>\n",
       "      <td>35.99128</td>\n",
       "      <td>7.292697e+06</td>\n",
       "    </tr>\n",
       "    <tr>\n",
       "      <th>6</th>\n",
       "      <td>Angola</td>\n",
       "      <td>2007</td>\n",
       "      <td>47.96147</td>\n",
       "      <td>1.007080e+07</td>\n",
       "      <td>At least basic</td>\n",
       "      <td>37.25930</td>\n",
       "      <td>7.823592e+06</td>\n",
       "    </tr>\n",
       "    <tr>\n",
       "      <th>7</th>\n",
       "      <td>Angola</td>\n",
       "      <td>2008</td>\n",
       "      <td>48.77040</td>\n",
       "      <td>1.061216e+07</td>\n",
       "      <td>At least basic</td>\n",
       "      <td>38.52751</td>\n",
       "      <td>8.383363e+06</td>\n",
       "    </tr>\n",
       "    <tr>\n",
       "      <th>8</th>\n",
       "      <td>Angola</td>\n",
       "      <td>2009</td>\n",
       "      <td>49.57516</td>\n",
       "      <td>1.117897e+07</td>\n",
       "      <td>At least basic</td>\n",
       "      <td>39.79427</td>\n",
       "      <td>8.973427e+06</td>\n",
       "    </tr>\n",
       "    <tr>\n",
       "      <th>9</th>\n",
       "      <td>Angola</td>\n",
       "      <td>2010</td>\n",
       "      <td>50.37684</td>\n",
       "      <td>1.177263e+07</td>\n",
       "      <td>At least basic</td>\n",
       "      <td>41.06079</td>\n",
       "      <td>9.595550e+06</td>\n",
       "    </tr>\n",
       "  </tbody>\n",
       "</table>\n",
       "</div>"
      ],
      "text/plain": [
       "  country  year  water_coverage  water_population   service_level  \\\n",
       "0  Angola  2001        42.25467      7.176224e+06  At least basic   \n",
       "1  Angola  2002        43.37680      7.622452e+06  At least basic   \n",
       "2  Angola  2003        44.36387      8.075720e+06  At least basic   \n",
       "3  Angola  2004        45.35134      8.555854e+06  At least basic   \n",
       "4  Angola  2005        46.33602      9.059869e+06  At least basic   \n",
       "5  Angola  2006        47.15023      9.553767e+06  At least basic   \n",
       "6  Angola  2007        47.96147      1.007080e+07  At least basic   \n",
       "7  Angola  2008        48.77040      1.061216e+07  At least basic   \n",
       "8  Angola  2009        49.57516      1.117897e+07  At least basic   \n",
       "9  Angola  2010        50.37684      1.177263e+07  At least basic   \n",
       "\n",
       "   sanitation_coverage  sanitation_population  \n",
       "0             28.98922           4.923316e+06  \n",
       "1             30.42247           5.346033e+06  \n",
       "2             31.85606           5.798876e+06  \n",
       "3             33.29039           6.280471e+06  \n",
       "4             34.72264           6.789158e+06  \n",
       "5             35.99128           7.292697e+06  \n",
       "6             37.25930           7.823592e+06  \n",
       "7             38.52751           8.383363e+06  \n",
       "8             39.79427           8.973427e+06  \n",
       "9             41.06079           9.595550e+06  "
      ]
     },
     "execution_count": 15,
     "metadata": {},
     "output_type": "execute_result"
    },
    {
     "data": {
      "text/plain": [
       "(3774, 7)"
      ]
     },
     "execution_count": 15,
     "metadata": {},
     "output_type": "execute_result"
    }
   ],
   "source": [
    "data1.head(10)\n",
    "data1.shape"
   ]
  },
  {
   "cell_type": "code",
   "execution_count": 16,
   "metadata": {},
   "outputs": [],
   "source": [
    "data_asylum= data_asylum.groupby(by=['country_of_origin','year']).agg({'applied':sum}).reset_index()\n",
    "data_refugees= data_refugees.groupby(by=['country_of_origin','year']).agg({'total':sum}).reset_index()\n"
   ]
  },
  {
   "cell_type": "code",
   "execution_count": 17,
   "metadata": {},
   "outputs": [
    {
     "data": {
      "text/plain": [
       "(869, 3)"
      ]
     },
     "execution_count": 17,
     "metadata": {},
     "output_type": "execute_result"
    },
    {
     "data": {
      "text/plain": [
       "(824, 3)"
      ]
     },
     "execution_count": 17,
     "metadata": {},
     "output_type": "execute_result"
    }
   ],
   "source": [
    "data_asylum.shape\n",
    "data_refugees.shape"
   ]
  },
  {
   "cell_type": "code",
   "execution_count": 19,
   "metadata": {},
   "outputs": [],
   "source": [
    "data = pd.merge(left = voice, #this is a table\n",
    "                                 right = political, #this is a table\n",
    "                                 how = 'inner',  #how do we merge\n",
    "                                 left_on = [\"country\",\"year\"], \n",
    "                                 right_on= [\"country\",\"year\"])\n",
    "\n",
    "data2 = pd.merge(left = data, #this is a table\n",
    "                                 right = government, #this is a table\n",
    "                                 how = 'inner',  #how do we merge\n",
    "                                 left_on = [\"country\",\"year\"], \n",
    "                                 right_on= [\"country\",\"year\"])\n",
    "data3 = pd.merge(left = data2, #this is a table\n",
    "                                 right = regulatory, #this is a table\n",
    "                                 how = 'inner',  #how do we merge\n",
    "                                 left_on = [\"country\",\"year\"], \n",
    "                                 right_on= [\"country\",\"year\"])\n",
    "data4 = pd.merge(left = data3, #this is a table\n",
    "                                 right = rule, #this is a table\n",
    "                                 how = 'inner',  #how do we merge\n",
    "                                 left_on = [\"country\",\"year\"], \n",
    "                                 right_on= [\"country\",\"year\"])\n",
    "data5 = pd.merge(left = data4, #this is a table\n",
    "                                 right = corruption, #this is a table\n",
    "                                 how = 'inner',  #how do we merge\n",
    "                                 left_on = [\"country\",\"year\"], \n",
    "                                 right_on= [\"country\",\"year\"])\n",
    "\n",
    "data6 = pd.merge(left = data5, #this is a table\n",
    "                                 right = data_asylum, #this is a table\n",
    "                                 how = 'inner',  #how do we merge\n",
    "                                 left_on = [\"country\",\"year\"], \n",
    "                                 right_on= [\"country_of_origin\",\"year\"])\n",
    "\n",
    "data7 = pd.merge(left = data6, #this is a table\n",
    "                                 right = data_refugees, #this is a table\n",
    "                                 how = 'inner',  #how do we merge\n",
    "                                 left_on = [\"country\",\"year\"], \n",
    "                                 right_on= [\"country_of_origin\",\"year\"])\n",
    "\n",
    "data8 = pd.merge(left = data7, #this is a table\n",
    "                                 right = vih, #this is a table\n",
    "                                 how = 'inner',  #how do we merge\n",
    "                                 left_on = [\"country\",\"year\"], \n",
    "                                 right_on= [\"location_name\",\"year\"])\n",
    "\n",
    "data9 = pd.merge(left = data8, #this is a table\n",
    "                                 right = intestinal, #this is a table\n",
    "                                 how = 'inner',  #how do we merge\n",
    "                                 left_on = [\"country\",\"year\"], \n",
    "                                 right_on= [\"location_name\",\"year\"])\n",
    "\n",
    "data10 = pd.merge(left = data1, #this is a table\n",
    "                                 right = data9, #this is a table\n",
    "                                 how = 'inner',  #how do we merge\n",
    "                                 left_on = [\"country\",\"year\"], \n",
    "                                 right_on= [\"country\",\"year\"])\n",
    "\n",
    "data11 = pd.merge(left = data10, #this is a table\n",
    "                                 right = form_government, #this is a table\n",
    "                                 how = 'inner',  #how do we merge\n",
    "                                 left_on = [\"country\"], \n",
    "                                 right_on= [\"country\"])\n"
   ]
  },
  {
   "cell_type": "code",
   "execution_count": 21,
   "metadata": {},
   "outputs": [
    {
     "data": {
      "text/html": [
       "<div>\n",
       "<style scoped>\n",
       "    .dataframe tbody tr th:only-of-type {\n",
       "        vertical-align: middle;\n",
       "    }\n",
       "\n",
       "    .dataframe tbody tr th {\n",
       "        vertical-align: top;\n",
       "    }\n",
       "\n",
       "    .dataframe thead th {\n",
       "        text-align: right;\n",
       "    }\n",
       "</style>\n",
       "<table border=\"1\" class=\"dataframe\">\n",
       "  <thead>\n",
       "    <tr style=\"text-align: right;\">\n",
       "      <th></th>\n",
       "      <th>country</th>\n",
       "      <th>year</th>\n",
       "      <th>water_coverage</th>\n",
       "      <th>water_population</th>\n",
       "      <th>service_level</th>\n",
       "      <th>sanitation_coverage</th>\n",
       "      <th>sanitation_population</th>\n",
       "      <th>voice_and_accountability_</th>\n",
       "      <th>political_stability_and_absence_of_violence</th>\n",
       "      <th>government_</th>\n",
       "      <th>...</th>\n",
       "      <th>control_of_corruption</th>\n",
       "      <th>country_of_origin_x</th>\n",
       "      <th>applied</th>\n",
       "      <th>country_of_origin_y</th>\n",
       "      <th>total</th>\n",
       "      <th>location_name_x</th>\n",
       "      <th>val_x</th>\n",
       "      <th>location_name_y</th>\n",
       "      <th>val_y</th>\n",
       "      <th>form_of_government</th>\n",
       "    </tr>\n",
       "  </thead>\n",
       "  <tbody>\n",
       "    <tr>\n",
       "      <th>400</th>\n",
       "      <td>Cameroon</td>\n",
       "      <td>2015</td>\n",
       "      <td>60.20857</td>\n",
       "      <td>1.374834e+07</td>\n",
       "      <td>At least basic</td>\n",
       "      <td>38.85571</td>\n",
       "      <td>8.872516e+06</td>\n",
       "      <td>22.660099</td>\n",
       "      <td>15.238095</td>\n",
       "      <td>21.634615</td>\n",
       "      <td>...</td>\n",
       "      <td>12.980769</td>\n",
       "      <td>Cameroon</td>\n",
       "      <td>3687</td>\n",
       "      <td>Cameroon</td>\n",
       "      <td>6070</td>\n",
       "      <td>Cameroon</td>\n",
       "      <td>35823.446482</td>\n",
       "      <td>Cameroon</td>\n",
       "      <td>24.767347</td>\n",
       "      <td>presidential unitary republic</td>\n",
       "    </tr>\n",
       "    <tr>\n",
       "      <th>1990</th>\n",
       "      <td>Somalia</td>\n",
       "      <td>2011</td>\n",
       "      <td>13.47989</td>\n",
       "      <td>1.672143e+06</td>\n",
       "      <td>Surface water</td>\n",
       "      <td>NaN</td>\n",
       "      <td>NaN</td>\n",
       "      <td>1.877934</td>\n",
       "      <td>0.000000</td>\n",
       "      <td>0.000000</td>\n",
       "      <td>...</td>\n",
       "      <td>0.000000</td>\n",
       "      <td>Somalia</td>\n",
       "      <td>12142</td>\n",
       "      <td>Somalia</td>\n",
       "      <td>63440</td>\n",
       "      <td>Somalia</td>\n",
       "      <td>5144.588662</td>\n",
       "      <td>Somalia</td>\n",
       "      <td>52.073194</td>\n",
       "      <td>semi-presidential federal republic</td>\n",
       "    </tr>\n",
       "    <tr>\n",
       "      <th>252</th>\n",
       "      <td>Burkina Faso</td>\n",
       "      <td>2017</td>\n",
       "      <td>47.88813</td>\n",
       "      <td>9.191351e+06</td>\n",
       "      <td>At least basic</td>\n",
       "      <td>19.40209</td>\n",
       "      <td>3.723917e+06</td>\n",
       "      <td>48.275864</td>\n",
       "      <td>15.714286</td>\n",
       "      <td>31.250000</td>\n",
       "      <td>...</td>\n",
       "      <td>53.365383</td>\n",
       "      <td>Burkina Faso</td>\n",
       "      <td>1532</td>\n",
       "      <td>Burkina Faso</td>\n",
       "      <td>3254</td>\n",
       "      <td>Burkina Faso</td>\n",
       "      <td>4417.281056</td>\n",
       "      <td>Burkina Faso</td>\n",
       "      <td>98.173921</td>\n",
       "      <td>presidential unitary republic</td>\n",
       "    </tr>\n",
       "    <tr>\n",
       "      <th>974</th>\n",
       "      <td>Gambia</td>\n",
       "      <td>2005</td>\n",
       "      <td>0.05582</td>\n",
       "      <td>8.061847e+02</td>\n",
       "      <td>Surface water</td>\n",
       "      <td>NaN</td>\n",
       "      <td>NaN</td>\n",
       "      <td>19.230770</td>\n",
       "      <td>53.883495</td>\n",
       "      <td>27.941177</td>\n",
       "      <td>...</td>\n",
       "      <td>28.292683</td>\n",
       "      <td>Gambia</td>\n",
       "      <td>424</td>\n",
       "      <td>Gambia</td>\n",
       "      <td>1276</td>\n",
       "      <td>Gambia</td>\n",
       "      <td>1183.641528</td>\n",
       "      <td>Gambia</td>\n",
       "      <td>3.372238</td>\n",
       "      <td>presidential unitary republic</td>\n",
       "    </tr>\n",
       "    <tr>\n",
       "      <th>2807</th>\n",
       "      <td>Sierra Leone</td>\n",
       "      <td>2009</td>\n",
       "      <td>43.56090</td>\n",
       "      <td>2.748806e+06</td>\n",
       "      <td>Basic service</td>\n",
       "      <td>1.81369</td>\n",
       "      <td>1.144488e+05</td>\n",
       "      <td>40.284359</td>\n",
       "      <td>35.071091</td>\n",
       "      <td>9.090909</td>\n",
       "      <td>...</td>\n",
       "      <td>19.138756</td>\n",
       "      <td>Sierra Leone</td>\n",
       "      <td>691</td>\n",
       "      <td>Sierra Leone</td>\n",
       "      <td>6233</td>\n",
       "      <td>Sierra Leone</td>\n",
       "      <td>3400.429133</td>\n",
       "      <td>Sierra Leone</td>\n",
       "      <td>30.788126</td>\n",
       "      <td>presidential unitary republic</td>\n",
       "    </tr>\n",
       "    <tr>\n",
       "      <th>690</th>\n",
       "      <td>Algeria</td>\n",
       "      <td>2013</td>\n",
       "      <td>0.22170</td>\n",
       "      <td>8.499507e+04</td>\n",
       "      <td>Surface water</td>\n",
       "      <td>NaN</td>\n",
       "      <td>NaN</td>\n",
       "      <td>23.943663</td>\n",
       "      <td>12.796208</td>\n",
       "      <td>35.071091</td>\n",
       "      <td>...</td>\n",
       "      <td>39.336494</td>\n",
       "      <td>Algeria</td>\n",
       "      <td>7777</td>\n",
       "      <td>Algeria</td>\n",
       "      <td>5530</td>\n",
       "      <td>Algeria</td>\n",
       "      <td>454.156856</td>\n",
       "      <td>Algeria</td>\n",
       "      <td>3.098165</td>\n",
       "      <td>parliamentary unitary republic</td>\n",
       "    </tr>\n",
       "    <tr>\n",
       "      <th>2969</th>\n",
       "      <td>Uganda</td>\n",
       "      <td>2009</td>\n",
       "      <td>6.04870</td>\n",
       "      <td>1.982273e+06</td>\n",
       "      <td>Safely managed service</td>\n",
       "      <td>NaN</td>\n",
       "      <td>NaN</td>\n",
       "      <td>30.805687</td>\n",
       "      <td>16.587677</td>\n",
       "      <td>32.535885</td>\n",
       "      <td>...</td>\n",
       "      <td>20.095694</td>\n",
       "      <td>Uganda</td>\n",
       "      <td>352</td>\n",
       "      <td>Uganda</td>\n",
       "      <td>899</td>\n",
       "      <td>Uganda</td>\n",
       "      <td>70081.360528</td>\n",
       "      <td>Uganda</td>\n",
       "      <td>32.382852</td>\n",
       "      <td>presidential unitary republic</td>\n",
       "    </tr>\n",
       "    <tr>\n",
       "      <th>1347</th>\n",
       "      <td>Lesotho</td>\n",
       "      <td>2002</td>\n",
       "      <td>20.77034</td>\n",
       "      <td>3.951166e+05</td>\n",
       "      <td>Unimproved</td>\n",
       "      <td>37.37600</td>\n",
       "      <td>7.110082e+05</td>\n",
       "      <td>50.746269</td>\n",
       "      <td>46.031746</td>\n",
       "      <td>55.612244</td>\n",
       "      <td>...</td>\n",
       "      <td>54.040405</td>\n",
       "      <td>Lesotho</td>\n",
       "      <td>10</td>\n",
       "      <td>Lesotho</td>\n",
       "      <td>5</td>\n",
       "      <td>Lesotho</td>\n",
       "      <td>15753.807596</td>\n",
       "      <td>Lesotho</td>\n",
       "      <td>0.423258</td>\n",
       "      <td>parliamentary unitary constitutional monarchy</td>\n",
       "    </tr>\n",
       "    <tr>\n",
       "      <th>1726</th>\n",
       "      <td>Niger</td>\n",
       "      <td>2009</td>\n",
       "      <td>2.62661</td>\n",
       "      <td>4.153694e+05</td>\n",
       "      <td>Surface water</td>\n",
       "      <td>NaN</td>\n",
       "      <td>NaN</td>\n",
       "      <td>28.436020</td>\n",
       "      <td>14.691943</td>\n",
       "      <td>31.100479</td>\n",
       "      <td>...</td>\n",
       "      <td>31.100479</td>\n",
       "      <td>Niger</td>\n",
       "      <td>271</td>\n",
       "      <td>Niger</td>\n",
       "      <td>534</td>\n",
       "      <td>Niger</td>\n",
       "      <td>2980.370981</td>\n",
       "      <td>Niger</td>\n",
       "      <td>123.664518</td>\n",
       "      <td>semi-presidential unitary republic</td>\n",
       "    </tr>\n",
       "    <tr>\n",
       "      <th>2857</th>\n",
       "      <td>Tunisia</td>\n",
       "      <td>2003</td>\n",
       "      <td>35.00673</td>\n",
       "      <td>3.479556e+06</td>\n",
       "      <td>Basic service</td>\n",
       "      <td>18.21872</td>\n",
       "      <td>1.810882e+06</td>\n",
       "      <td>21.890547</td>\n",
       "      <td>57.286430</td>\n",
       "      <td>71.428574</td>\n",
       "      <td>...</td>\n",
       "      <td>61.616161</td>\n",
       "      <td>Tunisia</td>\n",
       "      <td>377</td>\n",
       "      <td>Tunisia</td>\n",
       "      <td>1877</td>\n",
       "      <td>Tunisia</td>\n",
       "      <td>76.503340</td>\n",
       "      <td>Tunisia</td>\n",
       "      <td>1.147716</td>\n",
       "      <td>presidential unitary republic</td>\n",
       "    </tr>\n",
       "    <tr>\n",
       "      <th>59</th>\n",
       "      <td>Angola</td>\n",
       "      <td>2016</td>\n",
       "      <td>18.07951</td>\n",
       "      <td>5.209332e+06</td>\n",
       "      <td>Unimproved</td>\n",
       "      <td>10.45750</td>\n",
       "      <td>3.013167e+06</td>\n",
       "      <td>16.748768</td>\n",
       "      <td>33.333332</td>\n",
       "      <td>13.461538</td>\n",
       "      <td>...</td>\n",
       "      <td>5.769231</td>\n",
       "      <td>Angola</td>\n",
       "      <td>1460</td>\n",
       "      <td>Angola</td>\n",
       "      <td>6005</td>\n",
       "      <td>Angola</td>\n",
       "      <td>17278.537549</td>\n",
       "      <td>Angola</td>\n",
       "      <td>39.260145</td>\n",
       "      <td>presidential unitary republic</td>\n",
       "    </tr>\n",
       "    <tr>\n",
       "      <th>760</th>\n",
       "      <td>Egypt</td>\n",
       "      <td>2015</td>\n",
       "      <td>98.96033</td>\n",
       "      <td>9.280318e+07</td>\n",
       "      <td>At least basic</td>\n",
       "      <td>NaN</td>\n",
       "      <td>NaN</td>\n",
       "      <td>14.778325</td>\n",
       "      <td>8.571428</td>\n",
       "      <td>22.115385</td>\n",
       "      <td>...</td>\n",
       "      <td>30.769230</td>\n",
       "      <td>Egypt</td>\n",
       "      <td>3929</td>\n",
       "      <td>Egypt</td>\n",
       "      <td>9204</td>\n",
       "      <td>Egypt</td>\n",
       "      <td>234.407267</td>\n",
       "      <td>Egypt</td>\n",
       "      <td>5.090107</td>\n",
       "      <td>semi-presidential unitary republic</td>\n",
       "    </tr>\n",
       "    <tr>\n",
       "      <th>1630</th>\n",
       "      <td>Malawi</td>\n",
       "      <td>2005</td>\n",
       "      <td>6.41311</td>\n",
       "      <td>8.362504e+05</td>\n",
       "      <td>Surface water</td>\n",
       "      <td>NaN</td>\n",
       "      <td>NaN</td>\n",
       "      <td>31.730770</td>\n",
       "      <td>49.514565</td>\n",
       "      <td>24.019608</td>\n",
       "      <td>...</td>\n",
       "      <td>27.804878</td>\n",
       "      <td>Malawi</td>\n",
       "      <td>5</td>\n",
       "      <td>Malawi</td>\n",
       "      <td>10</td>\n",
       "      <td>Malawi</td>\n",
       "      <td>70095.106699</td>\n",
       "      <td>Malawi</td>\n",
       "      <td>13.694247</td>\n",
       "      <td>presidential unitary republic</td>\n",
       "    </tr>\n",
       "    <tr>\n",
       "      <th>1291</th>\n",
       "      <td>Libya</td>\n",
       "      <td>2004</td>\n",
       "      <td>12.14474</td>\n",
       "      <td>6.928280e+05</td>\n",
       "      <td>Unimproved</td>\n",
       "      <td>1.93158</td>\n",
       "      <td>1.101919e+05</td>\n",
       "      <td>2.403846</td>\n",
       "      <td>58.252426</td>\n",
       "      <td>19.704433</td>\n",
       "      <td>...</td>\n",
       "      <td>18.536585</td>\n",
       "      <td>Libya</td>\n",
       "      <td>642</td>\n",
       "      <td>Libya</td>\n",
       "      <td>1639</td>\n",
       "      <td>Libya</td>\n",
       "      <td>53.872605</td>\n",
       "      <td>Libya</td>\n",
       "      <td>0.470806</td>\n",
       "      <td>parliamentary republic</td>\n",
       "    </tr>\n",
       "    <tr>\n",
       "      <th>2127</th>\n",
       "      <td>Chad</td>\n",
       "      <td>2013</td>\n",
       "      <td>39.58798</td>\n",
       "      <td>5.199323e+06</td>\n",
       "      <td>Unimproved</td>\n",
       "      <td>16.93891</td>\n",
       "      <td>2.224686e+06</td>\n",
       "      <td>10.328638</td>\n",
       "      <td>15.639811</td>\n",
       "      <td>7.109005</td>\n",
       "      <td>...</td>\n",
       "      <td>4.265403</td>\n",
       "      <td>Chad</td>\n",
       "      <td>893</td>\n",
       "      <td>Chad</td>\n",
       "      <td>2169</td>\n",
       "      <td>Chad</td>\n",
       "      <td>6276.598938</td>\n",
       "      <td>Chad</td>\n",
       "      <td>81.760684</td>\n",
       "      <td>presidential unitary republic</td>\n",
       "    </tr>\n",
       "    <tr>\n",
       "      <th>215</th>\n",
       "      <td>Burkina Faso</td>\n",
       "      <td>2007</td>\n",
       "      <td>24.34227</td>\n",
       "      <td>3.469265e+06</td>\n",
       "      <td>Unimproved</td>\n",
       "      <td>8.03941</td>\n",
       "      <td>1.145778e+06</td>\n",
       "      <td>36.538460</td>\n",
       "      <td>54.589371</td>\n",
       "      <td>24.757282</td>\n",
       "      <td>...</td>\n",
       "      <td>46.601940</td>\n",
       "      <td>Burkina Faso</td>\n",
       "      <td>338</td>\n",
       "      <td>Burkina Faso</td>\n",
       "      <td>368</td>\n",
       "      <td>Burkina Faso</td>\n",
       "      <td>9759.536758</td>\n",
       "      <td>Burkina Faso</td>\n",
       "      <td>74.619213</td>\n",
       "      <td>presidential unitary republic</td>\n",
       "    </tr>\n",
       "    <tr>\n",
       "      <th>1909</th>\n",
       "      <td>Senegal</td>\n",
       "      <td>2007</td>\n",
       "      <td>4.54393</td>\n",
       "      <td>5.395263e+05</td>\n",
       "      <td>Limited service</td>\n",
       "      <td>12.85650</td>\n",
       "      <td>1.526524e+06</td>\n",
       "      <td>40.865383</td>\n",
       "      <td>37.198067</td>\n",
       "      <td>37.864079</td>\n",
       "      <td>...</td>\n",
       "      <td>36.893204</td>\n",
       "      <td>Senegal</td>\n",
       "      <td>521</td>\n",
       "      <td>Senegal</td>\n",
       "      <td>464</td>\n",
       "      <td>Senegal</td>\n",
       "      <td>3172.631238</td>\n",
       "      <td>Senegal</td>\n",
       "      <td>27.763801</td>\n",
       "      <td>presidential unitary republic</td>\n",
       "    </tr>\n",
       "    <tr>\n",
       "      <th>2150</th>\n",
       "      <td>United Republic of Tanzania</td>\n",
       "      <td>2003</td>\n",
       "      <td>16.14547</td>\n",
       "      <td>5.997892e+06</td>\n",
       "      <td>Surface water</td>\n",
       "      <td>NaN</td>\n",
       "      <td>NaN</td>\n",
       "      <td>37.313435</td>\n",
       "      <td>22.110552</td>\n",
       "      <td>42.857143</td>\n",
       "      <td>...</td>\n",
       "      <td>29.292929</td>\n",
       "      <td>United Republic of Tanzania</td>\n",
       "      <td>59</td>\n",
       "      <td>United Republic of Tanzania</td>\n",
       "      <td>113</td>\n",
       "      <td>United Republic of Tanzania</td>\n",
       "      <td>130807.445118</td>\n",
       "      <td>United Republic of Tanzania</td>\n",
       "      <td>138.992175</td>\n",
       "      <td>presidential federacy republic</td>\n",
       "    </tr>\n",
       "    <tr>\n",
       "      <th>1270</th>\n",
       "      <td>Liberia</td>\n",
       "      <td>2015</td>\n",
       "      <td>13.63760</td>\n",
       "      <td>6.136403e+05</td>\n",
       "      <td>Surface water</td>\n",
       "      <td>NaN</td>\n",
       "      <td>NaN</td>\n",
       "      <td>38.423645</td>\n",
       "      <td>20.476191</td>\n",
       "      <td>7.692307</td>\n",
       "      <td>...</td>\n",
       "      <td>30.288462</td>\n",
       "      <td>Liberia</td>\n",
       "      <td>343</td>\n",
       "      <td>Liberia</td>\n",
       "      <td>1693</td>\n",
       "      <td>Liberia</td>\n",
       "      <td>2786.803300</td>\n",
       "      <td>Liberia</td>\n",
       "      <td>5.657856</td>\n",
       "      <td>presidential unitary republic</td>\n",
       "    </tr>\n",
       "    <tr>\n",
       "      <th>2635</th>\n",
       "      <td>Morocco</td>\n",
       "      <td>2006</td>\n",
       "      <td>2.78426</td>\n",
       "      <td>8.594820e+05</td>\n",
       "      <td>Surface water</td>\n",
       "      <td>NaN</td>\n",
       "      <td>NaN</td>\n",
       "      <td>28.846153</td>\n",
       "      <td>30.917875</td>\n",
       "      <td>51.219513</td>\n",
       "      <td>...</td>\n",
       "      <td>39.512196</td>\n",
       "      <td>Morocco</td>\n",
       "      <td>1138</td>\n",
       "      <td>Morocco</td>\n",
       "      <td>4804</td>\n",
       "      <td>Morocco</td>\n",
       "      <td>1144.587079</td>\n",
       "      <td>Morocco</td>\n",
       "      <td>9.009196</td>\n",
       "      <td>parliamentary unitary constitutional monarchy</td>\n",
       "    </tr>\n",
       "  </tbody>\n",
       "</table>\n",
       "<p>20 rows × 22 columns</p>\n",
       "</div>"
      ],
      "text/plain": [
       "                          country  year  water_coverage  water_population  \\\n",
       "400                      Cameroon  2015        60.20857      1.374834e+07   \n",
       "1990                      Somalia  2011        13.47989      1.672143e+06   \n",
       "252                  Burkina Faso  2017        47.88813      9.191351e+06   \n",
       "974                        Gambia  2005         0.05582      8.061847e+02   \n",
       "2807                 Sierra Leone  2009        43.56090      2.748806e+06   \n",
       "690                       Algeria  2013         0.22170      8.499507e+04   \n",
       "2969                       Uganda  2009         6.04870      1.982273e+06   \n",
       "1347                      Lesotho  2002        20.77034      3.951166e+05   \n",
       "1726                        Niger  2009         2.62661      4.153694e+05   \n",
       "2857                      Tunisia  2003        35.00673      3.479556e+06   \n",
       "59                         Angola  2016        18.07951      5.209332e+06   \n",
       "760                         Egypt  2015        98.96033      9.280318e+07   \n",
       "1630                       Malawi  2005         6.41311      8.362504e+05   \n",
       "1291                        Libya  2004        12.14474      6.928280e+05   \n",
       "2127                         Chad  2013        39.58798      5.199323e+06   \n",
       "215                  Burkina Faso  2007        24.34227      3.469265e+06   \n",
       "1909                      Senegal  2007         4.54393      5.395263e+05   \n",
       "2150  United Republic of Tanzania  2003        16.14547      5.997892e+06   \n",
       "1270                      Liberia  2015        13.63760      6.136403e+05   \n",
       "2635                      Morocco  2006         2.78426      8.594820e+05   \n",
       "\n",
       "               service_level  sanitation_coverage  sanitation_population  \\\n",
       "400           At least basic             38.85571           8.872516e+06   \n",
       "1990           Surface water                  NaN                    NaN   \n",
       "252           At least basic             19.40209           3.723917e+06   \n",
       "974            Surface water                  NaN                    NaN   \n",
       "2807           Basic service              1.81369           1.144488e+05   \n",
       "690            Surface water                  NaN                    NaN   \n",
       "2969  Safely managed service                  NaN                    NaN   \n",
       "1347              Unimproved             37.37600           7.110082e+05   \n",
       "1726           Surface water                  NaN                    NaN   \n",
       "2857           Basic service             18.21872           1.810882e+06   \n",
       "59                Unimproved             10.45750           3.013167e+06   \n",
       "760           At least basic                  NaN                    NaN   \n",
       "1630           Surface water                  NaN                    NaN   \n",
       "1291              Unimproved              1.93158           1.101919e+05   \n",
       "2127              Unimproved             16.93891           2.224686e+06   \n",
       "215               Unimproved              8.03941           1.145778e+06   \n",
       "1909         Limited service             12.85650           1.526524e+06   \n",
       "2150           Surface water                  NaN                    NaN   \n",
       "1270           Surface water                  NaN                    NaN   \n",
       "2635           Surface water                  NaN                    NaN   \n",
       "\n",
       "      voice_and_accountability_  political_stability_and_absence_of_violence  \\\n",
       "400                   22.660099                                    15.238095   \n",
       "1990                   1.877934                                     0.000000   \n",
       "252                   48.275864                                    15.714286   \n",
       "974                   19.230770                                    53.883495   \n",
       "2807                  40.284359                                    35.071091   \n",
       "690                   23.943663                                    12.796208   \n",
       "2969                  30.805687                                    16.587677   \n",
       "1347                  50.746269                                    46.031746   \n",
       "1726                  28.436020                                    14.691943   \n",
       "2857                  21.890547                                    57.286430   \n",
       "59                    16.748768                                    33.333332   \n",
       "760                   14.778325                                     8.571428   \n",
       "1630                  31.730770                                    49.514565   \n",
       "1291                   2.403846                                    58.252426   \n",
       "2127                  10.328638                                    15.639811   \n",
       "215                   36.538460                                    54.589371   \n",
       "1909                  40.865383                                    37.198067   \n",
       "2150                  37.313435                                    22.110552   \n",
       "1270                  38.423645                                    20.476191   \n",
       "2635                  28.846153                                    30.917875   \n",
       "\n",
       "      government_  ...  control_of_corruption          country_of_origin_x  \\\n",
       "400     21.634615  ...              12.980769                     Cameroon   \n",
       "1990     0.000000  ...               0.000000                      Somalia   \n",
       "252     31.250000  ...              53.365383                 Burkina Faso   \n",
       "974     27.941177  ...              28.292683                       Gambia   \n",
       "2807     9.090909  ...              19.138756                 Sierra Leone   \n",
       "690     35.071091  ...              39.336494                      Algeria   \n",
       "2969    32.535885  ...              20.095694                       Uganda   \n",
       "1347    55.612244  ...              54.040405                      Lesotho   \n",
       "1726    31.100479  ...              31.100479                        Niger   \n",
       "2857    71.428574  ...              61.616161                      Tunisia   \n",
       "59      13.461538  ...               5.769231                       Angola   \n",
       "760     22.115385  ...              30.769230                        Egypt   \n",
       "1630    24.019608  ...              27.804878                       Malawi   \n",
       "1291    19.704433  ...              18.536585                        Libya   \n",
       "2127     7.109005  ...               4.265403                         Chad   \n",
       "215     24.757282  ...              46.601940                 Burkina Faso   \n",
       "1909    37.864079  ...              36.893204                      Senegal   \n",
       "2150    42.857143  ...              29.292929  United Republic of Tanzania   \n",
       "1270     7.692307  ...              30.288462                      Liberia   \n",
       "2635    51.219513  ...              39.512196                      Morocco   \n",
       "\n",
       "      applied          country_of_origin_y  total  \\\n",
       "400      3687                     Cameroon   6070   \n",
       "1990    12142                      Somalia  63440   \n",
       "252      1532                 Burkina Faso   3254   \n",
       "974       424                       Gambia   1276   \n",
       "2807      691                 Sierra Leone   6233   \n",
       "690      7777                      Algeria   5530   \n",
       "2969      352                       Uganda    899   \n",
       "1347       10                      Lesotho      5   \n",
       "1726      271                        Niger    534   \n",
       "2857      377                      Tunisia   1877   \n",
       "59       1460                       Angola   6005   \n",
       "760      3929                        Egypt   9204   \n",
       "1630        5                       Malawi     10   \n",
       "1291      642                        Libya   1639   \n",
       "2127      893                         Chad   2169   \n",
       "215       338                 Burkina Faso    368   \n",
       "1909      521                      Senegal    464   \n",
       "2150       59  United Republic of Tanzania    113   \n",
       "1270      343                      Liberia   1693   \n",
       "2635     1138                      Morocco   4804   \n",
       "\n",
       "                  location_name_x          val_x              location_name_y  \\\n",
       "400                      Cameroon   35823.446482                     Cameroon   \n",
       "1990                      Somalia    5144.588662                      Somalia   \n",
       "252                  Burkina Faso    4417.281056                 Burkina Faso   \n",
       "974                        Gambia    1183.641528                       Gambia   \n",
       "2807                 Sierra Leone    3400.429133                 Sierra Leone   \n",
       "690                       Algeria     454.156856                      Algeria   \n",
       "2969                       Uganda   70081.360528                       Uganda   \n",
       "1347                      Lesotho   15753.807596                      Lesotho   \n",
       "1726                        Niger    2980.370981                        Niger   \n",
       "2857                      Tunisia      76.503340                      Tunisia   \n",
       "59                         Angola   17278.537549                       Angola   \n",
       "760                         Egypt     234.407267                        Egypt   \n",
       "1630                       Malawi   70095.106699                       Malawi   \n",
       "1291                        Libya      53.872605                        Libya   \n",
       "2127                         Chad    6276.598938                         Chad   \n",
       "215                  Burkina Faso    9759.536758                 Burkina Faso   \n",
       "1909                      Senegal    3172.631238                      Senegal   \n",
       "2150  United Republic of Tanzania  130807.445118  United Republic of Tanzania   \n",
       "1270                      Liberia    2786.803300                      Liberia   \n",
       "2635                      Morocco    1144.587079                      Morocco   \n",
       "\n",
       "           val_y                             form_of_government  \n",
       "400    24.767347                  presidential unitary republic  \n",
       "1990   52.073194             semi-presidential federal republic  \n",
       "252    98.173921                  presidential unitary republic  \n",
       "974     3.372238                  presidential unitary republic  \n",
       "2807   30.788126                  presidential unitary republic  \n",
       "690     3.098165                 parliamentary unitary republic  \n",
       "2969   32.382852                  presidential unitary republic  \n",
       "1347    0.423258  parliamentary unitary constitutional monarchy  \n",
       "1726  123.664518             semi-presidential unitary republic  \n",
       "2857    1.147716                  presidential unitary republic  \n",
       "59     39.260145                  presidential unitary republic  \n",
       "760     5.090107             semi-presidential unitary republic  \n",
       "1630   13.694247                  presidential unitary republic  \n",
       "1291    0.470806                         parliamentary republic  \n",
       "2127   81.760684                  presidential unitary republic  \n",
       "215    74.619213                  presidential unitary republic  \n",
       "1909   27.763801                  presidential unitary republic  \n",
       "2150  138.992175                 presidential federacy republic  \n",
       "1270    5.657856                  presidential unitary republic  \n",
       "2635    9.009196  parliamentary unitary constitutional monarchy  \n",
       "\n",
       "[20 rows x 22 columns]"
      ]
     },
     "execution_count": 21,
     "metadata": {},
     "output_type": "execute_result"
    }
   ],
   "source": [
    "data11.sample(20)"
   ]
  },
  {
   "cell_type": "code",
   "execution_count": 34,
   "metadata": {},
   "outputs": [],
   "source": [
    "#defining a function to add categorical variables to governance metrics data\n",
    "\n",
    "def cat_gov(row):\n",
    "    if (row>0.0) & (row<25.0):\n",
    "        return 'low'\n",
    "    elif (row>25.0) & (row<50.0):\n",
    "        return 'medium-low'\n",
    "    elif (row>50.0) & (row<75.0):\n",
    "        return 'medium-high'\n",
    "    else:\n",
    "        return 'high'\n",
    "    \n",
    "        "
   ]
  },
  {
   "cell_type": "code",
   "execution_count": 38,
   "metadata": {},
   "outputs": [
    {
     "data": {
      "text/html": [
       "<div>\n",
       "<style scoped>\n",
       "    .dataframe tbody tr th:only-of-type {\n",
       "        vertical-align: middle;\n",
       "    }\n",
       "\n",
       "    .dataframe tbody tr th {\n",
       "        vertical-align: top;\n",
       "    }\n",
       "\n",
       "    .dataframe thead th {\n",
       "        text-align: right;\n",
       "    }\n",
       "</style>\n",
       "<table border=\"1\" class=\"dataframe\">\n",
       "  <thead>\n",
       "    <tr style=\"text-align: right;\">\n",
       "      <th></th>\n",
       "      <th>country</th>\n",
       "      <th>year</th>\n",
       "      <th>water_coverage</th>\n",
       "      <th>water_population</th>\n",
       "      <th>service_level</th>\n",
       "      <th>sanitation_coverage</th>\n",
       "      <th>sanitation_population</th>\n",
       "      <th>voice_and_accountability_</th>\n",
       "      <th>political_stability_and_absence_of_violence</th>\n",
       "      <th>government_</th>\n",
       "      <th>...</th>\n",
       "      <th>country_of_origin_x</th>\n",
       "      <th>applied</th>\n",
       "      <th>country_of_origin_y</th>\n",
       "      <th>total</th>\n",
       "      <th>location_name_x</th>\n",
       "      <th>val_x</th>\n",
       "      <th>location_name_y</th>\n",
       "      <th>val_y</th>\n",
       "      <th>form_of_government</th>\n",
       "      <th>control_cat</th>\n",
       "    </tr>\n",
       "  </thead>\n",
       "  <tbody>\n",
       "    <tr>\n",
       "      <th>0</th>\n",
       "      <td>Angola</td>\n",
       "      <td>2002</td>\n",
       "      <td>43.37680</td>\n",
       "      <td>7.622452e+06</td>\n",
       "      <td>At least basic</td>\n",
       "      <td>30.42247</td>\n",
       "      <td>5.346033e+06</td>\n",
       "      <td>12.935324</td>\n",
       "      <td>9.523809</td>\n",
       "      <td>8.163265</td>\n",
       "      <td>...</td>\n",
       "      <td>Angola</td>\n",
       "      <td>5758</td>\n",
       "      <td>Angola</td>\n",
       "      <td>15744</td>\n",
       "      <td>Angola</td>\n",
       "      <td>8796.521342</td>\n",
       "      <td>Angola</td>\n",
       "      <td>171.346316</td>\n",
       "      <td>presidential unitary republic</td>\n",
       "      <td>low</td>\n",
       "    </tr>\n",
       "    <tr>\n",
       "      <th>1</th>\n",
       "      <td>Angola</td>\n",
       "      <td>2002</td>\n",
       "      <td>20.01438</td>\n",
       "      <td>3.517056e+06</td>\n",
       "      <td>Limited service</td>\n",
       "      <td>12.41406</td>\n",
       "      <td>2.181480e+06</td>\n",
       "      <td>12.935324</td>\n",
       "      <td>9.523809</td>\n",
       "      <td>8.163265</td>\n",
       "      <td>...</td>\n",
       "      <td>Angola</td>\n",
       "      <td>5758</td>\n",
       "      <td>Angola</td>\n",
       "      <td>15744</td>\n",
       "      <td>Angola</td>\n",
       "      <td>8796.521342</td>\n",
       "      <td>Angola</td>\n",
       "      <td>171.346316</td>\n",
       "      <td>presidential unitary republic</td>\n",
       "      <td>low</td>\n",
       "    </tr>\n",
       "    <tr>\n",
       "      <th>2</th>\n",
       "      <td>Angola</td>\n",
       "      <td>2002</td>\n",
       "      <td>27.46721</td>\n",
       "      <td>4.826716e+06</td>\n",
       "      <td>Surface water</td>\n",
       "      <td>NaN</td>\n",
       "      <td>NaN</td>\n",
       "      <td>12.935324</td>\n",
       "      <td>9.523809</td>\n",
       "      <td>8.163265</td>\n",
       "      <td>...</td>\n",
       "      <td>Angola</td>\n",
       "      <td>5758</td>\n",
       "      <td>Angola</td>\n",
       "      <td>15744</td>\n",
       "      <td>Angola</td>\n",
       "      <td>8796.521342</td>\n",
       "      <td>Angola</td>\n",
       "      <td>171.346316</td>\n",
       "      <td>presidential unitary republic</td>\n",
       "      <td>low</td>\n",
       "    </tr>\n",
       "    <tr>\n",
       "      <th>3</th>\n",
       "      <td>Angola</td>\n",
       "      <td>2002</td>\n",
       "      <td>9.14162</td>\n",
       "      <td>1.606424e+06</td>\n",
       "      <td>Unimproved</td>\n",
       "      <td>17.20908</td>\n",
       "      <td>3.024091e+06</td>\n",
       "      <td>12.935324</td>\n",
       "      <td>9.523809</td>\n",
       "      <td>8.163265</td>\n",
       "      <td>...</td>\n",
       "      <td>Angola</td>\n",
       "      <td>5758</td>\n",
       "      <td>Angola</td>\n",
       "      <td>15744</td>\n",
       "      <td>Angola</td>\n",
       "      <td>8796.521342</td>\n",
       "      <td>Angola</td>\n",
       "      <td>171.346316</td>\n",
       "      <td>presidential unitary republic</td>\n",
       "      <td>low</td>\n",
       "    </tr>\n",
       "    <tr>\n",
       "      <th>4</th>\n",
       "      <td>Angola</td>\n",
       "      <td>2003</td>\n",
       "      <td>44.36387</td>\n",
       "      <td>8.075720e+06</td>\n",
       "      <td>At least basic</td>\n",
       "      <td>31.85606</td>\n",
       "      <td>5.798876e+06</td>\n",
       "      <td>10.945273</td>\n",
       "      <td>19.597990</td>\n",
       "      <td>9.183674</td>\n",
       "      <td>...</td>\n",
       "      <td>Angola</td>\n",
       "      <td>4035</td>\n",
       "      <td>Angola</td>\n",
       "      <td>14057</td>\n",
       "      <td>Angola</td>\n",
       "      <td>9819.589107</td>\n",
       "      <td>Angola</td>\n",
       "      <td>164.473562</td>\n",
       "      <td>presidential unitary republic</td>\n",
       "      <td>low</td>\n",
       "    </tr>\n",
       "  </tbody>\n",
       "</table>\n",
       "<p>5 rows × 23 columns</p>\n",
       "</div>"
      ],
      "text/plain": [
       "  country  year  water_coverage  water_population    service_level  \\\n",
       "0  Angola  2002        43.37680      7.622452e+06   At least basic   \n",
       "1  Angola  2002        20.01438      3.517056e+06  Limited service   \n",
       "2  Angola  2002        27.46721      4.826716e+06    Surface water   \n",
       "3  Angola  2002         9.14162      1.606424e+06       Unimproved   \n",
       "4  Angola  2003        44.36387      8.075720e+06   At least basic   \n",
       "\n",
       "   sanitation_coverage  sanitation_population  voice_and_accountability_  \\\n",
       "0             30.42247           5.346033e+06                  12.935324   \n",
       "1             12.41406           2.181480e+06                  12.935324   \n",
       "2                  NaN                    NaN                  12.935324   \n",
       "3             17.20908           3.024091e+06                  12.935324   \n",
       "4             31.85606           5.798876e+06                  10.945273   \n",
       "\n",
       "   political_stability_and_absence_of_violence  government_  ...  \\\n",
       "0                                     9.523809     8.163265  ...   \n",
       "1                                     9.523809     8.163265  ...   \n",
       "2                                     9.523809     8.163265  ...   \n",
       "3                                     9.523809     8.163265  ...   \n",
       "4                                    19.597990     9.183674  ...   \n",
       "\n",
       "   country_of_origin_x  applied  country_of_origin_y  total  location_name_x  \\\n",
       "0               Angola     5758               Angola  15744           Angola   \n",
       "1               Angola     5758               Angola  15744           Angola   \n",
       "2               Angola     5758               Angola  15744           Angola   \n",
       "3               Angola     5758               Angola  15744           Angola   \n",
       "4               Angola     4035               Angola  14057           Angola   \n",
       "\n",
       "         val_x  location_name_y       val_y             form_of_government  \\\n",
       "0  8796.521342           Angola  171.346316  presidential unitary republic   \n",
       "1  8796.521342           Angola  171.346316  presidential unitary republic   \n",
       "2  8796.521342           Angola  171.346316  presidential unitary republic   \n",
       "3  8796.521342           Angola  171.346316  presidential unitary republic   \n",
       "4  9819.589107           Angola  164.473562  presidential unitary republic   \n",
       "\n",
       "  control_cat  \n",
       "0         low  \n",
       "1         low  \n",
       "2         low  \n",
       "3         low  \n",
       "4         low  \n",
       "\n",
       "[5 rows x 23 columns]"
      ]
     },
     "execution_count": 38,
     "metadata": {},
     "output_type": "execute_result"
    },
    {
     "data": {
      "text/plain": [
       "0    low\n",
       "1    low\n",
       "2    low\n",
       "3    low\n",
       "4    low\n",
       "Name: control_cat, dtype: object"
      ]
     },
     "execution_count": 38,
     "metadata": {},
     "output_type": "execute_result"
    },
    {
     "data": {
      "text/plain": [
       "(3012, 23)"
      ]
     },
     "execution_count": 38,
     "metadata": {},
     "output_type": "execute_result"
    }
   ],
   "source": [
    "data11['control_cat'] = data11['control_of_corruption'].apply(cat_gov)\n",
    "\n",
    "data11.head()\n",
    "data11['control_cat'].head()\n",
    "\n",
    "data11.shape\n",
    "                              \n",
    "                             "
   ]
  },
  {
   "cell_type": "code",
   "execution_count": 37,
   "metadata": {},
   "outputs": [
    {
     "data": {
      "text/plain": [
       "Index(['country', 'year', 'water_coverage', 'water_population',\n",
       "       'service_level', 'sanitation_coverage', 'sanitation_population',\n",
       "       'voice_and_accountability_',\n",
       "       'political_stability_and_absence_of_violence', 'government_',\n",
       "       'regulatory_quality', 'rule_of_law', 'control_of_corruption',\n",
       "       'country_of_origin_x', 'applied', 'country_of_origin_y', 'total',\n",
       "       'location_name_x', 'val_x', 'location_name_y', 'val_y',\n",
       "       'form_of_government', 'control_cat'],\n",
       "      dtype='object')"
      ]
     },
     "execution_count": 37,
     "metadata": {},
     "output_type": "execute_result"
    }
   ],
   "source": [
    "data11.columns"
   ]
  },
  {
   "cell_type": "code",
   "execution_count": 39,
   "metadata": {},
   "outputs": [
    {
     "data": {
      "text/html": [
       "<div>\n",
       "<style scoped>\n",
       "    .dataframe tbody tr th:only-of-type {\n",
       "        vertical-align: middle;\n",
       "    }\n",
       "\n",
       "    .dataframe tbody tr th {\n",
       "        vertical-align: top;\n",
       "    }\n",
       "\n",
       "    .dataframe thead th {\n",
       "        text-align: right;\n",
       "    }\n",
       "</style>\n",
       "<table border=\"1\" class=\"dataframe\">\n",
       "  <thead>\n",
       "    <tr style=\"text-align: right;\">\n",
       "      <th></th>\n",
       "      <th>country</th>\n",
       "      <th>year</th>\n",
       "      <th>water_coverage</th>\n",
       "      <th>water_population</th>\n",
       "      <th>service_level</th>\n",
       "      <th>sanitation_coverage</th>\n",
       "      <th>sanitation_population</th>\n",
       "      <th>voice_and_accountability_</th>\n",
       "      <th>political_stability_and_absence_of_violence</th>\n",
       "      <th>government_</th>\n",
       "      <th>regulatory_quality</th>\n",
       "      <th>rule_of_law</th>\n",
       "      <th>applied</th>\n",
       "      <th>total</th>\n",
       "      <th>val_x</th>\n",
       "      <th>val_y</th>\n",
       "      <th>form_of_government</th>\n",
       "      <th>control_cat</th>\n",
       "    </tr>\n",
       "  </thead>\n",
       "  <tbody>\n",
       "    <tr>\n",
       "      <th>0</th>\n",
       "      <td>Angola</td>\n",
       "      <td>2002</td>\n",
       "      <td>43.37680</td>\n",
       "      <td>7.622452e+06</td>\n",
       "      <td>At least basic</td>\n",
       "      <td>30.42247</td>\n",
       "      <td>5.346033e+06</td>\n",
       "      <td>12.935324</td>\n",
       "      <td>9.523809</td>\n",
       "      <td>8.163265</td>\n",
       "      <td>6.632653</td>\n",
       "      <td>2.970297</td>\n",
       "      <td>5758</td>\n",
       "      <td>15744</td>\n",
       "      <td>8796.521342</td>\n",
       "      <td>171.346316</td>\n",
       "      <td>presidential unitary republic</td>\n",
       "      <td>low</td>\n",
       "    </tr>\n",
       "    <tr>\n",
       "      <th>1</th>\n",
       "      <td>Angola</td>\n",
       "      <td>2002</td>\n",
       "      <td>20.01438</td>\n",
       "      <td>3.517056e+06</td>\n",
       "      <td>Limited service</td>\n",
       "      <td>12.41406</td>\n",
       "      <td>2.181480e+06</td>\n",
       "      <td>12.935324</td>\n",
       "      <td>9.523809</td>\n",
       "      <td>8.163265</td>\n",
       "      <td>6.632653</td>\n",
       "      <td>2.970297</td>\n",
       "      <td>5758</td>\n",
       "      <td>15744</td>\n",
       "      <td>8796.521342</td>\n",
       "      <td>171.346316</td>\n",
       "      <td>presidential unitary republic</td>\n",
       "      <td>low</td>\n",
       "    </tr>\n",
       "    <tr>\n",
       "      <th>2</th>\n",
       "      <td>Angola</td>\n",
       "      <td>2002</td>\n",
       "      <td>27.46721</td>\n",
       "      <td>4.826716e+06</td>\n",
       "      <td>Surface water</td>\n",
       "      <td>NaN</td>\n",
       "      <td>NaN</td>\n",
       "      <td>12.935324</td>\n",
       "      <td>9.523809</td>\n",
       "      <td>8.163265</td>\n",
       "      <td>6.632653</td>\n",
       "      <td>2.970297</td>\n",
       "      <td>5758</td>\n",
       "      <td>15744</td>\n",
       "      <td>8796.521342</td>\n",
       "      <td>171.346316</td>\n",
       "      <td>presidential unitary republic</td>\n",
       "      <td>low</td>\n",
       "    </tr>\n",
       "    <tr>\n",
       "      <th>3</th>\n",
       "      <td>Angola</td>\n",
       "      <td>2002</td>\n",
       "      <td>9.14162</td>\n",
       "      <td>1.606424e+06</td>\n",
       "      <td>Unimproved</td>\n",
       "      <td>17.20908</td>\n",
       "      <td>3.024091e+06</td>\n",
       "      <td>12.935324</td>\n",
       "      <td>9.523809</td>\n",
       "      <td>8.163265</td>\n",
       "      <td>6.632653</td>\n",
       "      <td>2.970297</td>\n",
       "      <td>5758</td>\n",
       "      <td>15744</td>\n",
       "      <td>8796.521342</td>\n",
       "      <td>171.346316</td>\n",
       "      <td>presidential unitary republic</td>\n",
       "      <td>low</td>\n",
       "    </tr>\n",
       "    <tr>\n",
       "      <th>4</th>\n",
       "      <td>Angola</td>\n",
       "      <td>2003</td>\n",
       "      <td>44.36387</td>\n",
       "      <td>8.075720e+06</td>\n",
       "      <td>At least basic</td>\n",
       "      <td>31.85606</td>\n",
       "      <td>5.798876e+06</td>\n",
       "      <td>10.945273</td>\n",
       "      <td>19.597990</td>\n",
       "      <td>9.183674</td>\n",
       "      <td>11.224490</td>\n",
       "      <td>4.455446</td>\n",
       "      <td>4035</td>\n",
       "      <td>14057</td>\n",
       "      <td>9819.589107</td>\n",
       "      <td>164.473562</td>\n",
       "      <td>presidential unitary republic</td>\n",
       "      <td>low</td>\n",
       "    </tr>\n",
       "  </tbody>\n",
       "</table>\n",
       "</div>"
      ],
      "text/plain": [
       "  country  year  water_coverage  water_population    service_level  \\\n",
       "0  Angola  2002        43.37680      7.622452e+06   At least basic   \n",
       "1  Angola  2002        20.01438      3.517056e+06  Limited service   \n",
       "2  Angola  2002        27.46721      4.826716e+06    Surface water   \n",
       "3  Angola  2002         9.14162      1.606424e+06       Unimproved   \n",
       "4  Angola  2003        44.36387      8.075720e+06   At least basic   \n",
       "\n",
       "   sanitation_coverage  sanitation_population  voice_and_accountability_  \\\n",
       "0             30.42247           5.346033e+06                  12.935324   \n",
       "1             12.41406           2.181480e+06                  12.935324   \n",
       "2                  NaN                    NaN                  12.935324   \n",
       "3             17.20908           3.024091e+06                  12.935324   \n",
       "4             31.85606           5.798876e+06                  10.945273   \n",
       "\n",
       "   political_stability_and_absence_of_violence  government_  \\\n",
       "0                                     9.523809     8.163265   \n",
       "1                                     9.523809     8.163265   \n",
       "2                                     9.523809     8.163265   \n",
       "3                                     9.523809     8.163265   \n",
       "4                                    19.597990     9.183674   \n",
       "\n",
       "   regulatory_quality  rule_of_law  applied  total        val_x       val_y  \\\n",
       "0            6.632653     2.970297     5758  15744  8796.521342  171.346316   \n",
       "1            6.632653     2.970297     5758  15744  8796.521342  171.346316   \n",
       "2            6.632653     2.970297     5758  15744  8796.521342  171.346316   \n",
       "3            6.632653     2.970297     5758  15744  8796.521342  171.346316   \n",
       "4           11.224490     4.455446     4035  14057  9819.589107  164.473562   \n",
       "\n",
       "              form_of_government control_cat  \n",
       "0  presidential unitary republic         low  \n",
       "1  presidential unitary republic         low  \n",
       "2  presidential unitary republic         low  \n",
       "3  presidential unitary republic         low  \n",
       "4  presidential unitary republic         low  "
      ]
     },
     "execution_count": 39,
     "metadata": {},
     "output_type": "execute_result"
    }
   ],
   "source": [
    "data= data11.drop(['country_of_origin_x','country_of_origin_y','location_name_x','location_name_y','control_of_corruption'],axis=1)\n",
    "data.head()\n",
    "#### Rename columns"
   ]
  },
  {
   "cell_type": "code",
   "execution_count": 40,
   "metadata": {},
   "outputs": [
    {
     "data": {
      "text/html": [
       "<div>\n",
       "<style scoped>\n",
       "    .dataframe tbody tr th:only-of-type {\n",
       "        vertical-align: middle;\n",
       "    }\n",
       "\n",
       "    .dataframe tbody tr th {\n",
       "        vertical-align: top;\n",
       "    }\n",
       "\n",
       "    .dataframe thead th {\n",
       "        text-align: right;\n",
       "    }\n",
       "</style>\n",
       "<table border=\"1\" class=\"dataframe\">\n",
       "  <thead>\n",
       "    <tr style=\"text-align: right;\">\n",
       "      <th></th>\n",
       "      <th>country</th>\n",
       "      <th>year</th>\n",
       "      <th>water_coverage</th>\n",
       "      <th>water_population</th>\n",
       "      <th>service_level</th>\n",
       "      <th>sanitation_coverage</th>\n",
       "      <th>sanitation_population</th>\n",
       "      <th>voice_and_accountability_</th>\n",
       "      <th>political_stability_and_absence_of_violence</th>\n",
       "      <th>government_</th>\n",
       "      <th>regulatory_quality</th>\n",
       "      <th>rule_of_law</th>\n",
       "      <th>applied</th>\n",
       "      <th>total</th>\n",
       "      <th>val_x</th>\n",
       "      <th>val_y</th>\n",
       "      <th>form_of_government</th>\n",
       "      <th>control_cat</th>\n",
       "    </tr>\n",
       "  </thead>\n",
       "  <tbody>\n",
       "    <tr>\n",
       "      <th>1</th>\n",
       "      <td>Angola</td>\n",
       "      <td>2002</td>\n",
       "      <td>20.01438</td>\n",
       "      <td>3.517056e+06</td>\n",
       "      <td>Limited service</td>\n",
       "      <td>12.41406</td>\n",
       "      <td>2.181480e+06</td>\n",
       "      <td>12.935324</td>\n",
       "      <td>9.523809</td>\n",
       "      <td>8.163265</td>\n",
       "      <td>6.632653</td>\n",
       "      <td>2.970297</td>\n",
       "      <td>5758</td>\n",
       "      <td>15744</td>\n",
       "      <td>8796.521342</td>\n",
       "      <td>171.346316</td>\n",
       "      <td>presidential unitary republic</td>\n",
       "      <td>low</td>\n",
       "    </tr>\n",
       "    <tr>\n",
       "      <th>5</th>\n",
       "      <td>Angola</td>\n",
       "      <td>2003</td>\n",
       "      <td>19.40718</td>\n",
       "      <td>3.532760e+06</td>\n",
       "      <td>Limited service</td>\n",
       "      <td>12.98003</td>\n",
       "      <td>2.362802e+06</td>\n",
       "      <td>10.945273</td>\n",
       "      <td>19.597990</td>\n",
       "      <td>9.183674</td>\n",
       "      <td>11.224490</td>\n",
       "      <td>4.455446</td>\n",
       "      <td>4035</td>\n",
       "      <td>14057</td>\n",
       "      <td>9819.589107</td>\n",
       "      <td>164.473562</td>\n",
       "      <td>presidential unitary republic</td>\n",
       "      <td>low</td>\n",
       "    </tr>\n",
       "    <tr>\n",
       "      <th>9</th>\n",
       "      <td>Angola</td>\n",
       "      <td>2004</td>\n",
       "      <td>18.79056</td>\n",
       "      <td>3.544974e+06</td>\n",
       "      <td>Limited service</td>\n",
       "      <td>13.55016</td>\n",
       "      <td>2.556334e+06</td>\n",
       "      <td>11.538462</td>\n",
       "      <td>16.504854</td>\n",
       "      <td>6.403941</td>\n",
       "      <td>9.852217</td>\n",
       "      <td>5.741627</td>\n",
       "      <td>4004</td>\n",
       "      <td>11940</td>\n",
       "      <td>10853.375345</td>\n",
       "      <td>166.662138</td>\n",
       "      <td>presidential unitary republic</td>\n",
       "      <td>low</td>\n",
       "    </tr>\n",
       "    <tr>\n",
       "      <th>13</th>\n",
       "      <td>Angola</td>\n",
       "      <td>2005</td>\n",
       "      <td>18.16428</td>\n",
       "      <td>3.551578e+06</td>\n",
       "      <td>Limited service</td>\n",
       "      <td>14.12307</td>\n",
       "      <td>2.761419e+06</td>\n",
       "      <td>12.019231</td>\n",
       "      <td>21.359222</td>\n",
       "      <td>12.254902</td>\n",
       "      <td>10.294118</td>\n",
       "      <td>7.177033</td>\n",
       "      <td>3168</td>\n",
       "      <td>12003</td>\n",
       "      <td>11756.413023</td>\n",
       "      <td>157.578053</td>\n",
       "      <td>presidential unitary republic</td>\n",
       "      <td>low</td>\n",
       "    </tr>\n",
       "    <tr>\n",
       "      <th>17</th>\n",
       "      <td>Angola</td>\n",
       "      <td>2006</td>\n",
       "      <td>17.50080</td>\n",
       "      <td>3.546083e+06</td>\n",
       "      <td>Limited service</td>\n",
       "      <td>14.61931</td>\n",
       "      <td>2.962223e+06</td>\n",
       "      <td>11.538462</td>\n",
       "      <td>27.536232</td>\n",
       "      <td>5.853659</td>\n",
       "      <td>13.235294</td>\n",
       "      <td>9.090909</td>\n",
       "      <td>2525</td>\n",
       "      <td>9807</td>\n",
       "      <td>12350.510032</td>\n",
       "      <td>144.658240</td>\n",
       "      <td>presidential unitary republic</td>\n",
       "      <td>low</td>\n",
       "    </tr>\n",
       "  </tbody>\n",
       "</table>\n",
       "</div>"
      ],
      "text/plain": [
       "   country  year  water_coverage  water_population    service_level  \\\n",
       "1   Angola  2002        20.01438      3.517056e+06  Limited service   \n",
       "5   Angola  2003        19.40718      3.532760e+06  Limited service   \n",
       "9   Angola  2004        18.79056      3.544974e+06  Limited service   \n",
       "13  Angola  2005        18.16428      3.551578e+06  Limited service   \n",
       "17  Angola  2006        17.50080      3.546083e+06  Limited service   \n",
       "\n",
       "    sanitation_coverage  sanitation_population  voice_and_accountability_  \\\n",
       "1              12.41406           2.181480e+06                  12.935324   \n",
       "5              12.98003           2.362802e+06                  10.945273   \n",
       "9              13.55016           2.556334e+06                  11.538462   \n",
       "13             14.12307           2.761419e+06                  12.019231   \n",
       "17             14.61931           2.962223e+06                  11.538462   \n",
       "\n",
       "    political_stability_and_absence_of_violence  government_  \\\n",
       "1                                      9.523809     8.163265   \n",
       "5                                     19.597990     9.183674   \n",
       "9                                     16.504854     6.403941   \n",
       "13                                    21.359222    12.254902   \n",
       "17                                    27.536232     5.853659   \n",
       "\n",
       "    regulatory_quality  rule_of_law  applied  total         val_x       val_y  \\\n",
       "1             6.632653     2.970297     5758  15744   8796.521342  171.346316   \n",
       "5            11.224490     4.455446     4035  14057   9819.589107  164.473562   \n",
       "9             9.852217     5.741627     4004  11940  10853.375345  166.662138   \n",
       "13           10.294118     7.177033     3168  12003  11756.413023  157.578053   \n",
       "17           13.235294     9.090909     2525   9807  12350.510032  144.658240   \n",
       "\n",
       "               form_of_government control_cat  \n",
       "1   presidential unitary republic         low  \n",
       "5   presidential unitary republic         low  \n",
       "9   presidential unitary republic         low  \n",
       "13  presidential unitary republic         low  \n",
       "17  presidential unitary republic         low  "
      ]
     },
     "execution_count": 40,
     "metadata": {},
     "output_type": "execute_result"
    },
    {
     "data": {
      "text/plain": [
       "(721, 18)"
      ]
     },
     "execution_count": 40,
     "metadata": {},
     "output_type": "execute_result"
    }
   ],
   "source": [
    "data = data[data['service_level']== 'Limited service']\n",
    "data.head()\n",
    "data.shape"
   ]
  },
  {
   "cell_type": "code",
   "execution_count": null,
   "metadata": {},
   "outputs": [],
   "source": [
    "\n",
    "data.to_csv('datav1.csv')"
   ]
  },
  {
   "cell_type": "code",
   "execution_count": 41,
   "metadata": {},
   "outputs": [
    {
     "data": {
      "text/plain": [
       "country                                        0\n",
       "year                                           0\n",
       "water_coverage                                 0\n",
       "water_population                               0\n",
       "service_level                                  0\n",
       "sanitation_coverage                            0\n",
       "sanitation_population                          0\n",
       "voice_and_accountability_                      0\n",
       "political_stability_and_absence_of_violence    0\n",
       "government_                                    0\n",
       "regulatory_quality                             0\n",
       "rule_of_law                                    0\n",
       "applied                                        0\n",
       "total                                          0\n",
       "val_x                                          0\n",
       "val_y                                          0\n",
       "form_of_government                             0\n",
       "control_cat                                    0\n",
       "dtype: int64"
      ]
     },
     "execution_count": 41,
     "metadata": {},
     "output_type": "execute_result"
    }
   ],
   "source": [
    "data.isna().sum()"
   ]
  },
  {
   "cell_type": "markdown",
   "metadata": {},
   "source": [
    "# Exploratory Data Analysis"
   ]
  },
  {
   "cell_type": "code",
   "execution_count": 42,
   "metadata": {},
   "outputs": [
    {
     "data": {
      "text/html": [
       "<div>\n",
       "<style scoped>\n",
       "    .dataframe tbody tr th:only-of-type {\n",
       "        vertical-align: middle;\n",
       "    }\n",
       "\n",
       "    .dataframe tbody tr th {\n",
       "        vertical-align: top;\n",
       "    }\n",
       "\n",
       "    .dataframe thead th {\n",
       "        text-align: right;\n",
       "    }\n",
       "</style>\n",
       "<table border=\"1\" class=\"dataframe\">\n",
       "  <thead>\n",
       "    <tr style=\"text-align: right;\">\n",
       "      <th></th>\n",
       "      <th>year</th>\n",
       "      <th>water_coverage</th>\n",
       "      <th>water_population</th>\n",
       "      <th>sanitation_coverage</th>\n",
       "      <th>sanitation_population</th>\n",
       "      <th>voice_and_accountability_</th>\n",
       "      <th>political_stability_and_absence_of_violence</th>\n",
       "      <th>government_</th>\n",
       "      <th>regulatory_quality</th>\n",
       "      <th>rule_of_law</th>\n",
       "      <th>applied</th>\n",
       "      <th>total</th>\n",
       "      <th>val_x</th>\n",
       "      <th>val_y</th>\n",
       "    </tr>\n",
       "  </thead>\n",
       "  <tbody>\n",
       "    <tr>\n",
       "      <th>year</th>\n",
       "      <td>1.000000</td>\n",
       "      <td>0.136499</td>\n",
       "      <td>0.122937</td>\n",
       "      <td>0.109487</td>\n",
       "      <td>0.073698</td>\n",
       "      <td>0.048430</td>\n",
       "      <td>-0.064901</td>\n",
       "      <td>-0.065301</td>\n",
       "      <td>-0.021713</td>\n",
       "      <td>0.009230</td>\n",
       "      <td>0.193667</td>\n",
       "      <td>0.179906</td>\n",
       "      <td>-0.133235</td>\n",
       "      <td>-0.072806</td>\n",
       "    </tr>\n",
       "    <tr>\n",
       "      <th>water_coverage</th>\n",
       "      <td>0.136499</td>\n",
       "      <td>1.000000</td>\n",
       "      <td>0.480232</td>\n",
       "      <td>-0.035015</td>\n",
       "      <td>-0.029915</td>\n",
       "      <td>-0.266085</td>\n",
       "      <td>-0.302578</td>\n",
       "      <td>-0.158647</td>\n",
       "      <td>-0.133385</td>\n",
       "      <td>-0.173228</td>\n",
       "      <td>0.080865</td>\n",
       "      <td>0.239160</td>\n",
       "      <td>-0.034900</td>\n",
       "      <td>0.004920</td>\n",
       "    </tr>\n",
       "    <tr>\n",
       "      <th>water_population</th>\n",
       "      <td>0.122937</td>\n",
       "      <td>0.480232</td>\n",
       "      <td>1.000000</td>\n",
       "      <td>-0.002893</td>\n",
       "      <td>0.592043</td>\n",
       "      <td>-0.140021</td>\n",
       "      <td>-0.394666</td>\n",
       "      <td>-0.026820</td>\n",
       "      <td>-0.074830</td>\n",
       "      <td>-0.086882</td>\n",
       "      <td>0.285203</td>\n",
       "      <td>0.231393</td>\n",
       "      <td>0.316060</td>\n",
       "      <td>0.547191</td>\n",
       "    </tr>\n",
       "    <tr>\n",
       "      <th>sanitation_coverage</th>\n",
       "      <td>0.109487</td>\n",
       "      <td>-0.035015</td>\n",
       "      <td>-0.002893</td>\n",
       "      <td>1.000000</td>\n",
       "      <td>0.340775</td>\n",
       "      <td>0.193467</td>\n",
       "      <td>0.083773</td>\n",
       "      <td>-0.023470</td>\n",
       "      <td>0.080145</td>\n",
       "      <td>0.012765</td>\n",
       "      <td>0.114676</td>\n",
       "      <td>0.073002</td>\n",
       "      <td>0.057910</td>\n",
       "      <td>0.089516</td>\n",
       "    </tr>\n",
       "    <tr>\n",
       "      <th>sanitation_population</th>\n",
       "      <td>0.073698</td>\n",
       "      <td>-0.029915</td>\n",
       "      <td>0.592043</td>\n",
       "      <td>0.340775</td>\n",
       "      <td>1.000000</td>\n",
       "      <td>0.105755</td>\n",
       "      <td>-0.254880</td>\n",
       "      <td>0.021818</td>\n",
       "      <td>0.051889</td>\n",
       "      <td>-0.047236</td>\n",
       "      <td>0.468950</td>\n",
       "      <td>0.241333</td>\n",
       "      <td>0.436876</td>\n",
       "      <td>0.817468</td>\n",
       "    </tr>\n",
       "    <tr>\n",
       "      <th>voice_and_accountability_</th>\n",
       "      <td>0.048430</td>\n",
       "      <td>-0.266085</td>\n",
       "      <td>-0.140021</td>\n",
       "      <td>0.193467</td>\n",
       "      <td>0.105755</td>\n",
       "      <td>1.000000</td>\n",
       "      <td>0.525806</td>\n",
       "      <td>0.622140</td>\n",
       "      <td>0.682530</td>\n",
       "      <td>0.706112</td>\n",
       "      <td>-0.205511</td>\n",
       "      <td>-0.296992</td>\n",
       "      <td>0.284638</td>\n",
       "      <td>-0.014635</td>\n",
       "    </tr>\n",
       "    <tr>\n",
       "      <th>political_stability_and_absence_of_violence</th>\n",
       "      <td>-0.064901</td>\n",
       "      <td>-0.302578</td>\n",
       "      <td>-0.394666</td>\n",
       "      <td>0.083773</td>\n",
       "      <td>-0.254880</td>\n",
       "      <td>0.525806</td>\n",
       "      <td>1.000000</td>\n",
       "      <td>0.531072</td>\n",
       "      <td>0.551515</td>\n",
       "      <td>0.639415</td>\n",
       "      <td>-0.343138</td>\n",
       "      <td>-0.345315</td>\n",
       "      <td>-0.054518</td>\n",
       "      <td>-0.255897</td>\n",
       "    </tr>\n",
       "    <tr>\n",
       "      <th>government_</th>\n",
       "      <td>-0.065301</td>\n",
       "      <td>-0.158647</td>\n",
       "      <td>-0.026820</td>\n",
       "      <td>-0.023470</td>\n",
       "      <td>0.021818</td>\n",
       "      <td>0.622140</td>\n",
       "      <td>0.531072</td>\n",
       "      <td>1.000000</td>\n",
       "      <td>0.883107</td>\n",
       "      <td>0.900880</td>\n",
       "      <td>-0.225123</td>\n",
       "      <td>-0.289588</td>\n",
       "      <td>0.287347</td>\n",
       "      <td>-0.109390</td>\n",
       "    </tr>\n",
       "    <tr>\n",
       "      <th>regulatory_quality</th>\n",
       "      <td>-0.021713</td>\n",
       "      <td>-0.133385</td>\n",
       "      <td>-0.074830</td>\n",
       "      <td>0.080145</td>\n",
       "      <td>0.051889</td>\n",
       "      <td>0.682530</td>\n",
       "      <td>0.551515</td>\n",
       "      <td>0.883107</td>\n",
       "      <td>1.000000</td>\n",
       "      <td>0.878415</td>\n",
       "      <td>-0.254206</td>\n",
       "      <td>-0.329512</td>\n",
       "      <td>0.288273</td>\n",
       "      <td>-0.093667</td>\n",
       "    </tr>\n",
       "    <tr>\n",
       "      <th>rule_of_law</th>\n",
       "      <td>0.009230</td>\n",
       "      <td>-0.173228</td>\n",
       "      <td>-0.086882</td>\n",
       "      <td>0.012765</td>\n",
       "      <td>-0.047236</td>\n",
       "      <td>0.706112</td>\n",
       "      <td>0.639415</td>\n",
       "      <td>0.900880</td>\n",
       "      <td>0.878415</td>\n",
       "      <td>1.000000</td>\n",
       "      <td>-0.267785</td>\n",
       "      <td>-0.325563</td>\n",
       "      <td>0.149960</td>\n",
       "      <td>-0.150064</td>\n",
       "    </tr>\n",
       "    <tr>\n",
       "      <th>applied</th>\n",
       "      <td>0.193667</td>\n",
       "      <td>0.080865</td>\n",
       "      <td>0.285203</td>\n",
       "      <td>0.114676</td>\n",
       "      <td>0.468950</td>\n",
       "      <td>-0.205511</td>\n",
       "      <td>-0.343138</td>\n",
       "      <td>-0.225123</td>\n",
       "      <td>-0.254206</td>\n",
       "      <td>-0.267785</td>\n",
       "      <td>1.000000</td>\n",
       "      <td>0.835552</td>\n",
       "      <td>-0.000539</td>\n",
       "      <td>0.381312</td>\n",
       "    </tr>\n",
       "    <tr>\n",
       "      <th>total</th>\n",
       "      <td>0.179906</td>\n",
       "      <td>0.239160</td>\n",
       "      <td>0.231393</td>\n",
       "      <td>0.073002</td>\n",
       "      <td>0.241333</td>\n",
       "      <td>-0.296992</td>\n",
       "      <td>-0.345315</td>\n",
       "      <td>-0.289588</td>\n",
       "      <td>-0.329512</td>\n",
       "      <td>-0.325563</td>\n",
       "      <td>0.835552</td>\n",
       "      <td>1.000000</td>\n",
       "      <td>-0.048715</td>\n",
       "      <td>0.172459</td>\n",
       "    </tr>\n",
       "    <tr>\n",
       "      <th>val_x</th>\n",
       "      <td>-0.133235</td>\n",
       "      <td>-0.034900</td>\n",
       "      <td>0.316060</td>\n",
       "      <td>0.057910</td>\n",
       "      <td>0.436876</td>\n",
       "      <td>0.284638</td>\n",
       "      <td>-0.054518</td>\n",
       "      <td>0.287347</td>\n",
       "      <td>0.288273</td>\n",
       "      <td>0.149960</td>\n",
       "      <td>-0.000539</td>\n",
       "      <td>-0.048715</td>\n",
       "      <td>1.000000</td>\n",
       "      <td>0.291658</td>\n",
       "    </tr>\n",
       "    <tr>\n",
       "      <th>val_y</th>\n",
       "      <td>-0.072806</td>\n",
       "      <td>0.004920</td>\n",
       "      <td>0.547191</td>\n",
       "      <td>0.089516</td>\n",
       "      <td>0.817468</td>\n",
       "      <td>-0.014635</td>\n",
       "      <td>-0.255897</td>\n",
       "      <td>-0.109390</td>\n",
       "      <td>-0.093667</td>\n",
       "      <td>-0.150064</td>\n",
       "      <td>0.381312</td>\n",
       "      <td>0.172459</td>\n",
       "      <td>0.291658</td>\n",
       "      <td>1.000000</td>\n",
       "    </tr>\n",
       "  </tbody>\n",
       "</table>\n",
       "</div>"
      ],
      "text/plain": [
       "                                                 year  water_coverage  \\\n",
       "year                                         1.000000        0.136499   \n",
       "water_coverage                               0.136499        1.000000   \n",
       "water_population                             0.122937        0.480232   \n",
       "sanitation_coverage                          0.109487       -0.035015   \n",
       "sanitation_population                        0.073698       -0.029915   \n",
       "voice_and_accountability_                    0.048430       -0.266085   \n",
       "political_stability_and_absence_of_violence -0.064901       -0.302578   \n",
       "government_                                 -0.065301       -0.158647   \n",
       "regulatory_quality                          -0.021713       -0.133385   \n",
       "rule_of_law                                  0.009230       -0.173228   \n",
       "applied                                      0.193667        0.080865   \n",
       "total                                        0.179906        0.239160   \n",
       "val_x                                       -0.133235       -0.034900   \n",
       "val_y                                       -0.072806        0.004920   \n",
       "\n",
       "                                             water_population  \\\n",
       "year                                                 0.122937   \n",
       "water_coverage                                       0.480232   \n",
       "water_population                                     1.000000   \n",
       "sanitation_coverage                                 -0.002893   \n",
       "sanitation_population                                0.592043   \n",
       "voice_and_accountability_                           -0.140021   \n",
       "political_stability_and_absence_of_violence         -0.394666   \n",
       "government_                                         -0.026820   \n",
       "regulatory_quality                                  -0.074830   \n",
       "rule_of_law                                         -0.086882   \n",
       "applied                                              0.285203   \n",
       "total                                                0.231393   \n",
       "val_x                                                0.316060   \n",
       "val_y                                                0.547191   \n",
       "\n",
       "                                             sanitation_coverage  \\\n",
       "year                                                    0.109487   \n",
       "water_coverage                                         -0.035015   \n",
       "water_population                                       -0.002893   \n",
       "sanitation_coverage                                     1.000000   \n",
       "sanitation_population                                   0.340775   \n",
       "voice_and_accountability_                               0.193467   \n",
       "political_stability_and_absence_of_violence             0.083773   \n",
       "government_                                            -0.023470   \n",
       "regulatory_quality                                      0.080145   \n",
       "rule_of_law                                             0.012765   \n",
       "applied                                                 0.114676   \n",
       "total                                                   0.073002   \n",
       "val_x                                                   0.057910   \n",
       "val_y                                                   0.089516   \n",
       "\n",
       "                                             sanitation_population  \\\n",
       "year                                                      0.073698   \n",
       "water_coverage                                           -0.029915   \n",
       "water_population                                          0.592043   \n",
       "sanitation_coverage                                       0.340775   \n",
       "sanitation_population                                     1.000000   \n",
       "voice_and_accountability_                                 0.105755   \n",
       "political_stability_and_absence_of_violence              -0.254880   \n",
       "government_                                               0.021818   \n",
       "regulatory_quality                                        0.051889   \n",
       "rule_of_law                                              -0.047236   \n",
       "applied                                                   0.468950   \n",
       "total                                                     0.241333   \n",
       "val_x                                                     0.436876   \n",
       "val_y                                                     0.817468   \n",
       "\n",
       "                                             voice_and_accountability_  \\\n",
       "year                                                          0.048430   \n",
       "water_coverage                                               -0.266085   \n",
       "water_population                                             -0.140021   \n",
       "sanitation_coverage                                           0.193467   \n",
       "sanitation_population                                         0.105755   \n",
       "voice_and_accountability_                                     1.000000   \n",
       "political_stability_and_absence_of_violence                   0.525806   \n",
       "government_                                                   0.622140   \n",
       "regulatory_quality                                            0.682530   \n",
       "rule_of_law                                                   0.706112   \n",
       "applied                                                      -0.205511   \n",
       "total                                                        -0.296992   \n",
       "val_x                                                         0.284638   \n",
       "val_y                                                        -0.014635   \n",
       "\n",
       "                                             political_stability_and_absence_of_violence  \\\n",
       "year                                                                           -0.064901   \n",
       "water_coverage                                                                 -0.302578   \n",
       "water_population                                                               -0.394666   \n",
       "sanitation_coverage                                                             0.083773   \n",
       "sanitation_population                                                          -0.254880   \n",
       "voice_and_accountability_                                                       0.525806   \n",
       "political_stability_and_absence_of_violence                                     1.000000   \n",
       "government_                                                                     0.531072   \n",
       "regulatory_quality                                                              0.551515   \n",
       "rule_of_law                                                                     0.639415   \n",
       "applied                                                                        -0.343138   \n",
       "total                                                                          -0.345315   \n",
       "val_x                                                                          -0.054518   \n",
       "val_y                                                                          -0.255897   \n",
       "\n",
       "                                             government_  regulatory_quality  \\\n",
       "year                                           -0.065301           -0.021713   \n",
       "water_coverage                                 -0.158647           -0.133385   \n",
       "water_population                               -0.026820           -0.074830   \n",
       "sanitation_coverage                            -0.023470            0.080145   \n",
       "sanitation_population                           0.021818            0.051889   \n",
       "voice_and_accountability_                       0.622140            0.682530   \n",
       "political_stability_and_absence_of_violence     0.531072            0.551515   \n",
       "government_                                     1.000000            0.883107   \n",
       "regulatory_quality                              0.883107            1.000000   \n",
       "rule_of_law                                     0.900880            0.878415   \n",
       "applied                                        -0.225123           -0.254206   \n",
       "total                                          -0.289588           -0.329512   \n",
       "val_x                                           0.287347            0.288273   \n",
       "val_y                                          -0.109390           -0.093667   \n",
       "\n",
       "                                             rule_of_law   applied     total  \\\n",
       "year                                            0.009230  0.193667  0.179906   \n",
       "water_coverage                                 -0.173228  0.080865  0.239160   \n",
       "water_population                               -0.086882  0.285203  0.231393   \n",
       "sanitation_coverage                             0.012765  0.114676  0.073002   \n",
       "sanitation_population                          -0.047236  0.468950  0.241333   \n",
       "voice_and_accountability_                       0.706112 -0.205511 -0.296992   \n",
       "political_stability_and_absence_of_violence     0.639415 -0.343138 -0.345315   \n",
       "government_                                     0.900880 -0.225123 -0.289588   \n",
       "regulatory_quality                              0.878415 -0.254206 -0.329512   \n",
       "rule_of_law                                     1.000000 -0.267785 -0.325563   \n",
       "applied                                        -0.267785  1.000000  0.835552   \n",
       "total                                          -0.325563  0.835552  1.000000   \n",
       "val_x                                           0.149960 -0.000539 -0.048715   \n",
       "val_y                                          -0.150064  0.381312  0.172459   \n",
       "\n",
       "                                                val_x     val_y  \n",
       "year                                        -0.133235 -0.072806  \n",
       "water_coverage                              -0.034900  0.004920  \n",
       "water_population                             0.316060  0.547191  \n",
       "sanitation_coverage                          0.057910  0.089516  \n",
       "sanitation_population                        0.436876  0.817468  \n",
       "voice_and_accountability_                    0.284638 -0.014635  \n",
       "political_stability_and_absence_of_violence -0.054518 -0.255897  \n",
       "government_                                  0.287347 -0.109390  \n",
       "regulatory_quality                           0.288273 -0.093667  \n",
       "rule_of_law                                  0.149960 -0.150064  \n",
       "applied                                     -0.000539  0.381312  \n",
       "total                                       -0.048715  0.172459  \n",
       "val_x                                        1.000000  0.291658  \n",
       "val_y                                        0.291658  1.000000  "
      ]
     },
     "execution_count": 42,
     "metadata": {},
     "output_type": "execute_result"
    },
    {
     "data": {
      "image/png": "[encoded data removed]",
      "text/plain": [
       "<Figure size 720x576 with 2 Axes>"
      ]
     },
     "metadata": {
      "needs_background": "light"
     },
     "output_type": "display_data"
    }
   ],
   "source": [
    "import matplotlib.pyplot as plt\n",
    "import seaborn as sns\n",
    "corr_matrix=data.corr(method='pearson')\n",
    "corr_matrix\n",
    "\n",
    "fig, ax = plt.subplots(figsize=(10, 8))\n",
    "ax = sns.heatmap(corr_matrix, annot=True)\n",
    "plt.show()"
   ]
  },
  {
   "cell_type": "code",
   "execution_count": 43,
   "metadata": {},
   "outputs": [
    {
     "data": {
      "text/html": [
       "<div>\n",
       "<style scoped>\n",
       "    .dataframe tbody tr th:only-of-type {\n",
       "        vertical-align: middle;\n",
       "    }\n",
       "\n",
       "    .dataframe tbody tr th {\n",
       "        vertical-align: top;\n",
       "    }\n",
       "\n",
       "    .dataframe thead th {\n",
       "        text-align: right;\n",
       "    }\n",
       "</style>\n",
       "<table border=\"1\" class=\"dataframe\">\n",
       "  <thead>\n",
       "    <tr style=\"text-align: right;\">\n",
       "      <th></th>\n",
       "      <th>water_coverage</th>\n",
       "      <th>water_population</th>\n",
       "      <th>service_level</th>\n",
       "      <th>sanitation_coverage</th>\n",
       "      <th>sanitation_population</th>\n",
       "      <th>voice_and_accountability_</th>\n",
       "      <th>political_stability_and_absence_of_violence</th>\n",
       "      <th>government_</th>\n",
       "      <th>regulatory_quality</th>\n",
       "      <th>rule_of_law</th>\n",
       "      <th>applied</th>\n",
       "      <th>val_x</th>\n",
       "      <th>val_y</th>\n",
       "      <th>form_of_government</th>\n",
       "      <th>control_cat</th>\n",
       "    </tr>\n",
       "  </thead>\n",
       "  <tbody>\n",
       "    <tr>\n",
       "      <th>1</th>\n",
       "      <td>20.01438</td>\n",
       "      <td>3.517056e+06</td>\n",
       "      <td>Limited service</td>\n",
       "      <td>12.41406</td>\n",
       "      <td>2.181480e+06</td>\n",
       "      <td>12.935324</td>\n",
       "      <td>9.523809</td>\n",
       "      <td>8.163265</td>\n",
       "      <td>6.632653</td>\n",
       "      <td>2.970297</td>\n",
       "      <td>5758</td>\n",
       "      <td>8796.521342</td>\n",
       "      <td>171.346316</td>\n",
       "      <td>presidential unitary republic</td>\n",
       "      <td>low</td>\n",
       "    </tr>\n",
       "    <tr>\n",
       "      <th>5</th>\n",
       "      <td>19.40718</td>\n",
       "      <td>3.532760e+06</td>\n",
       "      <td>Limited service</td>\n",
       "      <td>12.98003</td>\n",
       "      <td>2.362802e+06</td>\n",
       "      <td>10.945273</td>\n",
       "      <td>19.597990</td>\n",
       "      <td>9.183674</td>\n",
       "      <td>11.224490</td>\n",
       "      <td>4.455446</td>\n",
       "      <td>4035</td>\n",
       "      <td>9819.589107</td>\n",
       "      <td>164.473562</td>\n",
       "      <td>presidential unitary republic</td>\n",
       "      <td>low</td>\n",
       "    </tr>\n",
       "    <tr>\n",
       "      <th>9</th>\n",
       "      <td>18.79056</td>\n",
       "      <td>3.544974e+06</td>\n",
       "      <td>Limited service</td>\n",
       "      <td>13.55016</td>\n",
       "      <td>2.556334e+06</td>\n",
       "      <td>11.538462</td>\n",
       "      <td>16.504854</td>\n",
       "      <td>6.403941</td>\n",
       "      <td>9.852217</td>\n",
       "      <td>5.741627</td>\n",
       "      <td>4004</td>\n",
       "      <td>10853.375345</td>\n",
       "      <td>166.662138</td>\n",
       "      <td>presidential unitary republic</td>\n",
       "      <td>low</td>\n",
       "    </tr>\n",
       "    <tr>\n",
       "      <th>13</th>\n",
       "      <td>18.16428</td>\n",
       "      <td>3.551578e+06</td>\n",
       "      <td>Limited service</td>\n",
       "      <td>14.12307</td>\n",
       "      <td>2.761419e+06</td>\n",
       "      <td>12.019231</td>\n",
       "      <td>21.359222</td>\n",
       "      <td>12.254902</td>\n",
       "      <td>10.294118</td>\n",
       "      <td>7.177033</td>\n",
       "      <td>3168</td>\n",
       "      <td>11756.413023</td>\n",
       "      <td>157.578053</td>\n",
       "      <td>presidential unitary republic</td>\n",
       "      <td>low</td>\n",
       "    </tr>\n",
       "    <tr>\n",
       "      <th>17</th>\n",
       "      <td>17.50080</td>\n",
       "      <td>3.546083e+06</td>\n",
       "      <td>Limited service</td>\n",
       "      <td>14.61931</td>\n",
       "      <td>2.962223e+06</td>\n",
       "      <td>11.538462</td>\n",
       "      <td>27.536232</td>\n",
       "      <td>5.853659</td>\n",
       "      <td>13.235294</td>\n",
       "      <td>9.090909</td>\n",
       "      <td>2525</td>\n",
       "      <td>12350.510032</td>\n",
       "      <td>144.658240</td>\n",
       "      <td>presidential unitary republic</td>\n",
       "      <td>low</td>\n",
       "    </tr>\n",
       "  </tbody>\n",
       "</table>\n",
       "</div>"
      ],
      "text/plain": [
       "    water_coverage  water_population    service_level  sanitation_coverage  \\\n",
       "1         20.01438      3.517056e+06  Limited service             12.41406   \n",
       "5         19.40718      3.532760e+06  Limited service             12.98003   \n",
       "9         18.79056      3.544974e+06  Limited service             13.55016   \n",
       "13        18.16428      3.551578e+06  Limited service             14.12307   \n",
       "17        17.50080      3.546083e+06  Limited service             14.61931   \n",
       "\n",
       "    sanitation_population  voice_and_accountability_  \\\n",
       "1            2.181480e+06                  12.935324   \n",
       "5            2.362802e+06                  10.945273   \n",
       "9            2.556334e+06                  11.538462   \n",
       "13           2.761419e+06                  12.019231   \n",
       "17           2.962223e+06                  11.538462   \n",
       "\n",
       "    political_stability_and_absence_of_violence  government_  \\\n",
       "1                                      9.523809     8.163265   \n",
       "5                                     19.597990     9.183674   \n",
       "9                                     16.504854     6.403941   \n",
       "13                                    21.359222    12.254902   \n",
       "17                                    27.536232     5.853659   \n",
       "\n",
       "    regulatory_quality  rule_of_law  applied         val_x       val_y  \\\n",
       "1             6.632653     2.970297     5758   8796.521342  171.346316   \n",
       "5            11.224490     4.455446     4035   9819.589107  164.473562   \n",
       "9             9.852217     5.741627     4004  10853.375345  166.662138   \n",
       "13           10.294118     7.177033     3168  11756.413023  157.578053   \n",
       "17           13.235294     9.090909     2525  12350.510032  144.658240   \n",
       "\n",
       "               form_of_government control_cat  \n",
       "1   presidential unitary republic         low  \n",
       "5   presidential unitary republic         low  \n",
       "9   presidential unitary republic         low  \n",
       "13  presidential unitary republic         low  \n",
       "17  presidential unitary republic         low  "
      ]
     },
     "execution_count": 43,
     "metadata": {},
     "output_type": "execute_result"
    },
    {
     "data": {
      "text/plain": [
       "1     15744\n",
       "5     14057\n",
       "9     11940\n",
       "13    12003\n",
       "17     9807\n",
       "Name: total, dtype: int64"
      ]
     },
     "execution_count": 43,
     "metadata": {},
     "output_type": "execute_result"
    }
   ],
   "source": [
    "data = data.drop(['year','country'],axis=1)\n",
    "\n",
    "X = data.drop(['total'],axis=1)\n",
    "y = data['total']\n",
    "\n",
    "X.head(5)\n",
    "y.head(5)"
   ]
  },
  {
   "cell_type": "code",
   "execution_count": 44,
   "metadata": {},
   "outputs": [
    {
     "data": {
      "text/html": [
       "<div>\n",
       "<style scoped>\n",
       "    .dataframe tbody tr th:only-of-type {\n",
       "        vertical-align: middle;\n",
       "    }\n",
       "\n",
       "    .dataframe tbody tr th {\n",
       "        vertical-align: top;\n",
       "    }\n",
       "\n",
       "    .dataframe thead th {\n",
       "        text-align: right;\n",
       "    }\n",
       "</style>\n",
       "<table border=\"1\" class=\"dataframe\">\n",
       "  <thead>\n",
       "    <tr style=\"text-align: right;\">\n",
       "      <th></th>\n",
       "      <th>water_coverage</th>\n",
       "      <th>water_population</th>\n",
       "      <th>sanitation_coverage</th>\n",
       "      <th>sanitation_population</th>\n",
       "      <th>voice_and_accountability_</th>\n",
       "      <th>political_stability_and_absence_of_violence</th>\n",
       "      <th>government_</th>\n",
       "      <th>regulatory_quality</th>\n",
       "      <th>rule_of_law</th>\n",
       "      <th>applied</th>\n",
       "      <th>val_x</th>\n",
       "      <th>val_y</th>\n",
       "    </tr>\n",
       "  </thead>\n",
       "  <tbody>\n",
       "    <tr>\n",
       "      <th>1</th>\n",
       "      <td>20.01438</td>\n",
       "      <td>3.517056e+06</td>\n",
       "      <td>12.41406</td>\n",
       "      <td>2.181480e+06</td>\n",
       "      <td>12.935324</td>\n",
       "      <td>9.523809</td>\n",
       "      <td>8.163265</td>\n",
       "      <td>6.632653</td>\n",
       "      <td>2.970297</td>\n",
       "      <td>5758</td>\n",
       "      <td>8796.521342</td>\n",
       "      <td>171.346316</td>\n",
       "    </tr>\n",
       "    <tr>\n",
       "      <th>5</th>\n",
       "      <td>19.40718</td>\n",
       "      <td>3.532760e+06</td>\n",
       "      <td>12.98003</td>\n",
       "      <td>2.362802e+06</td>\n",
       "      <td>10.945273</td>\n",
       "      <td>19.597990</td>\n",
       "      <td>9.183674</td>\n",
       "      <td>11.224490</td>\n",
       "      <td>4.455446</td>\n",
       "      <td>4035</td>\n",
       "      <td>9819.589107</td>\n",
       "      <td>164.473562</td>\n",
       "    </tr>\n",
       "    <tr>\n",
       "      <th>9</th>\n",
       "      <td>18.79056</td>\n",
       "      <td>3.544974e+06</td>\n",
       "      <td>13.55016</td>\n",
       "      <td>2.556334e+06</td>\n",
       "      <td>11.538462</td>\n",
       "      <td>16.504854</td>\n",
       "      <td>6.403941</td>\n",
       "      <td>9.852217</td>\n",
       "      <td>5.741627</td>\n",
       "      <td>4004</td>\n",
       "      <td>10853.375345</td>\n",
       "      <td>166.662138</td>\n",
       "    </tr>\n",
       "    <tr>\n",
       "      <th>13</th>\n",
       "      <td>18.16428</td>\n",
       "      <td>3.551578e+06</td>\n",
       "      <td>14.12307</td>\n",
       "      <td>2.761419e+06</td>\n",
       "      <td>12.019231</td>\n",
       "      <td>21.359222</td>\n",
       "      <td>12.254902</td>\n",
       "      <td>10.294118</td>\n",
       "      <td>7.177033</td>\n",
       "      <td>3168</td>\n",
       "      <td>11756.413023</td>\n",
       "      <td>157.578053</td>\n",
       "    </tr>\n",
       "    <tr>\n",
       "      <th>17</th>\n",
       "      <td>17.50080</td>\n",
       "      <td>3.546083e+06</td>\n",
       "      <td>14.61931</td>\n",
       "      <td>2.962223e+06</td>\n",
       "      <td>11.538462</td>\n",
       "      <td>27.536232</td>\n",
       "      <td>5.853659</td>\n",
       "      <td>13.235294</td>\n",
       "      <td>9.090909</td>\n",
       "      <td>2525</td>\n",
       "      <td>12350.510032</td>\n",
       "      <td>144.658240</td>\n",
       "    </tr>\n",
       "  </tbody>\n",
       "</table>\n",
       "</div>"
      ],
      "text/plain": [
       "    water_coverage  water_population  sanitation_coverage  \\\n",
       "1         20.01438      3.517056e+06             12.41406   \n",
       "5         19.40718      3.532760e+06             12.98003   \n",
       "9         18.79056      3.544974e+06             13.55016   \n",
       "13        18.16428      3.551578e+06             14.12307   \n",
       "17        17.50080      3.546083e+06             14.61931   \n",
       "\n",
       "    sanitation_population  voice_and_accountability_  \\\n",
       "1            2.181480e+06                  12.935324   \n",
       "5            2.362802e+06                  10.945273   \n",
       "9            2.556334e+06                  11.538462   \n",
       "13           2.761419e+06                  12.019231   \n",
       "17           2.962223e+06                  11.538462   \n",
       "\n",
       "    political_stability_and_absence_of_violence  government_  \\\n",
       "1                                      9.523809     8.163265   \n",
       "5                                     19.597990     9.183674   \n",
       "9                                     16.504854     6.403941   \n",
       "13                                    21.359222    12.254902   \n",
       "17                                    27.536232     5.853659   \n",
       "\n",
       "    regulatory_quality  rule_of_law  applied         val_x       val_y  \n",
       "1             6.632653     2.970297     5758   8796.521342  171.346316  \n",
       "5            11.224490     4.455446     4035   9819.589107  164.473562  \n",
       "9             9.852217     5.741627     4004  10853.375345  166.662138  \n",
       "13           10.294118     7.177033     3168  11756.413023  157.578053  \n",
       "17           13.235294     9.090909     2525  12350.510032  144.658240  "
      ]
     },
     "execution_count": 44,
     "metadata": {},
     "output_type": "execute_result"
    },
    {
     "data": {
      "text/html": [
       "<div>\n",
       "<style scoped>\n",
       "    .dataframe tbody tr th:only-of-type {\n",
       "        vertical-align: middle;\n",
       "    }\n",
       "\n",
       "    .dataframe tbody tr th {\n",
       "        vertical-align: top;\n",
       "    }\n",
       "\n",
       "    .dataframe thead th {\n",
       "        text-align: right;\n",
       "    }\n",
       "</style>\n",
       "<table border=\"1\" class=\"dataframe\">\n",
       "  <thead>\n",
       "    <tr style=\"text-align: right;\">\n",
       "      <th></th>\n",
       "      <th>service_level</th>\n",
       "      <th>form_of_government</th>\n",
       "      <th>control_cat</th>\n",
       "    </tr>\n",
       "  </thead>\n",
       "  <tbody>\n",
       "    <tr>\n",
       "      <th>1</th>\n",
       "      <td>Limited service</td>\n",
       "      <td>presidential unitary republic</td>\n",
       "      <td>low</td>\n",
       "    </tr>\n",
       "    <tr>\n",
       "      <th>5</th>\n",
       "      <td>Limited service</td>\n",
       "      <td>presidential unitary republic</td>\n",
       "      <td>low</td>\n",
       "    </tr>\n",
       "    <tr>\n",
       "      <th>9</th>\n",
       "      <td>Limited service</td>\n",
       "      <td>presidential unitary republic</td>\n",
       "      <td>low</td>\n",
       "    </tr>\n",
       "    <tr>\n",
       "      <th>13</th>\n",
       "      <td>Limited service</td>\n",
       "      <td>presidential unitary republic</td>\n",
       "      <td>low</td>\n",
       "    </tr>\n",
       "    <tr>\n",
       "      <th>17</th>\n",
       "      <td>Limited service</td>\n",
       "      <td>presidential unitary republic</td>\n",
       "      <td>low</td>\n",
       "    </tr>\n",
       "  </tbody>\n",
       "</table>\n",
       "</div>"
      ],
      "text/plain": [
       "      service_level             form_of_government control_cat\n",
       "1   Limited service  presidential unitary republic         low\n",
       "5   Limited service  presidential unitary republic         low\n",
       "9   Limited service  presidential unitary republic         low\n",
       "13  Limited service  presidential unitary republic         low\n",
       "17  Limited service  presidential unitary republic         low"
      ]
     },
     "execution_count": 44,
     "metadata": {},
     "output_type": "execute_result"
    }
   ],
   "source": [
    "X_num = X.select_dtypes(include = np.number)\n",
    "X_cat = X.select_dtypes('object')\n",
    "\n",
    "X_num.head(5)\n",
    "X_cat.head(5)"
   ]
  },
  {
   "cell_type": "code",
   "execution_count": 45,
   "metadata": {},
   "outputs": [],
   "source": [
    "def plot_var(df):\n",
    "    col_names_d = X_num.columns.tolist()\n",
    "    for i in range(len(col_names_d)):\n",
    "        print('for variable',col_names_d[i])\n",
    "        plt.hist(df.iloc[:,i],bins=20)\n",
    "        plt.show()\n",
    "        \n",
    "def plot_var_box(df):\n",
    "    col_names_c = df.columns.tolist()\n",
    "    for i in range(len(col_names_c)):\n",
    "        print('for variable',col_names_c[i])\n",
    "        sns.boxplot(df.iloc[:,i])\n",
    "        plt.show()\n",
    "        #return df.iloc[i]\n",
    "    #return plt.show()\n",
    "def plot_cat(df):\n",
    "    col_names_cat = X_cat.columns.tolist()\n",
    "    for i in range(len(col_names_cat)):\n",
    "        print('for variable',col_names_cat[i])\n",
    "        plt.hist(df.iloc[:,i])\n",
    "        plt.gca().set(title='Frequency Histogram', ylabel='Frequency')\n",
    "        plt.show()\n",
    "\n",
    "def plot_count_cat(df):\n",
    "    col_names_cat = X_cat.columns.tolist()\n",
    "    for i in range(len(col_names_cat)):\n",
    "        print('for variable',col_names_cat[i])\n",
    "        sns.countplot(df.iloc[:,i])\n",
    "        plt.show()"
   ]
  },
  {
   "cell_type": "code",
   "execution_count": 46,
   "metadata": {},
   "outputs": [
    {
     "name": "stdout",
     "output_type": "stream",
     "text": [
      "for variable water_coverage\n"
     ]
    },
    {
     "data": {
      "image/png": "[encoded data removed]",
      "text/plain": [
       "<Figure size 432x288 with 1 Axes>"
      ]
     },
     "metadata": {
      "needs_background": "light"
     },
     "output_type": "display_data"
    },
    {
     "name": "stdout",
     "output_type": "stream",
     "text": [
      "for variable water_population\n"
     ]
    },
    {
     "data": {
      "image/png": "[encoded data removed]",
      "text/plain": [
       "<Figure size 432x288 with 1 Axes>"
      ]
     },
     "metadata": {
      "needs_background": "light"
     },
     "output_type": "display_data"
    },
    {
     "name": "stdout",
     "output_type": "stream",
     "text": [
      "for variable sanitation_coverage\n"
     ]
    },
    {
     "data": {
      "image/png": "[encoded data removed]",
      "text/plain": [
       "<Figure size 432x288 with 1 Axes>"
      ]
     },
     "metadata": {
      "needs_background": "light"
     },
     "output_type": "display_data"
    },
    {
     "name": "stdout",
     "output_type": "stream",
     "text": [
      "for variable sanitation_population\n"
     ]
    },
    {
     "data": {
      "image/png": "[encoded data removed]",
      "text/plain": [
       "<Figure size 432x288 with 1 Axes>"
      ]
     },
     "metadata": {
      "needs_background": "light"
     },
     "output_type": "display_data"
    },
    {
     "name": "stdout",
     "output_type": "stream",
     "text": [
      "for variable voice_and_accountability_\n"
     ]
    },
    {
     "data": {
      "image/png": "[encoded data removed]",
      "text/plain": [
       "<Figure size 432x288 with 1 Axes>"
      ]
     },
     "metadata": {
      "needs_background": "light"
     },
     "output_type": "display_data"
    },
    {
     "name": "stdout",
     "output_type": "stream",
     "text": [
      "for variable political_stability_and_absence_of_violence\n"
     ]
    },
    {
     "data": {
      "image/png": "[encoded data removed]",
      "text/plain": [
       "<Figure size 432x288 with 1 Axes>"
      ]
     },
     "metadata": {
      "needs_background": "light"
     },
     "output_type": "display_data"
    },
    {
     "name": "stdout",
     "output_type": "stream",
     "text": [
      "for variable government_\n"
     ]
    },
    {
     "data": {
      "image/png": "[encoded data removed]",
      "text/plain": [
       "<Figure size 432x288 with 1 Axes>"
      ]
     },
     "metadata": {
      "needs_background": "light"
     },
     "output_type": "display_data"
    },
    {
     "name": "stdout",
     "output_type": "stream",
     "text": [
      "for variable regulatory_quality\n"
     ]
    },
    {
     "data": {
      "image/png": "[encoded data removed]",
      "text/plain": [
       "<Figure size 432x288 with 1 Axes>"
      ]
     },
     "metadata": {
      "needs_background": "light"
     },
     "output_type": "display_data"
    },
    {
     "name": "stdout",
     "output_type": "stream",
     "text": [
      "for variable rule_of_law\n"
     ]
    },
    {
     "data": {
      "image/png": "[encoded data removed]",
      "text/plain": [
       "<Figure size 432x288 with 1 Axes>"
      ]
     },
     "metadata": {
      "needs_background": "light"
     },
     "output_type": "display_data"
    },
    {
     "name": "stdout",
     "output_type": "stream",
     "text": [
      "for variable applied\n"
     ]
    },
    {
     "data": {
      "image/png": "[encoded data removed]",
      "text/plain": [
       "<Figure size 432x288 with 1 Axes>"
      ]
     },
     "metadata": {
      "needs_background": "light"
     },
     "output_type": "display_data"
    },
    {
     "name": "stdout",
     "output_type": "stream",
     "text": [
      "for variable val_x\n"
     ]
    },
    {
     "data": {
      "image/png": "[encoded data removed]",
      "text/plain": [
       "<Figure size 432x288 with 1 Axes>"
      ]
     },
     "metadata": {
      "needs_background": "light"
     },
     "output_type": "display_data"
    },
    {
     "name": "stdout",
     "output_type": "stream",
     "text": [
      "for variable val_y\n"
     ]
    },
    {
     "data": {
      "image/png": "[encoded data removed]",
      "text/plain": [
       "<Figure size 432x288 with 1 Axes>"
      ]
     },
     "metadata": {
      "needs_background": "light"
     },
     "output_type": "display_data"
    }
   ],
   "source": [
    "plot_var(X_num)"
   ]
  },
  {
   "cell_type": "code",
   "execution_count": 47,
   "metadata": {},
   "outputs": [
    {
     "name": "stdout",
     "output_type": "stream",
     "text": [
      "for variable service_level\n"
     ]
    },
    {
     "name": "stderr",
     "output_type": "stream",
     "text": [
      "/usr/local/Cellar/jupyterlab/3.0.12/libexec/lib/python3.9/site-packages/seaborn/_decorators.py:36: FutureWarning: Pass the following variable as a keyword arg: x. From version 0.12, the only valid positional argument will be `data`, and passing other arguments without an explicit keyword will result in an error or misinterpretation.\n",
      "  warnings.warn(\n"
     ]
    },
    {
     "data": {
      "image/png": "[encoded data removed]",
      "text/plain": [
       "<Figure size 432x288 with 1 Axes>"
      ]
     },
     "metadata": {
      "needs_background": "light"
     },
     "output_type": "display_data"
    },
    {
     "name": "stdout",
     "output_type": "stream",
     "text": [
      "for variable form_of_government\n"
     ]
    },
    {
     "name": "stderr",
     "output_type": "stream",
     "text": [
      "/usr/local/Cellar/jupyterlab/3.0.12/libexec/lib/python3.9/site-packages/seaborn/_decorators.py:36: FutureWarning: Pass the following variable as a keyword arg: x. From version 0.12, the only valid positional argument will be `data`, and passing other arguments without an explicit keyword will result in an error or misinterpretation.\n",
      "  warnings.warn(\n"
     ]
    },
    {
     "data": {
      "image/png": "[encoded data removed]",
      "text/plain": [
       "<Figure size 432x288 with 1 Axes>"
      ]
     },
     "metadata": {
      "needs_background": "light"
     },
     "output_type": "display_data"
    },
    {
     "name": "stdout",
     "output_type": "stream",
     "text": [
      "for variable control_cat\n"
     ]
    },
    {
     "name": "stderr",
     "output_type": "stream",
     "text": [
      "/usr/local/Cellar/jupyterlab/3.0.12/libexec/lib/python3.9/site-packages/seaborn/_decorators.py:36: FutureWarning: Pass the following variable as a keyword arg: x. From version 0.12, the only valid positional argument will be `data`, and passing other arguments without an explicit keyword will result in an error or misinterpretation.\n",
      "  warnings.warn(\n"
     ]
    },
    {
     "data": {
      "image/png": "[encoded data removed]",
      "text/plain": [
       "<Figure size 432x288 with 1 Axes>"
      ]
     },
     "metadata": {
      "needs_background": "light"
     },
     "output_type": "display_data"
    }
   ],
   "source": [
    "plot_count_cat(X_cat)"
   ]
  },
  {
   "cell_type": "code",
   "execution_count": 48,
   "metadata": {},
   "outputs": [
    {
     "name": "stdout",
     "output_type": "stream",
     "text": [
      "for variable water_coverage\n"
     ]
    },
    {
     "name": "stderr",
     "output_type": "stream",
     "text": [
      "/usr/local/Cellar/jupyterlab/3.0.12/libexec/lib/python3.9/site-packages/seaborn/_decorators.py:36: FutureWarning: Pass the following variable as a keyword arg: x. From version 0.12, the only valid positional argument will be `data`, and passing other arguments without an explicit keyword will result in an error or misinterpretation.\n",
      "  warnings.warn(\n"
     ]
    },
    {
     "data": {
      "image/png": "[encoded data removed]",
      "text/plain": [
       "<Figure size 432x288 with 1 Axes>"
      ]
     },
     "metadata": {
      "needs_background": "light"
     },
     "output_type": "display_data"
    },
    {
     "name": "stdout",
     "output_type": "stream",
     "text": [
      "for variable water_population\n"
     ]
    },
    {
     "name": "stderr",
     "output_type": "stream",
     "text": [
      "/usr/local/Cellar/jupyterlab/3.0.12/libexec/lib/python3.9/site-packages/seaborn/_decorators.py:36: FutureWarning: Pass the following variable as a keyword arg: x. From version 0.12, the only valid positional argument will be `data`, and passing other arguments without an explicit keyword will result in an error or misinterpretation.\n",
      "  warnings.warn(\n"
     ]
    },
    {
     "data": {
      "image/png": "[encoded data removed]",
      "text/plain": [
       "<Figure size 432x288 with 1 Axes>"
      ]
     },
     "metadata": {
      "needs_background": "light"
     },
     "output_type": "display_data"
    },
    {
     "name": "stdout",
     "output_type": "stream",
     "text": [
      "for variable sanitation_coverage\n"
     ]
    },
    {
     "name": "stderr",
     "output_type": "stream",
     "text": [
      "/usr/local/Cellar/jupyterlab/3.0.12/libexec/lib/python3.9/site-packages/seaborn/_decorators.py:36: FutureWarning: Pass the following variable as a keyword arg: x. From version 0.12, the only valid positional argument will be `data`, and passing other arguments without an explicit keyword will result in an error or misinterpretation.\n",
      "  warnings.warn(\n"
     ]
    },
    {
     "data": {
      "image/png": "[encoded data removed]",
      "text/plain": [
       "<Figure size 432x288 with 1 Axes>"
      ]
     },
     "metadata": {
      "needs_background": "light"
     },
     "output_type": "display_data"
    },
    {
     "name": "stdout",
     "output_type": "stream",
     "text": [
      "for variable sanitation_population\n"
     ]
    },
    {
     "name": "stderr",
     "output_type": "stream",
     "text": [
      "/usr/local/Cellar/jupyterlab/3.0.12/libexec/lib/python3.9/site-packages/seaborn/_decorators.py:36: FutureWarning: Pass the following variable as a keyword arg: x. From version 0.12, the only valid positional argument will be `data`, and passing other arguments without an explicit keyword will result in an error or misinterpretation.\n",
      "  warnings.warn(\n"
     ]
    },
    {
     "data": {
      "image/png": "[encoded data removed]",
      "text/plain": [
       "<Figure size 432x288 with 1 Axes>"
      ]
     },
     "metadata": {
      "needs_background": "light"
     },
     "output_type": "display_data"
    },
    {
     "name": "stdout",
     "output_type": "stream",
     "text": [
      "for variable voice_and_accountability_\n"
     ]
    },
    {
     "name": "stderr",
     "output_type": "stream",
     "text": [
      "/usr/local/Cellar/jupyterlab/3.0.12/libexec/lib/python3.9/site-packages/seaborn/_decorators.py:36: FutureWarning: Pass the following variable as a keyword arg: x. From version 0.12, the only valid positional argument will be `data`, and passing other arguments without an explicit keyword will result in an error or misinterpretation.\n",
      "  warnings.warn(\n"
     ]
    },
    {
     "data": {
      "image/png": "[encoded data removed]",
      "text/plain": [
       "<Figure size 432x288 with 1 Axes>"
      ]
     },
     "metadata": {
      "needs_background": "light"
     },
     "output_type": "display_data"
    },
    {
     "name": "stdout",
     "output_type": "stream",
     "text": [
      "for variable political_stability_and_absence_of_violence\n"
     ]
    },
    {
     "name": "stderr",
     "output_type": "stream",
     "text": [
      "/usr/local/Cellar/jupyterlab/3.0.12/libexec/lib/python3.9/site-packages/seaborn/_decorators.py:36: FutureWarning: Pass the following variable as a keyword arg: x. From version 0.12, the only valid positional argument will be `data`, and passing other arguments without an explicit keyword will result in an error or misinterpretation.\n",
      "  warnings.warn(\n"
     ]
    },
    {
     "data": {
      "image/png": "[encoded data removed]",
      "text/plain": [
       "<Figure size 432x288 with 1 Axes>"
      ]
     },
     "metadata": {
      "needs_background": "light"
     },
     "output_type": "display_data"
    },
    {
     "name": "stdout",
     "output_type": "stream",
     "text": [
      "for variable government_\n"
     ]
    },
    {
     "name": "stderr",
     "output_type": "stream",
     "text": [
      "/usr/local/Cellar/jupyterlab/3.0.12/libexec/lib/python3.9/site-packages/seaborn/_decorators.py:36: FutureWarning: Pass the following variable as a keyword arg: x. From version 0.12, the only valid positional argument will be `data`, and passing other arguments without an explicit keyword will result in an error or misinterpretation.\n",
      "  warnings.warn(\n"
     ]
    },
    {
     "data": {
      "image/png": "[encoded data removed]",
      "text/plain": [
       "<Figure size 432x288 with 1 Axes>"
      ]
     },
     "metadata": {
      "needs_background": "light"
     },
     "output_type": "display_data"
    },
    {
     "name": "stdout",
     "output_type": "stream",
     "text": [
      "for variable regulatory_quality\n"
     ]
    },
    {
     "name": "stderr",
     "output_type": "stream",
     "text": [
      "/usr/local/Cellar/jupyterlab/3.0.12/libexec/lib/python3.9/site-packages/seaborn/_decorators.py:36: FutureWarning: Pass the following variable as a keyword arg: x. From version 0.12, the only valid positional argument will be `data`, and passing other arguments without an explicit keyword will result in an error or misinterpretation.\n",
      "  warnings.warn(\n"
     ]
    },
    {
     "data": {
      "image/png": "[encoded data removed]",
      "text/plain": [
       "<Figure size 432x288 with 1 Axes>"
      ]
     },
     "metadata": {
      "needs_background": "light"
     },
     "output_type": "display_data"
    },
    {
     "name": "stdout",
     "output_type": "stream",
     "text": [
      "for variable rule_of_law\n"
     ]
    },
    {
     "name": "stderr",
     "output_type": "stream",
     "text": [
      "/usr/local/Cellar/jupyterlab/3.0.12/libexec/lib/python3.9/site-packages/seaborn/_decorators.py:36: FutureWarning: Pass the following variable as a keyword arg: x. From version 0.12, the only valid positional argument will be `data`, and passing other arguments without an explicit keyword will result in an error or misinterpretation.\n",
      "  warnings.warn(\n"
     ]
    },
    {
     "data": {
      "image/png": "[encoded data removed]",
      "text/plain": [
       "<Figure size 432x288 with 1 Axes>"
      ]
     },
     "metadata": {
      "needs_background": "light"
     },
     "output_type": "display_data"
    },
    {
     "name": "stdout",
     "output_type": "stream",
     "text": [
      "for variable applied\n"
     ]
    },
    {
     "name": "stderr",
     "output_type": "stream",
     "text": [
      "/usr/local/Cellar/jupyterlab/3.0.12/libexec/lib/python3.9/site-packages/seaborn/_decorators.py:36: FutureWarning: Pass the following variable as a keyword arg: x. From version 0.12, the only valid positional argument will be `data`, and passing other arguments without an explicit keyword will result in an error or misinterpretation.\n",
      "  warnings.warn(\n"
     ]
    },
    {
     "data": {
      "image/png": "[encoded data removed]",
      "text/plain": [
       "<Figure size 432x288 with 1 Axes>"
      ]
     },
     "metadata": {
      "needs_background": "light"
     },
     "output_type": "display_data"
    },
    {
     "name": "stdout",
     "output_type": "stream",
     "text": [
      "for variable val_x\n"
     ]
    },
    {
     "name": "stderr",
     "output_type": "stream",
     "text": [
      "/usr/local/Cellar/jupyterlab/3.0.12/libexec/lib/python3.9/site-packages/seaborn/_decorators.py:36: FutureWarning: Pass the following variable as a keyword arg: x. From version 0.12, the only valid positional argument will be `data`, and passing other arguments without an explicit keyword will result in an error or misinterpretation.\n",
      "  warnings.warn(\n"
     ]
    },
    {
     "data": {
      "image/png": "[encoded data removed]",
      "text/plain": [
       "<Figure size 432x288 with 1 Axes>"
      ]
     },
     "metadata": {
      "needs_background": "light"
     },
     "output_type": "display_data"
    },
    {
     "name": "stdout",
     "output_type": "stream",
     "text": [
      "for variable val_y\n"
     ]
    },
    {
     "name": "stderr",
     "output_type": "stream",
     "text": [
      "/usr/local/Cellar/jupyterlab/3.0.12/libexec/lib/python3.9/site-packages/seaborn/_decorators.py:36: FutureWarning: Pass the following variable as a keyword arg: x. From version 0.12, the only valid positional argument will be `data`, and passing other arguments without an explicit keyword will result in an error or misinterpretation.\n",
      "  warnings.warn(\n"
     ]
    },
    {
     "data": {
      "image/png": "[encoded data removed]",
      "text/plain": [
       "<Figure size 432x288 with 1 Axes>"
      ]
     },
     "metadata": {
      "needs_background": "light"
     },
     "output_type": "display_data"
    }
   ],
   "source": [
    "plot_var_box(X_num)"
   ]
  },
  {
   "cell_type": "code",
   "execution_count": null,
   "metadata": {},
   "outputs": [],
   "source": [
    "#there seems to be some outliers but they may not be errors. So we are keeping it for now."
   ]
  },
  {
   "cell_type": "code",
   "execution_count": 49,
   "metadata": {},
   "outputs": [],
   "source": [
    "#defining a function to convert variables in categorical functions\n",
    "\n",
    "#already done above"
   ]
  },
  {
   "cell_type": "markdown",
   "metadata": {},
   "source": [
    "# Train-test split"
   ]
  },
  {
   "cell_type": "code",
   "execution_count": 63,
   "metadata": {},
   "outputs": [
    {
     "data": {
      "text/html": [
       "<div>\n",
       "<style scoped>\n",
       "    .dataframe tbody tr th:only-of-type {\n",
       "        vertical-align: middle;\n",
       "    }\n",
       "\n",
       "    .dataframe tbody tr th {\n",
       "        vertical-align: top;\n",
       "    }\n",
       "\n",
       "    .dataframe thead th {\n",
       "        text-align: right;\n",
       "    }\n",
       "</style>\n",
       "<table border=\"1\" class=\"dataframe\">\n",
       "  <thead>\n",
       "    <tr style=\"text-align: right;\">\n",
       "      <th></th>\n",
       "      <th>water_coverage</th>\n",
       "      <th>water_population</th>\n",
       "      <th>sanitation_coverage</th>\n",
       "      <th>sanitation_population</th>\n",
       "      <th>voice_and_accountability_</th>\n",
       "      <th>political_stability_and_absence_of_violence</th>\n",
       "      <th>government_</th>\n",
       "      <th>regulatory_quality</th>\n",
       "      <th>rule_of_law</th>\n",
       "      <th>applied</th>\n",
       "      <th>val_x</th>\n",
       "      <th>val_y</th>\n",
       "      <th>form_of_government</th>\n",
       "      <th>control_cat</th>\n",
       "    </tr>\n",
       "  </thead>\n",
       "  <tbody>\n",
       "    <tr>\n",
       "      <th>1</th>\n",
       "      <td>20.01438</td>\n",
       "      <td>3.517056e+06</td>\n",
       "      <td>12.41406</td>\n",
       "      <td>2.181480e+06</td>\n",
       "      <td>12.935324</td>\n",
       "      <td>9.523809</td>\n",
       "      <td>8.163265</td>\n",
       "      <td>6.632653</td>\n",
       "      <td>2.970297</td>\n",
       "      <td>5758</td>\n",
       "      <td>8796.521342</td>\n",
       "      <td>171.346316</td>\n",
       "      <td>presidential unitary republic</td>\n",
       "      <td>low</td>\n",
       "    </tr>\n",
       "    <tr>\n",
       "      <th>5</th>\n",
       "      <td>19.40718</td>\n",
       "      <td>3.532760e+06</td>\n",
       "      <td>12.98003</td>\n",
       "      <td>2.362802e+06</td>\n",
       "      <td>10.945273</td>\n",
       "      <td>19.597990</td>\n",
       "      <td>9.183674</td>\n",
       "      <td>11.224490</td>\n",
       "      <td>4.455446</td>\n",
       "      <td>4035</td>\n",
       "      <td>9819.589107</td>\n",
       "      <td>164.473562</td>\n",
       "      <td>presidential unitary republic</td>\n",
       "      <td>low</td>\n",
       "    </tr>\n",
       "    <tr>\n",
       "      <th>9</th>\n",
       "      <td>18.79056</td>\n",
       "      <td>3.544974e+06</td>\n",
       "      <td>13.55016</td>\n",
       "      <td>2.556334e+06</td>\n",
       "      <td>11.538462</td>\n",
       "      <td>16.504854</td>\n",
       "      <td>6.403941</td>\n",
       "      <td>9.852217</td>\n",
       "      <td>5.741627</td>\n",
       "      <td>4004</td>\n",
       "      <td>10853.375345</td>\n",
       "      <td>166.662138</td>\n",
       "      <td>presidential unitary republic</td>\n",
       "      <td>low</td>\n",
       "    </tr>\n",
       "    <tr>\n",
       "      <th>13</th>\n",
       "      <td>18.16428</td>\n",
       "      <td>3.551578e+06</td>\n",
       "      <td>14.12307</td>\n",
       "      <td>2.761419e+06</td>\n",
       "      <td>12.019231</td>\n",
       "      <td>21.359222</td>\n",
       "      <td>12.254902</td>\n",
       "      <td>10.294118</td>\n",
       "      <td>7.177033</td>\n",
       "      <td>3168</td>\n",
       "      <td>11756.413023</td>\n",
       "      <td>157.578053</td>\n",
       "      <td>presidential unitary republic</td>\n",
       "      <td>low</td>\n",
       "    </tr>\n",
       "    <tr>\n",
       "      <th>17</th>\n",
       "      <td>17.50080</td>\n",
       "      <td>3.546083e+06</td>\n",
       "      <td>14.61931</td>\n",
       "      <td>2.962223e+06</td>\n",
       "      <td>11.538462</td>\n",
       "      <td>27.536232</td>\n",
       "      <td>5.853659</td>\n",
       "      <td>13.235294</td>\n",
       "      <td>9.090909</td>\n",
       "      <td>2525</td>\n",
       "      <td>12350.510032</td>\n",
       "      <td>144.658240</td>\n",
       "      <td>presidential unitary republic</td>\n",
       "      <td>low</td>\n",
       "    </tr>\n",
       "  </tbody>\n",
       "</table>\n",
       "</div>"
      ],
      "text/plain": [
       "    water_coverage  water_population  sanitation_coverage  \\\n",
       "1         20.01438      3.517056e+06             12.41406   \n",
       "5         19.40718      3.532760e+06             12.98003   \n",
       "9         18.79056      3.544974e+06             13.55016   \n",
       "13        18.16428      3.551578e+06             14.12307   \n",
       "17        17.50080      3.546083e+06             14.61931   \n",
       "\n",
       "    sanitation_population  voice_and_accountability_  \\\n",
       "1            2.181480e+06                  12.935324   \n",
       "5            2.362802e+06                  10.945273   \n",
       "9            2.556334e+06                  11.538462   \n",
       "13           2.761419e+06                  12.019231   \n",
       "17           2.962223e+06                  11.538462   \n",
       "\n",
       "    political_stability_and_absence_of_violence  government_  \\\n",
       "1                                      9.523809     8.163265   \n",
       "5                                     19.597990     9.183674   \n",
       "9                                     16.504854     6.403941   \n",
       "13                                    21.359222    12.254902   \n",
       "17                                    27.536232     5.853659   \n",
       "\n",
       "    regulatory_quality  rule_of_law  applied         val_x       val_y  \\\n",
       "1             6.632653     2.970297     5758   8796.521342  171.346316   \n",
       "5            11.224490     4.455446     4035   9819.589107  164.473562   \n",
       "9             9.852217     5.741627     4004  10853.375345  166.662138   \n",
       "13           10.294118     7.177033     3168  11756.413023  157.578053   \n",
       "17           13.235294     9.090909     2525  12350.510032  144.658240   \n",
       "\n",
       "               form_of_government control_cat  \n",
       "1   presidential unitary republic         low  \n",
       "5   presidential unitary republic         low  \n",
       "9   presidential unitary republic         low  \n",
       "13  presidential unitary republic         low  \n",
       "17  presidential unitary republic         low  "
      ]
     },
     "execution_count": 63,
     "metadata": {},
     "output_type": "execute_result"
    },
    {
     "data": {
      "text/plain": [
       "1     15744\n",
       "5     14057\n",
       "9     11940\n",
       "13    12003\n",
       "17     9807\n",
       "Name: total, dtype: int64"
      ]
     },
     "execution_count": 63,
     "metadata": {},
     "output_type": "execute_result"
    }
   ],
   "source": [
    "X_cat = X_cat.drop(['service_level'],axis=1)\n",
    "X = pd.concat([X_num,X_cat],axis=1)\n",
    "\n",
    "X.head()\n",
    "y.head()\n",
    "\n"
   ]
  },
  {
   "cell_type": "code",
   "execution_count": 64,
   "metadata": {},
   "outputs": [],
   "source": [
    "X_train, X_test, y_train, y_test = train_test_split(X, y, test_size=0.3, random_state=100)"
   ]
  },
  {
   "cell_type": "code",
   "execution_count": 65,
   "metadata": {},
   "outputs": [
    {
     "data": {
      "text/html": [
       "<div>\n",
       "<style scoped>\n",
       "    .dataframe tbody tr th:only-of-type {\n",
       "        vertical-align: middle;\n",
       "    }\n",
       "\n",
       "    .dataframe tbody tr th {\n",
       "        vertical-align: top;\n",
       "    }\n",
       "\n",
       "    .dataframe thead th {\n",
       "        text-align: right;\n",
       "    }\n",
       "</style>\n",
       "<table border=\"1\" class=\"dataframe\">\n",
       "  <thead>\n",
       "    <tr style=\"text-align: right;\">\n",
       "      <th></th>\n",
       "      <th>water_coverage</th>\n",
       "      <th>water_population</th>\n",
       "      <th>sanitation_coverage</th>\n",
       "      <th>sanitation_population</th>\n",
       "      <th>voice_and_accountability_</th>\n",
       "      <th>political_stability_and_absence_of_violence</th>\n",
       "      <th>government_</th>\n",
       "      <th>regulatory_quality</th>\n",
       "      <th>rule_of_law</th>\n",
       "      <th>applied</th>\n",
       "      <th>val_x</th>\n",
       "      <th>val_y</th>\n",
       "    </tr>\n",
       "  </thead>\n",
       "  <tbody>\n",
       "    <tr>\n",
       "      <th>3003</th>\n",
       "      <td>32.02842</td>\n",
       "      <td>1.328794e+07</td>\n",
       "      <td>17.29818</td>\n",
       "      <td>7.176661e+06</td>\n",
       "      <td>28.571428</td>\n",
       "      <td>21.428572</td>\n",
       "      <td>32.692307</td>\n",
       "      <td>46.153847</td>\n",
       "      <td>45.192307</td>\n",
       "      <td>593</td>\n",
       "      <td>31273.894238</td>\n",
       "      <td>25.359452</td>\n",
       "    </tr>\n",
       "    <tr>\n",
       "      <th>1889</th>\n",
       "      <td>5.14846</td>\n",
       "      <td>5.352779e+05</td>\n",
       "      <td>10.96788</td>\n",
       "      <td>1.140315e+06</td>\n",
       "      <td>59.701492</td>\n",
       "      <td>35.978836</td>\n",
       "      <td>57.653061</td>\n",
       "      <td>46.938774</td>\n",
       "      <td>56.435642</td>\n",
       "      <td>1115</td>\n",
       "      <td>3565.630939</td>\n",
       "      <td>38.683360</td>\n",
       "    </tr>\n",
       "    <tr>\n",
       "      <th>445</th>\n",
       "      <td>11.52177</td>\n",
       "      <td>7.434219e+06</td>\n",
       "      <td>21.43991</td>\n",
       "      <td>1.383373e+07</td>\n",
       "      <td>9.478673</td>\n",
       "      <td>3.317536</td>\n",
       "      <td>1.435407</td>\n",
       "      <td>4.306220</td>\n",
       "      <td>1.895735</td>\n",
       "      <td>7225</td>\n",
       "      <td>41325.288010</td>\n",
       "      <td>139.802236</td>\n",
       "    </tr>\n",
       "    <tr>\n",
       "      <th>2293</th>\n",
       "      <td>6.90409</td>\n",
       "      <td>1.078487e+06</td>\n",
       "      <td>16.71459</td>\n",
       "      <td>2.610982e+06</td>\n",
       "      <td>44.334976</td>\n",
       "      <td>52.380951</td>\n",
       "      <td>33.173077</td>\n",
       "      <td>32.692307</td>\n",
       "      <td>47.115383</td>\n",
       "      <td>15</td>\n",
       "      <td>26686.554070</td>\n",
       "      <td>11.882579</td>\n",
       "    </tr>\n",
       "    <tr>\n",
       "      <th>1961</th>\n",
       "      <td>11.72631</td>\n",
       "      <td>1.186261e+06</td>\n",
       "      <td>15.43028</td>\n",
       "      <td>1.560962e+06</td>\n",
       "      <td>1.923077</td>\n",
       "      <td>0.485437</td>\n",
       "      <td>0.000000</td>\n",
       "      <td>0.492611</td>\n",
       "      <td>0.000000</td>\n",
       "      <td>3998</td>\n",
       "      <td>4905.427009</td>\n",
       "      <td>42.993248</td>\n",
       "    </tr>\n",
       "  </tbody>\n",
       "</table>\n",
       "</div>"
      ],
      "text/plain": [
       "      water_coverage  water_population  sanitation_coverage  \\\n",
       "3003        32.02842      1.328794e+07             17.29818   \n",
       "1889         5.14846      5.352779e+05             10.96788   \n",
       "445         11.52177      7.434219e+06             21.43991   \n",
       "2293         6.90409      1.078487e+06             16.71459   \n",
       "1961        11.72631      1.186261e+06             15.43028   \n",
       "\n",
       "      sanitation_population  voice_and_accountability_  \\\n",
       "3003           7.176661e+06                  28.571428   \n",
       "1889           1.140315e+06                  59.701492   \n",
       "445            1.383373e+07                   9.478673   \n",
       "2293           2.610982e+06                  44.334976   \n",
       "1961           1.560962e+06                   1.923077   \n",
       "\n",
       "      political_stability_and_absence_of_violence  government_  \\\n",
       "3003                                    21.428572    32.692307   \n",
       "1889                                    35.978836    57.653061   \n",
       "445                                      3.317536     1.435407   \n",
       "2293                                    52.380951    33.173077   \n",
       "1961                                     0.485437     0.000000   \n",
       "\n",
       "      regulatory_quality  rule_of_law  applied         val_x       val_y  \n",
       "3003           46.153847    45.192307      593  31273.894238   25.359452  \n",
       "1889           46.938774    56.435642     1115   3565.630939   38.683360  \n",
       "445             4.306220     1.895735     7225  41325.288010  139.802236  \n",
       "2293           32.692307    47.115383       15  26686.554070   11.882579  \n",
       "1961            0.492611     0.000000     3998   4905.427009   42.993248  "
      ]
     },
     "execution_count": 65,
     "metadata": {},
     "output_type": "execute_result"
    }
   ],
   "source": [
    "numericals_train = X_train.select_dtypes(np.number)\n",
    "numericals_test = X_test.select_dtypes(np.number)\n",
    "numericals_train.head()"
   ]
  },
  {
   "cell_type": "code",
   "execution_count": 66,
   "metadata": {},
   "outputs": [
    {
     "data": {
      "text/plain": [
       "array([[ 1.13365263, -0.43361311, -0.59264291, ...,  0.58615579,\n",
       "        -0.45190352, -0.28717986],\n",
       "       [-1.11857001, -0.55143427,  0.25654543, ...,  2.23117149,\n",
       "        -0.47619834, -0.24433489],\n",
       "       [-0.87239644, -0.49330508,  0.22056158, ..., -0.27798031,\n",
       "        -0.36670925,  0.3763814 ],\n",
       "       ...,\n",
       "       [-1.06986556, -0.6627572 , -0.49057855, ..., -0.52698593,\n",
       "        -0.47588754, -0.32799972],\n",
       "       [-1.30574442, -0.58526139,  0.05082906, ..., -0.50483513,\n",
       "        -0.41078663, -0.28005924],\n",
       "       [ 1.10395832,  0.33127952, -0.15037034, ..., -0.49516006,\n",
       "        -0.0480353 , -0.27329613]])"
      ]
     },
     "execution_count": 66,
     "metadata": {},
     "output_type": "execute_result"
    }
   ],
   "source": [
    "transformer = StandardScaler().fit(numericals_train) #this line teaches standardscaler where points are, subtracting mean to it, and dividing by standard deviation\n",
    "numericals_train_standardized = transformer.transform(numericals_train) #this line transforms based on what it learned in the previous line\n",
    "numericals_test_standardized = transformer.transform(numericals_test) \n",
    "numericals_test_standardized"
   ]
  },
  {
   "cell_type": "code",
   "execution_count": 67,
   "metadata": {},
   "outputs": [
    {
     "name": "stdout",
     "output_type": "stream",
     "text": [
      "<class 'pandas.core.frame.DataFrame'>\n",
      "Int64Index: 504 entries, 3003 to 2081\n",
      "Data columns (total 14 columns):\n",
      " #   Column                                       Non-Null Count  Dtype  \n",
      "---  ------                                       --------------  -----  \n",
      " 0   water_coverage                               504 non-null    float64\n",
      " 1   water_population                             504 non-null    float64\n",
      " 2   sanitation_coverage                          504 non-null    float64\n",
      " 3   sanitation_population                        504 non-null    float64\n",
      " 4   voice_and_accountability_                    504 non-null    float64\n",
      " 5   political_stability_and_absence_of_violence  504 non-null    float64\n",
      " 6   government_                                  504 non-null    float64\n",
      " 7   regulatory_quality                           504 non-null    float64\n",
      " 8   rule_of_law                                  504 non-null    float64\n",
      " 9   applied                                      504 non-null    int64  \n",
      " 10  val_x                                        504 non-null    float64\n",
      " 11  val_y                                        504 non-null    float64\n",
      " 12  form_of_government                           504 non-null    object \n",
      " 13  control_cat                                  504 non-null    object \n",
      "dtypes: float64(11), int64(1), object(2)\n",
      "memory usage: 59.1+ KB\n",
      "<class 'pandas.core.frame.DataFrame'>\n",
      "Int64Index: 217 entries, 793 to 1669\n",
      "Data columns (total 14 columns):\n",
      " #   Column                                       Non-Null Count  Dtype  \n",
      "---  ------                                       --------------  -----  \n",
      " 0   water_coverage                               217 non-null    float64\n",
      " 1   water_population                             217 non-null    float64\n",
      " 2   sanitation_coverage                          217 non-null    float64\n",
      " 3   sanitation_population                        217 non-null    float64\n",
      " 4   voice_and_accountability_                    217 non-null    float64\n",
      " 5   political_stability_and_absence_of_violence  217 non-null    float64\n",
      " 6   government_                                  217 non-null    float64\n",
      " 7   regulatory_quality                           217 non-null    float64\n",
      " 8   rule_of_law                                  217 non-null    float64\n",
      " 9   applied                                      217 non-null    int64  \n",
      " 10  val_x                                        217 non-null    float64\n",
      " 11  val_y                                        217 non-null    float64\n",
      " 12  form_of_government                           217 non-null    object \n",
      " 13  control_cat                                  217 non-null    object \n",
      "dtypes: float64(11), int64(1), object(2)\n",
      "memory usage: 25.4+ KB\n"
     ]
    }
   ],
   "source": [
    "X_train.info()\n",
    "X_test.info()"
   ]
  },
  {
   "cell_type": "code",
   "execution_count": 68,
   "metadata": {},
   "outputs": [
    {
     "name": "stderr",
     "output_type": "stream",
     "text": [
      "<ipython-input-68-4aceaaae8cee>:3: DeprecationWarning: `np.object` is a deprecated alias for the builtin `object`. To silence this warning, use `object` by itself. Doing this will not modify any behavior and is safe. \n",
      "Deprecated in NumPy 1.20; for more details and guidance: https://numpy.org/devdocs/release/1.20.0-notes.html#deprecations\n",
      "  categoricals_train= X_train.select_dtypes(np.object)\n",
      "<ipython-input-68-4aceaaae8cee>:4: DeprecationWarning: `np.object` is a deprecated alias for the builtin `object`. To silence this warning, use `object` by itself. Doing this will not modify any behavior and is safe. \n",
      "Deprecated in NumPy 1.20; for more details and guidance: https://numpy.org/devdocs/release/1.20.0-notes.html#deprecations\n",
      "  categoricals_test= X_test.select_dtypes(np.object)\n"
     ]
    },
    {
     "data": {
      "text/html": [
       "<div>\n",
       "<style scoped>\n",
       "    .dataframe tbody tr th:only-of-type {\n",
       "        vertical-align: middle;\n",
       "    }\n",
       "\n",
       "    .dataframe tbody tr th {\n",
       "        vertical-align: top;\n",
       "    }\n",
       "\n",
       "    .dataframe thead th {\n",
       "        text-align: right;\n",
       "    }\n",
       "</style>\n",
       "<table border=\"1\" class=\"dataframe\">\n",
       "  <thead>\n",
       "    <tr style=\"text-align: right;\">\n",
       "      <th></th>\n",
       "      <th>form_of_government</th>\n",
       "      <th>control_cat</th>\n",
       "    </tr>\n",
       "  </thead>\n",
       "  <tbody>\n",
       "    <tr>\n",
       "      <th>3003</th>\n",
       "      <td>presidential unitary republic</td>\n",
       "      <td>low</td>\n",
       "    </tr>\n",
       "    <tr>\n",
       "      <th>1889</th>\n",
       "      <td>presidential unitary republic</td>\n",
       "      <td>medium-high</td>\n",
       "    </tr>\n",
       "    <tr>\n",
       "      <th>445</th>\n",
       "      <td>semi-presidential unitary republic</td>\n",
       "      <td>low</td>\n",
       "    </tr>\n",
       "    <tr>\n",
       "      <th>2293</th>\n",
       "      <td>presidential unitary republic</td>\n",
       "      <td>medium-low</td>\n",
       "    </tr>\n",
       "    <tr>\n",
       "      <th>1961</th>\n",
       "      <td>semi-presidential federal republic</td>\n",
       "      <td>high</td>\n",
       "    </tr>\n",
       "  </tbody>\n",
       "</table>\n",
       "</div>"
      ],
      "text/plain": [
       "                      form_of_government  control_cat\n",
       "3003       presidential unitary republic          low\n",
       "1889       presidential unitary republic  medium-high\n",
       "445   semi-presidential unitary republic          low\n",
       "2293       presidential unitary republic   medium-low\n",
       "1961  semi-presidential federal republic         high"
      ]
     },
     "execution_count": 68,
     "metadata": {},
     "output_type": "execute_result"
    }
   ],
   "source": [
    "#now encoding the categorical variables\n",
    "\n",
    "categoricals_train= X_train.select_dtypes(np.object)\n",
    "categoricals_test= X_test.select_dtypes(np.object)\n",
    "categoricals_train.head()"
   ]
  },
  {
   "cell_type": "code",
   "execution_count": 69,
   "metadata": {},
   "outputs": [],
   "source": [
    "from sklearn.preprocessing import OneHotEncoder\n",
    "\n",
    "encoder = OneHotEncoder(handle_unknown='error', drop='first').fit(categoricals_train) #drop=first, drops one of the values so we don't have redundant\n",
    "categoricals_train_encoded = encoder.transform(categoricals_train).toarray()\n",
    "categoricals_test_encoded = encoder.transform(categoricals_test).toarray()"
   ]
  },
  {
   "cell_type": "code",
   "execution_count": 70,
   "metadata": {},
   "outputs": [
    {
     "data": {
      "text/html": [
       "<div>\n",
       "<style scoped>\n",
       "    .dataframe tbody tr th:only-of-type {\n",
       "        vertical-align: middle;\n",
       "    }\n",
       "\n",
       "    .dataframe tbody tr th {\n",
       "        vertical-align: top;\n",
       "    }\n",
       "\n",
       "    .dataframe thead th {\n",
       "        text-align: right;\n",
       "    }\n",
       "</style>\n",
       "<table border=\"1\" class=\"dataframe\">\n",
       "  <thead>\n",
       "    <tr style=\"text-align: right;\">\n",
       "      <th></th>\n",
       "      <th>water_coverage</th>\n",
       "      <th>water_population</th>\n",
       "      <th>sanitation_coverage</th>\n",
       "      <th>sanitation_population</th>\n",
       "      <th>voice_and_accountability_</th>\n",
       "      <th>political_stability_and_absence_of_violence</th>\n",
       "      <th>government_</th>\n",
       "      <th>regulatory_quality</th>\n",
       "      <th>rule_of_law</th>\n",
       "      <th>applied</th>\n",
       "      <th>val_x</th>\n",
       "      <th>val_y</th>\n",
       "      <th>form_of_government</th>\n",
       "      <th>control_cat</th>\n",
       "    </tr>\n",
       "  </thead>\n",
       "  <tbody>\n",
       "    <tr>\n",
       "      <th>3003</th>\n",
       "      <td>32.02842</td>\n",
       "      <td>1.328794e+07</td>\n",
       "      <td>17.29818</td>\n",
       "      <td>7.176661e+06</td>\n",
       "      <td>28.571428</td>\n",
       "      <td>21.428572</td>\n",
       "      <td>32.692307</td>\n",
       "      <td>46.153847</td>\n",
       "      <td>45.192307</td>\n",
       "      <td>593</td>\n",
       "      <td>31273.894238</td>\n",
       "      <td>25.359452</td>\n",
       "      <td>presidential unitary republic</td>\n",
       "      <td>low</td>\n",
       "    </tr>\n",
       "    <tr>\n",
       "      <th>1889</th>\n",
       "      <td>5.14846</td>\n",
       "      <td>5.352779e+05</td>\n",
       "      <td>10.96788</td>\n",
       "      <td>1.140315e+06</td>\n",
       "      <td>59.701492</td>\n",
       "      <td>35.978836</td>\n",
       "      <td>57.653061</td>\n",
       "      <td>46.938774</td>\n",
       "      <td>56.435642</td>\n",
       "      <td>1115</td>\n",
       "      <td>3565.630939</td>\n",
       "      <td>38.683360</td>\n",
       "      <td>presidential unitary republic</td>\n",
       "      <td>medium-high</td>\n",
       "    </tr>\n",
       "    <tr>\n",
       "      <th>445</th>\n",
       "      <td>11.52177</td>\n",
       "      <td>7.434219e+06</td>\n",
       "      <td>21.43991</td>\n",
       "      <td>1.383373e+07</td>\n",
       "      <td>9.478673</td>\n",
       "      <td>3.317536</td>\n",
       "      <td>1.435407</td>\n",
       "      <td>4.306220</td>\n",
       "      <td>1.895735</td>\n",
       "      <td>7225</td>\n",
       "      <td>41325.288010</td>\n",
       "      <td>139.802236</td>\n",
       "      <td>semi-presidential unitary republic</td>\n",
       "      <td>low</td>\n",
       "    </tr>\n",
       "    <tr>\n",
       "      <th>2293</th>\n",
       "      <td>6.90409</td>\n",
       "      <td>1.078487e+06</td>\n",
       "      <td>16.71459</td>\n",
       "      <td>2.610982e+06</td>\n",
       "      <td>44.334976</td>\n",
       "      <td>52.380951</td>\n",
       "      <td>33.173077</td>\n",
       "      <td>32.692307</td>\n",
       "      <td>47.115383</td>\n",
       "      <td>15</td>\n",
       "      <td>26686.554070</td>\n",
       "      <td>11.882579</td>\n",
       "      <td>presidential unitary republic</td>\n",
       "      <td>medium-low</td>\n",
       "    </tr>\n",
       "    <tr>\n",
       "      <th>1961</th>\n",
       "      <td>11.72631</td>\n",
       "      <td>1.186261e+06</td>\n",
       "      <td>15.43028</td>\n",
       "      <td>1.560962e+06</td>\n",
       "      <td>1.923077</td>\n",
       "      <td>0.485437</td>\n",
       "      <td>0.000000</td>\n",
       "      <td>0.492611</td>\n",
       "      <td>0.000000</td>\n",
       "      <td>3998</td>\n",
       "      <td>4905.427009</td>\n",
       "      <td>42.993248</td>\n",
       "      <td>semi-presidential federal republic</td>\n",
       "      <td>high</td>\n",
       "    </tr>\n",
       "    <tr>\n",
       "      <th>...</th>\n",
       "      <td>...</td>\n",
       "      <td>...</td>\n",
       "      <td>...</td>\n",
       "      <td>...</td>\n",
       "      <td>...</td>\n",
       "      <td>...</td>\n",
       "      <td>...</td>\n",
       "      <td>...</td>\n",
       "      <td>...</td>\n",
       "      <td>...</td>\n",
       "      <td>...</td>\n",
       "      <td>...</td>\n",
       "      <td>...</td>\n",
       "      <td>...</td>\n",
       "    </tr>\n",
       "    <tr>\n",
       "      <th>2313</th>\n",
       "      <td>8.17498</td>\n",
       "      <td>1.032818e+06</td>\n",
       "      <td>19.46117</td>\n",
       "      <td>2.458704e+06</td>\n",
       "      <td>9.950249</td>\n",
       "      <td>18.592964</td>\n",
       "      <td>13.775510</td>\n",
       "      <td>2.040816</td>\n",
       "      <td>0.990099</td>\n",
       "      <td>314</td>\n",
       "      <td>109811.150110</td>\n",
       "      <td>1.363823</td>\n",
       "      <td>presidential unitary republic</td>\n",
       "      <td>low</td>\n",
       "    </tr>\n",
       "    <tr>\n",
       "      <th>213</th>\n",
       "      <td>19.13317</td>\n",
       "      <td>2.726863e+06</td>\n",
       "      <td>15.48557</td>\n",
       "      <td>2.207007e+06</td>\n",
       "      <td>36.538460</td>\n",
       "      <td>54.589371</td>\n",
       "      <td>24.757282</td>\n",
       "      <td>46.116505</td>\n",
       "      <td>42.105263</td>\n",
       "      <td>338</td>\n",
       "      <td>9759.536758</td>\n",
       "      <td>74.619213</td>\n",
       "      <td>presidential unitary republic</td>\n",
       "      <td>medium-low</td>\n",
       "    </tr>\n",
       "    <tr>\n",
       "      <th>1401</th>\n",
       "      <td>2.18668</td>\n",
       "      <td>4.372578e+05</td>\n",
       "      <td>10.77306</td>\n",
       "      <td>2.154232e+06</td>\n",
       "      <td>35.576923</td>\n",
       "      <td>29.807692</td>\n",
       "      <td>30.097088</td>\n",
       "      <td>44.174759</td>\n",
       "      <td>38.942307</td>\n",
       "      <td>20</td>\n",
       "      <td>3861.963350</td>\n",
       "      <td>12.909139</td>\n",
       "      <td>semi-presidential devolved republic</td>\n",
       "      <td>medium-low</td>\n",
       "    </tr>\n",
       "    <tr>\n",
       "      <th>317</th>\n",
       "      <td>17.79255</td>\n",
       "      <td>7.836248e+05</td>\n",
       "      <td>13.05530</td>\n",
       "      <td>5.749855e+05</td>\n",
       "      <td>19.905212</td>\n",
       "      <td>4.739336</td>\n",
       "      <td>5.263158</td>\n",
       "      <td>8.133971</td>\n",
       "      <td>7.582938</td>\n",
       "      <td>182</td>\n",
       "      <td>9945.880796</td>\n",
       "      <td>20.377532</td>\n",
       "      <td>presidential unitary republic</td>\n",
       "      <td>low</td>\n",
       "    </tr>\n",
       "    <tr>\n",
       "      <th>2081</th>\n",
       "      <td>10.14744</td>\n",
       "      <td>9.134412e+05</td>\n",
       "      <td>3.25675</td>\n",
       "      <td>2.931626e+05</td>\n",
       "      <td>21.393034</td>\n",
       "      <td>10.052910</td>\n",
       "      <td>19.897959</td>\n",
       "      <td>19.897959</td>\n",
       "      <td>15.841584</td>\n",
       "      <td>380</td>\n",
       "      <td>7668.885272</td>\n",
       "      <td>81.835039</td>\n",
       "      <td>presidential unitary republic</td>\n",
       "      <td>low</td>\n",
       "    </tr>\n",
       "  </tbody>\n",
       "</table>\n",
       "<p>504 rows × 14 columns</p>\n",
       "</div>"
      ],
      "text/plain": [
       "      water_coverage  water_population  sanitation_coverage  \\\n",
       "3003        32.02842      1.328794e+07             17.29818   \n",
       "1889         5.14846      5.352779e+05             10.96788   \n",
       "445         11.52177      7.434219e+06             21.43991   \n",
       "2293         6.90409      1.078487e+06             16.71459   \n",
       "1961        11.72631      1.186261e+06             15.43028   \n",
       "...              ...               ...                  ...   \n",
       "2313         8.17498      1.032818e+06             19.46117   \n",
       "213         19.13317      2.726863e+06             15.48557   \n",
       "1401         2.18668      4.372578e+05             10.77306   \n",
       "317         17.79255      7.836248e+05             13.05530   \n",
       "2081        10.14744      9.134412e+05              3.25675   \n",
       "\n",
       "      sanitation_population  voice_and_accountability_  \\\n",
       "3003           7.176661e+06                  28.571428   \n",
       "1889           1.140315e+06                  59.701492   \n",
       "445            1.383373e+07                   9.478673   \n",
       "2293           2.610982e+06                  44.334976   \n",
       "1961           1.560962e+06                   1.923077   \n",
       "...                     ...                        ...   \n",
       "2313           2.458704e+06                   9.950249   \n",
       "213            2.207007e+06                  36.538460   \n",
       "1401           2.154232e+06                  35.576923   \n",
       "317            5.749855e+05                  19.905212   \n",
       "2081           2.931626e+05                  21.393034   \n",
       "\n",
       "      political_stability_and_absence_of_violence  government_  \\\n",
       "3003                                    21.428572    32.692307   \n",
       "1889                                    35.978836    57.653061   \n",
       "445                                      3.317536     1.435407   \n",
       "2293                                    52.380951    33.173077   \n",
       "1961                                     0.485437     0.000000   \n",
       "...                                           ...          ...   \n",
       "2313                                    18.592964    13.775510   \n",
       "213                                     54.589371    24.757282   \n",
       "1401                                    29.807692    30.097088   \n",
       "317                                      4.739336     5.263158   \n",
       "2081                                    10.052910    19.897959   \n",
       "\n",
       "      regulatory_quality  rule_of_law  applied          val_x       val_y  \\\n",
       "3003           46.153847    45.192307      593   31273.894238   25.359452   \n",
       "1889           46.938774    56.435642     1115    3565.630939   38.683360   \n",
       "445             4.306220     1.895735     7225   41325.288010  139.802236   \n",
       "2293           32.692307    47.115383       15   26686.554070   11.882579   \n",
       "1961            0.492611     0.000000     3998    4905.427009   42.993248   \n",
       "...                  ...          ...      ...            ...         ...   \n",
       "2313            2.040816     0.990099      314  109811.150110    1.363823   \n",
       "213            46.116505    42.105263      338    9759.536758   74.619213   \n",
       "1401           44.174759    38.942307       20    3861.963350   12.909139   \n",
       "317             8.133971     7.582938      182    9945.880796   20.377532   \n",
       "2081           19.897959    15.841584      380    7668.885272   81.835039   \n",
       "\n",
       "                       form_of_government  control_cat  \n",
       "3003        presidential unitary republic          low  \n",
       "1889        presidential unitary republic  medium-high  \n",
       "445    semi-presidential unitary republic          low  \n",
       "2293        presidential unitary republic   medium-low  \n",
       "1961   semi-presidential federal republic         high  \n",
       "...                                   ...          ...  \n",
       "2313        presidential unitary republic          low  \n",
       "213         presidential unitary republic   medium-low  \n",
       "1401  semi-presidential devolved republic   medium-low  \n",
       "317         presidential unitary republic          low  \n",
       "2081        presidential unitary republic          low  \n",
       "\n",
       "[504 rows x 14 columns]"
      ]
     },
     "execution_count": 70,
     "metadata": {},
     "output_type": "execute_result"
    },
    {
     "data": {
      "text/plain": [
       "array([[0., 0., 0., ..., 1., 0., 0.],\n",
       "       [0., 0., 0., ..., 0., 1., 0.],\n",
       "       [0., 0., 0., ..., 1., 0., 0.],\n",
       "       ...,\n",
       "       [0., 0., 0., ..., 0., 0., 1.],\n",
       "       [0., 0., 0., ..., 1., 0., 0.],\n",
       "       [0., 0., 0., ..., 1., 0., 0.]])"
      ]
     },
     "execution_count": 70,
     "metadata": {},
     "output_type": "execute_result"
    }
   ],
   "source": [
    "X_train\n",
    "categoricals_train_encoded"
   ]
  },
  {
   "cell_type": "code",
   "execution_count": 72,
   "metadata": {},
   "outputs": [],
   "source": [
    "X_train = np.concatenate((numericals_train_standardized,categoricals_train_encoded),axis=1)\n",
    "X_test = np.concatenate((numericals_test_standardized,categoricals_test_encoded),axis=1)"
   ]
  },
  {
   "cell_type": "code",
   "execution_count": 73,
   "metadata": {},
   "outputs": [],
   "source": [
    "def func_train_test(model): #lm= list of models\n",
    "    if model == 'LinearRegression':\n",
    "        LR = LR = linear_model.LinearRegression()\n",
    "        LR.fit(X_train,y_train)\n",
    "        score = LR.score(X_test, y_test)\n",
    "        y_pred= LR.predict(X_test)\n",
    "        return print('R2 score of LR model is: ',r2_score(y_test, y_pred),'& score is: ',score)\n",
    "    elif model == 'KNeighborsRegressor':\n",
    "        KNN = KNeighborsRegressor(n_neighbors=2)\n",
    "        KNN.fit(X_train, y_train)\n",
    "        score = KNN.score(X_test, y_test)\n",
    "        return print('KNeighborscore is: ',score)\n",
    "    elif model == 'MLPRegressor':\n",
    "        regr = MLPRegressor(random_state=1, max_iter=500).fit(X_train, y_train)\n",
    "        regr.predict(X_test)\n",
    "        MLPscore = regr.score(X_test, y_test)\n",
    "        return print('MLPscore is: ',MLPscore)\n",
    "    else:\n",
    "        return print('no model applicable')"
   ]
  },
  {
   "cell_type": "code",
   "execution_count": 74,
   "metadata": {},
   "outputs": [
    {
     "name": "stdout",
     "output_type": "stream",
     "text": [
      "R2 score of LR model is:  0.8163973899867216 & score is:  0.8163973899867216\n"
     ]
    }
   ],
   "source": [
    "func_train_test('LinearRegression')\n"
   ]
  },
  {
   "cell_type": "code",
   "execution_count": 75,
   "metadata": {},
   "outputs": [
    {
     "name": "stdout",
     "output_type": "stream",
     "text": [
      "KNeighborscore is:  0.924138043653442\n"
     ]
    }
   ],
   "source": [
    "func_train_test('KNeighborsRegressor')"
   ]
  },
  {
   "cell_type": "code",
   "execution_count": 76,
   "metadata": {},
   "outputs": [
    {
     "name": "stdout",
     "output_type": "stream",
     "text": [
      "MLPscore is:  -0.004815958474847282\n"
     ]
    },
    {
     "name": "stderr",
     "output_type": "stream",
     "text": [
      "/usr/local/Cellar/jupyterlab/3.0.12/libexec/lib/python3.9/site-packages/sklearn/neural_network/_multilayer_perceptron.py:614: ConvergenceWarning: Stochastic Optimizer: Maximum iterations (500) reached and the optimization hasn't converged yet.\n",
      "  warnings.warn(\n"
     ]
    }
   ],
   "source": [
    "func_train_test('MLPRegressor')\n"
   ]
  },
  {
   "cell_type": "code",
   "execution_count": 77,
   "metadata": {},
   "outputs": [
    {
     "data": {
      "text/plain": [
       "KNeighborsRegressor(n_neighbors=2)"
      ]
     },
     "execution_count": 77,
     "metadata": {},
     "output_type": "execute_result"
    },
    {
     "data": {
      "text/plain": [
       "KNeighborsRegressor(n_neighbors=3)"
      ]
     },
     "execution_count": 77,
     "metadata": {},
     "output_type": "execute_result"
    },
    {
     "data": {
      "text/plain": [
       "KNeighborsRegressor(n_neighbors=4)"
      ]
     },
     "execution_count": 77,
     "metadata": {},
     "output_type": "execute_result"
    },
    {
     "data": {
      "text/plain": [
       "KNeighborsRegressor()"
      ]
     },
     "execution_count": 77,
     "metadata": {},
     "output_type": "execute_result"
    },
    {
     "data": {
      "text/plain": [
       "KNeighborsRegressor(n_neighbors=6)"
      ]
     },
     "execution_count": 77,
     "metadata": {},
     "output_type": "execute_result"
    },
    {
     "data": {
      "text/plain": [
       "KNeighborsRegressor(n_neighbors=7)"
      ]
     },
     "execution_count": 77,
     "metadata": {},
     "output_type": "execute_result"
    },
    {
     "data": {
      "text/plain": [
       "KNeighborsRegressor(n_neighbors=8)"
      ]
     },
     "execution_count": 77,
     "metadata": {},
     "output_type": "execute_result"
    },
    {
     "data": {
      "text/plain": [
       "KNeighborsRegressor(n_neighbors=9)"
      ]
     },
     "execution_count": 77,
     "metadata": {},
     "output_type": "execute_result"
    },
    {
     "data": {
      "text/plain": [
       "KNeighborsRegressor(n_neighbors=10)"
      ]
     },
     "execution_count": 77,
     "metadata": {},
     "output_type": "execute_result"
    },
    {
     "data": {
      "text/plain": [
       "KNeighborsRegressor(n_neighbors=11)"
      ]
     },
     "execution_count": 77,
     "metadata": {},
     "output_type": "execute_result"
    },
    {
     "data": {
      "text/plain": [
       "KNeighborsRegressor(n_neighbors=12)"
      ]
     },
     "execution_count": 77,
     "metadata": {},
     "output_type": "execute_result"
    },
    {
     "data": {
      "text/plain": [
       "KNeighborsRegressor(n_neighbors=13)"
      ]
     },
     "execution_count": 77,
     "metadata": {},
     "output_type": "execute_result"
    },
    {
     "data": {
      "text/plain": [
       "[0.924138043653442,\n",
       " 0.9118473364294714,\n",
       " 0.8835819257468323,\n",
       " 0.8585835881475069,\n",
       " 0.8388832440940647,\n",
       " 0.8057147282662847,\n",
       " 0.7772659488849508,\n",
       " 0.7804198763603594,\n",
       " 0.7647021165974067,\n",
       " 0.7439906450343527,\n",
       " 0.7359734822438184,\n",
       " 0.728557721179651]"
      ]
     },
     "execution_count": 77,
     "metadata": {},
     "output_type": "execute_result"
    }
   ],
   "source": [
    "scores = []\n",
    "for k in range(2,14):\n",
    "    model = KNeighborsRegressor(n_neighbors=k)\n",
    "    model.fit(X_train, y_train)\n",
    "    scores.append(model.score(X_test, y_test))\n",
    "\n",
    "scores"
   ]
  },
  {
   "cell_type": "code",
   "execution_count": 78,
   "metadata": {},
   "outputs": [
    {
     "data": {
      "text/plain": [
       "<Figure size 360x720 with 0 Axes>"
      ]
     },
     "execution_count": 78,
     "metadata": {},
     "output_type": "execute_result"
    },
    {
     "data": {
      "text/plain": [
       "[<matplotlib.lines.Line2D at 0x11c0033d0>]"
      ]
     },
     "execution_count": 78,
     "metadata": {},
     "output_type": "execute_result"
    },
    {
     "data": {
      "text/plain": [
       "Text(0.5, 1.0, 'accuracy scores vs. K Value')"
      ]
     },
     "execution_count": 78,
     "metadata": {},
     "output_type": "execute_result"
    },
    {
     "data": {
      "text/plain": [
       "Text(0.5, 0, 'K')"
      ]
     },
     "execution_count": 78,
     "metadata": {},
     "output_type": "execute_result"
    },
    {
     "data": {
      "text/plain": [
       "Text(0, 0.5, 'Accuracy')"
      ]
     },
     "execution_count": 78,
     "metadata": {},
     "output_type": "execute_result"
    },
    {
     "data": {
      "image/png": "[encoded data removed]",
      "text/plain": [
       "<Figure size 360x720 with 1 Axes>"
      ]
     },
     "metadata": {
      "needs_background": "light"
     },
     "output_type": "display_data"
    }
   ],
   "source": [
    "plt.figure(figsize=(5,10))\n",
    "plt.plot(range(2,14),scores,color = 'blue', linestyle='dashed',\n",
    "         marker='o', markerfacecolor='red', markersize=10)\n",
    "plt.title('accuracy scores vs. K Value')\n",
    "plt.gca().invert_yaxis()\n",
    "plt.xlabel('K')\n",
    "plt.ylabel('Accuracy')\n"
   ]
  },
  {
   "cell_type": "code",
   "execution_count": null,
   "metadata": {},
   "outputs": [],
   "source": []
  },
  {
   "cell_type": "code",
   "execution_count": null,
   "metadata": {},
   "outputs": [],
   "source": []
  },
  {
   "cell_type": "code",
   "execution_count": null,
   "metadata": {},
   "outputs": [],
   "source": []
  },
  {
   "cell_type": "code",
   "execution_count": null,
   "metadata": {},
   "outputs": [],
   "source": []
  },
  {
   "cell_type": "code",
   "execution_count": null,
   "metadata": {},
   "outputs": [],
   "source": []
  },
  {
   "cell_type": "code",
   "execution_count": null,
   "metadata": {},
   "outputs": [],
   "source": []
  }
 ],
 "metadata": {
  "kernelspec": {
   "display_name": "Python 3",
   "language": "python",
   "name": "python3"
  },
  "language_info": {
   "codemirror_mode": {
    "name": "ipython",
    "version": 3
   },
   "file_extension": ".py",
   "mimetype": "text/x-python",
   "name": "python",
   "nbconvert_exporter": "python",
   "pygments_lexer": "ipython3",
   "version": "3.9.2"
  }
 },
 "nbformat": 4,
 "nbformat_minor": 4
}
