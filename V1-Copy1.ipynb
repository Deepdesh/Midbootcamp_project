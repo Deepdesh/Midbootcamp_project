{
 "cells": [
  {
   "cell_type": "markdown",
   "metadata": {},
   "source": [
    "# Importing relevant libraries"
   ]
  },
  {
   "cell_type": "code",
   "execution_count": 1,
   "metadata": {},
   "outputs": [],
   "source": [
    "import pandas as pd\n",
    "import numpy as np\n",
    "\n",
    "import matplotlib.pyplot as plt\n",
    "import seaborn as sns\n",
    "\n",
    "import time\n",
    "from datetime import time\n",
    "\n",
    "from sklearn.preprocessing import MinMaxScaler #map min value to 0 and max value to 1\n",
    "from sklearn.preprocessing import StandardScaler #for each value it will subtract the mean value, shifts the axis, and the ..\n",
    "from sklearn.model_selection import train_test_split\n",
    "import scipy.stats as st\n",
    "\n",
    "from sklearn.neighbors import KNeighborsRegressor\n",
    "from sklearn import linear_model\n",
    "from sklearn.metrics import r2_score\n",
    "from sklearn.neural_network import MLPRegressor\n",
    "from sklearn.datasets import make_regression\n",
    "# To make run all you ask in one cell\n",
    "from IPython.core.interactiveshell import InteractiveShell\n",
    "InteractiveShell.ast_node_interactivity = \"all\""
   ]
  },
  {
   "cell_type": "markdown",
   "metadata": {},
   "source": [
    "# Preliminary data exploration"
   ]
  },
  {
   "cell_type": "code",
   "execution_count": 2,
   "metadata": {},
   "outputs": [],
   "source": [
    "data_water= pd.read_csv(\"/Users/deshdeepak/ironhack/UNHCR/new_data/drinking_water.csv\")\n",
    "data_sanitation = pd.read_csv(\"/Users/deshdeepak/ironhack/UNHCR/new_data/sanitation.csv\")\n",
    "data_asylum = pd.read_excel(\"/Users/deshdeepak/ironhack/UNHCR/new_data/asylum_applications-2.xlsx\")\n",
    "data_refugees = pd.read_excel(\"/Users/deshdeepak/ironhack/UNHCR/new_data/demographics2.xlsx\")\n",
    "voice= pd.read_excel(\"/Users/deshdeepak/ironhack/UNHCR/new_data/Voice.xlsx\")\n",
    "political=pd.read_excel(\"/Users/deshdeepak/ironhack/UNHCR/new_data/Political.xlsx\")\n",
    "government=pd.read_excel(\"/Users/deshdeepak/ironhack/UNHCR/new_data/Government.xlsx\")\n",
    "regulatory= pd.read_excel(\"/Users/deshdeepak/ironhack/UNHCR/new_data/Regulatory.xlsx\")\n",
    "rule=pd.read_excel(\"/Users/deshdeepak/ironhack/UNHCR/new_data/Rule of Law.xlsx\")\n",
    "corruption=pd.read_excel(\"/Users/deshdeepak/ironhack/UNHCR/new_data/Control of Corruption.xlsx\")\n",
    "vih= pd.read_excel(\"/Users/deshdeepak/ironhack/UNHCR/new_data/VIH.xlsx\")\n",
    "intestinal= pd.read_excel(\"/Users/deshdeepak/ironhack/UNHCR/new_data/intestinal.xlsx\")\n"
   ]
  },
  {
   "cell_type": "code",
   "execution_count": 3,
   "metadata": {},
   "outputs": [
    {
     "data": {
      "text/plain": [
       "(3774, 8)"
      ]
     },
     "execution_count": 3,
     "metadata": {},
     "output_type": "execute_result"
    },
    {
     "data": {
      "text/plain": [
       "(3828, 8)"
      ]
     },
     "execution_count": 3,
     "metadata": {},
     "output_type": "execute_result"
    },
    {
     "data": {
      "text/plain": [
       "(13400, 3)"
      ]
     },
     "execution_count": 3,
     "metadata": {},
     "output_type": "execute_result"
    },
    {
     "data": {
      "text/plain": [
       "(9577, 3)"
      ]
     },
     "execution_count": 3,
     "metadata": {},
     "output_type": "execute_result"
    },
    {
     "data": {
      "text/plain": [
       "(864, 3)"
      ]
     },
     "execution_count": 3,
     "metadata": {},
     "output_type": "execute_result"
    },
    {
     "data": {
      "text/plain": [
       "(864, 3)"
      ]
     },
     "execution_count": 3,
     "metadata": {},
     "output_type": "execute_result"
    },
    {
     "data": {
      "text/plain": [
       "(864, 3)"
      ]
     },
     "execution_count": 3,
     "metadata": {},
     "output_type": "execute_result"
    },
    {
     "data": {
      "text/plain": [
       "(864, 3)"
      ]
     },
     "execution_count": 3,
     "metadata": {},
     "output_type": "execute_result"
    },
    {
     "data": {
      "text/plain": [
       "(864, 3)"
      ]
     },
     "execution_count": 3,
     "metadata": {},
     "output_type": "execute_result"
    },
    {
     "data": {
      "text/plain": [
       "(864, 3)"
      ]
     },
     "execution_count": 3,
     "metadata": {},
     "output_type": "execute_result"
    },
    {
     "data": {
      "text/plain": [
       "(880, 3)"
      ]
     },
     "execution_count": 3,
     "metadata": {},
     "output_type": "execute_result"
    },
    {
     "data": {
      "text/plain": [
       "(864, 3)"
      ]
     },
     "execution_count": 3,
     "metadata": {},
     "output_type": "execute_result"
    }
   ],
   "source": [
    "data_water.shape\n",
    "data_sanitation.shape\n",
    "data_asylum.shape\n",
    "data_refugees.shape\n",
    "voice.shape\n",
    "political.shape\n",
    "government.shape\n",
    "regulatory.shape\n",
    "rule.shape\n",
    "corruption.shape\n",
    "vih.shape\n",
    "intestinal.shape"
   ]
  },
  {
   "cell_type": "code",
   "execution_count": 4,
   "metadata": {},
   "outputs": [
    {
     "name": "stdout",
     "output_type": "stream",
     "text": [
      "<class 'pandas.core.frame.DataFrame'>\n",
      "RangeIndex: 3774 entries, 0 to 3773\n",
      "Data columns (total 8 columns):\n",
      " #   Column          Non-Null Count  Dtype  \n",
      "---  ------          --------------  -----  \n",
      " 0   ISO3            3774 non-null   object \n",
      " 1   Country         3774 non-null   object \n",
      " 2   Residence Type  3774 non-null   object \n",
      " 3   Service Type    3774 non-null   object \n",
      " 4   Year            3774 non-null   int64  \n",
      " 5   Coverage        3774 non-null   float64\n",
      " 6   Population      3774 non-null   float64\n",
      " 7   Service level   3774 non-null   object \n",
      "dtypes: float64(2), int64(1), object(5)\n",
      "memory usage: 236.0+ KB\n",
      "<class 'pandas.core.frame.DataFrame'>\n",
      "RangeIndex: 3828 entries, 0 to 3827\n",
      "Data columns (total 8 columns):\n",
      " #   Column          Non-Null Count  Dtype  \n",
      "---  ------          --------------  -----  \n",
      " 0   ISO3            3828 non-null   object \n",
      " 1   Country         3828 non-null   object \n",
      " 2   Residence Type  3828 non-null   object \n",
      " 3   Service Type    3828 non-null   object \n",
      " 4   Year            3828 non-null   int64  \n",
      " 5   Coverage        3828 non-null   float64\n",
      " 6   Population      3828 non-null   float64\n",
      " 7   Service level   3828 non-null   object \n",
      "dtypes: float64(2), int64(1), object(5)\n",
      "memory usage: 239.4+ KB\n",
      "<class 'pandas.core.frame.DataFrame'>\n",
      "RangeIndex: 13400 entries, 0 to 13399\n",
      "Data columns (total 3 columns):\n",
      " #   Column             Non-Null Count  Dtype \n",
      "---  ------             --------------  ----- \n",
      " 0   Year               13400 non-null  int64 \n",
      " 1   Country of origin  13400 non-null  object\n",
      " 2   applied            13400 non-null  int64 \n",
      "dtypes: int64(2), object(1)\n",
      "memory usage: 314.2+ KB\n",
      "<class 'pandas.core.frame.DataFrame'>\n",
      "RangeIndex: 9577 entries, 0 to 9576\n",
      "Data columns (total 3 columns):\n",
      " #   Column             Non-Null Count  Dtype \n",
      "---  ------             --------------  ----- \n",
      " 0   Year               9577 non-null   int64 \n",
      " 1   Country of origin  9577 non-null   object\n",
      " 2   Total              9577 non-null   int64 \n",
      "dtypes: int64(2), object(1)\n",
      "memory usage: 224.6+ KB\n",
      "<class 'pandas.core.frame.DataFrame'>\n",
      "RangeIndex: 864 entries, 0 to 863\n",
      "Data columns (total 3 columns):\n",
      " #   Column                     Non-Null Count  Dtype  \n",
      "---  ------                     --------------  -----  \n",
      " 0   Country                    864 non-null    object \n",
      " 1   Year                       864 non-null    int64  \n",
      " 2   Voice and Accountability   855 non-null    float64\n",
      "dtypes: float64(1), int64(1), object(1)\n",
      "memory usage: 20.4+ KB\n",
      "<class 'pandas.core.frame.DataFrame'>\n",
      "RangeIndex: 864 entries, 0 to 863\n",
      "Data columns (total 3 columns):\n",
      " #   Column                                       Non-Null Count  Dtype  \n",
      "---  ------                                       --------------  -----  \n",
      " 0   Country                                      864 non-null    object \n",
      " 1   Year                                         864 non-null    int64  \n",
      " 2   Political Stability and Absence of Violence  855 non-null    float64\n",
      "dtypes: float64(1), int64(1), object(1)\n",
      "memory usage: 20.4+ KB\n",
      "<class 'pandas.core.frame.DataFrame'>\n",
      "RangeIndex: 864 entries, 0 to 863\n",
      "Data columns (total 3 columns):\n",
      " #   Column       Non-Null Count  Dtype  \n",
      "---  ------       --------------  -----  \n",
      " 0   Country      864 non-null    object \n",
      " 1   Year         864 non-null    int64  \n",
      " 2   Government   855 non-null    float64\n",
      "dtypes: float64(1), int64(1), object(1)\n",
      "memory usage: 20.4+ KB\n",
      "<class 'pandas.core.frame.DataFrame'>\n",
      "RangeIndex: 864 entries, 0 to 863\n",
      "Data columns (total 3 columns):\n",
      " #   Column              Non-Null Count  Dtype  \n",
      "---  ------              --------------  -----  \n",
      " 0   Country             864 non-null    object \n",
      " 1   Year                864 non-null    int64  \n",
      " 2   Regulatory Quality  855 non-null    float64\n",
      "dtypes: float64(1), int64(1), object(1)\n",
      "memory usage: 20.4+ KB\n",
      "<class 'pandas.core.frame.DataFrame'>\n",
      "RangeIndex: 864 entries, 0 to 863\n",
      "Data columns (total 3 columns):\n",
      " #   Column       Non-Null Count  Dtype  \n",
      "---  ------       --------------  -----  \n",
      " 0   Country      864 non-null    object \n",
      " 1   Year         864 non-null    int64  \n",
      " 2   Rule of Law  855 non-null    float64\n",
      "dtypes: float64(1), int64(1), object(1)\n",
      "memory usage: 20.4+ KB\n",
      "<class 'pandas.core.frame.DataFrame'>\n",
      "RangeIndex: 864 entries, 0 to 863\n",
      "Data columns (total 3 columns):\n",
      " #   Column                 Non-Null Count  Dtype  \n",
      "---  ------                 --------------  -----  \n",
      " 0   Country                864 non-null    object \n",
      " 1   Year                   864 non-null    int64  \n",
      " 2   Control of Corruption  856 non-null    float64\n",
      "dtypes: float64(1), int64(1), object(1)\n",
      "memory usage: 20.4+ KB\n",
      "<class 'pandas.core.frame.DataFrame'>\n",
      "RangeIndex: 880 entries, 0 to 879\n",
      "Data columns (total 3 columns):\n",
      " #   Column         Non-Null Count  Dtype  \n",
      "---  ------         --------------  -----  \n",
      " 0   location_name  880 non-null    object \n",
      " 1   year           880 non-null    int64  \n",
      " 2   val            880 non-null    float64\n",
      "dtypes: float64(1), int64(1), object(1)\n",
      "memory usage: 20.8+ KB\n",
      "<class 'pandas.core.frame.DataFrame'>\n",
      "RangeIndex: 864 entries, 0 to 863\n",
      "Data columns (total 3 columns):\n",
      " #   Column         Non-Null Count  Dtype  \n",
      "---  ------         --------------  -----  \n",
      " 0   location_name  864 non-null    object \n",
      " 1   year           864 non-null    int64  \n",
      " 2   val            864 non-null    float64\n",
      "dtypes: float64(1), int64(1), object(1)\n",
      "memory usage: 20.4+ KB\n"
     ]
    }
   ],
   "source": [
    "data_water.info()\n",
    "data_sanitation.info()\n",
    "data_asylum.info()\n",
    "data_refugees.info()\n",
    "voice.info()\n",
    "political.info()\n",
    "government.info()\n",
    "regulatory.info()\n",
    "rule.info()\n",
    "corruption.info()\n",
    "vih.info()\n",
    "intestinal.info()"
   ]
  },
  {
   "cell_type": "code",
   "execution_count": 5,
   "metadata": {},
   "outputs": [],
   "source": [
    "data_water = data_water.rename(columns={'Coverage':'water_coverage','Population':'water_population'})\n",
    "data_sanitation= data_sanitation.rename(columns={'Coverage':'sanitation_coverage','Population':'sanitation_population'})\n",
    "\n",
    "\n",
    "data_water.columns = data_water.columns.str.replace(' ','_')\n",
    "data_water.columns = data_water.columns.str.lower()\n",
    "\n",
    "data_sanitation.columns = data_sanitation.columns.str.replace(' ','_')\n",
    "data_sanitation.columns = data_sanitation.columns.str.lower()\n",
    "\n",
    "data_asylum.columns = data_asylum.columns.str.replace(' ','_')\n",
    "data_asylum.columns = data_asylum.columns.str.lower()\n",
    "\n",
    "data_refugees.columns = data_refugees.columns.str.replace(' ','_')\n",
    "data_refugees.columns = data_refugees.columns.str.lower()\n",
    "\n",
    "voice.columns = voice.columns.str.replace(' ','_')\n",
    "voice.columns = voice.columns.str.lower()\n",
    "\n",
    "government.columns = government.columns.str.replace(' ','_')\n",
    "government.columns = government.columns.str.lower()\n",
    "\n",
    "political.columns = political.columns.str.replace(' ','_')\n",
    "political.columns = political.columns.str.lower()\n",
    "\n",
    "regulatory.columns = regulatory.columns.str.replace(' ','_')\n",
    "regulatory.columns = regulatory.columns.str.lower()\n",
    "\n",
    "rule.columns = rule.columns.str.replace(' ','_')\n",
    "rule.columns = rule.columns.str.lower()\n",
    "\n",
    "corruption.columns = corruption.columns.str.replace(' ','_')\n",
    "corruption.columns = corruption.columns.str.lower()\n",
    "\n",
    "vih.columns = vih.columns.str.replace(' ','_')\n",
    "vih.columns = vih.columns.str.lower()\n",
    "\n",
    "intestinal.columns = intestinal.columns.str.replace(' ','_')\n",
    "intestinal.columns = intestinal.columns.str.lower()"
   ]
  },
  {
   "cell_type": "code",
   "execution_count": 6,
   "metadata": {},
   "outputs": [],
   "source": [
    "data_water = data_water.drop(['iso3','residence_type','service_type'], axis = 1)\n",
    "data_sanitation = data_sanitation.drop(['iso3','residence_type','service_type'], axis = 1)"
   ]
  },
  {
   "cell_type": "code",
   "execution_count": 7,
   "metadata": {},
   "outputs": [],
   "source": [
    "data1 = pd.merge(left = data_water, #this is a table\n",
    "                                 right = data_sanitation, #this is a table\n",
    "                                 how = 'right',  #how do we merge\n",
    "                                 left_on = [\"country\",\"year\",\"service_level\"], \n",
    "                                 right_on= [\"country\",\"year\",\"service_level\"])"
   ]
  },
  {
   "cell_type": "code",
   "execution_count": 8,
   "metadata": {},
   "outputs": [],
   "source": [
    "data_asylum= data_asylum.groupby(by=['country_of_origin','year']).agg({'applied':sum}).reset_index()\n",
    "data_refugees= data_refugees.groupby(by=['country_of_origin','year']).agg({'total':sum}).reset_index()\n"
   ]
  },
  {
   "cell_type": "code",
   "execution_count": 9,
   "metadata": {},
   "outputs": [],
   "source": [
    "data = pd.merge(left = voice, #this is a table\n",
    "                                 right = political, #this is a table\n",
    "                                 how = 'inner',  #how do we merge\n",
    "                                 left_on = [\"country\",\"year\"], \n",
    "                                 right_on= [\"country\",\"year\"])\n",
    "\n",
    "data2 = pd.merge(left = data, #this is a table\n",
    "                                 right = government, #this is a table\n",
    "                                 how = 'inner',  #how do we merge\n",
    "                                 left_on = [\"country\",\"year\"], \n",
    "                                 right_on= [\"country\",\"year\"])\n",
    "data3 = pd.merge(left = data2, #this is a table\n",
    "                                 right = regulatory, #this is a table\n",
    "                                 how = 'inner',  #how do we merge\n",
    "                                 left_on = [\"country\",\"year\"], \n",
    "                                 right_on= [\"country\",\"year\"])\n",
    "data4 = pd.merge(left = data3, #this is a table\n",
    "                                 right = rule, #this is a table\n",
    "                                 how = 'inner',  #how do we merge\n",
    "                                 left_on = [\"country\",\"year\"], \n",
    "                                 right_on= [\"country\",\"year\"])\n",
    "data5 = pd.merge(left = data4, #this is a table\n",
    "                                 right = corruption, #this is a table\n",
    "                                 how = 'inner',  #how do we merge\n",
    "                                 left_on = [\"country\",\"year\"], \n",
    "                                 right_on= [\"country\",\"year\"])\n",
    "\n",
    "data6 = pd.merge(left = data5, #this is a table\n",
    "                                 right = data_asylum, #this is a table\n",
    "                                 how = 'inner',  #how do we merge\n",
    "                                 left_on = [\"country\",\"year\"], \n",
    "                                 right_on= [\"country_of_origin\",\"year\"])\n",
    "\n",
    "data7 = pd.merge(left = data6, #this is a table\n",
    "                                 right = data_refugees, #this is a table\n",
    "                                 how = 'inner',  #how do we merge\n",
    "                                 left_on = [\"country\",\"year\"], \n",
    "                                 right_on= [\"country_of_origin\",\"year\"])\n",
    "\n",
    "data8 = pd.merge(left = data7, #this is a table\n",
    "                                 right = vih, #this is a table\n",
    "                                 how = 'inner',  #how do we merge\n",
    "                                 left_on = [\"country\",\"year\"], \n",
    "                                 right_on= [\"location_name\",\"year\"])\n",
    "\n",
    "data9 = pd.merge(left = data8, #this is a table\n",
    "                                 right = intestinal, #this is a table\n",
    "                                 how = 'inner',  #how do we merge\n",
    "                                 left_on = [\"country\",\"year\"], \n",
    "                                 right_on= [\"location_name\",\"year\"])\n",
    "\n",
    "data10 = pd.merge(left = data1, #this is a table\n",
    "                                 right = data9, #this is a table\n",
    "                                 how = 'inner',  #how do we merge\n",
    "                                 left_on = [\"country\",\"year\"], \n",
    "                                 right_on= [\"country\",\"year\"])\n"
   ]
  },
  {
   "cell_type": "code",
   "execution_count": 10,
   "metadata": {},
   "outputs": [
    {
     "data": {
      "text/html": [
       "<div>\n",
       "<style scoped>\n",
       "    .dataframe tbody tr th:only-of-type {\n",
       "        vertical-align: middle;\n",
       "    }\n",
       "\n",
       "    .dataframe tbody tr th {\n",
       "        vertical-align: top;\n",
       "    }\n",
       "\n",
       "    .dataframe thead th {\n",
       "        text-align: right;\n",
       "    }\n",
       "</style>\n",
       "<table border=\"1\" class=\"dataframe\">\n",
       "  <thead>\n",
       "    <tr style=\"text-align: right;\">\n",
       "      <th></th>\n",
       "      <th>country</th>\n",
       "      <th>year</th>\n",
       "      <th>water_coverage</th>\n",
       "      <th>water_population</th>\n",
       "      <th>service_level</th>\n",
       "      <th>sanitation_coverage</th>\n",
       "      <th>sanitation_population</th>\n",
       "      <th>voice_and_accountability_</th>\n",
       "      <th>political_stability_and_absence_of_violence</th>\n",
       "      <th>government_</th>\n",
       "      <th>...</th>\n",
       "      <th>rule_of_law</th>\n",
       "      <th>control_of_corruption</th>\n",
       "      <th>country_of_origin_x</th>\n",
       "      <th>applied</th>\n",
       "      <th>country_of_origin_y</th>\n",
       "      <th>total</th>\n",
       "      <th>location_name_x</th>\n",
       "      <th>val_x</th>\n",
       "      <th>location_name_y</th>\n",
       "      <th>val_y</th>\n",
       "    </tr>\n",
       "  </thead>\n",
       "  <tbody>\n",
       "    <tr>\n",
       "      <th>0</th>\n",
       "      <td>Angola</td>\n",
       "      <td>2002</td>\n",
       "      <td>43.37680</td>\n",
       "      <td>7.622452e+06</td>\n",
       "      <td>At least basic</td>\n",
       "      <td>30.42247</td>\n",
       "      <td>5.346033e+06</td>\n",
       "      <td>12.935324</td>\n",
       "      <td>9.523809</td>\n",
       "      <td>8.163265</td>\n",
       "      <td>...</td>\n",
       "      <td>2.970297</td>\n",
       "      <td>6.565657</td>\n",
       "      <td>Angola</td>\n",
       "      <td>5758</td>\n",
       "      <td>Angola</td>\n",
       "      <td>15744</td>\n",
       "      <td>Angola</td>\n",
       "      <td>8796.521342</td>\n",
       "      <td>Angola</td>\n",
       "      <td>171.346316</td>\n",
       "    </tr>\n",
       "    <tr>\n",
       "      <th>1</th>\n",
       "      <td>Angola</td>\n",
       "      <td>2002</td>\n",
       "      <td>20.01438</td>\n",
       "      <td>3.517056e+06</td>\n",
       "      <td>Limited service</td>\n",
       "      <td>12.41406</td>\n",
       "      <td>2.181480e+06</td>\n",
       "      <td>12.935324</td>\n",
       "      <td>9.523809</td>\n",
       "      <td>8.163265</td>\n",
       "      <td>...</td>\n",
       "      <td>2.970297</td>\n",
       "      <td>6.565657</td>\n",
       "      <td>Angola</td>\n",
       "      <td>5758</td>\n",
       "      <td>Angola</td>\n",
       "      <td>15744</td>\n",
       "      <td>Angola</td>\n",
       "      <td>8796.521342</td>\n",
       "      <td>Angola</td>\n",
       "      <td>171.346316</td>\n",
       "    </tr>\n",
       "    <tr>\n",
       "      <th>2</th>\n",
       "      <td>Angola</td>\n",
       "      <td>2002</td>\n",
       "      <td>NaN</td>\n",
       "      <td>NaN</td>\n",
       "      <td>Open defecation</td>\n",
       "      <td>39.95439</td>\n",
       "      <td>7.021044e+06</td>\n",
       "      <td>12.935324</td>\n",
       "      <td>9.523809</td>\n",
       "      <td>8.163265</td>\n",
       "      <td>...</td>\n",
       "      <td>2.970297</td>\n",
       "      <td>6.565657</td>\n",
       "      <td>Angola</td>\n",
       "      <td>5758</td>\n",
       "      <td>Angola</td>\n",
       "      <td>15744</td>\n",
       "      <td>Angola</td>\n",
       "      <td>8796.521342</td>\n",
       "      <td>Angola</td>\n",
       "      <td>171.346316</td>\n",
       "    </tr>\n",
       "    <tr>\n",
       "      <th>3</th>\n",
       "      <td>Angola</td>\n",
       "      <td>2002</td>\n",
       "      <td>9.14162</td>\n",
       "      <td>1.606424e+06</td>\n",
       "      <td>Unimproved</td>\n",
       "      <td>17.20908</td>\n",
       "      <td>3.024091e+06</td>\n",
       "      <td>12.935324</td>\n",
       "      <td>9.523809</td>\n",
       "      <td>8.163265</td>\n",
       "      <td>...</td>\n",
       "      <td>2.970297</td>\n",
       "      <td>6.565657</td>\n",
       "      <td>Angola</td>\n",
       "      <td>5758</td>\n",
       "      <td>Angola</td>\n",
       "      <td>15744</td>\n",
       "      <td>Angola</td>\n",
       "      <td>8796.521342</td>\n",
       "      <td>Angola</td>\n",
       "      <td>171.346316</td>\n",
       "    </tr>\n",
       "    <tr>\n",
       "      <th>4</th>\n",
       "      <td>Angola</td>\n",
       "      <td>2003</td>\n",
       "      <td>44.36387</td>\n",
       "      <td>8.075720e+06</td>\n",
       "      <td>At least basic</td>\n",
       "      <td>31.85606</td>\n",
       "      <td>5.798876e+06</td>\n",
       "      <td>10.945273</td>\n",
       "      <td>19.597990</td>\n",
       "      <td>9.183674</td>\n",
       "      <td>...</td>\n",
       "      <td>4.455446</td>\n",
       "      <td>5.555555</td>\n",
       "      <td>Angola</td>\n",
       "      <td>4035</td>\n",
       "      <td>Angola</td>\n",
       "      <td>14057</td>\n",
       "      <td>Angola</td>\n",
       "      <td>9819.589107</td>\n",
       "      <td>Angola</td>\n",
       "      <td>164.473562</td>\n",
       "    </tr>\n",
       "    <tr>\n",
       "      <th>5</th>\n",
       "      <td>Angola</td>\n",
       "      <td>2003</td>\n",
       "      <td>19.40718</td>\n",
       "      <td>3.532760e+06</td>\n",
       "      <td>Limited service</td>\n",
       "      <td>12.98003</td>\n",
       "      <td>2.362802e+06</td>\n",
       "      <td>10.945273</td>\n",
       "      <td>19.597990</td>\n",
       "      <td>9.183674</td>\n",
       "      <td>...</td>\n",
       "      <td>4.455446</td>\n",
       "      <td>5.555555</td>\n",
       "      <td>Angola</td>\n",
       "      <td>4035</td>\n",
       "      <td>Angola</td>\n",
       "      <td>14057</td>\n",
       "      <td>Angola</td>\n",
       "      <td>9819.589107</td>\n",
       "      <td>Angola</td>\n",
       "      <td>164.473562</td>\n",
       "    </tr>\n",
       "    <tr>\n",
       "      <th>6</th>\n",
       "      <td>Angola</td>\n",
       "      <td>2003</td>\n",
       "      <td>NaN</td>\n",
       "      <td>NaN</td>\n",
       "      <td>Open defecation</td>\n",
       "      <td>38.48665</td>\n",
       "      <td>7.005867e+06</td>\n",
       "      <td>10.945273</td>\n",
       "      <td>19.597990</td>\n",
       "      <td>9.183674</td>\n",
       "      <td>...</td>\n",
       "      <td>4.455446</td>\n",
       "      <td>5.555555</td>\n",
       "      <td>Angola</td>\n",
       "      <td>4035</td>\n",
       "      <td>Angola</td>\n",
       "      <td>14057</td>\n",
       "      <td>Angola</td>\n",
       "      <td>9819.589107</td>\n",
       "      <td>Angola</td>\n",
       "      <td>164.473562</td>\n",
       "    </tr>\n",
       "    <tr>\n",
       "      <th>7</th>\n",
       "      <td>Angola</td>\n",
       "      <td>2003</td>\n",
       "      <td>9.67336</td>\n",
       "      <td>1.760877e+06</td>\n",
       "      <td>Unimproved</td>\n",
       "      <td>16.67727</td>\n",
       "      <td>3.035825e+06</td>\n",
       "      <td>10.945273</td>\n",
       "      <td>19.597990</td>\n",
       "      <td>9.183674</td>\n",
       "      <td>...</td>\n",
       "      <td>4.455446</td>\n",
       "      <td>5.555555</td>\n",
       "      <td>Angola</td>\n",
       "      <td>4035</td>\n",
       "      <td>Angola</td>\n",
       "      <td>14057</td>\n",
       "      <td>Angola</td>\n",
       "      <td>9819.589107</td>\n",
       "      <td>Angola</td>\n",
       "      <td>164.473562</td>\n",
       "    </tr>\n",
       "    <tr>\n",
       "      <th>8</th>\n",
       "      <td>Angola</td>\n",
       "      <td>2004</td>\n",
       "      <td>45.35134</td>\n",
       "      <td>8.555854e+06</td>\n",
       "      <td>At least basic</td>\n",
       "      <td>33.29039</td>\n",
       "      <td>6.280471e+06</td>\n",
       "      <td>11.538462</td>\n",
       "      <td>16.504854</td>\n",
       "      <td>6.403941</td>\n",
       "      <td>...</td>\n",
       "      <td>5.741627</td>\n",
       "      <td>7.804878</td>\n",
       "      <td>Angola</td>\n",
       "      <td>4004</td>\n",
       "      <td>Angola</td>\n",
       "      <td>11940</td>\n",
       "      <td>Angola</td>\n",
       "      <td>10853.375345</td>\n",
       "      <td>Angola</td>\n",
       "      <td>166.662138</td>\n",
       "    </tr>\n",
       "    <tr>\n",
       "      <th>9</th>\n",
       "      <td>Angola</td>\n",
       "      <td>2004</td>\n",
       "      <td>18.79056</td>\n",
       "      <td>3.544974e+06</td>\n",
       "      <td>Limited service</td>\n",
       "      <td>13.55016</td>\n",
       "      <td>2.556334e+06</td>\n",
       "      <td>11.538462</td>\n",
       "      <td>16.504854</td>\n",
       "      <td>6.403941</td>\n",
       "      <td>...</td>\n",
       "      <td>5.741627</td>\n",
       "      <td>7.804878</td>\n",
       "      <td>Angola</td>\n",
       "      <td>4004</td>\n",
       "      <td>Angola</td>\n",
       "      <td>11940</td>\n",
       "      <td>Angola</td>\n",
       "      <td>10853.375345</td>\n",
       "      <td>Angola</td>\n",
       "      <td>166.662138</td>\n",
       "    </tr>\n",
       "    <tr>\n",
       "      <th>10</th>\n",
       "      <td>Angola</td>\n",
       "      <td>2004</td>\n",
       "      <td>NaN</td>\n",
       "      <td>NaN</td>\n",
       "      <td>Open defecation</td>\n",
       "      <td>37.01114</td>\n",
       "      <td>6.982417e+06</td>\n",
       "      <td>11.538462</td>\n",
       "      <td>16.504854</td>\n",
       "      <td>6.403941</td>\n",
       "      <td>...</td>\n",
       "      <td>5.741627</td>\n",
       "      <td>7.804878</td>\n",
       "      <td>Angola</td>\n",
       "      <td>4004</td>\n",
       "      <td>Angola</td>\n",
       "      <td>11940</td>\n",
       "      <td>Angola</td>\n",
       "      <td>10853.375345</td>\n",
       "      <td>Angola</td>\n",
       "      <td>166.662138</td>\n",
       "    </tr>\n",
       "    <tr>\n",
       "      <th>11</th>\n",
       "      <td>Angola</td>\n",
       "      <td>2004</td>\n",
       "      <td>10.21838</td>\n",
       "      <td>1.927771e+06</td>\n",
       "      <td>Unimproved</td>\n",
       "      <td>16.14831</td>\n",
       "      <td>3.046494e+06</td>\n",
       "      <td>11.538462</td>\n",
       "      <td>16.504854</td>\n",
       "      <td>6.403941</td>\n",
       "      <td>...</td>\n",
       "      <td>5.741627</td>\n",
       "      <td>7.804878</td>\n",
       "      <td>Angola</td>\n",
       "      <td>4004</td>\n",
       "      <td>Angola</td>\n",
       "      <td>11940</td>\n",
       "      <td>Angola</td>\n",
       "      <td>10853.375345</td>\n",
       "      <td>Angola</td>\n",
       "      <td>166.662138</td>\n",
       "    </tr>\n",
       "    <tr>\n",
       "      <th>12</th>\n",
       "      <td>Angola</td>\n",
       "      <td>2005</td>\n",
       "      <td>46.33602</td>\n",
       "      <td>9.059869e+06</td>\n",
       "      <td>At least basic</td>\n",
       "      <td>34.72264</td>\n",
       "      <td>6.789158e+06</td>\n",
       "      <td>12.019231</td>\n",
       "      <td>21.359222</td>\n",
       "      <td>12.254902</td>\n",
       "      <td>...</td>\n",
       "      <td>7.177033</td>\n",
       "      <td>7.317073</td>\n",
       "      <td>Angola</td>\n",
       "      <td>3168</td>\n",
       "      <td>Angola</td>\n",
       "      <td>12003</td>\n",
       "      <td>Angola</td>\n",
       "      <td>11756.413023</td>\n",
       "      <td>Angola</td>\n",
       "      <td>157.578053</td>\n",
       "    </tr>\n",
       "    <tr>\n",
       "      <th>13</th>\n",
       "      <td>Angola</td>\n",
       "      <td>2005</td>\n",
       "      <td>18.16428</td>\n",
       "      <td>3.551578e+06</td>\n",
       "      <td>Limited service</td>\n",
       "      <td>14.12307</td>\n",
       "      <td>2.761419e+06</td>\n",
       "      <td>12.019231</td>\n",
       "      <td>21.359222</td>\n",
       "      <td>12.254902</td>\n",
       "      <td>...</td>\n",
       "      <td>7.177033</td>\n",
       "      <td>7.317073</td>\n",
       "      <td>Angola</td>\n",
       "      <td>3168</td>\n",
       "      <td>Angola</td>\n",
       "      <td>12003</td>\n",
       "      <td>Angola</td>\n",
       "      <td>11756.413023</td>\n",
       "      <td>Angola</td>\n",
       "      <td>157.578053</td>\n",
       "    </tr>\n",
       "    <tr>\n",
       "      <th>14</th>\n",
       "      <td>Angola</td>\n",
       "      <td>2005</td>\n",
       "      <td>NaN</td>\n",
       "      <td>NaN</td>\n",
       "      <td>Open defecation</td>\n",
       "      <td>35.53137</td>\n",
       "      <td>6.947286e+06</td>\n",
       "      <td>12.019231</td>\n",
       "      <td>21.359222</td>\n",
       "      <td>12.254902</td>\n",
       "      <td>...</td>\n",
       "      <td>7.177033</td>\n",
       "      <td>7.317073</td>\n",
       "      <td>Angola</td>\n",
       "      <td>3168</td>\n",
       "      <td>Angola</td>\n",
       "      <td>12003</td>\n",
       "      <td>Angola</td>\n",
       "      <td>11756.413023</td>\n",
       "      <td>Angola</td>\n",
       "      <td>157.578053</td>\n",
       "    </tr>\n",
       "    <tr>\n",
       "      <th>15</th>\n",
       "      <td>Angola</td>\n",
       "      <td>2005</td>\n",
       "      <td>10.77752</td>\n",
       "      <td>2.107279e+06</td>\n",
       "      <td>Unimproved</td>\n",
       "      <td>15.62292</td>\n",
       "      <td>3.054678e+06</td>\n",
       "      <td>12.019231</td>\n",
       "      <td>21.359222</td>\n",
       "      <td>12.254902</td>\n",
       "      <td>...</td>\n",
       "      <td>7.177033</td>\n",
       "      <td>7.317073</td>\n",
       "      <td>Angola</td>\n",
       "      <td>3168</td>\n",
       "      <td>Angola</td>\n",
       "      <td>12003</td>\n",
       "      <td>Angola</td>\n",
       "      <td>11756.413023</td>\n",
       "      <td>Angola</td>\n",
       "      <td>157.578053</td>\n",
       "    </tr>\n",
       "    <tr>\n",
       "      <th>16</th>\n",
       "      <td>Angola</td>\n",
       "      <td>2006</td>\n",
       "      <td>47.15023</td>\n",
       "      <td>9.553767e+06</td>\n",
       "      <td>At least basic</td>\n",
       "      <td>35.99128</td>\n",
       "      <td>7.292697e+06</td>\n",
       "      <td>11.538462</td>\n",
       "      <td>27.536232</td>\n",
       "      <td>5.853659</td>\n",
       "      <td>...</td>\n",
       "      <td>9.090909</td>\n",
       "      <td>7.804878</td>\n",
       "      <td>Angola</td>\n",
       "      <td>2525</td>\n",
       "      <td>Angola</td>\n",
       "      <td>9807</td>\n",
       "      <td>Angola</td>\n",
       "      <td>12350.510032</td>\n",
       "      <td>Angola</td>\n",
       "      <td>144.658240</td>\n",
       "    </tr>\n",
       "    <tr>\n",
       "      <th>17</th>\n",
       "      <td>Angola</td>\n",
       "      <td>2006</td>\n",
       "      <td>17.50080</td>\n",
       "      <td>3.546083e+06</td>\n",
       "      <td>Limited service</td>\n",
       "      <td>14.61931</td>\n",
       "      <td>2.962223e+06</td>\n",
       "      <td>11.538462</td>\n",
       "      <td>27.536232</td>\n",
       "      <td>5.853659</td>\n",
       "      <td>...</td>\n",
       "      <td>9.090909</td>\n",
       "      <td>7.804878</td>\n",
       "      <td>Angola</td>\n",
       "      <td>2525</td>\n",
       "      <td>Angola</td>\n",
       "      <td>9807</td>\n",
       "      <td>Angola</td>\n",
       "      <td>12350.510032</td>\n",
       "      <td>Angola</td>\n",
       "      <td>144.658240</td>\n",
       "    </tr>\n",
       "    <tr>\n",
       "      <th>18</th>\n",
       "      <td>Angola</td>\n",
       "      <td>2006</td>\n",
       "      <td>NaN</td>\n",
       "      <td>NaN</td>\n",
       "      <td>Open defecation</td>\n",
       "      <td>34.24673</td>\n",
       "      <td>6.939208e+06</td>\n",
       "      <td>11.538462</td>\n",
       "      <td>27.536232</td>\n",
       "      <td>5.853659</td>\n",
       "      <td>...</td>\n",
       "      <td>9.090909</td>\n",
       "      <td>7.804878</td>\n",
       "      <td>Angola</td>\n",
       "      <td>2525</td>\n",
       "      <td>Angola</td>\n",
       "      <td>9807</td>\n",
       "      <td>Angola</td>\n",
       "      <td>12350.510032</td>\n",
       "      <td>Angola</td>\n",
       "      <td>144.658240</td>\n",
       "    </tr>\n",
       "    <tr>\n",
       "      <th>19</th>\n",
       "      <td>Angola</td>\n",
       "      <td>2006</td>\n",
       "      <td>11.39786</td>\n",
       "      <td>2.309479e+06</td>\n",
       "      <td>Unimproved</td>\n",
       "      <td>15.14268</td>\n",
       "      <td>3.068270e+06</td>\n",
       "      <td>11.538462</td>\n",
       "      <td>27.536232</td>\n",
       "      <td>5.853659</td>\n",
       "      <td>...</td>\n",
       "      <td>9.090909</td>\n",
       "      <td>7.804878</td>\n",
       "      <td>Angola</td>\n",
       "      <td>2525</td>\n",
       "      <td>Angola</td>\n",
       "      <td>9807</td>\n",
       "      <td>Angola</td>\n",
       "      <td>12350.510032</td>\n",
       "      <td>Angola</td>\n",
       "      <td>144.658240</td>\n",
       "    </tr>\n",
       "  </tbody>\n",
       "</table>\n",
       "<p>20 rows × 21 columns</p>\n",
       "</div>"
      ],
      "text/plain": [
       "   country  year  water_coverage  water_population    service_level  \\\n",
       "0   Angola  2002        43.37680      7.622452e+06   At least basic   \n",
       "1   Angola  2002        20.01438      3.517056e+06  Limited service   \n",
       "2   Angola  2002             NaN               NaN  Open defecation   \n",
       "3   Angola  2002         9.14162      1.606424e+06       Unimproved   \n",
       "4   Angola  2003        44.36387      8.075720e+06   At least basic   \n",
       "5   Angola  2003        19.40718      3.532760e+06  Limited service   \n",
       "6   Angola  2003             NaN               NaN  Open defecation   \n",
       "7   Angola  2003         9.67336      1.760877e+06       Unimproved   \n",
       "8   Angola  2004        45.35134      8.555854e+06   At least basic   \n",
       "9   Angola  2004        18.79056      3.544974e+06  Limited service   \n",
       "10  Angola  2004             NaN               NaN  Open defecation   \n",
       "11  Angola  2004        10.21838      1.927771e+06       Unimproved   \n",
       "12  Angola  2005        46.33602      9.059869e+06   At least basic   \n",
       "13  Angola  2005        18.16428      3.551578e+06  Limited service   \n",
       "14  Angola  2005             NaN               NaN  Open defecation   \n",
       "15  Angola  2005        10.77752      2.107279e+06       Unimproved   \n",
       "16  Angola  2006        47.15023      9.553767e+06   At least basic   \n",
       "17  Angola  2006        17.50080      3.546083e+06  Limited service   \n",
       "18  Angola  2006             NaN               NaN  Open defecation   \n",
       "19  Angola  2006        11.39786      2.309479e+06       Unimproved   \n",
       "\n",
       "    sanitation_coverage  sanitation_population  voice_and_accountability_  \\\n",
       "0              30.42247           5.346033e+06                  12.935324   \n",
       "1              12.41406           2.181480e+06                  12.935324   \n",
       "2              39.95439           7.021044e+06                  12.935324   \n",
       "3              17.20908           3.024091e+06                  12.935324   \n",
       "4              31.85606           5.798876e+06                  10.945273   \n",
       "5              12.98003           2.362802e+06                  10.945273   \n",
       "6              38.48665           7.005867e+06                  10.945273   \n",
       "7              16.67727           3.035825e+06                  10.945273   \n",
       "8              33.29039           6.280471e+06                  11.538462   \n",
       "9              13.55016           2.556334e+06                  11.538462   \n",
       "10             37.01114           6.982417e+06                  11.538462   \n",
       "11             16.14831           3.046494e+06                  11.538462   \n",
       "12             34.72264           6.789158e+06                  12.019231   \n",
       "13             14.12307           2.761419e+06                  12.019231   \n",
       "14             35.53137           6.947286e+06                  12.019231   \n",
       "15             15.62292           3.054678e+06                  12.019231   \n",
       "16             35.99128           7.292697e+06                  11.538462   \n",
       "17             14.61931           2.962223e+06                  11.538462   \n",
       "18             34.24673           6.939208e+06                  11.538462   \n",
       "19             15.14268           3.068270e+06                  11.538462   \n",
       "\n",
       "    political_stability_and_absence_of_violence  government_  ...  \\\n",
       "0                                      9.523809     8.163265  ...   \n",
       "1                                      9.523809     8.163265  ...   \n",
       "2                                      9.523809     8.163265  ...   \n",
       "3                                      9.523809     8.163265  ...   \n",
       "4                                     19.597990     9.183674  ...   \n",
       "5                                     19.597990     9.183674  ...   \n",
       "6                                     19.597990     9.183674  ...   \n",
       "7                                     19.597990     9.183674  ...   \n",
       "8                                     16.504854     6.403941  ...   \n",
       "9                                     16.504854     6.403941  ...   \n",
       "10                                    16.504854     6.403941  ...   \n",
       "11                                    16.504854     6.403941  ...   \n",
       "12                                    21.359222    12.254902  ...   \n",
       "13                                    21.359222    12.254902  ...   \n",
       "14                                    21.359222    12.254902  ...   \n",
       "15                                    21.359222    12.254902  ...   \n",
       "16                                    27.536232     5.853659  ...   \n",
       "17                                    27.536232     5.853659  ...   \n",
       "18                                    27.536232     5.853659  ...   \n",
       "19                                    27.536232     5.853659  ...   \n",
       "\n",
       "    rule_of_law  control_of_corruption  country_of_origin_x applied  \\\n",
       "0      2.970297               6.565657               Angola    5758   \n",
       "1      2.970297               6.565657               Angola    5758   \n",
       "2      2.970297               6.565657               Angola    5758   \n",
       "3      2.970297               6.565657               Angola    5758   \n",
       "4      4.455446               5.555555               Angola    4035   \n",
       "5      4.455446               5.555555               Angola    4035   \n",
       "6      4.455446               5.555555               Angola    4035   \n",
       "7      4.455446               5.555555               Angola    4035   \n",
       "8      5.741627               7.804878               Angola    4004   \n",
       "9      5.741627               7.804878               Angola    4004   \n",
       "10     5.741627               7.804878               Angola    4004   \n",
       "11     5.741627               7.804878               Angola    4004   \n",
       "12     7.177033               7.317073               Angola    3168   \n",
       "13     7.177033               7.317073               Angola    3168   \n",
       "14     7.177033               7.317073               Angola    3168   \n",
       "15     7.177033               7.317073               Angola    3168   \n",
       "16     9.090909               7.804878               Angola    2525   \n",
       "17     9.090909               7.804878               Angola    2525   \n",
       "18     9.090909               7.804878               Angola    2525   \n",
       "19     9.090909               7.804878               Angola    2525   \n",
       "\n",
       "    country_of_origin_y  total  location_name_x         val_x  \\\n",
       "0                Angola  15744           Angola   8796.521342   \n",
       "1                Angola  15744           Angola   8796.521342   \n",
       "2                Angola  15744           Angola   8796.521342   \n",
       "3                Angola  15744           Angola   8796.521342   \n",
       "4                Angola  14057           Angola   9819.589107   \n",
       "5                Angola  14057           Angola   9819.589107   \n",
       "6                Angola  14057           Angola   9819.589107   \n",
       "7                Angola  14057           Angola   9819.589107   \n",
       "8                Angola  11940           Angola  10853.375345   \n",
       "9                Angola  11940           Angola  10853.375345   \n",
       "10               Angola  11940           Angola  10853.375345   \n",
       "11               Angola  11940           Angola  10853.375345   \n",
       "12               Angola  12003           Angola  11756.413023   \n",
       "13               Angola  12003           Angola  11756.413023   \n",
       "14               Angola  12003           Angola  11756.413023   \n",
       "15               Angola  12003           Angola  11756.413023   \n",
       "16               Angola   9807           Angola  12350.510032   \n",
       "17               Angola   9807           Angola  12350.510032   \n",
       "18               Angola   9807           Angola  12350.510032   \n",
       "19               Angola   9807           Angola  12350.510032   \n",
       "\n",
       "    location_name_y       val_y  \n",
       "0            Angola  171.346316  \n",
       "1            Angola  171.346316  \n",
       "2            Angola  171.346316  \n",
       "3            Angola  171.346316  \n",
       "4            Angola  164.473562  \n",
       "5            Angola  164.473562  \n",
       "6            Angola  164.473562  \n",
       "7            Angola  164.473562  \n",
       "8            Angola  166.662138  \n",
       "9            Angola  166.662138  \n",
       "10           Angola  166.662138  \n",
       "11           Angola  166.662138  \n",
       "12           Angola  157.578053  \n",
       "13           Angola  157.578053  \n",
       "14           Angola  157.578053  \n",
       "15           Angola  157.578053  \n",
       "16           Angola  144.658240  \n",
       "17           Angola  144.658240  \n",
       "18           Angola  144.658240  \n",
       "19           Angola  144.658240  \n",
       "\n",
       "[20 rows x 21 columns]"
      ]
     },
     "execution_count": 10,
     "metadata": {},
     "output_type": "execute_result"
    }
   ],
   "source": [
    "data10.head(20)"
   ]
  },
  {
   "cell_type": "code",
   "execution_count": 11,
   "metadata": {},
   "outputs": [
    {
     "data": {
      "text/plain": [
       "Index(['country', 'year', 'water_coverage', 'water_population',\n",
       "       'service_level', 'sanitation_coverage', 'sanitation_population',\n",
       "       'voice_and_accountability_',\n",
       "       'political_stability_and_absence_of_violence', 'government_',\n",
       "       'regulatory_quality', 'rule_of_law', 'control_of_corruption',\n",
       "       'country_of_origin_x', 'applied', 'country_of_origin_y', 'total',\n",
       "       'location_name_x', 'val_x', 'location_name_y', 'val_y'],\n",
       "      dtype='object')"
      ]
     },
     "execution_count": 11,
     "metadata": {},
     "output_type": "execute_result"
    }
   ],
   "source": [
    "data10.columns"
   ]
  },
  {
   "cell_type": "code",
   "execution_count": 12,
   "metadata": {},
   "outputs": [
    {
     "data": {
      "text/html": [
       "<div>\n",
       "<style scoped>\n",
       "    .dataframe tbody tr th:only-of-type {\n",
       "        vertical-align: middle;\n",
       "    }\n",
       "\n",
       "    .dataframe tbody tr th {\n",
       "        vertical-align: top;\n",
       "    }\n",
       "\n",
       "    .dataframe thead th {\n",
       "        text-align: right;\n",
       "    }\n",
       "</style>\n",
       "<table border=\"1\" class=\"dataframe\">\n",
       "  <thead>\n",
       "    <tr style=\"text-align: right;\">\n",
       "      <th></th>\n",
       "      <th>country</th>\n",
       "      <th>year</th>\n",
       "      <th>water_coverage</th>\n",
       "      <th>water_population</th>\n",
       "      <th>service_level</th>\n",
       "      <th>sanitation_coverage</th>\n",
       "      <th>sanitation_population</th>\n",
       "      <th>voice_and_accountability_</th>\n",
       "      <th>political_stability_and_absence_of_violence</th>\n",
       "      <th>government_</th>\n",
       "      <th>regulatory_quality</th>\n",
       "      <th>rule_of_law</th>\n",
       "      <th>control_of_corruption</th>\n",
       "      <th>applied</th>\n",
       "      <th>total</th>\n",
       "      <th>val_x</th>\n",
       "      <th>val_y</th>\n",
       "    </tr>\n",
       "  </thead>\n",
       "  <tbody>\n",
       "    <tr>\n",
       "      <th>0</th>\n",
       "      <td>Angola</td>\n",
       "      <td>2002</td>\n",
       "      <td>43.37680</td>\n",
       "      <td>7.622452e+06</td>\n",
       "      <td>At least basic</td>\n",
       "      <td>30.42247</td>\n",
       "      <td>5.346033e+06</td>\n",
       "      <td>12.935324</td>\n",
       "      <td>9.523809</td>\n",
       "      <td>8.163265</td>\n",
       "      <td>6.632653</td>\n",
       "      <td>2.970297</td>\n",
       "      <td>6.565657</td>\n",
       "      <td>5758</td>\n",
       "      <td>15744</td>\n",
       "      <td>8796.521342</td>\n",
       "      <td>171.346316</td>\n",
       "    </tr>\n",
       "    <tr>\n",
       "      <th>1</th>\n",
       "      <td>Angola</td>\n",
       "      <td>2002</td>\n",
       "      <td>20.01438</td>\n",
       "      <td>3.517056e+06</td>\n",
       "      <td>Limited service</td>\n",
       "      <td>12.41406</td>\n",
       "      <td>2.181480e+06</td>\n",
       "      <td>12.935324</td>\n",
       "      <td>9.523809</td>\n",
       "      <td>8.163265</td>\n",
       "      <td>6.632653</td>\n",
       "      <td>2.970297</td>\n",
       "      <td>6.565657</td>\n",
       "      <td>5758</td>\n",
       "      <td>15744</td>\n",
       "      <td>8796.521342</td>\n",
       "      <td>171.346316</td>\n",
       "    </tr>\n",
       "    <tr>\n",
       "      <th>2</th>\n",
       "      <td>Angola</td>\n",
       "      <td>2002</td>\n",
       "      <td>NaN</td>\n",
       "      <td>NaN</td>\n",
       "      <td>Open defecation</td>\n",
       "      <td>39.95439</td>\n",
       "      <td>7.021044e+06</td>\n",
       "      <td>12.935324</td>\n",
       "      <td>9.523809</td>\n",
       "      <td>8.163265</td>\n",
       "      <td>6.632653</td>\n",
       "      <td>2.970297</td>\n",
       "      <td>6.565657</td>\n",
       "      <td>5758</td>\n",
       "      <td>15744</td>\n",
       "      <td>8796.521342</td>\n",
       "      <td>171.346316</td>\n",
       "    </tr>\n",
       "    <tr>\n",
       "      <th>3</th>\n",
       "      <td>Angola</td>\n",
       "      <td>2002</td>\n",
       "      <td>9.14162</td>\n",
       "      <td>1.606424e+06</td>\n",
       "      <td>Unimproved</td>\n",
       "      <td>17.20908</td>\n",
       "      <td>3.024091e+06</td>\n",
       "      <td>12.935324</td>\n",
       "      <td>9.523809</td>\n",
       "      <td>8.163265</td>\n",
       "      <td>6.632653</td>\n",
       "      <td>2.970297</td>\n",
       "      <td>6.565657</td>\n",
       "      <td>5758</td>\n",
       "      <td>15744</td>\n",
       "      <td>8796.521342</td>\n",
       "      <td>171.346316</td>\n",
       "    </tr>\n",
       "    <tr>\n",
       "      <th>4</th>\n",
       "      <td>Angola</td>\n",
       "      <td>2003</td>\n",
       "      <td>44.36387</td>\n",
       "      <td>8.075720e+06</td>\n",
       "      <td>At least basic</td>\n",
       "      <td>31.85606</td>\n",
       "      <td>5.798876e+06</td>\n",
       "      <td>10.945273</td>\n",
       "      <td>19.597990</td>\n",
       "      <td>9.183674</td>\n",
       "      <td>11.224490</td>\n",
       "      <td>4.455446</td>\n",
       "      <td>5.555555</td>\n",
       "      <td>4035</td>\n",
       "      <td>14057</td>\n",
       "      <td>9819.589107</td>\n",
       "      <td>164.473562</td>\n",
       "    </tr>\n",
       "  </tbody>\n",
       "</table>\n",
       "</div>"
      ],
      "text/plain": [
       "  country  year  water_coverage  water_population    service_level  \\\n",
       "0  Angola  2002        43.37680      7.622452e+06   At least basic   \n",
       "1  Angola  2002        20.01438      3.517056e+06  Limited service   \n",
       "2  Angola  2002             NaN               NaN  Open defecation   \n",
       "3  Angola  2002         9.14162      1.606424e+06       Unimproved   \n",
       "4  Angola  2003        44.36387      8.075720e+06   At least basic   \n",
       "\n",
       "   sanitation_coverage  sanitation_population  voice_and_accountability_  \\\n",
       "0             30.42247           5.346033e+06                  12.935324   \n",
       "1             12.41406           2.181480e+06                  12.935324   \n",
       "2             39.95439           7.021044e+06                  12.935324   \n",
       "3             17.20908           3.024091e+06                  12.935324   \n",
       "4             31.85606           5.798876e+06                  10.945273   \n",
       "\n",
       "   political_stability_and_absence_of_violence  government_  \\\n",
       "0                                     9.523809     8.163265   \n",
       "1                                     9.523809     8.163265   \n",
       "2                                     9.523809     8.163265   \n",
       "3                                     9.523809     8.163265   \n",
       "4                                    19.597990     9.183674   \n",
       "\n",
       "   regulatory_quality  rule_of_law  control_of_corruption  applied  total  \\\n",
       "0            6.632653     2.970297               6.565657     5758  15744   \n",
       "1            6.632653     2.970297               6.565657     5758  15744   \n",
       "2            6.632653     2.970297               6.565657     5758  15744   \n",
       "3            6.632653     2.970297               6.565657     5758  15744   \n",
       "4           11.224490     4.455446               5.555555     4035  14057   \n",
       "\n",
       "         val_x       val_y  \n",
       "0  8796.521342  171.346316  \n",
       "1  8796.521342  171.346316  \n",
       "2  8796.521342  171.346316  \n",
       "3  8796.521342  171.346316  \n",
       "4  9819.589107  164.473562  "
      ]
     },
     "execution_count": 12,
     "metadata": {},
     "output_type": "execute_result"
    }
   ],
   "source": [
    "data= data10.drop(['country_of_origin_x','country_of_origin_y','location_name_x','location_name_y'],axis=1)\n",
    "data.head()\n",
    "#### Rename columns"
   ]
  },
  {
   "cell_type": "code",
   "execution_count": 13,
   "metadata": {},
   "outputs": [
    {
     "data": {
      "text/html": [
       "<div>\n",
       "<style scoped>\n",
       "    .dataframe tbody tr th:only-of-type {\n",
       "        vertical-align: middle;\n",
       "    }\n",
       "\n",
       "    .dataframe tbody tr th {\n",
       "        vertical-align: top;\n",
       "    }\n",
       "\n",
       "    .dataframe thead th {\n",
       "        text-align: right;\n",
       "    }\n",
       "</style>\n",
       "<table border=\"1\" class=\"dataframe\">\n",
       "  <thead>\n",
       "    <tr style=\"text-align: right;\">\n",
       "      <th></th>\n",
       "      <th>country</th>\n",
       "      <th>year</th>\n",
       "      <th>water_coverage</th>\n",
       "      <th>water_population</th>\n",
       "      <th>service_level</th>\n",
       "      <th>sanitation_coverage</th>\n",
       "      <th>sanitation_population</th>\n",
       "      <th>voice_and_accountability_</th>\n",
       "      <th>political_stability_and_absence_of_violence</th>\n",
       "      <th>government_</th>\n",
       "      <th>regulatory_quality</th>\n",
       "      <th>rule_of_law</th>\n",
       "      <th>control_of_corruption</th>\n",
       "      <th>applied</th>\n",
       "      <th>total</th>\n",
       "      <th>val_x</th>\n",
       "      <th>val_y</th>\n",
       "    </tr>\n",
       "  </thead>\n",
       "  <tbody>\n",
       "    <tr>\n",
       "      <th>1</th>\n",
       "      <td>Angola</td>\n",
       "      <td>2002</td>\n",
       "      <td>20.01438</td>\n",
       "      <td>3.517056e+06</td>\n",
       "      <td>Limited service</td>\n",
       "      <td>12.41406</td>\n",
       "      <td>2.181480e+06</td>\n",
       "      <td>12.935324</td>\n",
       "      <td>9.523809</td>\n",
       "      <td>8.163265</td>\n",
       "      <td>6.632653</td>\n",
       "      <td>2.970297</td>\n",
       "      <td>6.565657</td>\n",
       "      <td>5758</td>\n",
       "      <td>15744</td>\n",
       "      <td>8796.521342</td>\n",
       "      <td>171.346316</td>\n",
       "    </tr>\n",
       "    <tr>\n",
       "      <th>5</th>\n",
       "      <td>Angola</td>\n",
       "      <td>2003</td>\n",
       "      <td>19.40718</td>\n",
       "      <td>3.532760e+06</td>\n",
       "      <td>Limited service</td>\n",
       "      <td>12.98003</td>\n",
       "      <td>2.362802e+06</td>\n",
       "      <td>10.945273</td>\n",
       "      <td>19.597990</td>\n",
       "      <td>9.183674</td>\n",
       "      <td>11.224490</td>\n",
       "      <td>4.455446</td>\n",
       "      <td>5.555555</td>\n",
       "      <td>4035</td>\n",
       "      <td>14057</td>\n",
       "      <td>9819.589107</td>\n",
       "      <td>164.473562</td>\n",
       "    </tr>\n",
       "    <tr>\n",
       "      <th>9</th>\n",
       "      <td>Angola</td>\n",
       "      <td>2004</td>\n",
       "      <td>18.79056</td>\n",
       "      <td>3.544974e+06</td>\n",
       "      <td>Limited service</td>\n",
       "      <td>13.55016</td>\n",
       "      <td>2.556334e+06</td>\n",
       "      <td>11.538462</td>\n",
       "      <td>16.504854</td>\n",
       "      <td>6.403941</td>\n",
       "      <td>9.852217</td>\n",
       "      <td>5.741627</td>\n",
       "      <td>7.804878</td>\n",
       "      <td>4004</td>\n",
       "      <td>11940</td>\n",
       "      <td>10853.375345</td>\n",
       "      <td>166.662138</td>\n",
       "    </tr>\n",
       "    <tr>\n",
       "      <th>13</th>\n",
       "      <td>Angola</td>\n",
       "      <td>2005</td>\n",
       "      <td>18.16428</td>\n",
       "      <td>3.551578e+06</td>\n",
       "      <td>Limited service</td>\n",
       "      <td>14.12307</td>\n",
       "      <td>2.761419e+06</td>\n",
       "      <td>12.019231</td>\n",
       "      <td>21.359222</td>\n",
       "      <td>12.254902</td>\n",
       "      <td>10.294118</td>\n",
       "      <td>7.177033</td>\n",
       "      <td>7.317073</td>\n",
       "      <td>3168</td>\n",
       "      <td>12003</td>\n",
       "      <td>11756.413023</td>\n",
       "      <td>157.578053</td>\n",
       "    </tr>\n",
       "    <tr>\n",
       "      <th>17</th>\n",
       "      <td>Angola</td>\n",
       "      <td>2006</td>\n",
       "      <td>17.50080</td>\n",
       "      <td>3.546083e+06</td>\n",
       "      <td>Limited service</td>\n",
       "      <td>14.61931</td>\n",
       "      <td>2.962223e+06</td>\n",
       "      <td>11.538462</td>\n",
       "      <td>27.536232</td>\n",
       "      <td>5.853659</td>\n",
       "      <td>13.235294</td>\n",
       "      <td>9.090909</td>\n",
       "      <td>7.804878</td>\n",
       "      <td>2525</td>\n",
       "      <td>9807</td>\n",
       "      <td>12350.510032</td>\n",
       "      <td>144.658240</td>\n",
       "    </tr>\n",
       "  </tbody>\n",
       "</table>\n",
       "</div>"
      ],
      "text/plain": [
       "   country  year  water_coverage  water_population    service_level  \\\n",
       "1   Angola  2002        20.01438      3.517056e+06  Limited service   \n",
       "5   Angola  2003        19.40718      3.532760e+06  Limited service   \n",
       "9   Angola  2004        18.79056      3.544974e+06  Limited service   \n",
       "13  Angola  2005        18.16428      3.551578e+06  Limited service   \n",
       "17  Angola  2006        17.50080      3.546083e+06  Limited service   \n",
       "\n",
       "    sanitation_coverage  sanitation_population  voice_and_accountability_  \\\n",
       "1              12.41406           2.181480e+06                  12.935324   \n",
       "5              12.98003           2.362802e+06                  10.945273   \n",
       "9              13.55016           2.556334e+06                  11.538462   \n",
       "13             14.12307           2.761419e+06                  12.019231   \n",
       "17             14.61931           2.962223e+06                  11.538462   \n",
       "\n",
       "    political_stability_and_absence_of_violence  government_  \\\n",
       "1                                      9.523809     8.163265   \n",
       "5                                     19.597990     9.183674   \n",
       "9                                     16.504854     6.403941   \n",
       "13                                    21.359222    12.254902   \n",
       "17                                    27.536232     5.853659   \n",
       "\n",
       "    regulatory_quality  rule_of_law  control_of_corruption  applied  total  \\\n",
       "1             6.632653     2.970297               6.565657     5758  15744   \n",
       "5            11.224490     4.455446               5.555555     4035  14057   \n",
       "9             9.852217     5.741627               7.804878     4004  11940   \n",
       "13           10.294118     7.177033               7.317073     3168  12003   \n",
       "17           13.235294     9.090909               7.804878     2525   9807   \n",
       "\n",
       "           val_x       val_y  \n",
       "1    8796.521342  171.346316  \n",
       "5    9819.589107  164.473562  \n",
       "9   10853.375345  166.662138  \n",
       "13  11756.413023  157.578053  \n",
       "17  12350.510032  144.658240  "
      ]
     },
     "execution_count": 13,
     "metadata": {},
     "output_type": "execute_result"
    },
    {
     "data": {
      "text/plain": [
       "(632, 17)"
      ]
     },
     "execution_count": 13,
     "metadata": {},
     "output_type": "execute_result"
    }
   ],
   "source": [
    "data = data[data['service_level']== 'Limited service']\n",
    "data.head()\n",
    "data.shape\n",
    "data.to_csv('datav1.csv')"
   ]
  },
  {
   "cell_type": "code",
   "execution_count": 14,
   "metadata": {},
   "outputs": [
    {
     "data": {
      "text/plain": [
       "country                                        0\n",
       "year                                           0\n",
       "water_coverage                                 0\n",
       "water_population                               0\n",
       "service_level                                  0\n",
       "sanitation_coverage                            0\n",
       "sanitation_population                          0\n",
       "voice_and_accountability_                      0\n",
       "political_stability_and_absence_of_violence    0\n",
       "government_                                    0\n",
       "regulatory_quality                             0\n",
       "rule_of_law                                    0\n",
       "control_of_corruption                          0\n",
       "applied                                        0\n",
       "total                                          0\n",
       "val_x                                          0\n",
       "val_y                                          0\n",
       "dtype: int64"
      ]
     },
     "execution_count": 14,
     "metadata": {},
     "output_type": "execute_result"
    }
   ],
   "source": [
    "data.isna().sum()"
   ]
  },
  {
   "cell_type": "markdown",
   "metadata": {},
   "source": [
    "# Exploratory Data Analysis"
   ]
  },
  {
   "cell_type": "code",
   "execution_count": 15,
   "metadata": {},
   "outputs": [
    {
     "data": {
      "text/html": [
       "<div>\n",
       "<style scoped>\n",
       "    .dataframe tbody tr th:only-of-type {\n",
       "        vertical-align: middle;\n",
       "    }\n",
       "\n",
       "    .dataframe tbody tr th {\n",
       "        vertical-align: top;\n",
       "    }\n",
       "\n",
       "    .dataframe thead th {\n",
       "        text-align: right;\n",
       "    }\n",
       "</style>\n",
       "<table border=\"1\" class=\"dataframe\">\n",
       "  <thead>\n",
       "    <tr style=\"text-align: right;\">\n",
       "      <th></th>\n",
       "      <th>year</th>\n",
       "      <th>water_coverage</th>\n",
       "      <th>water_population</th>\n",
       "      <th>sanitation_coverage</th>\n",
       "      <th>sanitation_population</th>\n",
       "      <th>voice_and_accountability_</th>\n",
       "      <th>political_stability_and_absence_of_violence</th>\n",
       "      <th>government_</th>\n",
       "      <th>regulatory_quality</th>\n",
       "      <th>rule_of_law</th>\n",
       "      <th>control_of_corruption</th>\n",
       "      <th>applied</th>\n",
       "      <th>total</th>\n",
       "      <th>val_x</th>\n",
       "      <th>val_y</th>\n",
       "    </tr>\n",
       "  </thead>\n",
       "  <tbody>\n",
       "    <tr>\n",
       "      <th>year</th>\n",
       "      <td>1.000000</td>\n",
       "      <td>0.137700</td>\n",
       "      <td>0.121675</td>\n",
       "      <td>0.119382</td>\n",
       "      <td>0.066350</td>\n",
       "      <td>0.055185</td>\n",
       "      <td>-0.079554</td>\n",
       "      <td>-0.064726</td>\n",
       "      <td>-0.022996</td>\n",
       "      <td>0.022505</td>\n",
       "      <td>-0.018897</td>\n",
       "      <td>0.192240</td>\n",
       "      <td>0.171281</td>\n",
       "      <td>-0.121014</td>\n",
       "      <td>-0.067208</td>\n",
       "    </tr>\n",
       "    <tr>\n",
       "      <th>water_coverage</th>\n",
       "      <td>0.137700</td>\n",
       "      <td>1.000000</td>\n",
       "      <td>0.507689</td>\n",
       "      <td>-0.085429</td>\n",
       "      <td>-0.021375</td>\n",
       "      <td>-0.295598</td>\n",
       "      <td>-0.338546</td>\n",
       "      <td>-0.109605</td>\n",
       "      <td>-0.102242</td>\n",
       "      <td>-0.127525</td>\n",
       "      <td>-0.128403</td>\n",
       "      <td>0.097018</td>\n",
       "      <td>0.252296</td>\n",
       "      <td>-0.042667</td>\n",
       "      <td>0.002115</td>\n",
       "    </tr>\n",
       "    <tr>\n",
       "      <th>water_population</th>\n",
       "      <td>0.121675</td>\n",
       "      <td>0.507689</td>\n",
       "      <td>1.000000</td>\n",
       "      <td>-0.018892</td>\n",
       "      <td>0.562117</td>\n",
       "      <td>-0.133537</td>\n",
       "      <td>-0.404536</td>\n",
       "      <td>0.022546</td>\n",
       "      <td>-0.044213</td>\n",
       "      <td>-0.042942</td>\n",
       "      <td>-0.141400</td>\n",
       "      <td>0.270267</td>\n",
       "      <td>0.200820</td>\n",
       "      <td>0.291323</td>\n",
       "      <td>0.542640</td>\n",
       "    </tr>\n",
       "    <tr>\n",
       "      <th>sanitation_coverage</th>\n",
       "      <td>0.119382</td>\n",
       "      <td>-0.085429</td>\n",
       "      <td>-0.018892</td>\n",
       "      <td>1.000000</td>\n",
       "      <td>0.369214</td>\n",
       "      <td>0.308300</td>\n",
       "      <td>0.121478</td>\n",
       "      <td>0.044308</td>\n",
       "      <td>0.155951</td>\n",
       "      <td>0.110624</td>\n",
       "      <td>0.029175</td>\n",
       "      <td>0.075050</td>\n",
       "      <td>0.042657</td>\n",
       "      <td>0.085807</td>\n",
       "      <td>0.096317</td>\n",
       "    </tr>\n",
       "    <tr>\n",
       "      <th>sanitation_population</th>\n",
       "      <td>0.066350</td>\n",
       "      <td>-0.021375</td>\n",
       "      <td>0.562117</td>\n",
       "      <td>0.369214</td>\n",
       "      <td>1.000000</td>\n",
       "      <td>0.175524</td>\n",
       "      <td>-0.219056</td>\n",
       "      <td>0.083026</td>\n",
       "      <td>0.108700</td>\n",
       "      <td>0.008215</td>\n",
       "      <td>-0.055471</td>\n",
       "      <td>0.453156</td>\n",
       "      <td>0.196920</td>\n",
       "      <td>0.449685</td>\n",
       "      <td>0.838208</td>\n",
       "    </tr>\n",
       "    <tr>\n",
       "      <th>voice_and_accountability_</th>\n",
       "      <td>0.055185</td>\n",
       "      <td>-0.295598</td>\n",
       "      <td>-0.133537</td>\n",
       "      <td>0.308300</td>\n",
       "      <td>0.175524</td>\n",
       "      <td>1.000000</td>\n",
       "      <td>0.466933</td>\n",
       "      <td>0.598491</td>\n",
       "      <td>0.683965</td>\n",
       "      <td>0.701746</td>\n",
       "      <td>0.586537</td>\n",
       "      <td>-0.165462</td>\n",
       "      <td>-0.281488</td>\n",
       "      <td>0.310961</td>\n",
       "      <td>-0.007396</td>\n",
       "    </tr>\n",
       "    <tr>\n",
       "      <th>political_stability_and_absence_of_violence</th>\n",
       "      <td>-0.079554</td>\n",
       "      <td>-0.338546</td>\n",
       "      <td>-0.404536</td>\n",
       "      <td>0.121478</td>\n",
       "      <td>-0.219056</td>\n",
       "      <td>0.466933</td>\n",
       "      <td>1.000000</td>\n",
       "      <td>0.466665</td>\n",
       "      <td>0.511631</td>\n",
       "      <td>0.601173</td>\n",
       "      <td>0.532819</td>\n",
       "      <td>-0.335121</td>\n",
       "      <td>-0.337302</td>\n",
       "      <td>-0.047941</td>\n",
       "      <td>-0.264832</td>\n",
       "    </tr>\n",
       "    <tr>\n",
       "      <th>government_</th>\n",
       "      <td>-0.064726</td>\n",
       "      <td>-0.109605</td>\n",
       "      <td>0.022546</td>\n",
       "      <td>0.044308</td>\n",
       "      <td>0.083026</td>\n",
       "      <td>0.598491</td>\n",
       "      <td>0.466665</td>\n",
       "      <td>1.000000</td>\n",
       "      <td>0.873250</td>\n",
       "      <td>0.885759</td>\n",
       "      <td>0.826984</td>\n",
       "      <td>-0.186267</td>\n",
       "      <td>-0.267223</td>\n",
       "      <td>0.325282</td>\n",
       "      <td>-0.097589</td>\n",
       "    </tr>\n",
       "    <tr>\n",
       "      <th>regulatory_quality</th>\n",
       "      <td>-0.022996</td>\n",
       "      <td>-0.102242</td>\n",
       "      <td>-0.044213</td>\n",
       "      <td>0.155951</td>\n",
       "      <td>0.108700</td>\n",
       "      <td>0.683965</td>\n",
       "      <td>0.511631</td>\n",
       "      <td>0.873250</td>\n",
       "      <td>1.000000</td>\n",
       "      <td>0.873939</td>\n",
       "      <td>0.763004</td>\n",
       "      <td>-0.231386</td>\n",
       "      <td>-0.313159</td>\n",
       "      <td>0.323619</td>\n",
       "      <td>-0.085939</td>\n",
       "    </tr>\n",
       "    <tr>\n",
       "      <th>rule_of_law</th>\n",
       "      <td>0.022505</td>\n",
       "      <td>-0.127525</td>\n",
       "      <td>-0.042942</td>\n",
       "      <td>0.110624</td>\n",
       "      <td>0.008215</td>\n",
       "      <td>0.701746</td>\n",
       "      <td>0.601173</td>\n",
       "      <td>0.885759</td>\n",
       "      <td>0.873939</td>\n",
       "      <td>1.000000</td>\n",
       "      <td>0.864904</td>\n",
       "      <td>-0.238186</td>\n",
       "      <td>-0.308006</td>\n",
       "      <td>0.181923</td>\n",
       "      <td>-0.144901</td>\n",
       "    </tr>\n",
       "    <tr>\n",
       "      <th>control_of_corruption</th>\n",
       "      <td>-0.018897</td>\n",
       "      <td>-0.128403</td>\n",
       "      <td>-0.141400</td>\n",
       "      <td>0.029175</td>\n",
       "      <td>-0.055471</td>\n",
       "      <td>0.586537</td>\n",
       "      <td>0.532819</td>\n",
       "      <td>0.826984</td>\n",
       "      <td>0.763004</td>\n",
       "      <td>0.864904</td>\n",
       "      <td>1.000000</td>\n",
       "      <td>-0.185266</td>\n",
       "      <td>-0.240469</td>\n",
       "      <td>0.137038</td>\n",
       "      <td>-0.157329</td>\n",
       "    </tr>\n",
       "    <tr>\n",
       "      <th>applied</th>\n",
       "      <td>0.192240</td>\n",
       "      <td>0.097018</td>\n",
       "      <td>0.270267</td>\n",
       "      <td>0.075050</td>\n",
       "      <td>0.453156</td>\n",
       "      <td>-0.165462</td>\n",
       "      <td>-0.335121</td>\n",
       "      <td>-0.186267</td>\n",
       "      <td>-0.231386</td>\n",
       "      <td>-0.238186</td>\n",
       "      <td>-0.185266</td>\n",
       "      <td>1.000000</td>\n",
       "      <td>0.830152</td>\n",
       "      <td>-0.000604</td>\n",
       "      <td>0.389125</td>\n",
       "    </tr>\n",
       "    <tr>\n",
       "      <th>total</th>\n",
       "      <td>0.171281</td>\n",
       "      <td>0.252296</td>\n",
       "      <td>0.200820</td>\n",
       "      <td>0.042657</td>\n",
       "      <td>0.196920</td>\n",
       "      <td>-0.281488</td>\n",
       "      <td>-0.337302</td>\n",
       "      <td>-0.267223</td>\n",
       "      <td>-0.313159</td>\n",
       "      <td>-0.308006</td>\n",
       "      <td>-0.240469</td>\n",
       "      <td>0.830152</td>\n",
       "      <td>1.000000</td>\n",
       "      <td>-0.057013</td>\n",
       "      <td>0.162393</td>\n",
       "    </tr>\n",
       "    <tr>\n",
       "      <th>val_x</th>\n",
       "      <td>-0.121014</td>\n",
       "      <td>-0.042667</td>\n",
       "      <td>0.291323</td>\n",
       "      <td>0.085807</td>\n",
       "      <td>0.449685</td>\n",
       "      <td>0.310961</td>\n",
       "      <td>-0.047941</td>\n",
       "      <td>0.325282</td>\n",
       "      <td>0.323619</td>\n",
       "      <td>0.181923</td>\n",
       "      <td>0.137038</td>\n",
       "      <td>-0.000604</td>\n",
       "      <td>-0.057013</td>\n",
       "      <td>1.000000</td>\n",
       "      <td>0.275130</td>\n",
       "    </tr>\n",
       "    <tr>\n",
       "      <th>val_y</th>\n",
       "      <td>-0.067208</td>\n",
       "      <td>0.002115</td>\n",
       "      <td>0.542640</td>\n",
       "      <td>0.096317</td>\n",
       "      <td>0.838208</td>\n",
       "      <td>-0.007396</td>\n",
       "      <td>-0.264832</td>\n",
       "      <td>-0.097589</td>\n",
       "      <td>-0.085939</td>\n",
       "      <td>-0.144901</td>\n",
       "      <td>-0.157329</td>\n",
       "      <td>0.389125</td>\n",
       "      <td>0.162393</td>\n",
       "      <td>0.275130</td>\n",
       "      <td>1.000000</td>\n",
       "    </tr>\n",
       "  </tbody>\n",
       "</table>\n",
       "</div>"
      ],
      "text/plain": [
       "                                                 year  water_coverage  \\\n",
       "year                                         1.000000        0.137700   \n",
       "water_coverage                               0.137700        1.000000   \n",
       "water_population                             0.121675        0.507689   \n",
       "sanitation_coverage                          0.119382       -0.085429   \n",
       "sanitation_population                        0.066350       -0.021375   \n",
       "voice_and_accountability_                    0.055185       -0.295598   \n",
       "political_stability_and_absence_of_violence -0.079554       -0.338546   \n",
       "government_                                 -0.064726       -0.109605   \n",
       "regulatory_quality                          -0.022996       -0.102242   \n",
       "rule_of_law                                  0.022505       -0.127525   \n",
       "control_of_corruption                       -0.018897       -0.128403   \n",
       "applied                                      0.192240        0.097018   \n",
       "total                                        0.171281        0.252296   \n",
       "val_x                                       -0.121014       -0.042667   \n",
       "val_y                                       -0.067208        0.002115   \n",
       "\n",
       "                                             water_population  \\\n",
       "year                                                 0.121675   \n",
       "water_coverage                                       0.507689   \n",
       "water_population                                     1.000000   \n",
       "sanitation_coverage                                 -0.018892   \n",
       "sanitation_population                                0.562117   \n",
       "voice_and_accountability_                           -0.133537   \n",
       "political_stability_and_absence_of_violence         -0.404536   \n",
       "government_                                          0.022546   \n",
       "regulatory_quality                                  -0.044213   \n",
       "rule_of_law                                         -0.042942   \n",
       "control_of_corruption                               -0.141400   \n",
       "applied                                              0.270267   \n",
       "total                                                0.200820   \n",
       "val_x                                                0.291323   \n",
       "val_y                                                0.542640   \n",
       "\n",
       "                                             sanitation_coverage  \\\n",
       "year                                                    0.119382   \n",
       "water_coverage                                         -0.085429   \n",
       "water_population                                       -0.018892   \n",
       "sanitation_coverage                                     1.000000   \n",
       "sanitation_population                                   0.369214   \n",
       "voice_and_accountability_                               0.308300   \n",
       "political_stability_and_absence_of_violence             0.121478   \n",
       "government_                                             0.044308   \n",
       "regulatory_quality                                      0.155951   \n",
       "rule_of_law                                             0.110624   \n",
       "control_of_corruption                                   0.029175   \n",
       "applied                                                 0.075050   \n",
       "total                                                   0.042657   \n",
       "val_x                                                   0.085807   \n",
       "val_y                                                   0.096317   \n",
       "\n",
       "                                             sanitation_population  \\\n",
       "year                                                      0.066350   \n",
       "water_coverage                                           -0.021375   \n",
       "water_population                                          0.562117   \n",
       "sanitation_coverage                                       0.369214   \n",
       "sanitation_population                                     1.000000   \n",
       "voice_and_accountability_                                 0.175524   \n",
       "political_stability_and_absence_of_violence              -0.219056   \n",
       "government_                                               0.083026   \n",
       "regulatory_quality                                        0.108700   \n",
       "rule_of_law                                               0.008215   \n",
       "control_of_corruption                                    -0.055471   \n",
       "applied                                                   0.453156   \n",
       "total                                                     0.196920   \n",
       "val_x                                                     0.449685   \n",
       "val_y                                                     0.838208   \n",
       "\n",
       "                                             voice_and_accountability_  \\\n",
       "year                                                          0.055185   \n",
       "water_coverage                                               -0.295598   \n",
       "water_population                                             -0.133537   \n",
       "sanitation_coverage                                           0.308300   \n",
       "sanitation_population                                         0.175524   \n",
       "voice_and_accountability_                                     1.000000   \n",
       "political_stability_and_absence_of_violence                   0.466933   \n",
       "government_                                                   0.598491   \n",
       "regulatory_quality                                            0.683965   \n",
       "rule_of_law                                                   0.701746   \n",
       "control_of_corruption                                         0.586537   \n",
       "applied                                                      -0.165462   \n",
       "total                                                        -0.281488   \n",
       "val_x                                                         0.310961   \n",
       "val_y                                                        -0.007396   \n",
       "\n",
       "                                             political_stability_and_absence_of_violence  \\\n",
       "year                                                                           -0.079554   \n",
       "water_coverage                                                                 -0.338546   \n",
       "water_population                                                               -0.404536   \n",
       "sanitation_coverage                                                             0.121478   \n",
       "sanitation_population                                                          -0.219056   \n",
       "voice_and_accountability_                                                       0.466933   \n",
       "political_stability_and_absence_of_violence                                     1.000000   \n",
       "government_                                                                     0.466665   \n",
       "regulatory_quality                                                              0.511631   \n",
       "rule_of_law                                                                     0.601173   \n",
       "control_of_corruption                                                           0.532819   \n",
       "applied                                                                        -0.335121   \n",
       "total                                                                          -0.337302   \n",
       "val_x                                                                          -0.047941   \n",
       "val_y                                                                          -0.264832   \n",
       "\n",
       "                                             government_  regulatory_quality  \\\n",
       "year                                           -0.064726           -0.022996   \n",
       "water_coverage                                 -0.109605           -0.102242   \n",
       "water_population                                0.022546           -0.044213   \n",
       "sanitation_coverage                             0.044308            0.155951   \n",
       "sanitation_population                           0.083026            0.108700   \n",
       "voice_and_accountability_                       0.598491            0.683965   \n",
       "political_stability_and_absence_of_violence     0.466665            0.511631   \n",
       "government_                                     1.000000            0.873250   \n",
       "regulatory_quality                              0.873250            1.000000   \n",
       "rule_of_law                                     0.885759            0.873939   \n",
       "control_of_corruption                           0.826984            0.763004   \n",
       "applied                                        -0.186267           -0.231386   \n",
       "total                                          -0.267223           -0.313159   \n",
       "val_x                                           0.325282            0.323619   \n",
       "val_y                                          -0.097589           -0.085939   \n",
       "\n",
       "                                             rule_of_law  \\\n",
       "year                                            0.022505   \n",
       "water_coverage                                 -0.127525   \n",
       "water_population                               -0.042942   \n",
       "sanitation_coverage                             0.110624   \n",
       "sanitation_population                           0.008215   \n",
       "voice_and_accountability_                       0.701746   \n",
       "political_stability_and_absence_of_violence     0.601173   \n",
       "government_                                     0.885759   \n",
       "regulatory_quality                              0.873939   \n",
       "rule_of_law                                     1.000000   \n",
       "control_of_corruption                           0.864904   \n",
       "applied                                        -0.238186   \n",
       "total                                          -0.308006   \n",
       "val_x                                           0.181923   \n",
       "val_y                                          -0.144901   \n",
       "\n",
       "                                             control_of_corruption   applied  \\\n",
       "year                                                     -0.018897  0.192240   \n",
       "water_coverage                                           -0.128403  0.097018   \n",
       "water_population                                         -0.141400  0.270267   \n",
       "sanitation_coverage                                       0.029175  0.075050   \n",
       "sanitation_population                                    -0.055471  0.453156   \n",
       "voice_and_accountability_                                 0.586537 -0.165462   \n",
       "political_stability_and_absence_of_violence               0.532819 -0.335121   \n",
       "government_                                               0.826984 -0.186267   \n",
       "regulatory_quality                                        0.763004 -0.231386   \n",
       "rule_of_law                                               0.864904 -0.238186   \n",
       "control_of_corruption                                     1.000000 -0.185266   \n",
       "applied                                                  -0.185266  1.000000   \n",
       "total                                                    -0.240469  0.830152   \n",
       "val_x                                                     0.137038 -0.000604   \n",
       "val_y                                                    -0.157329  0.389125   \n",
       "\n",
       "                                                total     val_x     val_y  \n",
       "year                                         0.171281 -0.121014 -0.067208  \n",
       "water_coverage                               0.252296 -0.042667  0.002115  \n",
       "water_population                             0.200820  0.291323  0.542640  \n",
       "sanitation_coverage                          0.042657  0.085807  0.096317  \n",
       "sanitation_population                        0.196920  0.449685  0.838208  \n",
       "voice_and_accountability_                   -0.281488  0.310961 -0.007396  \n",
       "political_stability_and_absence_of_violence -0.337302 -0.047941 -0.264832  \n",
       "government_                                 -0.267223  0.325282 -0.097589  \n",
       "regulatory_quality                          -0.313159  0.323619 -0.085939  \n",
       "rule_of_law                                 -0.308006  0.181923 -0.144901  \n",
       "control_of_corruption                       -0.240469  0.137038 -0.157329  \n",
       "applied                                      0.830152 -0.000604  0.389125  \n",
       "total                                        1.000000 -0.057013  0.162393  \n",
       "val_x                                       -0.057013  1.000000  0.275130  \n",
       "val_y                                        0.162393  0.275130  1.000000  "
      ]
     },
     "execution_count": 15,
     "metadata": {},
     "output_type": "execute_result"
    },
    {
     "data": {
      "image/png": "[encoded data removed]",
      "text/plain": [
       "<Figure size 720x576 with 2 Axes>"
      ]
     },
     "metadata": {
      "needs_background": "light"
     },
     "output_type": "display_data"
    }
   ],
   "source": [
    "import matplotlib.pyplot as plt\n",
    "import seaborn as sns\n",
    "corr_matrix=data.corr(method='pearson')\n",
    "corr_matrix\n",
    "\n",
    "fig, ax = plt.subplots(figsize=(10, 8))\n",
    "ax = sns.heatmap(corr_matrix, annot=True)\n",
    "plt.show()"
   ]
  },
  {
   "cell_type": "code",
   "execution_count": 16,
   "metadata": {},
   "outputs": [
    {
     "data": {
      "text/html": [
       "<div>\n",
       "<style scoped>\n",
       "    .dataframe tbody tr th:only-of-type {\n",
       "        vertical-align: middle;\n",
       "    }\n",
       "\n",
       "    .dataframe tbody tr th {\n",
       "        vertical-align: top;\n",
       "    }\n",
       "\n",
       "    .dataframe thead th {\n",
       "        text-align: right;\n",
       "    }\n",
       "</style>\n",
       "<table border=\"1\" class=\"dataframe\">\n",
       "  <thead>\n",
       "    <tr style=\"text-align: right;\">\n",
       "      <th></th>\n",
       "      <th>water_coverage</th>\n",
       "      <th>water_population</th>\n",
       "      <th>service_level</th>\n",
       "      <th>sanitation_coverage</th>\n",
       "      <th>sanitation_population</th>\n",
       "      <th>voice_and_accountability_</th>\n",
       "      <th>political_stability_and_absence_of_violence</th>\n",
       "      <th>government_</th>\n",
       "      <th>regulatory_quality</th>\n",
       "      <th>rule_of_law</th>\n",
       "      <th>control_of_corruption</th>\n",
       "      <th>applied</th>\n",
       "      <th>val_x</th>\n",
       "      <th>val_y</th>\n",
       "    </tr>\n",
       "  </thead>\n",
       "  <tbody>\n",
       "    <tr>\n",
       "      <th>1</th>\n",
       "      <td>20.01438</td>\n",
       "      <td>3.517056e+06</td>\n",
       "      <td>Limited service</td>\n",
       "      <td>12.41406</td>\n",
       "      <td>2.181480e+06</td>\n",
       "      <td>12.935324</td>\n",
       "      <td>9.523809</td>\n",
       "      <td>8.163265</td>\n",
       "      <td>6.632653</td>\n",
       "      <td>2.970297</td>\n",
       "      <td>6.565657</td>\n",
       "      <td>5758</td>\n",
       "      <td>8796.521342</td>\n",
       "      <td>171.346316</td>\n",
       "    </tr>\n",
       "    <tr>\n",
       "      <th>5</th>\n",
       "      <td>19.40718</td>\n",
       "      <td>3.532760e+06</td>\n",
       "      <td>Limited service</td>\n",
       "      <td>12.98003</td>\n",
       "      <td>2.362802e+06</td>\n",
       "      <td>10.945273</td>\n",
       "      <td>19.597990</td>\n",
       "      <td>9.183674</td>\n",
       "      <td>11.224490</td>\n",
       "      <td>4.455446</td>\n",
       "      <td>5.555555</td>\n",
       "      <td>4035</td>\n",
       "      <td>9819.589107</td>\n",
       "      <td>164.473562</td>\n",
       "    </tr>\n",
       "    <tr>\n",
       "      <th>9</th>\n",
       "      <td>18.79056</td>\n",
       "      <td>3.544974e+06</td>\n",
       "      <td>Limited service</td>\n",
       "      <td>13.55016</td>\n",
       "      <td>2.556334e+06</td>\n",
       "      <td>11.538462</td>\n",
       "      <td>16.504854</td>\n",
       "      <td>6.403941</td>\n",
       "      <td>9.852217</td>\n",
       "      <td>5.741627</td>\n",
       "      <td>7.804878</td>\n",
       "      <td>4004</td>\n",
       "      <td>10853.375345</td>\n",
       "      <td>166.662138</td>\n",
       "    </tr>\n",
       "    <tr>\n",
       "      <th>13</th>\n",
       "      <td>18.16428</td>\n",
       "      <td>3.551578e+06</td>\n",
       "      <td>Limited service</td>\n",
       "      <td>14.12307</td>\n",
       "      <td>2.761419e+06</td>\n",
       "      <td>12.019231</td>\n",
       "      <td>21.359222</td>\n",
       "      <td>12.254902</td>\n",
       "      <td>10.294118</td>\n",
       "      <td>7.177033</td>\n",
       "      <td>7.317073</td>\n",
       "      <td>3168</td>\n",
       "      <td>11756.413023</td>\n",
       "      <td>157.578053</td>\n",
       "    </tr>\n",
       "    <tr>\n",
       "      <th>17</th>\n",
       "      <td>17.50080</td>\n",
       "      <td>3.546083e+06</td>\n",
       "      <td>Limited service</td>\n",
       "      <td>14.61931</td>\n",
       "      <td>2.962223e+06</td>\n",
       "      <td>11.538462</td>\n",
       "      <td>27.536232</td>\n",
       "      <td>5.853659</td>\n",
       "      <td>13.235294</td>\n",
       "      <td>9.090909</td>\n",
       "      <td>7.804878</td>\n",
       "      <td>2525</td>\n",
       "      <td>12350.510032</td>\n",
       "      <td>144.658240</td>\n",
       "    </tr>\n",
       "  </tbody>\n",
       "</table>\n",
       "</div>"
      ],
      "text/plain": [
       "    water_coverage  water_population    service_level  sanitation_coverage  \\\n",
       "1         20.01438      3.517056e+06  Limited service             12.41406   \n",
       "5         19.40718      3.532760e+06  Limited service             12.98003   \n",
       "9         18.79056      3.544974e+06  Limited service             13.55016   \n",
       "13        18.16428      3.551578e+06  Limited service             14.12307   \n",
       "17        17.50080      3.546083e+06  Limited service             14.61931   \n",
       "\n",
       "    sanitation_population  voice_and_accountability_  \\\n",
       "1            2.181480e+06                  12.935324   \n",
       "5            2.362802e+06                  10.945273   \n",
       "9            2.556334e+06                  11.538462   \n",
       "13           2.761419e+06                  12.019231   \n",
       "17           2.962223e+06                  11.538462   \n",
       "\n",
       "    political_stability_and_absence_of_violence  government_  \\\n",
       "1                                      9.523809     8.163265   \n",
       "5                                     19.597990     9.183674   \n",
       "9                                     16.504854     6.403941   \n",
       "13                                    21.359222    12.254902   \n",
       "17                                    27.536232     5.853659   \n",
       "\n",
       "    regulatory_quality  rule_of_law  control_of_corruption  applied  \\\n",
       "1             6.632653     2.970297               6.565657     5758   \n",
       "5            11.224490     4.455446               5.555555     4035   \n",
       "9             9.852217     5.741627               7.804878     4004   \n",
       "13           10.294118     7.177033               7.317073     3168   \n",
       "17           13.235294     9.090909               7.804878     2525   \n",
       "\n",
       "           val_x       val_y  \n",
       "1    8796.521342  171.346316  \n",
       "5    9819.589107  164.473562  \n",
       "9   10853.375345  166.662138  \n",
       "13  11756.413023  157.578053  \n",
       "17  12350.510032  144.658240  "
      ]
     },
     "execution_count": 16,
     "metadata": {},
     "output_type": "execute_result"
    },
    {
     "data": {
      "text/plain": [
       "1     15744\n",
       "5     14057\n",
       "9     11940\n",
       "13    12003\n",
       "17     9807\n",
       "Name: total, dtype: int64"
      ]
     },
     "execution_count": 16,
     "metadata": {},
     "output_type": "execute_result"
    }
   ],
   "source": [
    "data = data.drop(['year','country'],axis=1)\n",
    "\n",
    "X = data.drop(['total'],axis=1)\n",
    "y = data['total']\n",
    "\n",
    "X.head(5)\n",
    "y.head(5)"
   ]
  },
  {
   "cell_type": "code",
   "execution_count": 17,
   "metadata": {},
   "outputs": [
    {
     "data": {
      "text/html": [
       "<div>\n",
       "<style scoped>\n",
       "    .dataframe tbody tr th:only-of-type {\n",
       "        vertical-align: middle;\n",
       "    }\n",
       "\n",
       "    .dataframe tbody tr th {\n",
       "        vertical-align: top;\n",
       "    }\n",
       "\n",
       "    .dataframe thead th {\n",
       "        text-align: right;\n",
       "    }\n",
       "</style>\n",
       "<table border=\"1\" class=\"dataframe\">\n",
       "  <thead>\n",
       "    <tr style=\"text-align: right;\">\n",
       "      <th></th>\n",
       "      <th>water_coverage</th>\n",
       "      <th>water_population</th>\n",
       "      <th>sanitation_coverage</th>\n",
       "      <th>sanitation_population</th>\n",
       "      <th>voice_and_accountability_</th>\n",
       "      <th>political_stability_and_absence_of_violence</th>\n",
       "      <th>government_</th>\n",
       "      <th>regulatory_quality</th>\n",
       "      <th>rule_of_law</th>\n",
       "      <th>control_of_corruption</th>\n",
       "      <th>applied</th>\n",
       "      <th>val_x</th>\n",
       "      <th>val_y</th>\n",
       "    </tr>\n",
       "  </thead>\n",
       "  <tbody>\n",
       "    <tr>\n",
       "      <th>1</th>\n",
       "      <td>20.01438</td>\n",
       "      <td>3.517056e+06</td>\n",
       "      <td>12.41406</td>\n",
       "      <td>2.181480e+06</td>\n",
       "      <td>12.935324</td>\n",
       "      <td>9.523809</td>\n",
       "      <td>8.163265</td>\n",
       "      <td>6.632653</td>\n",
       "      <td>2.970297</td>\n",
       "      <td>6.565657</td>\n",
       "      <td>5758</td>\n",
       "      <td>8796.521342</td>\n",
       "      <td>171.346316</td>\n",
       "    </tr>\n",
       "    <tr>\n",
       "      <th>5</th>\n",
       "      <td>19.40718</td>\n",
       "      <td>3.532760e+06</td>\n",
       "      <td>12.98003</td>\n",
       "      <td>2.362802e+06</td>\n",
       "      <td>10.945273</td>\n",
       "      <td>19.597990</td>\n",
       "      <td>9.183674</td>\n",
       "      <td>11.224490</td>\n",
       "      <td>4.455446</td>\n",
       "      <td>5.555555</td>\n",
       "      <td>4035</td>\n",
       "      <td>9819.589107</td>\n",
       "      <td>164.473562</td>\n",
       "    </tr>\n",
       "    <tr>\n",
       "      <th>9</th>\n",
       "      <td>18.79056</td>\n",
       "      <td>3.544974e+06</td>\n",
       "      <td>13.55016</td>\n",
       "      <td>2.556334e+06</td>\n",
       "      <td>11.538462</td>\n",
       "      <td>16.504854</td>\n",
       "      <td>6.403941</td>\n",
       "      <td>9.852217</td>\n",
       "      <td>5.741627</td>\n",
       "      <td>7.804878</td>\n",
       "      <td>4004</td>\n",
       "      <td>10853.375345</td>\n",
       "      <td>166.662138</td>\n",
       "    </tr>\n",
       "    <tr>\n",
       "      <th>13</th>\n",
       "      <td>18.16428</td>\n",
       "      <td>3.551578e+06</td>\n",
       "      <td>14.12307</td>\n",
       "      <td>2.761419e+06</td>\n",
       "      <td>12.019231</td>\n",
       "      <td>21.359222</td>\n",
       "      <td>12.254902</td>\n",
       "      <td>10.294118</td>\n",
       "      <td>7.177033</td>\n",
       "      <td>7.317073</td>\n",
       "      <td>3168</td>\n",
       "      <td>11756.413023</td>\n",
       "      <td>157.578053</td>\n",
       "    </tr>\n",
       "    <tr>\n",
       "      <th>17</th>\n",
       "      <td>17.50080</td>\n",
       "      <td>3.546083e+06</td>\n",
       "      <td>14.61931</td>\n",
       "      <td>2.962223e+06</td>\n",
       "      <td>11.538462</td>\n",
       "      <td>27.536232</td>\n",
       "      <td>5.853659</td>\n",
       "      <td>13.235294</td>\n",
       "      <td>9.090909</td>\n",
       "      <td>7.804878</td>\n",
       "      <td>2525</td>\n",
       "      <td>12350.510032</td>\n",
       "      <td>144.658240</td>\n",
       "    </tr>\n",
       "  </tbody>\n",
       "</table>\n",
       "</div>"
      ],
      "text/plain": [
       "    water_coverage  water_population  sanitation_coverage  \\\n",
       "1         20.01438      3.517056e+06             12.41406   \n",
       "5         19.40718      3.532760e+06             12.98003   \n",
       "9         18.79056      3.544974e+06             13.55016   \n",
       "13        18.16428      3.551578e+06             14.12307   \n",
       "17        17.50080      3.546083e+06             14.61931   \n",
       "\n",
       "    sanitation_population  voice_and_accountability_  \\\n",
       "1            2.181480e+06                  12.935324   \n",
       "5            2.362802e+06                  10.945273   \n",
       "9            2.556334e+06                  11.538462   \n",
       "13           2.761419e+06                  12.019231   \n",
       "17           2.962223e+06                  11.538462   \n",
       "\n",
       "    political_stability_and_absence_of_violence  government_  \\\n",
       "1                                      9.523809     8.163265   \n",
       "5                                     19.597990     9.183674   \n",
       "9                                     16.504854     6.403941   \n",
       "13                                    21.359222    12.254902   \n",
       "17                                    27.536232     5.853659   \n",
       "\n",
       "    regulatory_quality  rule_of_law  control_of_corruption  applied  \\\n",
       "1             6.632653     2.970297               6.565657     5758   \n",
       "5            11.224490     4.455446               5.555555     4035   \n",
       "9             9.852217     5.741627               7.804878     4004   \n",
       "13           10.294118     7.177033               7.317073     3168   \n",
       "17           13.235294     9.090909               7.804878     2525   \n",
       "\n",
       "           val_x       val_y  \n",
       "1    8796.521342  171.346316  \n",
       "5    9819.589107  164.473562  \n",
       "9   10853.375345  166.662138  \n",
       "13  11756.413023  157.578053  \n",
       "17  12350.510032  144.658240  "
      ]
     },
     "execution_count": 17,
     "metadata": {},
     "output_type": "execute_result"
    },
    {
     "data": {
      "text/html": [
       "<div>\n",
       "<style scoped>\n",
       "    .dataframe tbody tr th:only-of-type {\n",
       "        vertical-align: middle;\n",
       "    }\n",
       "\n",
       "    .dataframe tbody tr th {\n",
       "        vertical-align: top;\n",
       "    }\n",
       "\n",
       "    .dataframe thead th {\n",
       "        text-align: right;\n",
       "    }\n",
       "</style>\n",
       "<table border=\"1\" class=\"dataframe\">\n",
       "  <thead>\n",
       "    <tr style=\"text-align: right;\">\n",
       "      <th></th>\n",
       "      <th>service_level</th>\n",
       "    </tr>\n",
       "  </thead>\n",
       "  <tbody>\n",
       "    <tr>\n",
       "      <th>1</th>\n",
       "      <td>Limited service</td>\n",
       "    </tr>\n",
       "    <tr>\n",
       "      <th>5</th>\n",
       "      <td>Limited service</td>\n",
       "    </tr>\n",
       "    <tr>\n",
       "      <th>9</th>\n",
       "      <td>Limited service</td>\n",
       "    </tr>\n",
       "    <tr>\n",
       "      <th>13</th>\n",
       "      <td>Limited service</td>\n",
       "    </tr>\n",
       "    <tr>\n",
       "      <th>17</th>\n",
       "      <td>Limited service</td>\n",
       "    </tr>\n",
       "  </tbody>\n",
       "</table>\n",
       "</div>"
      ],
      "text/plain": [
       "      service_level\n",
       "1   Limited service\n",
       "5   Limited service\n",
       "9   Limited service\n",
       "13  Limited service\n",
       "17  Limited service"
      ]
     },
     "execution_count": 17,
     "metadata": {},
     "output_type": "execute_result"
    }
   ],
   "source": [
    "X_num = X.select_dtypes(include = np.number)\n",
    "X_cat = X.select_dtypes('object')\n",
    "\n",
    "X_num.head(5)\n",
    "X_cat.head(5)"
   ]
  },
  {
   "cell_type": "code",
   "execution_count": 18,
   "metadata": {},
   "outputs": [],
   "source": [
    "def plot_var(df):\n",
    "    col_names_d = X_num.columns.tolist()\n",
    "    for i in range(len(col_names_d)):\n",
    "        print('for variable',col_names_d[i])\n",
    "        plt.hist(df.iloc[:,i],bins=20)\n",
    "        plt.show()\n",
    "        \n",
    "def plot_var_box(df):\n",
    "    col_names_c = df.columns.tolist()\n",
    "    for i in range(len(col_names_c)):\n",
    "        print('for variable',col_names_c[i])\n",
    "        sns.boxplot(df.iloc[:,i])\n",
    "        plt.show()\n",
    "        #return df.iloc[i]\n",
    "    #return plt.show()\n",
    "def plot_cat(df):\n",
    "    col_names_cat = X_cat.columns.tolist()\n",
    "    for i in range(len(col_names_cat)):\n",
    "        print('for variable',col_names_cat[i])\n",
    "        plt.hist(df.iloc[:,i])\n",
    "        plt.gca().set(title='Frequency Histogram', ylabel='Frequency')\n",
    "        plt.show()\n",
    "\n",
    "def plot_count_cat(df):\n",
    "    col_names_cat = X_cat.columns.tolist()\n",
    "    for i in range(len(col_names_cat)):\n",
    "        print('for variable',col_names_cat[i])\n",
    "        sns.countplot(df.iloc[:,i])\n",
    "        plt.show()"
   ]
  },
  {
   "cell_type": "code",
   "execution_count": 19,
   "metadata": {},
   "outputs": [
    {
     "name": "stdout",
     "output_type": "stream",
     "text": [
      "for variable water_coverage\n"
     ]
    },
    {
     "data": {
      "image/png": "[encoded data removed]",
      "text/plain": [
       "<Figure size 432x288 with 1 Axes>"
      ]
     },
     "metadata": {
      "needs_background": "light"
     },
     "output_type": "display_data"
    },
    {
     "name": "stdout",
     "output_type": "stream",
     "text": [
      "for variable water_population\n"
     ]
    },
    {
     "data": {
      "image/png": "[encoded data removed]",
      "text/plain": [
       "<Figure size 432x288 with 1 Axes>"
      ]
     },
     "metadata": {
      "needs_background": "light"
     },
     "output_type": "display_data"
    },
    {
     "name": "stdout",
     "output_type": "stream",
     "text": [
      "for variable sanitation_coverage\n"
     ]
    },
    {
     "data": {
      "image/png": "[encoded data removed]",
      "text/plain": [
       "<Figure size 432x288 with 1 Axes>"
      ]
     },
     "metadata": {
      "needs_background": "light"
     },
     "output_type": "display_data"
    },
    {
     "name": "stdout",
     "output_type": "stream",
     "text": [
      "for variable sanitation_population\n"
     ]
    },
    {
     "data": {
      "image/png": "[encoded data removed]",
      "text/plain": [
       "<Figure size 432x288 with 1 Axes>"
      ]
     },
     "metadata": {
      "needs_background": "light"
     },
     "output_type": "display_data"
    },
    {
     "name": "stdout",
     "output_type": "stream",
     "text": [
      "for variable voice_and_accountability_\n"
     ]
    },
    {
     "data": {
      "image/png": "[encoded data removed]",
      "text/plain": [
       "<Figure size 432x288 with 1 Axes>"
      ]
     },
     "metadata": {
      "needs_background": "light"
     },
     "output_type": "display_data"
    },
    {
     "name": "stdout",
     "output_type": "stream",
     "text": [
      "for variable political_stability_and_absence_of_violence\n"
     ]
    },
    {
     "data": {
      "image/png": "[encoded data removed]",
      "text/plain": [
       "<Figure size 432x288 with 1 Axes>"
      ]
     },
     "metadata": {
      "needs_background": "light"
     },
     "output_type": "display_data"
    },
    {
     "name": "stdout",
     "output_type": "stream",
     "text": [
      "for variable government_\n"
     ]
    },
    {
     "data": {
      "image/png": "[encoded data removed]",
      "text/plain": [
       "<Figure size 432x288 with 1 Axes>"
      ]
     },
     "metadata": {
      "needs_background": "light"
     },
     "output_type": "display_data"
    },
    {
     "name": "stdout",
     "output_type": "stream",
     "text": [
      "for variable regulatory_quality\n"
     ]
    },
    {
     "data": {
      "image/png": "[encoded data removed]",
      "text/plain": [
       "<Figure size 432x288 with 1 Axes>"
      ]
     },
     "metadata": {
      "needs_background": "light"
     },
     "output_type": "display_data"
    },
    {
     "name": "stdout",
     "output_type": "stream",
     "text": [
      "for variable rule_of_law\n"
     ]
    },
    {
     "data": {
      "image/png": "[encoded data removed]",
      "text/plain": [
       "<Figure size 432x288 with 1 Axes>"
      ]
     },
     "metadata": {
      "needs_background": "light"
     },
     "output_type": "display_data"
    },
    {
     "name": "stdout",
     "output_type": "stream",
     "text": [
      "for variable control_of_corruption\n"
     ]
    },
    {
     "data": {
      "image/png": "[encoded data removed]",
      "text/plain": [
       "<Figure size 432x288 with 1 Axes>"
      ]
     },
     "metadata": {
      "needs_background": "light"
     },
     "output_type": "display_data"
    },
    {
     "name": "stdout",
     "output_type": "stream",
     "text": [
      "for variable applied\n"
     ]
    },
    {
     "data": {
      "image/png": "[encoded data removed]",
      "text/plain": [
       "<Figure size 432x288 with 1 Axes>"
      ]
     },
     "metadata": {
      "needs_background": "light"
     },
     "output_type": "display_data"
    },
    {
     "name": "stdout",
     "output_type": "stream",
     "text": [
      "for variable val_x\n"
     ]
    },
    {
     "data": {
      "image/png": "[encoded data removed]",
      "text/plain": [
       "<Figure size 432x288 with 1 Axes>"
      ]
     },
     "metadata": {
      "needs_background": "light"
     },
     "output_type": "display_data"
    },
    {
     "name": "stdout",
     "output_type": "stream",
     "text": [
      "for variable val_y\n"
     ]
    },
    {
     "data": {
      "image/png": "[encoded data removed]",
      "text/plain": [
       "<Figure size 432x288 with 1 Axes>"
      ]
     },
     "metadata": {
      "needs_background": "light"
     },
     "output_type": "display_data"
    }
   ],
   "source": [
    "plot_var(X_num)"
   ]
  },
  {
   "cell_type": "code",
   "execution_count": 20,
   "metadata": {},
   "outputs": [
    {
     "name": "stdout",
     "output_type": "stream",
     "text": [
      "for variable service_level\n"
     ]
    },
    {
     "name": "stderr",
     "output_type": "stream",
     "text": [
      "/usr/local/Cellar/jupyterlab/3.0.12/libexec/lib/python3.9/site-packages/seaborn/_decorators.py:36: FutureWarning: Pass the following variable as a keyword arg: x. From version 0.12, the only valid positional argument will be `data`, and passing other arguments without an explicit keyword will result in an error or misinterpretation.\n",
      "  warnings.warn(\n"
     ]
    },
    {
     "data": {
      "image/png": "[encoded data removed]",
      "text/plain": [
       "<Figure size 432x288 with 1 Axes>"
      ]
     },
     "metadata": {
      "needs_background": "light"
     },
     "output_type": "display_data"
    }
   ],
   "source": [
    "plot_count_cat(X_cat)"
   ]
  },
  {
   "cell_type": "code",
   "execution_count": 21,
   "metadata": {},
   "outputs": [
    {
     "name": "stdout",
     "output_type": "stream",
     "text": [
      "for variable water_coverage\n"
     ]
    },
    {
     "name": "stderr",
     "output_type": "stream",
     "text": [
      "/usr/local/Cellar/jupyterlab/3.0.12/libexec/lib/python3.9/site-packages/seaborn/_decorators.py:36: FutureWarning: Pass the following variable as a keyword arg: x. From version 0.12, the only valid positional argument will be `data`, and passing other arguments without an explicit keyword will result in an error or misinterpretation.\n",
      "  warnings.warn(\n"
     ]
    },
    {
     "data": {
      "image/png": "[encoded data removed]",
      "text/plain": [
       "<Figure size 432x288 with 1 Axes>"
      ]
     },
     "metadata": {
      "needs_background": "light"
     },
     "output_type": "display_data"
    },
    {
     "name": "stdout",
     "output_type": "stream",
     "text": [
      "for variable water_population\n"
     ]
    },
    {
     "name": "stderr",
     "output_type": "stream",
     "text": [
      "/usr/local/Cellar/jupyterlab/3.0.12/libexec/lib/python3.9/site-packages/seaborn/_decorators.py:36: FutureWarning: Pass the following variable as a keyword arg: x. From version 0.12, the only valid positional argument will be `data`, and passing other arguments without an explicit keyword will result in an error or misinterpretation.\n",
      "  warnings.warn(\n"
     ]
    },
    {
     "data": {
      "image/png": "[encoded data removed]",
      "text/plain": [
       "<Figure size 432x288 with 1 Axes>"
      ]
     },
     "metadata": {
      "needs_background": "light"
     },
     "output_type": "display_data"
    },
    {
     "name": "stdout",
     "output_type": "stream",
     "text": [
      "for variable sanitation_coverage\n"
     ]
    },
    {
     "name": "stderr",
     "output_type": "stream",
     "text": [
      "/usr/local/Cellar/jupyterlab/3.0.12/libexec/lib/python3.9/site-packages/seaborn/_decorators.py:36: FutureWarning: Pass the following variable as a keyword arg: x. From version 0.12, the only valid positional argument will be `data`, and passing other arguments without an explicit keyword will result in an error or misinterpretation.\n",
      "  warnings.warn(\n"
     ]
    },
    {
     "data": {
      "image/png": "[encoded data removed]",
      "text/plain": [
       "<Figure size 432x288 with 1 Axes>"
      ]
     },
     "metadata": {
      "needs_background": "light"
     },
     "output_type": "display_data"
    },
    {
     "name": "stdout",
     "output_type": "stream",
     "text": [
      "for variable sanitation_population\n"
     ]
    },
    {
     "name": "stderr",
     "output_type": "stream",
     "text": [
      "/usr/local/Cellar/jupyterlab/3.0.12/libexec/lib/python3.9/site-packages/seaborn/_decorators.py:36: FutureWarning: Pass the following variable as a keyword arg: x. From version 0.12, the only valid positional argument will be `data`, and passing other arguments without an explicit keyword will result in an error or misinterpretation.\n",
      "  warnings.warn(\n"
     ]
    },
    {
     "data": {
      "image/png": "[encoded data removed]",
      "text/plain": [
       "<Figure size 432x288 with 1 Axes>"
      ]
     },
     "metadata": {
      "needs_background": "light"
     },
     "output_type": "display_data"
    },
    {
     "name": "stdout",
     "output_type": "stream",
     "text": [
      "for variable voice_and_accountability_\n"
     ]
    },
    {
     "name": "stderr",
     "output_type": "stream",
     "text": [
      "/usr/local/Cellar/jupyterlab/3.0.12/libexec/lib/python3.9/site-packages/seaborn/_decorators.py:36: FutureWarning: Pass the following variable as a keyword arg: x. From version 0.12, the only valid positional argument will be `data`, and passing other arguments without an explicit keyword will result in an error or misinterpretation.\n",
      "  warnings.warn(\n"
     ]
    },
    {
     "data": {
      "image/png": "[encoded data removed]",
      "text/plain": [
       "<Figure size 432x288 with 1 Axes>"
      ]
     },
     "metadata": {
      "needs_background": "light"
     },
     "output_type": "display_data"
    },
    {
     "name": "stdout",
     "output_type": "stream",
     "text": [
      "for variable political_stability_and_absence_of_violence\n"
     ]
    },
    {
     "name": "stderr",
     "output_type": "stream",
     "text": [
      "/usr/local/Cellar/jupyterlab/3.0.12/libexec/lib/python3.9/site-packages/seaborn/_decorators.py:36: FutureWarning: Pass the following variable as a keyword arg: x. From version 0.12, the only valid positional argument will be `data`, and passing other arguments without an explicit keyword will result in an error or misinterpretation.\n",
      "  warnings.warn(\n"
     ]
    },
    {
     "data": {
      "image/png": "[encoded data removed]",
      "text/plain": [
       "<Figure size 432x288 with 1 Axes>"
      ]
     },
     "metadata": {
      "needs_background": "light"
     },
     "output_type": "display_data"
    },
    {
     "name": "stdout",
     "output_type": "stream",
     "text": [
      "for variable government_\n"
     ]
    },
    {
     "name": "stderr",
     "output_type": "stream",
     "text": [
      "/usr/local/Cellar/jupyterlab/3.0.12/libexec/lib/python3.9/site-packages/seaborn/_decorators.py:36: FutureWarning: Pass the following variable as a keyword arg: x. From version 0.12, the only valid positional argument will be `data`, and passing other arguments without an explicit keyword will result in an error or misinterpretation.\n",
      "  warnings.warn(\n"
     ]
    },
    {
     "data": {
      "image/png": "[encoded data removed]",
      "text/plain": [
       "<Figure size 432x288 with 1 Axes>"
      ]
     },
     "metadata": {
      "needs_background": "light"
     },
     "output_type": "display_data"
    },
    {
     "name": "stdout",
     "output_type": "stream",
     "text": [
      "for variable regulatory_quality\n"
     ]
    },
    {
     "name": "stderr",
     "output_type": "stream",
     "text": [
      "/usr/local/Cellar/jupyterlab/3.0.12/libexec/lib/python3.9/site-packages/seaborn/_decorators.py:36: FutureWarning: Pass the following variable as a keyword arg: x. From version 0.12, the only valid positional argument will be `data`, and passing other arguments without an explicit keyword will result in an error or misinterpretation.\n",
      "  warnings.warn(\n"
     ]
    },
    {
     "data": {
      "image/png": "[encoded data removed]",
      "text/plain": [
       "<Figure size 432x288 with 1 Axes>"
      ]
     },
     "metadata": {
      "needs_background": "light"
     },
     "output_type": "display_data"
    },
    {
     "name": "stdout",
     "output_type": "stream",
     "text": [
      "for variable rule_of_law\n"
     ]
    },
    {
     "name": "stderr",
     "output_type": "stream",
     "text": [
      "/usr/local/Cellar/jupyterlab/3.0.12/libexec/lib/python3.9/site-packages/seaborn/_decorators.py:36: FutureWarning: Pass the following variable as a keyword arg: x. From version 0.12, the only valid positional argument will be `data`, and passing other arguments without an explicit keyword will result in an error or misinterpretation.\n",
      "  warnings.warn(\n"
     ]
    },
    {
     "data": {
      "image/png": "[encoded data removed]",
      "text/plain": [
       "<Figure size 432x288 with 1 Axes>"
      ]
     },
     "metadata": {
      "needs_background": "light"
     },
     "output_type": "display_data"
    },
    {
     "name": "stdout",
     "output_type": "stream",
     "text": [
      "for variable control_of_corruption\n"
     ]
    },
    {
     "name": "stderr",
     "output_type": "stream",
     "text": [
      "/usr/local/Cellar/jupyterlab/3.0.12/libexec/lib/python3.9/site-packages/seaborn/_decorators.py:36: FutureWarning: Pass the following variable as a keyword arg: x. From version 0.12, the only valid positional argument will be `data`, and passing other arguments without an explicit keyword will result in an error or misinterpretation.\n",
      "  warnings.warn(\n"
     ]
    },
    {
     "data": {
      "image/png": "[encoded data removed]",
      "text/plain": [
       "<Figure size 432x288 with 1 Axes>"
      ]
     },
     "metadata": {
      "needs_background": "light"
     },
     "output_type": "display_data"
    },
    {
     "name": "stdout",
     "output_type": "stream",
     "text": [
      "for variable applied\n"
     ]
    },
    {
     "name": "stderr",
     "output_type": "stream",
     "text": [
      "/usr/local/Cellar/jupyterlab/3.0.12/libexec/lib/python3.9/site-packages/seaborn/_decorators.py:36: FutureWarning: Pass the following variable as a keyword arg: x. From version 0.12, the only valid positional argument will be `data`, and passing other arguments without an explicit keyword will result in an error or misinterpretation.\n",
      "  warnings.warn(\n"
     ]
    },
    {
     "data": {
      "image/png": "[encoded data removed]",
      "text/plain": [
       "<Figure size 432x288 with 1 Axes>"
      ]
     },
     "metadata": {
      "needs_background": "light"
     },
     "output_type": "display_data"
    },
    {
     "name": "stdout",
     "output_type": "stream",
     "text": [
      "for variable val_x\n"
     ]
    },
    {
     "name": "stderr",
     "output_type": "stream",
     "text": [
      "/usr/local/Cellar/jupyterlab/3.0.12/libexec/lib/python3.9/site-packages/seaborn/_decorators.py:36: FutureWarning: Pass the following variable as a keyword arg: x. From version 0.12, the only valid positional argument will be `data`, and passing other arguments without an explicit keyword will result in an error or misinterpretation.\n",
      "  warnings.warn(\n"
     ]
    },
    {
     "data": {
      "image/png": "[encoded data removed]",
      "text/plain": [
       "<Figure size 432x288 with 1 Axes>"
      ]
     },
     "metadata": {
      "needs_background": "light"
     },
     "output_type": "display_data"
    },
    {
     "name": "stdout",
     "output_type": "stream",
     "text": [
      "for variable val_y\n"
     ]
    },
    {
     "name": "stderr",
     "output_type": "stream",
     "text": [
      "/usr/local/Cellar/jupyterlab/3.0.12/libexec/lib/python3.9/site-packages/seaborn/_decorators.py:36: FutureWarning: Pass the following variable as a keyword arg: x. From version 0.12, the only valid positional argument will be `data`, and passing other arguments without an explicit keyword will result in an error or misinterpretation.\n",
      "  warnings.warn(\n"
     ]
    },
    {
     "data": {
      "image/png": "[encoded data removed]",
      "text/plain": [
       "<Figure size 432x288 with 1 Axes>"
      ]
     },
     "metadata": {
      "needs_background": "light"
     },
     "output_type": "display_data"
    }
   ],
   "source": [
    "plot_var_box(X_num)"
   ]
  },
  {
   "cell_type": "code",
   "execution_count": 22,
   "metadata": {},
   "outputs": [],
   "source": [
    "#there seems to be some outliers but they may not be errors. So we are keeping it for now."
   ]
  },
  {
   "cell_type": "code",
   "execution_count": 24,
   "metadata": {},
   "outputs": [],
   "source": [
    "#defining a function to convert variables in categorical functions\n",
    "\n",
    "#def convert_cat(row):\n",
    "    #if row < (value) &row"
   ]
  },
  {
   "cell_type": "markdown",
   "metadata": {},
   "source": [
    "# Train-test split"
   ]
  },
  {
   "cell_type": "code",
   "execution_count": 25,
   "metadata": {},
   "outputs": [
    {
     "data": {
      "text/html": [
       "<div>\n",
       "<style scoped>\n",
       "    .dataframe tbody tr th:only-of-type {\n",
       "        vertical-align: middle;\n",
       "    }\n",
       "\n",
       "    .dataframe tbody tr th {\n",
       "        vertical-align: top;\n",
       "    }\n",
       "\n",
       "    .dataframe thead th {\n",
       "        text-align: right;\n",
       "    }\n",
       "</style>\n",
       "<table border=\"1\" class=\"dataframe\">\n",
       "  <thead>\n",
       "    <tr style=\"text-align: right;\">\n",
       "      <th></th>\n",
       "      <th>water_coverage</th>\n",
       "      <th>water_population</th>\n",
       "      <th>sanitation_coverage</th>\n",
       "      <th>sanitation_population</th>\n",
       "      <th>voice_and_accountability_</th>\n",
       "      <th>political_stability_and_absence_of_violence</th>\n",
       "      <th>government_</th>\n",
       "      <th>regulatory_quality</th>\n",
       "      <th>rule_of_law</th>\n",
       "      <th>control_of_corruption</th>\n",
       "      <th>applied</th>\n",
       "      <th>val_x</th>\n",
       "      <th>val_y</th>\n",
       "    </tr>\n",
       "  </thead>\n",
       "  <tbody>\n",
       "    <tr>\n",
       "      <th>1</th>\n",
       "      <td>20.01438</td>\n",
       "      <td>3.517056e+06</td>\n",
       "      <td>12.41406</td>\n",
       "      <td>2.181480e+06</td>\n",
       "      <td>12.935324</td>\n",
       "      <td>9.523809</td>\n",
       "      <td>8.163265</td>\n",
       "      <td>6.632653</td>\n",
       "      <td>2.970297</td>\n",
       "      <td>6.565657</td>\n",
       "      <td>5758</td>\n",
       "      <td>8796.521342</td>\n",
       "      <td>171.346316</td>\n",
       "    </tr>\n",
       "    <tr>\n",
       "      <th>5</th>\n",
       "      <td>19.40718</td>\n",
       "      <td>3.532760e+06</td>\n",
       "      <td>12.98003</td>\n",
       "      <td>2.362802e+06</td>\n",
       "      <td>10.945273</td>\n",
       "      <td>19.597990</td>\n",
       "      <td>9.183674</td>\n",
       "      <td>11.224490</td>\n",
       "      <td>4.455446</td>\n",
       "      <td>5.555555</td>\n",
       "      <td>4035</td>\n",
       "      <td>9819.589107</td>\n",
       "      <td>164.473562</td>\n",
       "    </tr>\n",
       "    <tr>\n",
       "      <th>9</th>\n",
       "      <td>18.79056</td>\n",
       "      <td>3.544974e+06</td>\n",
       "      <td>13.55016</td>\n",
       "      <td>2.556334e+06</td>\n",
       "      <td>11.538462</td>\n",
       "      <td>16.504854</td>\n",
       "      <td>6.403941</td>\n",
       "      <td>9.852217</td>\n",
       "      <td>5.741627</td>\n",
       "      <td>7.804878</td>\n",
       "      <td>4004</td>\n",
       "      <td>10853.375345</td>\n",
       "      <td>166.662138</td>\n",
       "    </tr>\n",
       "    <tr>\n",
       "      <th>13</th>\n",
       "      <td>18.16428</td>\n",
       "      <td>3.551578e+06</td>\n",
       "      <td>14.12307</td>\n",
       "      <td>2.761419e+06</td>\n",
       "      <td>12.019231</td>\n",
       "      <td>21.359222</td>\n",
       "      <td>12.254902</td>\n",
       "      <td>10.294118</td>\n",
       "      <td>7.177033</td>\n",
       "      <td>7.317073</td>\n",
       "      <td>3168</td>\n",
       "      <td>11756.413023</td>\n",
       "      <td>157.578053</td>\n",
       "    </tr>\n",
       "    <tr>\n",
       "      <th>17</th>\n",
       "      <td>17.50080</td>\n",
       "      <td>3.546083e+06</td>\n",
       "      <td>14.61931</td>\n",
       "      <td>2.962223e+06</td>\n",
       "      <td>11.538462</td>\n",
       "      <td>27.536232</td>\n",
       "      <td>5.853659</td>\n",
       "      <td>13.235294</td>\n",
       "      <td>9.090909</td>\n",
       "      <td>7.804878</td>\n",
       "      <td>2525</td>\n",
       "      <td>12350.510032</td>\n",
       "      <td>144.658240</td>\n",
       "    </tr>\n",
       "  </tbody>\n",
       "</table>\n",
       "</div>"
      ],
      "text/plain": [
       "    water_coverage  water_population  sanitation_coverage  \\\n",
       "1         20.01438      3.517056e+06             12.41406   \n",
       "5         19.40718      3.532760e+06             12.98003   \n",
       "9         18.79056      3.544974e+06             13.55016   \n",
       "13        18.16428      3.551578e+06             14.12307   \n",
       "17        17.50080      3.546083e+06             14.61931   \n",
       "\n",
       "    sanitation_population  voice_and_accountability_  \\\n",
       "1            2.181480e+06                  12.935324   \n",
       "5            2.362802e+06                  10.945273   \n",
       "9            2.556334e+06                  11.538462   \n",
       "13           2.761419e+06                  12.019231   \n",
       "17           2.962223e+06                  11.538462   \n",
       "\n",
       "    political_stability_and_absence_of_violence  government_  \\\n",
       "1                                      9.523809     8.163265   \n",
       "5                                     19.597990     9.183674   \n",
       "9                                     16.504854     6.403941   \n",
       "13                                    21.359222    12.254902   \n",
       "17                                    27.536232     5.853659   \n",
       "\n",
       "    regulatory_quality  rule_of_law  control_of_corruption  applied  \\\n",
       "1             6.632653     2.970297               6.565657     5758   \n",
       "5            11.224490     4.455446               5.555555     4035   \n",
       "9             9.852217     5.741627               7.804878     4004   \n",
       "13           10.294118     7.177033               7.317073     3168   \n",
       "17           13.235294     9.090909               7.804878     2525   \n",
       "\n",
       "           val_x       val_y  \n",
       "1    8796.521342  171.346316  \n",
       "5    9819.589107  164.473562  \n",
       "9   10853.375345  166.662138  \n",
       "13  11756.413023  157.578053  \n",
       "17  12350.510032  144.658240  "
      ]
     },
     "execution_count": 25,
     "metadata": {},
     "output_type": "execute_result"
    },
    {
     "data": {
      "text/plain": [
       "1     15744\n",
       "5     14057\n",
       "9     11940\n",
       "13    12003\n",
       "17     9807\n",
       "Name: total, dtype: int64"
      ]
     },
     "execution_count": 25,
     "metadata": {},
     "output_type": "execute_result"
    }
   ],
   "source": [
    "X = X_num\n",
    "\n",
    "X.head()\n",
    "y.head()\n",
    "\n"
   ]
  },
  {
   "cell_type": "code",
   "execution_count": 26,
   "metadata": {},
   "outputs": [],
   "source": [
    "X_train, X_test, y_train, y_test = train_test_split(X, y, test_size=0.3, random_state=100)"
   ]
  },
  {
   "cell_type": "code",
   "execution_count": 27,
   "metadata": {},
   "outputs": [
    {
     "data": {
      "text/html": [
       "<div>\n",
       "<style scoped>\n",
       "    .dataframe tbody tr th:only-of-type {\n",
       "        vertical-align: middle;\n",
       "    }\n",
       "\n",
       "    .dataframe tbody tr th {\n",
       "        vertical-align: top;\n",
       "    }\n",
       "\n",
       "    .dataframe thead th {\n",
       "        text-align: right;\n",
       "    }\n",
       "</style>\n",
       "<table border=\"1\" class=\"dataframe\">\n",
       "  <thead>\n",
       "    <tr style=\"text-align: right;\">\n",
       "      <th></th>\n",
       "      <th>water_coverage</th>\n",
       "      <th>water_population</th>\n",
       "      <th>sanitation_coverage</th>\n",
       "      <th>sanitation_population</th>\n",
       "      <th>voice_and_accountability_</th>\n",
       "      <th>political_stability_and_absence_of_violence</th>\n",
       "      <th>government_</th>\n",
       "      <th>regulatory_quality</th>\n",
       "      <th>rule_of_law</th>\n",
       "      <th>control_of_corruption</th>\n",
       "      <th>applied</th>\n",
       "      <th>val_x</th>\n",
       "      <th>val_y</th>\n",
       "    </tr>\n",
       "  </thead>\n",
       "  <tbody>\n",
       "    <tr>\n",
       "      <th>233</th>\n",
       "      <td>23.56693</td>\n",
       "      <td>3.905327e+06</td>\n",
       "      <td>21.28377</td>\n",
       "      <td>3.526979e+06</td>\n",
       "      <td>38.028168</td>\n",
       "      <td>27.014217</td>\n",
       "      <td>31.753555</td>\n",
       "      <td>47.393364</td>\n",
       "      <td>42.253521</td>\n",
       "      <td>37.914692</td>\n",
       "      <td>507</td>\n",
       "      <td>6064.620747</td>\n",
       "      <td>89.949472</td>\n",
       "    </tr>\n",
       "    <tr>\n",
       "      <th>1713</th>\n",
       "      <td>32.31689</td>\n",
       "      <td>1.297357e+07</td>\n",
       "      <td>16.90385</td>\n",
       "      <td>6.786029e+06</td>\n",
       "      <td>29.064039</td>\n",
       "      <td>20.952381</td>\n",
       "      <td>36.538460</td>\n",
       "      <td>45.673077</td>\n",
       "      <td>40.865383</td>\n",
       "      <td>13.461538</td>\n",
       "      <td>657</td>\n",
       "      <td>32733.163508</td>\n",
       "      <td>27.026676</td>\n",
       "    </tr>\n",
       "    <tr>\n",
       "      <th>1325</th>\n",
       "      <td>21.69482</td>\n",
       "      <td>2.461355e+06</td>\n",
       "      <td>12.95105</td>\n",
       "      <td>1.469343e+06</td>\n",
       "      <td>17.733990</td>\n",
       "      <td>35.238094</td>\n",
       "      <td>55.288460</td>\n",
       "      <td>61.057693</td>\n",
       "      <td>60.576923</td>\n",
       "      <td>75.480766</td>\n",
       "      <td>1006</td>\n",
       "      <td>4613.234409</td>\n",
       "      <td>7.336154</td>\n",
       "    </tr>\n",
       "    <tr>\n",
       "      <th>2124</th>\n",
       "      <td>0.00000</td>\n",
       "      <td>0.000000e+00</td>\n",
       "      <td>0.00000</td>\n",
       "      <td>0.000000e+00</td>\n",
       "      <td>9.359606</td>\n",
       "      <td>2.380952</td>\n",
       "      <td>1.923077</td>\n",
       "      <td>0.961538</td>\n",
       "      <td>1.923077</td>\n",
       "      <td>1.923077</td>\n",
       "      <td>4022</td>\n",
       "      <td>88.431545</td>\n",
       "      <td>0.290609</td>\n",
       "    </tr>\n",
       "    <tr>\n",
       "      <th>393</th>\n",
       "      <td>9.50990</td>\n",
       "      <td>6.883912e+04</td>\n",
       "      <td>10.40337</td>\n",
       "      <td>7.530665e+04</td>\n",
       "      <td>34.272301</td>\n",
       "      <td>33.649288</td>\n",
       "      <td>2.843602</td>\n",
       "      <td>7.582938</td>\n",
       "      <td>16.431925</td>\n",
       "      <td>23.696682</td>\n",
       "      <td>1189</td>\n",
       "      <td>19.587225</td>\n",
       "      <td>0.240710</td>\n",
       "    </tr>\n",
       "  </tbody>\n",
       "</table>\n",
       "</div>"
      ],
      "text/plain": [
       "      water_coverage  water_population  sanitation_coverage  \\\n",
       "233         23.56693      3.905327e+06             21.28377   \n",
       "1713        32.31689      1.297357e+07             16.90385   \n",
       "1325        21.69482      2.461355e+06             12.95105   \n",
       "2124         0.00000      0.000000e+00              0.00000   \n",
       "393          9.50990      6.883912e+04             10.40337   \n",
       "\n",
       "      sanitation_population  voice_and_accountability_  \\\n",
       "233            3.526979e+06                  38.028168   \n",
       "1713           6.786029e+06                  29.064039   \n",
       "1325           1.469343e+06                  17.733990   \n",
       "2124           0.000000e+00                   9.359606   \n",
       "393            7.530665e+04                  34.272301   \n",
       "\n",
       "      political_stability_and_absence_of_violence  government_  \\\n",
       "233                                     27.014217    31.753555   \n",
       "1713                                    20.952381    36.538460   \n",
       "1325                                    35.238094    55.288460   \n",
       "2124                                     2.380952     1.923077   \n",
       "393                                     33.649288     2.843602   \n",
       "\n",
       "      regulatory_quality  rule_of_law  control_of_corruption  applied  \\\n",
       "233            47.393364    42.253521              37.914692      507   \n",
       "1713           45.673077    40.865383              13.461538      657   \n",
       "1325           61.057693    60.576923              75.480766     1006   \n",
       "2124            0.961538     1.923077               1.923077     4022   \n",
       "393             7.582938    16.431925              23.696682     1189   \n",
       "\n",
       "             val_x      val_y  \n",
       "233    6064.620747  89.949472  \n",
       "1713  32733.163508  27.026676  \n",
       "1325   4613.234409   7.336154  \n",
       "2124     88.431545   0.290609  \n",
       "393      19.587225   0.240710  "
      ]
     },
     "execution_count": 27,
     "metadata": {},
     "output_type": "execute_result"
    }
   ],
   "source": [
    "numericals_train = X_train.select_dtypes(np.number)\n",
    "numericals_test = X_test.select_dtypes(np.number)\n",
    "numericals_train.head()"
   ]
  },
  {
   "cell_type": "code",
   "execution_count": 28,
   "metadata": {},
   "outputs": [
    {
     "data": {
      "text/plain": [
       "array([[-0.76136837, -0.08560698, -0.64107888, ...,  1.11395697,\n",
       "        -0.51133168, -0.31705666],\n",
       "       [-0.2366301 , -0.02074688,  3.91719631, ..., -0.20752402,\n",
       "        -0.05334245, -0.23182411],\n",
       "       [-0.01012369, -0.59508791, -0.16641854, ..., -0.30045693,\n",
       "        -0.5208999 , -0.33273211],\n",
       "       ...,\n",
       "       [-0.40829475, -0.44027486,  0.32904223, ..., -0.48986504,\n",
       "        -0.41291498, -0.09444543],\n",
       "       [ 0.68828568,  0.31363352,  0.13805449, ..., -0.29462258,\n",
       "        -0.22666314,  0.31490984],\n",
       "       [-0.86146682, -0.50439625,  0.15948864, ...,  0.24859737,\n",
       "        -0.40302087,  0.00735485]])"
      ]
     },
     "execution_count": 28,
     "metadata": {},
     "output_type": "execute_result"
    }
   ],
   "source": [
    "transformer = StandardScaler().fit(numericals_train) #this line teaches standardscaler where points are, subtracting mean to it, and dividing by standard deviation\n",
    "numericals_train_standardized = transformer.transform(numericals_train) #this line transforms based on what it learned in the previous line\n",
    "numericals_test_standardized = transformer.transform(numericals_test) \n",
    "numericals_test_standardized"
   ]
  },
  {
   "cell_type": "code",
   "execution_count": 29,
   "metadata": {},
   "outputs": [
    {
     "name": "stdout",
     "output_type": "stream",
     "text": [
      "<class 'pandas.core.frame.DataFrame'>\n",
      "Int64Index: 442 entries, 233 to 2129\n",
      "Data columns (total 13 columns):\n",
      " #   Column                                       Non-Null Count  Dtype  \n",
      "---  ------                                       --------------  -----  \n",
      " 0   water_coverage                               442 non-null    float64\n",
      " 1   water_population                             442 non-null    float64\n",
      " 2   sanitation_coverage                          442 non-null    float64\n",
      " 3   sanitation_population                        442 non-null    float64\n",
      " 4   voice_and_accountability_                    442 non-null    float64\n",
      " 5   political_stability_and_absence_of_violence  442 non-null    float64\n",
      " 6   government_                                  442 non-null    float64\n",
      " 7   regulatory_quality                           442 non-null    float64\n",
      " 8   rule_of_law                                  442 non-null    float64\n",
      " 9   control_of_corruption                        442 non-null    float64\n",
      " 10  applied                                      442 non-null    int64  \n",
      " 11  val_x                                        442 non-null    float64\n",
      " 12  val_y                                        442 non-null    float64\n",
      "dtypes: float64(12), int64(1)\n",
      "memory usage: 48.3 KB\n",
      "<class 'pandas.core.frame.DataFrame'>\n",
      "Int64Index: 190 entries, 2024 to 677\n",
      "Data columns (total 13 columns):\n",
      " #   Column                                       Non-Null Count  Dtype  \n",
      "---  ------                                       --------------  -----  \n",
      " 0   water_coverage                               190 non-null    float64\n",
      " 1   water_population                             190 non-null    float64\n",
      " 2   sanitation_coverage                          190 non-null    float64\n",
      " 3   sanitation_population                        190 non-null    float64\n",
      " 4   voice_and_accountability_                    190 non-null    float64\n",
      " 5   political_stability_and_absence_of_violence  190 non-null    float64\n",
      " 6   government_                                  190 non-null    float64\n",
      " 7   regulatory_quality                           190 non-null    float64\n",
      " 8   rule_of_law                                  190 non-null    float64\n",
      " 9   control_of_corruption                        190 non-null    float64\n",
      " 10  applied                                      190 non-null    int64  \n",
      " 11  val_x                                        190 non-null    float64\n",
      " 12  val_y                                        190 non-null    float64\n",
      "dtypes: float64(12), int64(1)\n",
      "memory usage: 20.8 KB\n"
     ]
    }
   ],
   "source": [
    "X_train.info()\n",
    "X_test.info()"
   ]
  },
  {
   "cell_type": "code",
   "execution_count": 30,
   "metadata": {},
   "outputs": [
    {
     "data": {
      "text/html": [
       "<div>\n",
       "<style scoped>\n",
       "    .dataframe tbody tr th:only-of-type {\n",
       "        vertical-align: middle;\n",
       "    }\n",
       "\n",
       "    .dataframe tbody tr th {\n",
       "        vertical-align: top;\n",
       "    }\n",
       "\n",
       "    .dataframe thead th {\n",
       "        text-align: right;\n",
       "    }\n",
       "</style>\n",
       "<table border=\"1\" class=\"dataframe\">\n",
       "  <thead>\n",
       "    <tr style=\"text-align: right;\">\n",
       "      <th></th>\n",
       "      <th>water_coverage</th>\n",
       "      <th>water_population</th>\n",
       "      <th>sanitation_coverage</th>\n",
       "      <th>sanitation_population</th>\n",
       "      <th>voice_and_accountability_</th>\n",
       "      <th>political_stability_and_absence_of_violence</th>\n",
       "      <th>government_</th>\n",
       "      <th>regulatory_quality</th>\n",
       "      <th>rule_of_law</th>\n",
       "      <th>control_of_corruption</th>\n",
       "      <th>applied</th>\n",
       "      <th>val_x</th>\n",
       "      <th>val_y</th>\n",
       "    </tr>\n",
       "  </thead>\n",
       "  <tbody>\n",
       "    <tr>\n",
       "      <th>233</th>\n",
       "      <td>23.56693</td>\n",
       "      <td>3.905327e+06</td>\n",
       "      <td>21.28377</td>\n",
       "      <td>3.526979e+06</td>\n",
       "      <td>38.028168</td>\n",
       "      <td>27.014217</td>\n",
       "      <td>31.753555</td>\n",
       "      <td>47.393364</td>\n",
       "      <td>42.253521</td>\n",
       "      <td>37.914692</td>\n",
       "      <td>507</td>\n",
       "      <td>6064.620747</td>\n",
       "      <td>89.949472</td>\n",
       "    </tr>\n",
       "    <tr>\n",
       "      <th>1713</th>\n",
       "      <td>32.31689</td>\n",
       "      <td>1.297357e+07</td>\n",
       "      <td>16.90385</td>\n",
       "      <td>6.786029e+06</td>\n",
       "      <td>29.064039</td>\n",
       "      <td>20.952381</td>\n",
       "      <td>36.538460</td>\n",
       "      <td>45.673077</td>\n",
       "      <td>40.865383</td>\n",
       "      <td>13.461538</td>\n",
       "      <td>657</td>\n",
       "      <td>32733.163508</td>\n",
       "      <td>27.026676</td>\n",
       "    </tr>\n",
       "    <tr>\n",
       "      <th>1325</th>\n",
       "      <td>21.69482</td>\n",
       "      <td>2.461355e+06</td>\n",
       "      <td>12.95105</td>\n",
       "      <td>1.469343e+06</td>\n",
       "      <td>17.733990</td>\n",
       "      <td>35.238094</td>\n",
       "      <td>55.288460</td>\n",
       "      <td>61.057693</td>\n",
       "      <td>60.576923</td>\n",
       "      <td>75.480766</td>\n",
       "      <td>1006</td>\n",
       "      <td>4613.234409</td>\n",
       "      <td>7.336154</td>\n",
       "    </tr>\n",
       "    <tr>\n",
       "      <th>2124</th>\n",
       "      <td>0.00000</td>\n",
       "      <td>0.000000e+00</td>\n",
       "      <td>0.00000</td>\n",
       "      <td>0.000000e+00</td>\n",
       "      <td>9.359606</td>\n",
       "      <td>2.380952</td>\n",
       "      <td>1.923077</td>\n",
       "      <td>0.961538</td>\n",
       "      <td>1.923077</td>\n",
       "      <td>1.923077</td>\n",
       "      <td>4022</td>\n",
       "      <td>88.431545</td>\n",
       "      <td>0.290609</td>\n",
       "    </tr>\n",
       "    <tr>\n",
       "      <th>393</th>\n",
       "      <td>9.50990</td>\n",
       "      <td>6.883912e+04</td>\n",
       "      <td>10.40337</td>\n",
       "      <td>7.530665e+04</td>\n",
       "      <td>34.272301</td>\n",
       "      <td>33.649288</td>\n",
       "      <td>2.843602</td>\n",
       "      <td>7.582938</td>\n",
       "      <td>16.431925</td>\n",
       "      <td>23.696682</td>\n",
       "      <td>1189</td>\n",
       "      <td>19.587225</td>\n",
       "      <td>0.240710</td>\n",
       "    </tr>\n",
       "    <tr>\n",
       "      <th>...</th>\n",
       "      <td>...</td>\n",
       "      <td>...</td>\n",
       "      <td>...</td>\n",
       "      <td>...</td>\n",
       "      <td>...</td>\n",
       "      <td>...</td>\n",
       "      <td>...</td>\n",
       "      <td>...</td>\n",
       "      <td>...</td>\n",
       "      <td>...</td>\n",
       "      <td>...</td>\n",
       "      <td>...</td>\n",
       "      <td>...</td>\n",
       "    </tr>\n",
       "    <tr>\n",
       "      <th>2419</th>\n",
       "      <td>7.82580</td>\n",
       "      <td>1.309236e+07</td>\n",
       "      <td>21.80036</td>\n",
       "      <td>3.647142e+07</td>\n",
       "      <td>27.230047</td>\n",
       "      <td>3.317536</td>\n",
       "      <td>16.587677</td>\n",
       "      <td>26.066351</td>\n",
       "      <td>10.328638</td>\n",
       "      <td>10.900474</td>\n",
       "      <td>6882</td>\n",
       "      <td>90164.682881</td>\n",
       "      <td>973.293619</td>\n",
       "    </tr>\n",
       "    <tr>\n",
       "      <th>213</th>\n",
       "      <td>19.13317</td>\n",
       "      <td>2.726863e+06</td>\n",
       "      <td>15.48557</td>\n",
       "      <td>2.207007e+06</td>\n",
       "      <td>36.538460</td>\n",
       "      <td>54.589371</td>\n",
       "      <td>24.757282</td>\n",
       "      <td>46.116505</td>\n",
       "      <td>42.105263</td>\n",
       "      <td>46.601940</td>\n",
       "      <td>338</td>\n",
       "      <td>9759.536758</td>\n",
       "      <td>74.619213</td>\n",
       "    </tr>\n",
       "    <tr>\n",
       "      <th>1401</th>\n",
       "      <td>26.68975</td>\n",
       "      <td>1.081824e+07</td>\n",
       "      <td>8.31933</td>\n",
       "      <td>3.372101e+06</td>\n",
       "      <td>2.463054</td>\n",
       "      <td>5.714286</td>\n",
       "      <td>7.211538</td>\n",
       "      <td>4.326923</td>\n",
       "      <td>10.576923</td>\n",
       "      <td>3.365385</td>\n",
       "      <td>10441</td>\n",
       "      <td>6115.957946</td>\n",
       "      <td>14.817373</td>\n",
       "    </tr>\n",
       "    <tr>\n",
       "      <th>317</th>\n",
       "      <td>10.96339</td>\n",
       "      <td>2.130466e+06</td>\n",
       "      <td>18.34856</td>\n",
       "      <td>3.565592e+06</td>\n",
       "      <td>17.061611</td>\n",
       "      <td>29.857821</td>\n",
       "      <td>21.052631</td>\n",
       "      <td>24.401915</td>\n",
       "      <td>13.270143</td>\n",
       "      <td>17.224880</td>\n",
       "      <td>1469</td>\n",
       "      <td>36430.310631</td>\n",
       "      <td>32.221924</td>\n",
       "    </tr>\n",
       "    <tr>\n",
       "      <th>2129</th>\n",
       "      <td>6.29573</td>\n",
       "      <td>1.858018e+06</td>\n",
       "      <td>9.08285</td>\n",
       "      <td>2.680563e+06</td>\n",
       "      <td>34.825871</td>\n",
       "      <td>37.037037</td>\n",
       "      <td>51.020409</td>\n",
       "      <td>49.489796</td>\n",
       "      <td>52.970299</td>\n",
       "      <td>50.505051</td>\n",
       "      <td>592</td>\n",
       "      <td>1190.083996</td>\n",
       "      <td>12.336435</td>\n",
       "    </tr>\n",
       "  </tbody>\n",
       "</table>\n",
       "<p>442 rows × 13 columns</p>\n",
       "</div>"
      ],
      "text/plain": [
       "      water_coverage  water_population  sanitation_coverage  \\\n",
       "233         23.56693      3.905327e+06             21.28377   \n",
       "1713        32.31689      1.297357e+07             16.90385   \n",
       "1325        21.69482      2.461355e+06             12.95105   \n",
       "2124         0.00000      0.000000e+00              0.00000   \n",
       "393          9.50990      6.883912e+04             10.40337   \n",
       "...              ...               ...                  ...   \n",
       "2419         7.82580      1.309236e+07             21.80036   \n",
       "213         19.13317      2.726863e+06             15.48557   \n",
       "1401        26.68975      1.081824e+07              8.31933   \n",
       "317         10.96339      2.130466e+06             18.34856   \n",
       "2129         6.29573      1.858018e+06              9.08285   \n",
       "\n",
       "      sanitation_population  voice_and_accountability_  \\\n",
       "233            3.526979e+06                  38.028168   \n",
       "1713           6.786029e+06                  29.064039   \n",
       "1325           1.469343e+06                  17.733990   \n",
       "2124           0.000000e+00                   9.359606   \n",
       "393            7.530665e+04                  34.272301   \n",
       "...                     ...                        ...   \n",
       "2419           3.647142e+07                  27.230047   \n",
       "213            2.207007e+06                  36.538460   \n",
       "1401           3.372101e+06                   2.463054   \n",
       "317            3.565592e+06                  17.061611   \n",
       "2129           2.680563e+06                  34.825871   \n",
       "\n",
       "      political_stability_and_absence_of_violence  government_  \\\n",
       "233                                     27.014217    31.753555   \n",
       "1713                                    20.952381    36.538460   \n",
       "1325                                    35.238094    55.288460   \n",
       "2124                                     2.380952     1.923077   \n",
       "393                                     33.649288     2.843602   \n",
       "...                                           ...          ...   \n",
       "2419                                     3.317536    16.587677   \n",
       "213                                     54.589371    24.757282   \n",
       "1401                                     5.714286     7.211538   \n",
       "317                                     29.857821    21.052631   \n",
       "2129                                    37.037037    51.020409   \n",
       "\n",
       "      regulatory_quality  rule_of_law  control_of_corruption  applied  \\\n",
       "233            47.393364    42.253521              37.914692      507   \n",
       "1713           45.673077    40.865383              13.461538      657   \n",
       "1325           61.057693    60.576923              75.480766     1006   \n",
       "2124            0.961538     1.923077               1.923077     4022   \n",
       "393             7.582938    16.431925              23.696682     1189   \n",
       "...                  ...          ...                    ...      ...   \n",
       "2419           26.066351    10.328638              10.900474     6882   \n",
       "213            46.116505    42.105263              46.601940      338   \n",
       "1401            4.326923    10.576923               3.365385    10441   \n",
       "317            24.401915    13.270143              17.224880     1469   \n",
       "2129           49.489796    52.970299              50.505051      592   \n",
       "\n",
       "             val_x       val_y  \n",
       "233    6064.620747   89.949472  \n",
       "1713  32733.163508   27.026676  \n",
       "1325   4613.234409    7.336154  \n",
       "2124     88.431545    0.290609  \n",
       "393      19.587225    0.240710  \n",
       "...            ...         ...  \n",
       "2419  90164.682881  973.293619  \n",
       "213    9759.536758   74.619213  \n",
       "1401   6115.957946   14.817373  \n",
       "317   36430.310631   32.221924  \n",
       "2129   1190.083996   12.336435  \n",
       "\n",
       "[442 rows x 13 columns]"
      ]
     },
     "execution_count": 30,
     "metadata": {},
     "output_type": "execute_result"
    }
   ],
   "source": [
    "X_train\n"
   ]
  },
  {
   "cell_type": "code",
   "execution_count": 31,
   "metadata": {},
   "outputs": [],
   "source": [
    "def func_train_test(model): #lm= list of models\n",
    "    if model == 'LinearRegression':\n",
    "        LR = LR = linear_model.LinearRegression()\n",
    "        LR.fit(X_train,y_train)\n",
    "        score = LR.score(X_test, y_test)\n",
    "        y_pred= LR.predict(X_test)\n",
    "        return print('R2 score of LR model is: ',r2_score(y_test, y_pred),'& score is: ',score)\n",
    "    elif model == 'KNeighborsRegressor':\n",
    "        KNN = KNeighborsRegressor(n_neighbors=2)\n",
    "        KNN.fit(X_train, y_train)\n",
    "        score = KNN.score(X_test, y_test)\n",
    "        return print('KNeighborscore is: ',score)\n",
    "    elif model == 'MLPRegressor':\n",
    "        regr = MLPRegressor(random_state=1, max_iter=500).fit(X_train, y_train)\n",
    "        regr.predict(X_test)\n",
    "        MLPscore = regr.score(X_test, y_test)\n",
    "        return print('MLPscore is: ',MLPscore)\n",
    "    else:\n",
    "        return print('no model applicable')"
   ]
  },
  {
   "cell_type": "code",
   "execution_count": 32,
   "metadata": {},
   "outputs": [
    {
     "name": "stdout",
     "output_type": "stream",
     "text": [
      "R2 score of LR model is:  0.7612531165778466 & score is:  0.7612531165778466\n"
     ]
    }
   ],
   "source": [
    "func_train_test('LinearRegression')\n"
   ]
  },
  {
   "cell_type": "code",
   "execution_count": 33,
   "metadata": {},
   "outputs": [
    {
     "name": "stdout",
     "output_type": "stream",
     "text": [
      "KNeighborscore is:  0.569669886497047\n"
     ]
    }
   ],
   "source": [
    "func_train_test('KNeighborsRegressor')"
   ]
  },
  {
   "cell_type": "code",
   "execution_count": 34,
   "metadata": {},
   "outputs": [
    {
     "name": "stdout",
     "output_type": "stream",
     "text": [
      "MLPscore is:  0.5709114812786498\n"
     ]
    }
   ],
   "source": [
    "func_train_test('MLPRegressor')\n"
   ]
  },
  {
   "cell_type": "code",
   "execution_count": 35,
   "metadata": {},
   "outputs": [
    {
     "data": {
      "text/plain": [
       "KNeighborsRegressor(n_neighbors=2)"
      ]
     },
     "execution_count": 35,
     "metadata": {},
     "output_type": "execute_result"
    },
    {
     "data": {
      "text/plain": [
       "KNeighborsRegressor(n_neighbors=3)"
      ]
     },
     "execution_count": 35,
     "metadata": {},
     "output_type": "execute_result"
    },
    {
     "data": {
      "text/plain": [
       "KNeighborsRegressor(n_neighbors=4)"
      ]
     },
     "execution_count": 35,
     "metadata": {},
     "output_type": "execute_result"
    },
    {
     "data": {
      "text/plain": [
       "KNeighborsRegressor()"
      ]
     },
     "execution_count": 35,
     "metadata": {},
     "output_type": "execute_result"
    },
    {
     "data": {
      "text/plain": [
       "KNeighborsRegressor(n_neighbors=6)"
      ]
     },
     "execution_count": 35,
     "metadata": {},
     "output_type": "execute_result"
    },
    {
     "data": {
      "text/plain": [
       "KNeighborsRegressor(n_neighbors=7)"
      ]
     },
     "execution_count": 35,
     "metadata": {},
     "output_type": "execute_result"
    },
    {
     "data": {
      "text/plain": [
       "KNeighborsRegressor(n_neighbors=8)"
      ]
     },
     "execution_count": 35,
     "metadata": {},
     "output_type": "execute_result"
    },
    {
     "data": {
      "text/plain": [
       "KNeighborsRegressor(n_neighbors=9)"
      ]
     },
     "execution_count": 35,
     "metadata": {},
     "output_type": "execute_result"
    },
    {
     "data": {
      "text/plain": [
       "KNeighborsRegressor(n_neighbors=10)"
      ]
     },
     "execution_count": 35,
     "metadata": {},
     "output_type": "execute_result"
    },
    {
     "data": {
      "text/plain": [
       "KNeighborsRegressor(n_neighbors=11)"
      ]
     },
     "execution_count": 35,
     "metadata": {},
     "output_type": "execute_result"
    },
    {
     "data": {
      "text/plain": [
       "KNeighborsRegressor(n_neighbors=12)"
      ]
     },
     "execution_count": 35,
     "metadata": {},
     "output_type": "execute_result"
    },
    {
     "data": {
      "text/plain": [
       "KNeighborsRegressor(n_neighbors=13)"
      ]
     },
     "execution_count": 35,
     "metadata": {},
     "output_type": "execute_result"
    },
    {
     "data": {
      "text/plain": [
       "[0.569669886497047,\n",
       " 0.5081612016961541,\n",
       " 0.46919987141825936,\n",
       " 0.4563575594625848,\n",
       " 0.4084561893837232,\n",
       " 0.34567923566171277,\n",
       " 0.30607079977866136,\n",
       " 0.27508892368891047,\n",
       " 0.28308338046745907,\n",
       " 0.24198468358858694,\n",
       " 0.22102134366126713,\n",
       " 0.20188146184048372]"
      ]
     },
     "execution_count": 35,
     "metadata": {},
     "output_type": "execute_result"
    }
   ],
   "source": [
    "scores = []\n",
    "for k in range(2,14):\n",
    "    model = KNeighborsRegressor(n_neighbors=k)\n",
    "    model.fit(X_train, y_train)\n",
    "    scores.append(model.score(X_test, y_test))\n",
    "\n",
    "scores"
   ]
  },
  {
   "cell_type": "code",
   "execution_count": 36,
   "metadata": {},
   "outputs": [
    {
     "data": {
      "text/plain": [
       "<Figure size 360x720 with 0 Axes>"
      ]
     },
     "execution_count": 36,
     "metadata": {},
     "output_type": "execute_result"
    },
    {
     "data": {
      "text/plain": [
       "[<matplotlib.lines.Line2D at 0x11d540f40>]"
      ]
     },
     "execution_count": 36,
     "metadata": {},
     "output_type": "execute_result"
    },
    {
     "data": {
      "text/plain": [
       "Text(0.5, 1.0, 'accuracy scores vs. K Value')"
      ]
     },
     "execution_count": 36,
     "metadata": {},
     "output_type": "execute_result"
    },
    {
     "data": {
      "text/plain": [
       "Text(0.5, 0, 'K')"
      ]
     },
     "execution_count": 36,
     "metadata": {},
     "output_type": "execute_result"
    },
    {
     "data": {
      "text/plain": [
       "Text(0, 0.5, 'Accuracy')"
      ]
     },
     "execution_count": 36,
     "metadata": {},
     "output_type": "execute_result"
    },
    {
     "data": {
      "image/png": "[encoded data removed]",
      "text/plain": [
       "<Figure size 360x720 with 1 Axes>"
      ]
     },
     "metadata": {
      "needs_background": "light"
     },
     "output_type": "display_data"
    }
   ],
   "source": [
    "plt.figure(figsize=(5,10))\n",
    "plt.plot(range(2,14),scores,color = 'blue', linestyle='dashed',\n",
    "         marker='o', markerfacecolor='red', markersize=10)\n",
    "plt.title('accuracy scores vs. K Value')\n",
    "plt.gca().invert_yaxis()\n",
    "plt.xlabel('K')\n",
    "plt.ylabel('Accuracy')\n"
   ]
  },
  {
   "cell_type": "code",
   "execution_count": 37,
   "metadata": {},
   "outputs": [
    {
     "name": "stdout",
     "output_type": "stream",
     "text": [
      "Requirement already satisfied: prophet in /usr/local/Cellar/jupyterlab/3.0.12/libexec/lib/python3.9/site-packages (1.0.1)\n",
      "Requirement already satisfied: Cython>=0.22 in /usr/local/Cellar/jupyterlab/3.0.12/libexec/lib/python3.9/site-packages (from prophet) (0.29.23)\n",
      "Requirement already satisfied: cmdstanpy==0.9.68 in /usr/local/Cellar/jupyterlab/3.0.12/libexec/lib/python3.9/site-packages (from prophet) (0.9.68)\n",
      "Requirement already satisfied: pystan~=2.19.1.1 in /usr/local/Cellar/jupyterlab/3.0.12/libexec/lib/python3.9/site-packages (from prophet) (2.19.1.1)\n",
      "Requirement already satisfied: numpy>=1.15.4 in /usr/local/Cellar/jupyterlab/3.0.12/libexec/lib/python3.9/site-packages (from prophet) (1.20.2)\n",
      "Requirement already satisfied: pandas>=1.0.4 in /usr/local/Cellar/jupyterlab/3.0.12/libexec/lib/python3.9/site-packages (from prophet) (1.2.3)\n",
      "Requirement already satisfied: matplotlib>=2.0.0 in /usr/local/Cellar/jupyterlab/3.0.12/libexec/lib/python3.9/site-packages (from prophet) (3.4.1)\n",
      "Requirement already satisfied: LunarCalendar>=0.0.9 in /usr/local/Cellar/jupyterlab/3.0.12/libexec/lib/python3.9/site-packages (from prophet) (0.0.9)\n",
      "Requirement already satisfied: convertdate>=2.1.2 in /usr/local/Cellar/jupyterlab/3.0.12/libexec/lib/python3.9/site-packages (from prophet) (2.3.2)\n",
      "Requirement already satisfied: holidays>=0.10.2 in /usr/local/Cellar/jupyterlab/3.0.12/libexec/lib/python3.9/site-packages (from prophet) (0.11.1)\n",
      "Requirement already satisfied: setuptools-git>=1.2 in /usr/local/Cellar/jupyterlab/3.0.12/libexec/lib/python3.9/site-packages (from prophet) (1.2)\n",
      "Requirement already satisfied: python-dateutil>=2.8.0 in /usr/local/Cellar/jupyterlab/3.0.12/libexec/lib/python3.9/site-packages (from prophet) (2.8.1)\n",
      "Requirement already satisfied: tqdm>=4.36.1 in /usr/local/Cellar/jupyterlab/3.0.12/libexec/lib/python3.9/site-packages (from prophet) (4.60.0)\n",
      "Requirement already satisfied: ujson in /usr/local/Cellar/jupyterlab/3.0.12/libexec/lib/python3.9/site-packages (from cmdstanpy==0.9.68->prophet) (4.0.2)\n",
      "Requirement already satisfied: pymeeus<=1,>=0.3.13 in /usr/local/Cellar/jupyterlab/3.0.12/libexec/lib/python3.9/site-packages (from convertdate>=2.1.2->prophet) (0.5.11)\n",
      "Requirement already satisfied: pytz>=2014.10 in /usr/local/Cellar/jupyterlab/3.0.12/libexec/lib/python3.9/site-packages (from convertdate>=2.1.2->prophet) (2021.1)\n",
      "Requirement already satisfied: six in /usr/local/Cellar/jupyterlab/3.0.12/libexec/lib/python3.9/site-packages (from holidays>=0.10.2->prophet) (1.15.0)\n",
      "Requirement already satisfied: hijri-converter in /usr/local/Cellar/jupyterlab/3.0.12/libexec/lib/python3.9/site-packages (from holidays>=0.10.2->prophet) (2.1.1)\n",
      "Requirement already satisfied: korean-lunar-calendar in /usr/local/Cellar/jupyterlab/3.0.12/libexec/lib/python3.9/site-packages (from holidays>=0.10.2->prophet) (0.2.1)\n",
      "Requirement already satisfied: ephem>=3.7.5.3 in /usr/local/Cellar/jupyterlab/3.0.12/libexec/lib/python3.9/site-packages (from LunarCalendar>=0.0.9->prophet) (3.7.7.1)\n",
      "Requirement already satisfied: pyparsing>=2.2.1 in /usr/local/Cellar/jupyterlab/3.0.12/libexec/lib/python3.9/site-packages (from matplotlib>=2.0.0->prophet) (2.4.7)\n",
      "Requirement already satisfied: pillow>=6.2.0 in /usr/local/Cellar/jupyterlab/3.0.12/libexec/lib/python3.9/site-packages (from matplotlib>=2.0.0->prophet) (8.2.0)\n",
      "Requirement already satisfied: cycler>=0.10 in /usr/local/Cellar/jupyterlab/3.0.12/libexec/lib/python3.9/site-packages (from matplotlib>=2.0.0->prophet) (0.10.0)\n",
      "Requirement already satisfied: kiwisolver>=1.0.1 in /usr/local/Cellar/jupyterlab/3.0.12/libexec/lib/python3.9/site-packages (from matplotlib>=2.0.0->prophet) (1.3.1)\n"
     ]
    }
   ],
   "source": [
    "import sys\n",
    "!{sys.executable} -m pip install prophet"
   ]
  },
  {
   "cell_type": "code",
   "execution_count": 38,
   "metadata": {},
   "outputs": [],
   "source": [
    "from prophet import Prophet"
   ]
  },
  {
   "cell_type": "code",
   "execution_count": 39,
   "metadata": {},
   "outputs": [
    {
     "name": "stdout",
     "output_type": "stream",
     "text": [
      "Requirement already satisfied: plotly in /usr/local/Cellar/jupyterlab/3.0.12/libexec/lib/python3.9/site-packages (4.14.3)\n",
      "Requirement already satisfied: six in /usr/local/Cellar/jupyterlab/3.0.12/libexec/lib/python3.9/site-packages (from plotly) (1.15.0)\n",
      "Requirement already satisfied: retrying>=1.3.3 in /usr/local/Cellar/jupyterlab/3.0.12/libexec/lib/python3.9/site-packages (from plotly) (1.3.3)\n",
      "Requirement already satisfied: notebook in /usr/local/Cellar/jupyterlab/3.0.12/libexec/lib/python3.9/site-packages (6.2.0)\n",
      "Requirement already satisfied: jinja2 in /usr/local/Cellar/jupyterlab/3.0.12/libexec/lib/python3.9/site-packages (from notebook) (2.11.3)\n",
      "Requirement already satisfied: tornado>=6.1 in /usr/local/Cellar/jupyterlab/3.0.12/libexec/lib/python3.9/site-packages (from notebook) (6.1)\n",
      "Requirement already satisfied: pyzmq>=17 in /usr/local/Cellar/jupyterlab/3.0.12/libexec/lib/python3.9/site-packages (from notebook) (22.0.3)\n",
      "Requirement already satisfied: argon2-cffi in /usr/local/Cellar/jupyterlab/3.0.12/libexec/lib/python3.9/site-packages (from notebook) (20.1.0)\n",
      "Requirement already satisfied: ipython_genutils in /usr/local/Cellar/jupyterlab/3.0.12/libexec/lib/python3.9/site-packages (from notebook) (0.2.0)\n",
      "Requirement already satisfied: traitlets>=4.2.1 in /usr/local/Cellar/jupyterlab/3.0.12/libexec/lib/python3.9/site-packages (from notebook) (5.0.5)\n",
      "Requirement already satisfied: jupyter_core>=4.6.1 in /usr/local/Cellar/jupyterlab/3.0.12/libexec/lib/python3.9/site-packages (from notebook) (4.7.1)\n",
      "Requirement already satisfied: jupyter_client>=5.3.4 in /usr/local/Cellar/jupyterlab/3.0.12/libexec/lib/python3.9/site-packages (from notebook) (6.1.12)\n",
      "Requirement already satisfied: nbformat in /usr/local/Cellar/jupyterlab/3.0.12/libexec/lib/python3.9/site-packages (from notebook) (5.1.2)\n",
      "Requirement already satisfied: nbconvert in /usr/local/Cellar/jupyterlab/3.0.12/libexec/lib/python3.9/site-packages (from notebook) (6.0.7)\n",
      "Requirement already satisfied: ipykernel in /usr/local/Cellar/jupyterlab/3.0.12/libexec/lib/python3.9/site-packages (from notebook) (5.5.0)\n",
      "Requirement already satisfied: Send2Trash>=1.5.0 in /usr/local/Cellar/jupyterlab/3.0.12/libexec/lib/python3.9/site-packages (from notebook) (1.5.0)\n",
      "Requirement already satisfied: terminado>=0.8.3 in /usr/local/Cellar/jupyterlab/3.0.12/libexec/lib/python3.9/site-packages (from notebook) (0.9.3)\n",
      "Requirement already satisfied: prometheus_client in /usr/local/Cellar/jupyterlab/3.0.12/libexec/lib/python3.9/site-packages (from notebook) (0.9.0)\n",
      "Requirement already satisfied: python-dateutil>=2.1 in /usr/local/Cellar/jupyterlab/3.0.12/libexec/lib/python3.9/site-packages (from jupyter_client>=5.3.4->notebook) (2.8.1)\n",
      "Requirement already satisfied: six>=1.5 in /usr/local/Cellar/jupyterlab/3.0.12/libexec/lib/python3.9/site-packages (from python-dateutil>=2.1->jupyter_client>=5.3.4->notebook) (1.15.0)\n",
      "Requirement already satisfied: ptyprocess in /usr/local/Cellar/jupyterlab/3.0.12/libexec/lib/python3.9/site-packages (from terminado>=0.8.3->notebook) (0.7.0)\n",
      "Requirement already satisfied: cffi>=1.0.0 in /usr/local/Cellar/jupyterlab/3.0.12/libexec/lib/python3.9/site-packages (from argon2-cffi->notebook) (1.14.5)\n",
      "Requirement already satisfied: pycparser in /usr/local/Cellar/jupyterlab/3.0.12/libexec/lib/python3.9/site-packages (from cffi>=1.0.0->argon2-cffi->notebook) (2.20)\n",
      "Requirement already satisfied: appnope in /usr/local/Cellar/jupyterlab/3.0.12/libexec/lib/python3.9/site-packages (from ipykernel->notebook) (0.1.2)\n",
      "Requirement already satisfied: ipython>=5.0.0 in /usr/local/Cellar/jupyterlab/3.0.12/libexec/lib/python3.9/site-packages (from ipykernel->notebook) (7.21.0)\n",
      "Requirement already satisfied: setuptools>=18.5 in /usr/local/Cellar/jupyterlab/3.0.12/libexec/lib/python3.9/site-packages (from ipython>=5.0.0->ipykernel->notebook) (54.1.2)\n",
      "Requirement already satisfied: jedi>=0.16 in /usr/local/Cellar/jupyterlab/3.0.12/libexec/lib/python3.9/site-packages (from ipython>=5.0.0->ipykernel->notebook) (0.18.0)\n",
      "Requirement already satisfied: decorator in /usr/local/Cellar/jupyterlab/3.0.12/libexec/lib/python3.9/site-packages (from ipython>=5.0.0->ipykernel->notebook) (4.4.2)\n",
      "Requirement already satisfied: pickleshare in /usr/local/Cellar/jupyterlab/3.0.12/libexec/lib/python3.9/site-packages (from ipython>=5.0.0->ipykernel->notebook) (0.7.5)\n",
      "Requirement already satisfied: prompt_toolkit!=3.0.0,!=3.0.1,<3.1.0,>=2.0.0 in /usr/local/Cellar/jupyterlab/3.0.12/libexec/lib/python3.9/site-packages (from ipython>=5.0.0->ipykernel->notebook) (3.0.17)\n",
      "Requirement already satisfied: pygments in /usr/local/Cellar/jupyterlab/3.0.12/libexec/lib/python3.9/site-packages (from ipython>=5.0.0->ipykernel->notebook) (2.8.1)\n",
      "Requirement already satisfied: backcall in /usr/local/Cellar/jupyterlab/3.0.12/libexec/lib/python3.9/site-packages (from ipython>=5.0.0->ipykernel->notebook) (0.2.0)\n",
      "Requirement already satisfied: pexpect>4.3 in /usr/local/Cellar/jupyterlab/3.0.12/libexec/lib/python3.9/site-packages (from ipython>=5.0.0->ipykernel->notebook) (4.8.0)\n",
      "Requirement already satisfied: parso<0.9.0,>=0.8.0 in /usr/local/Cellar/jupyterlab/3.0.12/libexec/lib/python3.9/site-packages (from jedi>=0.16->ipython>=5.0.0->ipykernel->notebook) (0.8.1)\n",
      "Requirement already satisfied: wcwidth in /usr/local/Cellar/jupyterlab/3.0.12/libexec/lib/python3.9/site-packages (from prompt_toolkit!=3.0.0,!=3.0.1,<3.1.0,>=2.0.0->ipython>=5.0.0->ipykernel->notebook) (0.2.5)\n",
      "Requirement already satisfied: MarkupSafe>=0.23 in /usr/local/Cellar/jupyterlab/3.0.12/libexec/lib/python3.9/site-packages (from jinja2->notebook) (1.1.1)\n",
      "Requirement already satisfied: mistune<2,>=0.8.1 in /usr/local/Cellar/jupyterlab/3.0.12/libexec/lib/python3.9/site-packages (from nbconvert->notebook) (0.8.4)\n",
      "Requirement already satisfied: jupyterlab_pygments in /usr/local/Cellar/jupyterlab/3.0.12/libexec/lib/python3.9/site-packages (from nbconvert->notebook) (0.1.2)\n",
      "Requirement already satisfied: entrypoints>=0.2.2 in /usr/local/Cellar/jupyterlab/3.0.12/libexec/lib/python3.9/site-packages (from nbconvert->notebook) (0.3)\n",
      "Requirement already satisfied: bleach in /usr/local/Cellar/jupyterlab/3.0.12/libexec/lib/python3.9/site-packages (from nbconvert->notebook) (3.3.0)\n",
      "Requirement already satisfied: pandocfilters>=1.4.1 in /usr/local/Cellar/jupyterlab/3.0.12/libexec/lib/python3.9/site-packages (from nbconvert->notebook) (1.4.3)\n",
      "Requirement already satisfied: testpath in /usr/local/Cellar/jupyterlab/3.0.12/libexec/lib/python3.9/site-packages (from nbconvert->notebook) (0.4.4)\n",
      "Requirement already satisfied: defusedxml in /usr/local/Cellar/jupyterlab/3.0.12/libexec/lib/python3.9/site-packages (from nbconvert->notebook) (0.7.1)\n",
      "Requirement already satisfied: nbclient<0.6.0,>=0.5.0 in /usr/local/Cellar/jupyterlab/3.0.12/libexec/lib/python3.9/site-packages (from nbconvert->notebook) (0.5.3)\n",
      "Requirement already satisfied: async-generator in /usr/local/Cellar/jupyterlab/3.0.12/libexec/lib/python3.9/site-packages (from nbclient<0.6.0,>=0.5.0->nbconvert->notebook) (1.10)\n",
      "Requirement already satisfied: nest-asyncio in /usr/local/Cellar/jupyterlab/3.0.12/libexec/lib/python3.9/site-packages (from nbclient<0.6.0,>=0.5.0->nbconvert->notebook) (1.5.1)\n",
      "Requirement already satisfied: jsonschema!=2.5.0,>=2.4 in /usr/local/Cellar/jupyterlab/3.0.12/libexec/lib/python3.9/site-packages (from nbformat->notebook) (3.2.0)\n",
      "Requirement already satisfied: pyrsistent>=0.14.0 in /usr/local/Cellar/jupyterlab/3.0.12/libexec/lib/python3.9/site-packages (from jsonschema!=2.5.0,>=2.4->nbformat->notebook) (0.17.3)\n",
      "Requirement already satisfied: attrs>=17.4.0 in /usr/local/Cellar/jupyterlab/3.0.12/libexec/lib/python3.9/site-packages (from jsonschema!=2.5.0,>=2.4->nbformat->notebook) (20.3.0)\n",
      "Requirement already satisfied: packaging in /usr/local/Cellar/jupyterlab/3.0.12/libexec/lib/python3.9/site-packages (from bleach->nbconvert->notebook) (20.9)\n",
      "Requirement already satisfied: webencodings in /usr/local/Cellar/jupyterlab/3.0.12/libexec/lib/python3.9/site-packages (from bleach->nbconvert->notebook) (0.5.1)\n",
      "Requirement already satisfied: pyparsing>=2.0.2 in /usr/local/Cellar/jupyterlab/3.0.12/libexec/lib/python3.9/site-packages (from packaging->bleach->nbconvert->notebook) (2.4.7)\n"
     ]
    },
    {
     "name": "stdout",
     "output_type": "stream",
     "text": [
      "Requirement already satisfied: ipywidgets in /usr/local/Cellar/jupyterlab/3.0.12/libexec/lib/python3.9/site-packages (7.6.3)\n",
      "Requirement already satisfied: ipython>=4.0.0 in /usr/local/Cellar/jupyterlab/3.0.12/libexec/lib/python3.9/site-packages (from ipywidgets) (7.21.0)\n",
      "Requirement already satisfied: traitlets>=4.3.1 in /usr/local/Cellar/jupyterlab/3.0.12/libexec/lib/python3.9/site-packages (from ipywidgets) (5.0.5)\n",
      "Requirement already satisfied: widgetsnbextension~=3.5.0 in /usr/local/Cellar/jupyterlab/3.0.12/libexec/lib/python3.9/site-packages (from ipywidgets) (3.5.1)\n",
      "Requirement already satisfied: nbformat>=4.2.0 in /usr/local/Cellar/jupyterlab/3.0.12/libexec/lib/python3.9/site-packages (from ipywidgets) (5.1.2)\n",
      "Requirement already satisfied: ipykernel>=4.5.1 in /usr/local/Cellar/jupyterlab/3.0.12/libexec/lib/python3.9/site-packages (from ipywidgets) (5.5.0)\n",
      "Requirement already satisfied: jupyterlab-widgets>=1.0.0 in /usr/local/Cellar/jupyterlab/3.0.12/libexec/lib/python3.9/site-packages (from ipywidgets) (1.0.0)\n",
      "Requirement already satisfied: jupyter-client in /usr/local/Cellar/jupyterlab/3.0.12/libexec/lib/python3.9/site-packages (from ipykernel>=4.5.1->ipywidgets) (6.1.12)\n",
      "Requirement already satisfied: appnope in /usr/local/Cellar/jupyterlab/3.0.12/libexec/lib/python3.9/site-packages (from ipykernel>=4.5.1->ipywidgets) (0.1.2)\n",
      "Requirement already satisfied: tornado>=4.2 in /usr/local/Cellar/jupyterlab/3.0.12/libexec/lib/python3.9/site-packages (from ipykernel>=4.5.1->ipywidgets) (6.1)\n",
      "Requirement already satisfied: setuptools>=18.5 in /usr/local/Cellar/jupyterlab/3.0.12/libexec/lib/python3.9/site-packages (from ipython>=4.0.0->ipywidgets) (54.1.2)\n",
      "Requirement already satisfied: jedi>=0.16 in /usr/local/Cellar/jupyterlab/3.0.12/libexec/lib/python3.9/site-packages (from ipython>=4.0.0->ipywidgets) (0.18.0)\n",
      "Requirement already satisfied: decorator in /usr/local/Cellar/jupyterlab/3.0.12/libexec/lib/python3.9/site-packages (from ipython>=4.0.0->ipywidgets) (4.4.2)\n",
      "Requirement already satisfied: pickleshare in /usr/local/Cellar/jupyterlab/3.0.12/libexec/lib/python3.9/site-packages (from ipython>=4.0.0->ipywidgets) (0.7.5)\n",
      "Requirement already satisfied: prompt_toolkit!=3.0.0,!=3.0.1,<3.1.0,>=2.0.0 in /usr/local/Cellar/jupyterlab/3.0.12/libexec/lib/python3.9/site-packages (from ipython>=4.0.0->ipywidgets) (3.0.17)\n",
      "Requirement already satisfied: pygments in /usr/local/Cellar/jupyterlab/3.0.12/libexec/lib/python3.9/site-packages (from ipython>=4.0.0->ipywidgets) (2.8.1)\n",
      "Requirement already satisfied: backcall in /usr/local/Cellar/jupyterlab/3.0.12/libexec/lib/python3.9/site-packages (from ipython>=4.0.0->ipywidgets) (0.2.0)\n",
      "Requirement already satisfied: pexpect>4.3 in /usr/local/Cellar/jupyterlab/3.0.12/libexec/lib/python3.9/site-packages (from ipython>=4.0.0->ipywidgets) (4.8.0)\n",
      "Requirement already satisfied: parso<0.9.0,>=0.8.0 in /usr/local/Cellar/jupyterlab/3.0.12/libexec/lib/python3.9/site-packages (from jedi>=0.16->ipython>=4.0.0->ipywidgets) (0.8.1)\n",
      "Requirement already satisfied: ipython_genutils in /usr/local/Cellar/jupyterlab/3.0.12/libexec/lib/python3.9/site-packages (from nbformat>=4.2.0->ipywidgets) (0.2.0)\n",
      "Requirement already satisfied: jsonschema!=2.5.0,>=2.4 in /usr/local/Cellar/jupyterlab/3.0.12/libexec/lib/python3.9/site-packages (from nbformat>=4.2.0->ipywidgets) (3.2.0)\n",
      "Requirement already satisfied: jupyter_core in /usr/local/Cellar/jupyterlab/3.0.12/libexec/lib/python3.9/site-packages (from nbformat>=4.2.0->ipywidgets) (4.7.1)\n",
      "Requirement already satisfied: attrs>=17.4.0 in /usr/local/Cellar/jupyterlab/3.0.12/libexec/lib/python3.9/site-packages (from jsonschema!=2.5.0,>=2.4->nbformat>=4.2.0->ipywidgets) (20.3.0)\n",
      "Requirement already satisfied: six>=1.11.0 in /usr/local/Cellar/jupyterlab/3.0.12/libexec/lib/python3.9/site-packages (from jsonschema!=2.5.0,>=2.4->nbformat>=4.2.0->ipywidgets) (1.15.0)\n",
      "Requirement already satisfied: pyrsistent>=0.14.0 in /usr/local/Cellar/jupyterlab/3.0.12/libexec/lib/python3.9/site-packages (from jsonschema!=2.5.0,>=2.4->nbformat>=4.2.0->ipywidgets) (0.17.3)\n",
      "Requirement already satisfied: ptyprocess>=0.5 in /usr/local/Cellar/jupyterlab/3.0.12/libexec/lib/python3.9/site-packages (from pexpect>4.3->ipython>=4.0.0->ipywidgets) (0.7.0)\n",
      "Requirement already satisfied: wcwidth in /usr/local/Cellar/jupyterlab/3.0.12/libexec/lib/python3.9/site-packages (from prompt_toolkit!=3.0.0,!=3.0.1,<3.1.0,>=2.0.0->ipython>=4.0.0->ipywidgets) (0.2.5)\n",
      "Requirement already satisfied: notebook>=4.4.1 in /usr/local/Cellar/jupyterlab/3.0.12/libexec/lib/python3.9/site-packages (from widgetsnbextension~=3.5.0->ipywidgets) (6.2.0)\n",
      "Requirement already satisfied: jinja2 in /usr/local/Cellar/jupyterlab/3.0.12/libexec/lib/python3.9/site-packages (from notebook>=4.4.1->widgetsnbextension~=3.5.0->ipywidgets) (2.11.3)\n",
      "Requirement already satisfied: pyzmq>=17 in /usr/local/Cellar/jupyterlab/3.0.12/libexec/lib/python3.9/site-packages (from notebook>=4.4.1->widgetsnbextension~=3.5.0->ipywidgets) (22.0.3)\n",
      "Requirement already satisfied: argon2-cffi in /usr/local/Cellar/jupyterlab/3.0.12/libexec/lib/python3.9/site-packages (from notebook>=4.4.1->widgetsnbextension~=3.5.0->ipywidgets) (20.1.0)\n",
      "Requirement already satisfied: nbconvert in /usr/local/Cellar/jupyterlab/3.0.12/libexec/lib/python3.9/site-packages (from notebook>=4.4.1->widgetsnbextension~=3.5.0->ipywidgets) (6.0.7)\n",
      "Requirement already satisfied: Send2Trash>=1.5.0 in /usr/local/Cellar/jupyterlab/3.0.12/libexec/lib/python3.9/site-packages (from notebook>=4.4.1->widgetsnbextension~=3.5.0->ipywidgets) (1.5.0)\n",
      "Requirement already satisfied: terminado>=0.8.3 in /usr/local/Cellar/jupyterlab/3.0.12/libexec/lib/python3.9/site-packages (from notebook>=4.4.1->widgetsnbextension~=3.5.0->ipywidgets) (0.9.3)\n",
      "Requirement already satisfied: prometheus_client in /usr/local/Cellar/jupyterlab/3.0.12/libexec/lib/python3.9/site-packages (from notebook>=4.4.1->widgetsnbextension~=3.5.0->ipywidgets) (0.9.0)\n",
      "Requirement already satisfied: python-dateutil>=2.1 in /usr/local/Cellar/jupyterlab/3.0.12/libexec/lib/python3.9/site-packages (from jupyter-client->ipykernel>=4.5.1->ipywidgets) (2.8.1)\n",
      "Requirement already satisfied: cffi>=1.0.0 in /usr/local/Cellar/jupyterlab/3.0.12/libexec/lib/python3.9/site-packages (from argon2-cffi->notebook>=4.4.1->widgetsnbextension~=3.5.0->ipywidgets) (1.14.5)\n",
      "Requirement already satisfied: pycparser in /usr/local/Cellar/jupyterlab/3.0.12/libexec/lib/python3.9/site-packages (from cffi>=1.0.0->argon2-cffi->notebook>=4.4.1->widgetsnbextension~=3.5.0->ipywidgets) (2.20)\n",
      "Requirement already satisfied: MarkupSafe>=0.23 in /usr/local/Cellar/jupyterlab/3.0.12/libexec/lib/python3.9/site-packages (from jinja2->notebook>=4.4.1->widgetsnbextension~=3.5.0->ipywidgets) (1.1.1)\n",
      "Requirement already satisfied: mistune<2,>=0.8.1 in /usr/local/Cellar/jupyterlab/3.0.12/libexec/lib/python3.9/site-packages (from nbconvert->notebook>=4.4.1->widgetsnbextension~=3.5.0->ipywidgets) (0.8.4)\n",
      "Requirement already satisfied: jupyterlab_pygments in /usr/local/Cellar/jupyterlab/3.0.12/libexec/lib/python3.9/site-packages (from nbconvert->notebook>=4.4.1->widgetsnbextension~=3.5.0->ipywidgets) (0.1.2)\n",
      "Requirement already satisfied: entrypoints>=0.2.2 in /usr/local/Cellar/jupyterlab/3.0.12/libexec/lib/python3.9/site-packages (from nbconvert->notebook>=4.4.1->widgetsnbextension~=3.5.0->ipywidgets) (0.3)\n",
      "Requirement already satisfied: bleach in /usr/local/Cellar/jupyterlab/3.0.12/libexec/lib/python3.9/site-packages (from nbconvert->notebook>=4.4.1->widgetsnbextension~=3.5.0->ipywidgets) (3.3.0)\n",
      "Requirement already satisfied: pandocfilters>=1.4.1 in /usr/local/Cellar/jupyterlab/3.0.12/libexec/lib/python3.9/site-packages (from nbconvert->notebook>=4.4.1->widgetsnbextension~=3.5.0->ipywidgets) (1.4.3)\n",
      "Requirement already satisfied: testpath in /usr/local/Cellar/jupyterlab/3.0.12/libexec/lib/python3.9/site-packages (from nbconvert->notebook>=4.4.1->widgetsnbextension~=3.5.0->ipywidgets) (0.4.4)\n",
      "Requirement already satisfied: defusedxml in /usr/local/Cellar/jupyterlab/3.0.12/libexec/lib/python3.9/site-packages (from nbconvert->notebook>=4.4.1->widgetsnbextension~=3.5.0->ipywidgets) (0.7.1)\n",
      "Requirement already satisfied: nbclient<0.6.0,>=0.5.0 in /usr/local/Cellar/jupyterlab/3.0.12/libexec/lib/python3.9/site-packages (from nbconvert->notebook>=4.4.1->widgetsnbextension~=3.5.0->ipywidgets) (0.5.3)\n",
      "Requirement already satisfied: nest-asyncio in /usr/local/Cellar/jupyterlab/3.0.12/libexec/lib/python3.9/site-packages (from nbclient<0.6.0,>=0.5.0->nbconvert->notebook>=4.4.1->widgetsnbextension~=3.5.0->ipywidgets) (1.5.1)\n",
      "Requirement already satisfied: async-generator in /usr/local/Cellar/jupyterlab/3.0.12/libexec/lib/python3.9/site-packages (from nbclient<0.6.0,>=0.5.0->nbconvert->notebook>=4.4.1->widgetsnbextension~=3.5.0->ipywidgets) (1.10)\n"
     ]
    },
    {
     "name": "stdout",
     "output_type": "stream",
     "text": [
      "Requirement already satisfied: packaging in /usr/local/Cellar/jupyterlab/3.0.12/libexec/lib/python3.9/site-packages (from bleach->nbconvert->notebook>=4.4.1->widgetsnbextension~=3.5.0->ipywidgets) (20.9)\r\n",
      "Requirement already satisfied: webencodings in /usr/local/Cellar/jupyterlab/3.0.12/libexec/lib/python3.9/site-packages (from bleach->nbconvert->notebook>=4.4.1->widgetsnbextension~=3.5.0->ipywidgets) (0.5.1)\r\n",
      "Requirement already satisfied: pyparsing>=2.0.2 in /usr/local/Cellar/jupyterlab/3.0.12/libexec/lib/python3.9/site-packages (from packaging->bleach->nbconvert->notebook>=4.4.1->widgetsnbextension~=3.5.0->ipywidgets) (2.4.7)\r\n"
     ]
    }
   ],
   "source": [
    "import sys\n",
    "!{sys.executable} -m pip install plotly\n",
    "!{sys.executable} -m pip install notebook\n",
    "!{sys.executable} -m pip install ipywidgets"
   ]
  },
  {
   "cell_type": "code",
   "execution_count": 40,
   "metadata": {},
   "outputs": [
    {
     "data": {
      "text/html": [
       "<div>\n",
       "<style scoped>\n",
       "    .dataframe tbody tr th:only-of-type {\n",
       "        vertical-align: middle;\n",
       "    }\n",
       "\n",
       "    .dataframe tbody tr th {\n",
       "        vertical-align: top;\n",
       "    }\n",
       "\n",
       "    .dataframe thead th {\n",
       "        text-align: right;\n",
       "    }\n",
       "</style>\n",
       "<table border=\"1\" class=\"dataframe\">\n",
       "  <thead>\n",
       "    <tr style=\"text-align: right;\">\n",
       "      <th></th>\n",
       "      <th>Unnamed: 0</th>\n",
       "      <th>country</th>\n",
       "      <th>year</th>\n",
       "      <th>water_coverage</th>\n",
       "      <th>water_population</th>\n",
       "      <th>service_level</th>\n",
       "      <th>sanitation_coverage</th>\n",
       "      <th>sanitation_population</th>\n",
       "      <th>voice_and_accountability_</th>\n",
       "      <th>political_stability_and_absence_of_violence</th>\n",
       "      <th>government_</th>\n",
       "      <th>regulatory_quality</th>\n",
       "      <th>rule_of_law</th>\n",
       "      <th>control_of_corruption</th>\n",
       "      <th>applied</th>\n",
       "      <th>total</th>\n",
       "      <th>val_x</th>\n",
       "      <th>val_y</th>\n",
       "    </tr>\n",
       "  </thead>\n",
       "  <tbody>\n",
       "    <tr>\n",
       "      <th>0</th>\n",
       "      <td>1</td>\n",
       "      <td>Angola</td>\n",
       "      <td>2002</td>\n",
       "      <td>20.01438</td>\n",
       "      <td>3.517056e+06</td>\n",
       "      <td>Limited service</td>\n",
       "      <td>12.41406</td>\n",
       "      <td>2.181480e+06</td>\n",
       "      <td>12.935324</td>\n",
       "      <td>9.523809</td>\n",
       "      <td>8.163265</td>\n",
       "      <td>6.632653</td>\n",
       "      <td>2.970297</td>\n",
       "      <td>6.565657</td>\n",
       "      <td>5758</td>\n",
       "      <td>15744</td>\n",
       "      <td>8796.521342</td>\n",
       "      <td>171.346316</td>\n",
       "    </tr>\n",
       "    <tr>\n",
       "      <th>1</th>\n",
       "      <td>5</td>\n",
       "      <td>Angola</td>\n",
       "      <td>2003</td>\n",
       "      <td>19.40718</td>\n",
       "      <td>3.532760e+06</td>\n",
       "      <td>Limited service</td>\n",
       "      <td>12.98003</td>\n",
       "      <td>2.362802e+06</td>\n",
       "      <td>10.945273</td>\n",
       "      <td>19.597990</td>\n",
       "      <td>9.183674</td>\n",
       "      <td>11.224490</td>\n",
       "      <td>4.455446</td>\n",
       "      <td>5.555555</td>\n",
       "      <td>4035</td>\n",
       "      <td>14057</td>\n",
       "      <td>9819.589107</td>\n",
       "      <td>164.473562</td>\n",
       "    </tr>\n",
       "    <tr>\n",
       "      <th>2</th>\n",
       "      <td>9</td>\n",
       "      <td>Angola</td>\n",
       "      <td>2004</td>\n",
       "      <td>18.79056</td>\n",
       "      <td>3.544974e+06</td>\n",
       "      <td>Limited service</td>\n",
       "      <td>13.55016</td>\n",
       "      <td>2.556334e+06</td>\n",
       "      <td>11.538462</td>\n",
       "      <td>16.504854</td>\n",
       "      <td>6.403941</td>\n",
       "      <td>9.852217</td>\n",
       "      <td>5.741627</td>\n",
       "      <td>7.804878</td>\n",
       "      <td>4004</td>\n",
       "      <td>11940</td>\n",
       "      <td>10853.375345</td>\n",
       "      <td>166.662138</td>\n",
       "    </tr>\n",
       "    <tr>\n",
       "      <th>3</th>\n",
       "      <td>13</td>\n",
       "      <td>Angola</td>\n",
       "      <td>2005</td>\n",
       "      <td>18.16428</td>\n",
       "      <td>3.551578e+06</td>\n",
       "      <td>Limited service</td>\n",
       "      <td>14.12307</td>\n",
       "      <td>2.761419e+06</td>\n",
       "      <td>12.019231</td>\n",
       "      <td>21.359222</td>\n",
       "      <td>12.254902</td>\n",
       "      <td>10.294118</td>\n",
       "      <td>7.177033</td>\n",
       "      <td>7.317073</td>\n",
       "      <td>3168</td>\n",
       "      <td>12003</td>\n",
       "      <td>11756.413023</td>\n",
       "      <td>157.578053</td>\n",
       "    </tr>\n",
       "    <tr>\n",
       "      <th>4</th>\n",
       "      <td>17</td>\n",
       "      <td>Angola</td>\n",
       "      <td>2006</td>\n",
       "      <td>17.50080</td>\n",
       "      <td>3.546083e+06</td>\n",
       "      <td>Limited service</td>\n",
       "      <td>14.61931</td>\n",
       "      <td>2.962223e+06</td>\n",
       "      <td>11.538462</td>\n",
       "      <td>27.536232</td>\n",
       "      <td>5.853659</td>\n",
       "      <td>13.235294</td>\n",
       "      <td>9.090909</td>\n",
       "      <td>7.804878</td>\n",
       "      <td>2525</td>\n",
       "      <td>9807</td>\n",
       "      <td>12350.510032</td>\n",
       "      <td>144.658240</td>\n",
       "    </tr>\n",
       "  </tbody>\n",
       "</table>\n",
       "</div>"
      ],
      "text/plain": [
       "   Unnamed: 0 country  year  water_coverage  water_population  \\\n",
       "0           1  Angola  2002        20.01438      3.517056e+06   \n",
       "1           5  Angola  2003        19.40718      3.532760e+06   \n",
       "2           9  Angola  2004        18.79056      3.544974e+06   \n",
       "3          13  Angola  2005        18.16428      3.551578e+06   \n",
       "4          17  Angola  2006        17.50080      3.546083e+06   \n",
       "\n",
       "     service_level  sanitation_coverage  sanitation_population  \\\n",
       "0  Limited service             12.41406           2.181480e+06   \n",
       "1  Limited service             12.98003           2.362802e+06   \n",
       "2  Limited service             13.55016           2.556334e+06   \n",
       "3  Limited service             14.12307           2.761419e+06   \n",
       "4  Limited service             14.61931           2.962223e+06   \n",
       "\n",
       "   voice_and_accountability_  political_stability_and_absence_of_violence  \\\n",
       "0                  12.935324                                     9.523809   \n",
       "1                  10.945273                                    19.597990   \n",
       "2                  11.538462                                    16.504854   \n",
       "3                  12.019231                                    21.359222   \n",
       "4                  11.538462                                    27.536232   \n",
       "\n",
       "   government_  regulatory_quality  rule_of_law  control_of_corruption  \\\n",
       "0     8.163265            6.632653     2.970297               6.565657   \n",
       "1     9.183674           11.224490     4.455446               5.555555   \n",
       "2     6.403941            9.852217     5.741627               7.804878   \n",
       "3    12.254902           10.294118     7.177033               7.317073   \n",
       "4     5.853659           13.235294     9.090909               7.804878   \n",
       "\n",
       "   applied  total         val_x       val_y  \n",
       "0     5758  15744   8796.521342  171.346316  \n",
       "1     4035  14057   9819.589107  164.473562  \n",
       "2     4004  11940  10853.375345  166.662138  \n",
       "3     3168  12003  11756.413023  157.578053  \n",
       "4     2525   9807  12350.510032  144.658240  "
      ]
     },
     "execution_count": 40,
     "metadata": {},
     "output_type": "execute_result"
    }
   ],
   "source": [
    "data_ts = pd.read_csv(\"/Users/deshdeepak/ironhack/UNHCR/new_data/datav1.csv\")\n",
    "data_ts.head()\n",
    "\n",
    "\n",
    "                      "
   ]
  },
  {
   "cell_type": "code",
   "execution_count": 61,
   "metadata": {},
   "outputs": [
    {
     "data": {
      "text/html": [
       "<div>\n",
       "<style scoped>\n",
       "    .dataframe tbody tr th:only-of-type {\n",
       "        vertical-align: middle;\n",
       "    }\n",
       "\n",
       "    .dataframe tbody tr th {\n",
       "        vertical-align: top;\n",
       "    }\n",
       "\n",
       "    .dataframe thead th {\n",
       "        text-align: right;\n",
       "    }\n",
       "</style>\n",
       "<table border=\"1\" class=\"dataframe\">\n",
       "  <thead>\n",
       "    <tr style=\"text-align: right;\">\n",
       "      <th></th>\n",
       "      <th>country</th>\n",
       "      <th>ds</th>\n",
       "      <th>y</th>\n",
       "    </tr>\n",
       "  </thead>\n",
       "  <tbody>\n",
       "    <tr>\n",
       "      <th>0</th>\n",
       "      <td>Angola</td>\n",
       "      <td>2002</td>\n",
       "      <td>15744</td>\n",
       "    </tr>\n",
       "    <tr>\n",
       "      <th>1</th>\n",
       "      <td>Angola</td>\n",
       "      <td>2003</td>\n",
       "      <td>14057</td>\n",
       "    </tr>\n",
       "    <tr>\n",
       "      <th>2</th>\n",
       "      <td>Angola</td>\n",
       "      <td>2004</td>\n",
       "      <td>11940</td>\n",
       "    </tr>\n",
       "    <tr>\n",
       "      <th>3</th>\n",
       "      <td>Angola</td>\n",
       "      <td>2005</td>\n",
       "      <td>12003</td>\n",
       "    </tr>\n",
       "    <tr>\n",
       "      <th>4</th>\n",
       "      <td>Angola</td>\n",
       "      <td>2006</td>\n",
       "      <td>9807</td>\n",
       "    </tr>\n",
       "  </tbody>\n",
       "</table>\n",
       "</div>"
      ],
      "text/plain": [
       "  country    ds      y\n",
       "0  Angola  2002  15744\n",
       "1  Angola  2003  14057\n",
       "2  Angola  2004  11940\n",
       "3  Angola  2005  12003\n",
       "4  Angola  2006   9807"
      ]
     },
     "execution_count": 61,
     "metadata": {},
     "output_type": "execute_result"
    }
   ],
   "source": [
    "data_ts_f = data_ts[['year','total']]\n",
    "\n",
    "\n",
    "data_ts_f = data_ts_f.rename(columns={'year':'ds','total':'y'})\n",
    "data_ts_f.head()"
   ]
  },
  {
   "cell_type": "code",
   "execution_count": 71,
   "metadata": {},
   "outputs": [],
   "source": [
    "angola = data_ts_f[data_ts_f['country']=='Angola']"
   ]
  },
  {
   "cell_type": "code",
   "execution_count": 73,
   "metadata": {},
   "outputs": [
    {
     "name": "stderr",
     "output_type": "stream",
     "text": [
      "INFO:prophet:Disabling weekly seasonality. Run prophet with weekly_seasonality=True to override this.\n",
      "INFO:prophet:Disabling daily seasonality. Run prophet with daily_seasonality=True to override this.\n",
      "INFO:prophet:n_changepoints greater than number of observations. Using 11.\n"
     ]
    },
    {
     "data": {
      "text/plain": [
       "<prophet.forecaster.Prophet at 0x1200a78e0>"
      ]
     },
     "execution_count": 73,
     "metadata": {},
     "output_type": "execute_result"
    }
   ],
   "source": [
    "m=Prophet()\n",
    "m.fit(angola)"
   ]
  },
  {
   "cell_type": "code",
   "execution_count": 75,
   "metadata": {},
   "outputs": [
    {
     "data": {
      "text/html": [
       "<div>\n",
       "<style scoped>\n",
       "    .dataframe tbody tr th:only-of-type {\n",
       "        vertical-align: middle;\n",
       "    }\n",
       "\n",
       "    .dataframe tbody tr th {\n",
       "        vertical-align: top;\n",
       "    }\n",
       "\n",
       "    .dataframe thead th {\n",
       "        text-align: right;\n",
       "    }\n",
       "</style>\n",
       "<table border=\"1\" class=\"dataframe\">\n",
       "  <thead>\n",
       "    <tr style=\"text-align: right;\">\n",
       "      <th></th>\n",
       "      <th>ds</th>\n",
       "    </tr>\n",
       "  </thead>\n",
       "  <tbody>\n",
       "    <tr>\n",
       "      <th>13</th>\n",
       "      <td>1970-01-01 00:00:00.000002015</td>\n",
       "    </tr>\n",
       "    <tr>\n",
       "      <th>14</th>\n",
       "      <td>1970-01-01 00:00:00.000002016</td>\n",
       "    </tr>\n",
       "    <tr>\n",
       "      <th>15</th>\n",
       "      <td>1970-01-01 00:00:00.000002017</td>\n",
       "    </tr>\n",
       "    <tr>\n",
       "      <th>16</th>\n",
       "      <td>1971-01-01 00:00:00.000002017</td>\n",
       "    </tr>\n",
       "    <tr>\n",
       "      <th>17</th>\n",
       "      <td>1972-01-01 00:00:00.000002017</td>\n",
       "    </tr>\n",
       "  </tbody>\n",
       "</table>\n",
       "</div>"
      ],
      "text/plain": [
       "                              ds\n",
       "13 1970-01-01 00:00:00.000002015\n",
       "14 1970-01-01 00:00:00.000002016\n",
       "15 1970-01-01 00:00:00.000002017\n",
       "16 1971-01-01 00:00:00.000002017\n",
       "17 1972-01-01 00:00:00.000002017"
      ]
     },
     "execution_count": 75,
     "metadata": {},
     "output_type": "execute_result"
    }
   ],
   "source": [
    "\n",
    "future = m.make_future_dataframe(periods=2,freq='YS')\n",
    "future.tail()"
   ]
  },
  {
   "cell_type": "code",
   "execution_count": 76,
   "metadata": {},
   "outputs": [
    {
     "data": {
      "text/html": [
       "<div>\n",
       "<style scoped>\n",
       "    .dataframe tbody tr th:only-of-type {\n",
       "        vertical-align: middle;\n",
       "    }\n",
       "\n",
       "    .dataframe tbody tr th {\n",
       "        vertical-align: top;\n",
       "    }\n",
       "\n",
       "    .dataframe thead th {\n",
       "        text-align: right;\n",
       "    }\n",
       "</style>\n",
       "<table border=\"1\" class=\"dataframe\">\n",
       "  <thead>\n",
       "    <tr style=\"text-align: right;\">\n",
       "      <th></th>\n",
       "      <th>ds</th>\n",
       "      <th>yhat</th>\n",
       "      <th>yhat_lower</th>\n",
       "      <th>yhat_upper</th>\n",
       "    </tr>\n",
       "  </thead>\n",
       "  <tbody>\n",
       "    <tr>\n",
       "      <th>13</th>\n",
       "      <td>1970-01-01 00:00:00.000002015</td>\n",
       "      <td>32212.543356</td>\n",
       "      <td>30921.088302</td>\n",
       "      <td>33486.575632</td>\n",
       "    </tr>\n",
       "    <tr>\n",
       "      <th>14</th>\n",
       "      <td>1970-01-01 00:00:00.000002016</td>\n",
       "      <td>32212.543356</td>\n",
       "      <td>30920.140568</td>\n",
       "      <td>33426.350505</td>\n",
       "    </tr>\n",
       "    <tr>\n",
       "      <th>15</th>\n",
       "      <td>1970-01-01 00:00:00.000002017</td>\n",
       "      <td>32212.543356</td>\n",
       "      <td>30974.322882</td>\n",
       "      <td>33437.509056</td>\n",
       "    </tr>\n",
       "    <tr>\n",
       "      <th>16</th>\n",
       "      <td>1971-01-01 00:00:00.000002017</td>\n",
       "      <td>31520.594894</td>\n",
       "      <td>30190.832613</td>\n",
       "      <td>32786.542473</td>\n",
       "    </tr>\n",
       "    <tr>\n",
       "      <th>17</th>\n",
       "      <td>1972-01-01 00:00:00.000002017</td>\n",
       "      <td>30810.791005</td>\n",
       "      <td>29554.382619</td>\n",
       "      <td>32058.392495</td>\n",
       "    </tr>\n",
       "  </tbody>\n",
       "</table>\n",
       "</div>"
      ],
      "text/plain": [
       "                              ds          yhat    yhat_lower    yhat_upper\n",
       "13 1970-01-01 00:00:00.000002015  32212.543356  30921.088302  33486.575632\n",
       "14 1970-01-01 00:00:00.000002016  32212.543356  30920.140568  33426.350505\n",
       "15 1970-01-01 00:00:00.000002017  32212.543356  30974.322882  33437.509056\n",
       "16 1971-01-01 00:00:00.000002017  31520.594894  30190.832613  32786.542473\n",
       "17 1972-01-01 00:00:00.000002017  30810.791005  29554.382619  32058.392495"
      ]
     },
     "execution_count": 76,
     "metadata": {},
     "output_type": "execute_result"
    }
   ],
   "source": [
    "forecast = m.predict(future)\n",
    "forecast[['ds', 'yhat', 'yhat_lower', 'yhat_upper']].tail()"
   ]
  },
  {
   "cell_type": "code",
   "execution_count": 77,
   "metadata": {},
   "outputs": [
    {
     "data": {
      "image/png": "[encoded data removed]",
      "text/plain": [
       "<Figure size 720x432 with 1 Axes>"
      ]
     },
     "metadata": {},
     "output_type": "display_data"
    }
   ],
   "source": [
    "fig1 = m.plot(forecast)"
   ]
  },
  {
   "cell_type": "code",
   "execution_count": 79,
   "metadata": {
    "scrolled": true
   },
   "outputs": [
    {
     "data": {
      "image/png": "[encoded data removed]",
      "text/plain": [
       "<Figure size 648x432 with 2 Axes>"
      ]
     },
     "metadata": {},
     "output_type": "display_data"
    }
   ],
   "source": [
    "# Python\n",
    "fig2 = m.plot_components(forecast)\n"
   ]
  },
  {
   "cell_type": "code",
   "execution_count": 67,
   "metadata": {},
   "outputs": [],
   "source": [
    "from prophet.plot import plot_plotly, plot_components_plotly"
   ]
  },
  {
   "cell_type": "code",
   "execution_count": 68,
   "metadata": {},
   "outputs": [],
   "source": [
    "import plotly.graph_objs as go\n"
   ]
  },
  {
   "cell_type": "code",
   "execution_count": 80,
   "metadata": {},
   "outputs": [
    {
     "data": {
      "application/vnd.plotly.v1+json": {
       "config": {
        "plotlyServerURL": "https://plot.ly"
       },
       "data": [
        {
         "marker": {
          "color": "black",
          "size": 4
         },
         "mode": "markers",
         "name": "Actual",
         "type": "scatter",
         "x": [
          "2002-01-01T00:00:00",
          "2003-01-01T00:00:00",
          "2004-01-01T00:00:00",
          "2005-01-01T00:00:00",
          "2006-01-01T00:00:00",
          "2007-01-01T00:00:00",
          "2008-01-01T00:00:00",
          "2009-01-01T00:00:00",
          "2010-01-01T00:00:00",
          "2011-01-01T00:00:00",
          "2012-01-01T00:00:00",
          "2013-01-01T00:00:00",
          "2014-01-01T00:00:00",
          "2015-01-01T00:00:00",
          "2016-01-01T00:00:00",
          "2017-01-01T00:00:00"
         ],
         "y": [
          15744,
          14057,
          11940,
          12003,
          9807,
          9464,
          9485,
          10472,
          9910,
          9413,
          8645,
          6442,
          6234,
          6199,
          6005,
          6346
         ]
        },
        {
         "hoverinfo": "skip",
         "line": {
          "width": 0
         },
         "mode": "lines",
         "type": "scatter",
         "x": [
          "1970-01-01T00:00:00.000002",
          "1970-01-01T00:00:00.000002",
          "1970-01-01T00:00:00.000002",
          "1970-01-01T00:00:00.000002",
          "1970-01-01T00:00:00.000002",
          "1970-01-01T00:00:00.000002",
          "1970-01-01T00:00:00.000002",
          "1970-01-01T00:00:00.000002",
          "1970-01-01T00:00:00.000002",
          "1970-01-01T00:00:00.000002",
          "1970-01-01T00:00:00.000002",
          "1970-01-01T00:00:00.000002",
          "1970-01-01T00:00:00.000002",
          "1970-01-01T00:00:00.000002",
          "1970-01-01T00:00:00.000002",
          "1970-01-01T00:00:00.000002",
          "1971-01-01T00:00:00.000002",
          "1972-01-01T00:00:00.000002"
         ],
         "y": [
          30930.53291884041,
          30830.416721306086,
          31004.3543937837,
          31001.33337616815,
          30960.774634940004,
          30915.28072687587,
          30932.38292768769,
          30981.644549698867,
          30924.80495499156,
          31011.58736383648,
          30948.08777310919,
          31047.978166333116,
          31021.349818725284,
          30921.088301569893,
          30920.140568346786,
          30974.32288158682,
          30190.832613023398,
          29554.382619155836
         ]
        },
        {
         "fill": "tonexty",
         "fillcolor": "rgba(0, 114, 178, 0.2)",
         "line": {
          "color": "#0072B2",
          "width": 2
         },
         "mode": "lines",
         "name": "Predicted",
         "type": "scatter",
         "x": [
          "1970-01-01T00:00:00.000002",
          "1970-01-01T00:00:00.000002",
          "1970-01-01T00:00:00.000002",
          "1970-01-01T00:00:00.000002",
          "1970-01-01T00:00:00.000002",
          "1970-01-01T00:00:00.000002",
          "1970-01-01T00:00:00.000002",
          "1970-01-01T00:00:00.000002",
          "1970-01-01T00:00:00.000002",
          "1970-01-01T00:00:00.000002",
          "1970-01-01T00:00:00.000002",
          "1970-01-01T00:00:00.000002",
          "1970-01-01T00:00:00.000002",
          "1970-01-01T00:00:00.000002",
          "1970-01-01T00:00:00.000002",
          "1970-01-01T00:00:00.000002",
          "1971-01-01T00:00:00.000002",
          "1972-01-01T00:00:00.000002"
         ],
         "y": [
          32212.543355955047,
          32212.54335595505,
          32212.54335595506,
          32212.54335595506,
          32212.543355955066,
          32212.543355955073,
          32212.54335595508,
          32212.54335595508,
          32212.543355955087,
          32212.543355955095,
          32212.543355955095,
          32212.543355955102,
          32212.54335595511,
          32212.543355955113,
          32212.543355955117,
          32212.543355955124,
          31520.594894128175,
          30810.79100490098
         ]
        },
        {
         "fill": "tonexty",
         "fillcolor": "rgba(0, 114, 178, 0.2)",
         "hoverinfo": "skip",
         "line": {
          "width": 0
         },
         "mode": "lines",
         "type": "scatter",
         "x": [
          "1970-01-01T00:00:00.000002",
          "1970-01-01T00:00:00.000002",
          "1970-01-01T00:00:00.000002",
          "1970-01-01T00:00:00.000002",
          "1970-01-01T00:00:00.000002",
          "1970-01-01T00:00:00.000002",
          "1970-01-01T00:00:00.000002",
          "1970-01-01T00:00:00.000002",
          "1970-01-01T00:00:00.000002",
          "1970-01-01T00:00:00.000002",
          "1970-01-01T00:00:00.000002",
          "1970-01-01T00:00:00.000002",
          "1970-01-01T00:00:00.000002",
          "1970-01-01T00:00:00.000002",
          "1970-01-01T00:00:00.000002",
          "1970-01-01T00:00:00.000002",
          "1971-01-01T00:00:00.000002",
          "1972-01-01T00:00:00.000002"
         ],
         "y": [
          33478.4533812212,
          33486.08024183486,
          33423.73431689383,
          33402.16604895555,
          33464.676944382336,
          33452.635565466466,
          33462.85539514901,
          33421.630247918576,
          33518.962742258016,
          33472.02176459587,
          33446.06935703004,
          33476.827518912076,
          33485.06042662771,
          33486.57563192905,
          33426.35050457023,
          33437.50905589213,
          32786.54247339353,
          32058.3924952975
         ]
        }
       ],
       "layout": {
        "height": 600,
        "showlegend": false,
        "template": {
         "data": {
          "bar": [
           {
            "error_x": {
             "color": "#2a3f5f"
            },
            "error_y": {
             "color": "#2a3f5f"
            },
            "marker": {
             "line": {
              "color": "#E5ECF6",
              "width": 0.5
             }
            },
            "type": "bar"
           }
          ],
          "barpolar": [
           {
            "marker": {
             "line": {
              "color": "#E5ECF6",
              "width": 0.5
             }
            },
            "type": "barpolar"
           }
          ],
          "carpet": [
           {
            "aaxis": {
             "endlinecolor": "#2a3f5f",
             "gridcolor": "white",
             "linecolor": "white",
             "minorgridcolor": "white",
             "startlinecolor": "#2a3f5f"
            },
            "baxis": {
             "endlinecolor": "#2a3f5f",
             "gridcolor": "white",
             "linecolor": "white",
             "minorgridcolor": "white",
             "startlinecolor": "#2a3f5f"
            },
            "type": "carpet"
           }
          ],
          "choropleth": [
           {
            "colorbar": {
             "outlinewidth": 0,
             "ticks": ""
            },
            "type": "choropleth"
           }
          ],
          "contour": [
           {
            "colorbar": {
             "outlinewidth": 0,
             "ticks": ""
            },
            "colorscale": [
             [
              0,
              "#0d0887"
             ],
             [
              0.1111111111111111,
              "#46039f"
             ],
             [
              0.2222222222222222,
              "#7201a8"
             ],
             [
              0.3333333333333333,
              "#9c179e"
             ],
             [
              0.4444444444444444,
              "#bd3786"
             ],
             [
              0.5555555555555556,
              "#d8576b"
             ],
             [
              0.6666666666666666,
              "#ed7953"
             ],
             [
              0.7777777777777778,
              "#fb9f3a"
             ],
             [
              0.8888888888888888,
              "#fdca26"
             ],
             [
              1,
              "#f0f921"
             ]
            ],
            "type": "contour"
           }
          ],
          "contourcarpet": [
           {
            "colorbar": {
             "outlinewidth": 0,
             "ticks": ""
            },
            "type": "contourcarpet"
           }
          ],
          "heatmap": [
           {
            "colorbar": {
             "outlinewidth": 0,
             "ticks": ""
            },
            "colorscale": [
             [
              0,
              "#0d0887"
             ],
             [
              0.1111111111111111,
              "#46039f"
             ],
             [
              0.2222222222222222,
              "#7201a8"
             ],
             [
              0.3333333333333333,
              "#9c179e"
             ],
             [
              0.4444444444444444,
              "#bd3786"
             ],
             [
              0.5555555555555556,
              "#d8576b"
             ],
             [
              0.6666666666666666,
              "#ed7953"
             ],
             [
              0.7777777777777778,
              "#fb9f3a"
             ],
             [
              0.8888888888888888,
              "#fdca26"
             ],
             [
              1,
              "#f0f921"
             ]
            ],
            "type": "heatmap"
           }
          ],
          "heatmapgl": [
           {
            "colorbar": {
             "outlinewidth": 0,
             "ticks": ""
            },
            "colorscale": [
             [
              0,
              "#0d0887"
             ],
             [
              0.1111111111111111,
              "#46039f"
             ],
             [
              0.2222222222222222,
              "#7201a8"
             ],
             [
              0.3333333333333333,
              "#9c179e"
             ],
             [
              0.4444444444444444,
              "#bd3786"
             ],
             [
              0.5555555555555556,
              "#d8576b"
             ],
             [
              0.6666666666666666,
              "#ed7953"
             ],
             [
              0.7777777777777778,
              "#fb9f3a"
             ],
             [
              0.8888888888888888,
              "#fdca26"
             ],
             [
              1,
              "#f0f921"
             ]
            ],
            "type": "heatmapgl"
           }
          ],
          "histogram": [
           {
            "marker": {
             "colorbar": {
              "outlinewidth": 0,
              "ticks": ""
             }
            },
            "type": "histogram"
           }
          ],
          "histogram2d": [
           {
            "colorbar": {
             "outlinewidth": 0,
             "ticks": ""
            },
            "colorscale": [
             [
              0,
              "#0d0887"
             ],
             [
              0.1111111111111111,
              "#46039f"
             ],
             [
              0.2222222222222222,
              "#7201a8"
             ],
             [
              0.3333333333333333,
              "#9c179e"
             ],
             [
              0.4444444444444444,
              "#bd3786"
             ],
             [
              0.5555555555555556,
              "#d8576b"
             ],
             [
              0.6666666666666666,
              "#ed7953"
             ],
             [
              0.7777777777777778,
              "#fb9f3a"
             ],
             [
              0.8888888888888888,
              "#fdca26"
             ],
             [
              1,
              "#f0f921"
             ]
            ],
            "type": "histogram2d"
           }
          ],
          "histogram2dcontour": [
           {
            "colorbar": {
             "outlinewidth": 0,
             "ticks": ""
            },
            "colorscale": [
             [
              0,
              "#0d0887"
             ],
             [
              0.1111111111111111,
              "#46039f"
             ],
             [
              0.2222222222222222,
              "#7201a8"
             ],
             [
              0.3333333333333333,
              "#9c179e"
             ],
             [
              0.4444444444444444,
              "#bd3786"
             ],
             [
              0.5555555555555556,
              "#d8576b"
             ],
             [
              0.6666666666666666,
              "#ed7953"
             ],
             [
              0.7777777777777778,
              "#fb9f3a"
             ],
             [
              0.8888888888888888,
              "#fdca26"
             ],
             [
              1,
              "#f0f921"
             ]
            ],
            "type": "histogram2dcontour"
           }
          ],
          "mesh3d": [
           {
            "colorbar": {
             "outlinewidth": 0,
             "ticks": ""
            },
            "type": "mesh3d"
           }
          ],
          "parcoords": [
           {
            "line": {
             "colorbar": {
              "outlinewidth": 0,
              "ticks": ""
             }
            },
            "type": "parcoords"
           }
          ],
          "pie": [
           {
            "automargin": true,
            "type": "pie"
           }
          ],
          "scatter": [
           {
            "marker": {
             "colorbar": {
              "outlinewidth": 0,
              "ticks": ""
             }
            },
            "type": "scatter"
           }
          ],
          "scatter3d": [
           {
            "line": {
             "colorbar": {
              "outlinewidth": 0,
              "ticks": ""
             }
            },
            "marker": {
             "colorbar": {
              "outlinewidth": 0,
              "ticks": ""
             }
            },
            "type": "scatter3d"
           }
          ],
          "scattercarpet": [
           {
            "marker": {
             "colorbar": {
              "outlinewidth": 0,
              "ticks": ""
             }
            },
            "type": "scattercarpet"
           }
          ],
          "scattergeo": [
           {
            "marker": {
             "colorbar": {
              "outlinewidth": 0,
              "ticks": ""
             }
            },
            "type": "scattergeo"
           }
          ],
          "scattergl": [
           {
            "marker": {
             "colorbar": {
              "outlinewidth": 0,
              "ticks": ""
             }
            },
            "type": "scattergl"
           }
          ],
          "scattermapbox": [
           {
            "marker": {
             "colorbar": {
              "outlinewidth": 0,
              "ticks": ""
             }
            },
            "type": "scattermapbox"
           }
          ],
          "scatterpolar": [
           {
            "marker": {
             "colorbar": {
              "outlinewidth": 0,
              "ticks": ""
             }
            },
            "type": "scatterpolar"
           }
          ],
          "scatterpolargl": [
           {
            "marker": {
             "colorbar": {
              "outlinewidth": 0,
              "ticks": ""
             }
            },
            "type": "scatterpolargl"
           }
          ],
          "scatterternary": [
           {
            "marker": {
             "colorbar": {
              "outlinewidth": 0,
              "ticks": ""
             }
            },
            "type": "scatterternary"
           }
          ],
          "surface": [
           {
            "colorbar": {
             "outlinewidth": 0,
             "ticks": ""
            },
            "colorscale": [
             [
              0,
              "#0d0887"
             ],
             [
              0.1111111111111111,
              "#46039f"
             ],
             [
              0.2222222222222222,
              "#7201a8"
             ],
             [
              0.3333333333333333,
              "#9c179e"
             ],
             [
              0.4444444444444444,
              "#bd3786"
             ],
             [
              0.5555555555555556,
              "#d8576b"
             ],
             [
              0.6666666666666666,
              "#ed7953"
             ],
             [
              0.7777777777777778,
              "#fb9f3a"
             ],
             [
              0.8888888888888888,
              "#fdca26"
             ],
             [
              1,
              "#f0f921"
             ]
            ],
            "type": "surface"
           }
          ],
          "table": [
           {
            "cells": {
             "fill": {
              "color": "#EBF0F8"
             },
             "line": {
              "color": "white"
             }
            },
            "header": {
             "fill": {
              "color": "#C8D4E3"
             },
             "line": {
              "color": "white"
             }
            },
            "type": "table"
           }
          ]
         },
         "layout": {
          "annotationdefaults": {
           "arrowcolor": "#2a3f5f",
           "arrowhead": 0,
           "arrowwidth": 1
          },
          "autotypenumbers": "strict",
          "coloraxis": {
           "colorbar": {
            "outlinewidth": 0,
            "ticks": ""
           }
          },
          "colorscale": {
           "diverging": [
            [
             0,
             "#8e0152"
            ],
            [
             0.1,
             "#c51b7d"
            ],
            [
             0.2,
             "#de77ae"
            ],
            [
             0.3,
             "#f1b6da"
            ],
            [
             0.4,
             "#fde0ef"
            ],
            [
             0.5,
             "#f7f7f7"
            ],
            [
             0.6,
             "#e6f5d0"
            ],
            [
             0.7,
             "#b8e186"
            ],
            [
             0.8,
             "#7fbc41"
            ],
            [
             0.9,
             "#4d9221"
            ],
            [
             1,
             "#276419"
            ]
           ],
           "sequential": [
            [
             0,
             "#0d0887"
            ],
            [
             0.1111111111111111,
             "#46039f"
            ],
            [
             0.2222222222222222,
             "#7201a8"
            ],
            [
             0.3333333333333333,
             "#9c179e"
            ],
            [
             0.4444444444444444,
             "#bd3786"
            ],
            [
             0.5555555555555556,
             "#d8576b"
            ],
            [
             0.6666666666666666,
             "#ed7953"
            ],
            [
             0.7777777777777778,
             "#fb9f3a"
            ],
            [
             0.8888888888888888,
             "#fdca26"
            ],
            [
             1,
             "#f0f921"
            ]
           ],
           "sequentialminus": [
            [
             0,
             "#0d0887"
            ],
            [
             0.1111111111111111,
             "#46039f"
            ],
            [
             0.2222222222222222,
             "#7201a8"
            ],
            [
             0.3333333333333333,
             "#9c179e"
            ],
            [
             0.4444444444444444,
             "#bd3786"
            ],
            [
             0.5555555555555556,
             "#d8576b"
            ],
            [
             0.6666666666666666,
             "#ed7953"
            ],
            [
             0.7777777777777778,
             "#fb9f3a"
            ],
            [
             0.8888888888888888,
             "#fdca26"
            ],
            [
             1,
             "#f0f921"
            ]
           ]
          },
          "colorway": [
           "#636efa",
           "#EF553B",
           "#00cc96",
           "#ab63fa",
           "#FFA15A",
           "#19d3f3",
           "#FF6692",
           "#B6E880",
           "#FF97FF",
           "#FECB52"
          ],
          "font": {
           "color": "#2a3f5f"
          },
          "geo": {
           "bgcolor": "white",
           "lakecolor": "white",
           "landcolor": "#E5ECF6",
           "showlakes": true,
           "showland": true,
           "subunitcolor": "white"
          },
          "hoverlabel": {
           "align": "left"
          },
          "hovermode": "closest",
          "mapbox": {
           "style": "light"
          },
          "paper_bgcolor": "white",
          "plot_bgcolor": "#E5ECF6",
          "polar": {
           "angularaxis": {
            "gridcolor": "white",
            "linecolor": "white",
            "ticks": ""
           },
           "bgcolor": "#E5ECF6",
           "radialaxis": {
            "gridcolor": "white",
            "linecolor": "white",
            "ticks": ""
           }
          },
          "scene": {
           "xaxis": {
            "backgroundcolor": "#E5ECF6",
            "gridcolor": "white",
            "gridwidth": 2,
            "linecolor": "white",
            "showbackground": true,
            "ticks": "",
            "zerolinecolor": "white"
           },
           "yaxis": {
            "backgroundcolor": "#E5ECF6",
            "gridcolor": "white",
            "gridwidth": 2,
            "linecolor": "white",
            "showbackground": true,
            "ticks": "",
            "zerolinecolor": "white"
           },
           "zaxis": {
            "backgroundcolor": "#E5ECF6",
            "gridcolor": "white",
            "gridwidth": 2,
            "linecolor": "white",
            "showbackground": true,
            "ticks": "",
            "zerolinecolor": "white"
           }
          },
          "shapedefaults": {
           "line": {
            "color": "#2a3f5f"
           }
          },
          "ternary": {
           "aaxis": {
            "gridcolor": "white",
            "linecolor": "white",
            "ticks": ""
           },
           "baxis": {
            "gridcolor": "white",
            "linecolor": "white",
            "ticks": ""
           },
           "bgcolor": "#E5ECF6",
           "caxis": {
            "gridcolor": "white",
            "linecolor": "white",
            "ticks": ""
           }
          },
          "title": {
           "x": 0.05
          },
          "xaxis": {
           "automargin": true,
           "gridcolor": "white",
           "linecolor": "white",
           "ticks": "",
           "title": {
            "standoff": 15
           },
           "zerolinecolor": "white",
           "zerolinewidth": 2
          },
          "yaxis": {
           "automargin": true,
           "gridcolor": "white",
           "linecolor": "white",
           "ticks": "",
           "title": {
            "standoff": 15
           },
           "zerolinecolor": "white",
           "zerolinewidth": 2
          }
         }
        },
        "width": 900,
        "xaxis": {
         "rangeselector": {
          "buttons": [
           {
            "count": 7,
            "label": "1w",
            "step": "day",
            "stepmode": "backward"
           },
           {
            "count": 1,
            "label": "1m",
            "step": "month",
            "stepmode": "backward"
           },
           {
            "count": 6,
            "label": "6m",
            "step": "month",
            "stepmode": "backward"
           },
           {
            "count": 1,
            "label": "1y",
            "step": "year",
            "stepmode": "backward"
           },
           {
            "step": "all"
           }
          ]
         },
         "rangeslider": {
          "visible": true
         },
         "title": {
          "text": "ds"
         },
         "type": "date"
        },
        "yaxis": {
         "title": {
          "text": "y"
         }
        }
       }
      },
      "text/html": [
       "<div>                            <div id=\"4f2287c8-2193-4e55-b105-8720804f689c\" class=\"plotly-graph-div\" style=\"height:600px; width:900px;\"></div>            <script type=\"text/javascript\">                require([\"plotly\"], function(Plotly) {                    window.PLOTLYENV=window.PLOTLYENV || {};                                    if (document.getElementById(\"4f2287c8-2193-4e55-b105-8720804f689c\")) {                    Plotly.newPlot(                        \"4f2287c8-2193-4e55-b105-8720804f689c\",                        [{\"marker\": {\"color\": \"black\", \"size\": 4}, \"mode\": \"markers\", \"name\": \"Actual\", \"type\": \"scatter\", \"x\": [\"2002-01-01T00:00:00\", \"2003-01-01T00:00:00\", \"2004-01-01T00:00:00\", \"2005-01-01T00:00:00\", \"2006-01-01T00:00:00\", \"2007-01-01T00:00:00\", \"2008-01-01T00:00:00\", \"2009-01-01T00:00:00\", \"2010-01-01T00:00:00\", \"2011-01-01T00:00:00\", \"2012-01-01T00:00:00\", \"2013-01-01T00:00:00\", \"2014-01-01T00:00:00\", \"2015-01-01T00:00:00\", \"2016-01-01T00:00:00\", \"2017-01-01T00:00:00\"], \"y\": [15744, 14057, 11940, 12003, 9807, 9464, 9485, 10472, 9910, 9413, 8645, 6442, 6234, 6199, 6005, 6346]}, {\"hoverinfo\": \"skip\", \"line\": {\"width\": 0}, \"mode\": \"lines\", \"type\": \"scatter\", \"x\": [\"1970-01-01T00:00:00.000002\", \"1970-01-01T00:00:00.000002\", \"1970-01-01T00:00:00.000002\", \"1970-01-01T00:00:00.000002\", \"1970-01-01T00:00:00.000002\", \"1970-01-01T00:00:00.000002\", \"1970-01-01T00:00:00.000002\", \"1970-01-01T00:00:00.000002\", \"1970-01-01T00:00:00.000002\", \"1970-01-01T00:00:00.000002\", \"1970-01-01T00:00:00.000002\", \"1970-01-01T00:00:00.000002\", \"1970-01-01T00:00:00.000002\", \"1970-01-01T00:00:00.000002\", \"1970-01-01T00:00:00.000002\", \"1970-01-01T00:00:00.000002\", \"1971-01-01T00:00:00.000002\", \"1972-01-01T00:00:00.000002\"], \"y\": [30930.53291884041, 30830.416721306086, 31004.3543937837, 31001.33337616815, 30960.774634940004, 30915.28072687587, 30932.38292768769, 30981.644549698867, 30924.80495499156, 31011.58736383648, 30948.08777310919, 31047.978166333116, 31021.349818725284, 30921.088301569893, 30920.140568346786, 30974.32288158682, 30190.832613023398, 29554.382619155836]}, {\"fill\": \"tonexty\", \"fillcolor\": \"rgba(0, 114, 178, 0.2)\", \"line\": {\"color\": \"#0072B2\", \"width\": 2}, \"mode\": \"lines\", \"name\": \"Predicted\", \"type\": \"scatter\", \"x\": [\"1970-01-01T00:00:00.000002\", \"1970-01-01T00:00:00.000002\", \"1970-01-01T00:00:00.000002\", \"1970-01-01T00:00:00.000002\", \"1970-01-01T00:00:00.000002\", \"1970-01-01T00:00:00.000002\", \"1970-01-01T00:00:00.000002\", \"1970-01-01T00:00:00.000002\", \"1970-01-01T00:00:00.000002\", \"1970-01-01T00:00:00.000002\", \"1970-01-01T00:00:00.000002\", \"1970-01-01T00:00:00.000002\", \"1970-01-01T00:00:00.000002\", \"1970-01-01T00:00:00.000002\", \"1970-01-01T00:00:00.000002\", \"1970-01-01T00:00:00.000002\", \"1971-01-01T00:00:00.000002\", \"1972-01-01T00:00:00.000002\"], \"y\": [32212.543355955047, 32212.54335595505, 32212.54335595506, 32212.54335595506, 32212.543355955066, 32212.543355955073, 32212.54335595508, 32212.54335595508, 32212.543355955087, 32212.543355955095, 32212.543355955095, 32212.543355955102, 32212.54335595511, 32212.543355955113, 32212.543355955117, 32212.543355955124, 31520.594894128175, 30810.79100490098]}, {\"fill\": \"tonexty\", \"fillcolor\": \"rgba(0, 114, 178, 0.2)\", \"hoverinfo\": \"skip\", \"line\": {\"width\": 0}, \"mode\": \"lines\", \"type\": \"scatter\", \"x\": [\"1970-01-01T00:00:00.000002\", \"1970-01-01T00:00:00.000002\", \"1970-01-01T00:00:00.000002\", \"1970-01-01T00:00:00.000002\", \"1970-01-01T00:00:00.000002\", \"1970-01-01T00:00:00.000002\", \"1970-01-01T00:00:00.000002\", \"1970-01-01T00:00:00.000002\", \"1970-01-01T00:00:00.000002\", \"1970-01-01T00:00:00.000002\", \"1970-01-01T00:00:00.000002\", \"1970-01-01T00:00:00.000002\", \"1970-01-01T00:00:00.000002\", \"1970-01-01T00:00:00.000002\", \"1970-01-01T00:00:00.000002\", \"1970-01-01T00:00:00.000002\", \"1971-01-01T00:00:00.000002\", \"1972-01-01T00:00:00.000002\"], \"y\": [33478.4533812212, 33486.08024183486, 33423.73431689383, 33402.16604895555, 33464.676944382336, 33452.635565466466, 33462.85539514901, 33421.630247918576, 33518.962742258016, 33472.02176459587, 33446.06935703004, 33476.827518912076, 33485.06042662771, 33486.57563192905, 33426.35050457023, 33437.50905589213, 32786.54247339353, 32058.3924952975]}],                        {\"height\": 600, \"showlegend\": false, \"template\": {\"data\": {\"bar\": [{\"error_x\": {\"color\": \"#2a3f5f\"}, \"error_y\": {\"color\": \"#2a3f5f\"}, \"marker\": {\"line\": {\"color\": \"#E5ECF6\", \"width\": 0.5}}, \"type\": \"bar\"}], \"barpolar\": [{\"marker\": {\"line\": {\"color\": \"#E5ECF6\", \"width\": 0.5}}, \"type\": \"barpolar\"}], \"carpet\": [{\"aaxis\": {\"endlinecolor\": \"#2a3f5f\", \"gridcolor\": \"white\", \"linecolor\": \"white\", \"minorgridcolor\": \"white\", \"startlinecolor\": \"#2a3f5f\"}, \"baxis\": {\"endlinecolor\": \"#2a3f5f\", \"gridcolor\": \"white\", \"linecolor\": \"white\", \"minorgridcolor\": \"white\", \"startlinecolor\": \"#2a3f5f\"}, \"type\": \"carpet\"}], \"choropleth\": [{\"colorbar\": {\"outlinewidth\": 0, \"ticks\": \"\"}, \"type\": \"choropleth\"}], \"contour\": [{\"colorbar\": {\"outlinewidth\": 0, \"ticks\": \"\"}, \"colorscale\": [[0.0, \"#0d0887\"], [0.1111111111111111, \"#46039f\"], [0.2222222222222222, \"#7201a8\"], [0.3333333333333333, \"#9c179e\"], [0.4444444444444444, \"#bd3786\"], [0.5555555555555556, \"#d8576b\"], [0.6666666666666666, \"#ed7953\"], [0.7777777777777778, \"#fb9f3a\"], [0.8888888888888888, \"#fdca26\"], [1.0, \"#f0f921\"]], \"type\": \"contour\"}], \"contourcarpet\": [{\"colorbar\": {\"outlinewidth\": 0, \"ticks\": \"\"}, \"type\": \"contourcarpet\"}], \"heatmap\": [{\"colorbar\": {\"outlinewidth\": 0, \"ticks\": \"\"}, \"colorscale\": [[0.0, \"#0d0887\"], [0.1111111111111111, \"#46039f\"], [0.2222222222222222, \"#7201a8\"], [0.3333333333333333, \"#9c179e\"], [0.4444444444444444, \"#bd3786\"], [0.5555555555555556, \"#d8576b\"], [0.6666666666666666, \"#ed7953\"], [0.7777777777777778, \"#fb9f3a\"], [0.8888888888888888, \"#fdca26\"], [1.0, \"#f0f921\"]], \"type\": \"heatmap\"}], \"heatmapgl\": [{\"colorbar\": {\"outlinewidth\": 0, \"ticks\": \"\"}, \"colorscale\": [[0.0, \"#0d0887\"], [0.1111111111111111, \"#46039f\"], [0.2222222222222222, \"#7201a8\"], [0.3333333333333333, \"#9c179e\"], [0.4444444444444444, \"#bd3786\"], [0.5555555555555556, \"#d8576b\"], [0.6666666666666666, \"#ed7953\"], [0.7777777777777778, \"#fb9f3a\"], [0.8888888888888888, \"#fdca26\"], [1.0, \"#f0f921\"]], \"type\": \"heatmapgl\"}], \"histogram\": [{\"marker\": {\"colorbar\": {\"outlinewidth\": 0, \"ticks\": \"\"}}, \"type\": \"histogram\"}], \"histogram2d\": [{\"colorbar\": {\"outlinewidth\": 0, \"ticks\": \"\"}, \"colorscale\": [[0.0, \"#0d0887\"], [0.1111111111111111, \"#46039f\"], [0.2222222222222222, \"#7201a8\"], [0.3333333333333333, \"#9c179e\"], [0.4444444444444444, \"#bd3786\"], [0.5555555555555556, \"#d8576b\"], [0.6666666666666666, \"#ed7953\"], [0.7777777777777778, \"#fb9f3a\"], [0.8888888888888888, \"#fdca26\"], [1.0, \"#f0f921\"]], \"type\": \"histogram2d\"}], \"histogram2dcontour\": [{\"colorbar\": {\"outlinewidth\": 0, \"ticks\": \"\"}, \"colorscale\": [[0.0, \"#0d0887\"], [0.1111111111111111, \"#46039f\"], [0.2222222222222222, \"#7201a8\"], [0.3333333333333333, \"#9c179e\"], [0.4444444444444444, \"#bd3786\"], [0.5555555555555556, \"#d8576b\"], [0.6666666666666666, \"#ed7953\"], [0.7777777777777778, \"#fb9f3a\"], [0.8888888888888888, \"#fdca26\"], [1.0, \"#f0f921\"]], \"type\": \"histogram2dcontour\"}], \"mesh3d\": [{\"colorbar\": {\"outlinewidth\": 0, \"ticks\": \"\"}, \"type\": \"mesh3d\"}], \"parcoords\": [{\"line\": {\"colorbar\": {\"outlinewidth\": 0, \"ticks\": \"\"}}, \"type\": \"parcoords\"}], \"pie\": [{\"automargin\": true, \"type\": \"pie\"}], \"scatter\": [{\"marker\": {\"colorbar\": {\"outlinewidth\": 0, \"ticks\": \"\"}}, \"type\": \"scatter\"}], \"scatter3d\": [{\"line\": {\"colorbar\": {\"outlinewidth\": 0, \"ticks\": \"\"}}, \"marker\": {\"colorbar\": {\"outlinewidth\": 0, \"ticks\": \"\"}}, \"type\": \"scatter3d\"}], \"scattercarpet\": [{\"marker\": {\"colorbar\": {\"outlinewidth\": 0, \"ticks\": \"\"}}, \"type\": \"scattercarpet\"}], \"scattergeo\": [{\"marker\": {\"colorbar\": {\"outlinewidth\": 0, \"ticks\": \"\"}}, \"type\": \"scattergeo\"}], \"scattergl\": [{\"marker\": {\"colorbar\": {\"outlinewidth\": 0, \"ticks\": \"\"}}, \"type\": \"scattergl\"}], \"scattermapbox\": [{\"marker\": {\"colorbar\": {\"outlinewidth\": 0, \"ticks\": \"\"}}, \"type\": \"scattermapbox\"}], \"scatterpolar\": [{\"marker\": {\"colorbar\": {\"outlinewidth\": 0, \"ticks\": \"\"}}, \"type\": \"scatterpolar\"}], \"scatterpolargl\": [{\"marker\": {\"colorbar\": {\"outlinewidth\": 0, \"ticks\": \"\"}}, \"type\": \"scatterpolargl\"}], \"scatterternary\": [{\"marker\": {\"colorbar\": {\"outlinewidth\": 0, \"ticks\": \"\"}}, \"type\": \"scatterternary\"}], \"surface\": [{\"colorbar\": {\"outlinewidth\": 0, \"ticks\": \"\"}, \"colorscale\": [[0.0, \"#0d0887\"], [0.1111111111111111, \"#46039f\"], [0.2222222222222222, \"#7201a8\"], [0.3333333333333333, \"#9c179e\"], [0.4444444444444444, \"#bd3786\"], [0.5555555555555556, \"#d8576b\"], [0.6666666666666666, \"#ed7953\"], [0.7777777777777778, \"#fb9f3a\"], [0.8888888888888888, \"#fdca26\"], [1.0, \"#f0f921\"]], \"type\": \"surface\"}], \"table\": [{\"cells\": {\"fill\": {\"color\": \"#EBF0F8\"}, \"line\": {\"color\": \"white\"}}, \"header\": {\"fill\": {\"color\": \"#C8D4E3\"}, \"line\": {\"color\": \"white\"}}, \"type\": \"table\"}]}, \"layout\": {\"annotationdefaults\": {\"arrowcolor\": \"#2a3f5f\", \"arrowhead\": 0, \"arrowwidth\": 1}, \"autotypenumbers\": \"strict\", \"coloraxis\": {\"colorbar\": {\"outlinewidth\": 0, \"ticks\": \"\"}}, \"colorscale\": {\"diverging\": [[0, \"#8e0152\"], [0.1, \"#c51b7d\"], [0.2, \"#de77ae\"], [0.3, \"#f1b6da\"], [0.4, \"#fde0ef\"], [0.5, \"#f7f7f7\"], [0.6, \"#e6f5d0\"], [0.7, \"#b8e186\"], [0.8, \"#7fbc41\"], [0.9, \"#4d9221\"], [1, \"#276419\"]], \"sequential\": [[0.0, \"#0d0887\"], [0.1111111111111111, \"#46039f\"], [0.2222222222222222, \"#7201a8\"], [0.3333333333333333, \"#9c179e\"], [0.4444444444444444, \"#bd3786\"], [0.5555555555555556, \"#d8576b\"], [0.6666666666666666, \"#ed7953\"], [0.7777777777777778, \"#fb9f3a\"], [0.8888888888888888, \"#fdca26\"], [1.0, \"#f0f921\"]], \"sequentialminus\": [[0.0, \"#0d0887\"], [0.1111111111111111, \"#46039f\"], [0.2222222222222222, \"#7201a8\"], [0.3333333333333333, \"#9c179e\"], [0.4444444444444444, \"#bd3786\"], [0.5555555555555556, \"#d8576b\"], [0.6666666666666666, \"#ed7953\"], [0.7777777777777778, \"#fb9f3a\"], [0.8888888888888888, \"#fdca26\"], [1.0, \"#f0f921\"]]}, \"colorway\": [\"#636efa\", \"#EF553B\", \"#00cc96\", \"#ab63fa\", \"#FFA15A\", \"#19d3f3\", \"#FF6692\", \"#B6E880\", \"#FF97FF\", \"#FECB52\"], \"font\": {\"color\": \"#2a3f5f\"}, \"geo\": {\"bgcolor\": \"white\", \"lakecolor\": \"white\", \"landcolor\": \"#E5ECF6\", \"showlakes\": true, \"showland\": true, \"subunitcolor\": \"white\"}, \"hoverlabel\": {\"align\": \"left\"}, \"hovermode\": \"closest\", \"mapbox\": {\"style\": \"light\"}, \"paper_bgcolor\": \"white\", \"plot_bgcolor\": \"#E5ECF6\", \"polar\": {\"angularaxis\": {\"gridcolor\": \"white\", \"linecolor\": \"white\", \"ticks\": \"\"}, \"bgcolor\": \"#E5ECF6\", \"radialaxis\": {\"gridcolor\": \"white\", \"linecolor\": \"white\", \"ticks\": \"\"}}, \"scene\": {\"xaxis\": {\"backgroundcolor\": \"#E5ECF6\", \"gridcolor\": \"white\", \"gridwidth\": 2, \"linecolor\": \"white\", \"showbackground\": true, \"ticks\": \"\", \"zerolinecolor\": \"white\"}, \"yaxis\": {\"backgroundcolor\": \"#E5ECF6\", \"gridcolor\": \"white\", \"gridwidth\": 2, \"linecolor\": \"white\", \"showbackground\": true, \"ticks\": \"\", \"zerolinecolor\": \"white\"}, \"zaxis\": {\"backgroundcolor\": \"#E5ECF6\", \"gridcolor\": \"white\", \"gridwidth\": 2, \"linecolor\": \"white\", \"showbackground\": true, \"ticks\": \"\", \"zerolinecolor\": \"white\"}}, \"shapedefaults\": {\"line\": {\"color\": \"#2a3f5f\"}}, \"ternary\": {\"aaxis\": {\"gridcolor\": \"white\", \"linecolor\": \"white\", \"ticks\": \"\"}, \"baxis\": {\"gridcolor\": \"white\", \"linecolor\": \"white\", \"ticks\": \"\"}, \"bgcolor\": \"#E5ECF6\", \"caxis\": {\"gridcolor\": \"white\", \"linecolor\": \"white\", \"ticks\": \"\"}}, \"title\": {\"x\": 0.05}, \"xaxis\": {\"automargin\": true, \"gridcolor\": \"white\", \"linecolor\": \"white\", \"ticks\": \"\", \"title\": {\"standoff\": 15}, \"zerolinecolor\": \"white\", \"zerolinewidth\": 2}, \"yaxis\": {\"automargin\": true, \"gridcolor\": \"white\", \"linecolor\": \"white\", \"ticks\": \"\", \"title\": {\"standoff\": 15}, \"zerolinecolor\": \"white\", \"zerolinewidth\": 2}}}, \"width\": 900, \"xaxis\": {\"rangeselector\": {\"buttons\": [{\"count\": 7, \"label\": \"1w\", \"step\": \"day\", \"stepmode\": \"backward\"}, {\"count\": 1, \"label\": \"1m\", \"step\": \"month\", \"stepmode\": \"backward\"}, {\"count\": 6, \"label\": \"6m\", \"step\": \"month\", \"stepmode\": \"backward\"}, {\"count\": 1, \"label\": \"1y\", \"step\": \"year\", \"stepmode\": \"backward\"}, {\"step\": \"all\"}]}, \"rangeslider\": {\"visible\": true}, \"title\": {\"text\": \"ds\"}, \"type\": \"date\"}, \"yaxis\": {\"title\": {\"text\": \"y\"}}},                        {\"responsive\": true}                    ).then(function(){\n",
       "                            \n",
       "var gd = document.getElementById('4f2287c8-2193-4e55-b105-8720804f689c');\n",
       "var x = new MutationObserver(function (mutations, observer) {{\n",
       "        var display = window.getComputedStyle(gd).display;\n",
       "        if (!display || display === 'none') {{\n",
       "            console.log([gd, 'removed!']);\n",
       "            Plotly.purge(gd);\n",
       "            observer.disconnect();\n",
       "        }}\n",
       "}});\n",
       "\n",
       "// Listen for the removal of the full notebook cells\n",
       "var notebookContainer = gd.closest('#notebook-container');\n",
       "if (notebookContainer) {{\n",
       "    x.observe(notebookContainer, {childList: true});\n",
       "}}\n",
       "\n",
       "// Listen for the clearing of the current output cell\n",
       "var outputEl = gd.closest('.output');\n",
       "if (outputEl) {{\n",
       "    x.observe(outputEl, {childList: true});\n",
       "}}\n",
       "\n",
       "                        })                };                });            </script>        </div>"
      ]
     },
     "metadata": {},
     "output_type": "display_data"
    }
   ],
   "source": [
    "\n",
    "plot_plotly(m,forecast)"
   ]
  },
  {
   "cell_type": "code",
   "execution_count": 81,
   "metadata": {},
   "outputs": [
    {
     "data": {
      "application/vnd.plotly.v1+json": {
       "config": {
        "plotlyServerURL": "https://plot.ly"
       },
       "data": [
        {
         "line": {
          "color": "#0072B2",
          "width": 2
         },
         "mode": "lines",
         "name": "trend",
         "type": "scatter",
         "x": [
          "1970-01-01T00:00:00.000002",
          "1970-01-01T00:00:00.000002",
          "1970-01-01T00:00:00.000002",
          "1970-01-01T00:00:00.000002",
          "1970-01-01T00:00:00.000002",
          "1970-01-01T00:00:00.000002",
          "1970-01-01T00:00:00.000002",
          "1970-01-01T00:00:00.000002",
          "1970-01-01T00:00:00.000002",
          "1970-01-01T00:00:00.000002",
          "1970-01-01T00:00:00.000002",
          "1970-01-01T00:00:00.000002",
          "1970-01-01T00:00:00.000002",
          "1970-01-01T00:00:00.000002",
          "1970-01-01T00:00:00.000002",
          "1970-01-01T00:00:00.000002",
          "1971-01-01T00:00:00.000002",
          "1972-01-01T00:00:00.000002"
         ],
         "xaxis": "x",
         "y": [
          18337.343200754414,
          18337.343200754414,
          18337.343200754414,
          18337.343200754414,
          18337.343200754414,
          18337.343200754414,
          18337.343200754414,
          18337.343200754414,
          18337.343200754414,
          18337.343200754414,
          18337.343200754414,
          18337.343200754414,
          18337.343200754414,
          18337.343200754414,
          18337.343200754414,
          18337.343200754414,
          17764.779164671596,
          17192.21512858878
         ],
         "yaxis": "y"
        },
        {
         "line": {
          "color": "#0072B2",
          "width": 2
         },
         "mode": "lines",
         "name": "yearly",
         "type": "scatter",
         "x": [
          "2017-01-01T00:00:00",
          "2017-01-02T00:00:59.178082",
          "2017-01-03T00:01:58.356164",
          "2017-01-04T00:02:57.534246",
          "2017-01-05T00:03:56.712328",
          "2017-01-06T00:04:55.890411",
          "2017-01-07T00:05:55.068493",
          "2017-01-08T00:06:54.246575",
          "2017-01-09T00:07:53.424657",
          "2017-01-10T00:08:52.602739",
          "2017-01-11T00:09:51.780822",
          "2017-01-12T00:10:50.958904",
          "2017-01-13T00:11:50.136986",
          "2017-01-14T00:12:49.315068",
          "2017-01-15T00:13:48.493150",
          "2017-01-16T00:14:47.671232",
          "2017-01-17T00:15:46.849315",
          "2017-01-18T00:16:46.027397",
          "2017-01-19T00:17:45.205479",
          "2017-01-20T00:18:44.383561",
          "2017-01-21T00:19:43.561643",
          "2017-01-22T00:20:42.739726",
          "2017-01-23T00:21:41.917808",
          "2017-01-24T00:22:41.095890",
          "2017-01-25T00:23:40.273972",
          "2017-01-26T00:24:39.452054",
          "2017-01-27T00:25:38.630137",
          "2017-01-28T00:26:37.808219",
          "2017-01-29T00:27:36.986301",
          "2017-01-30T00:28:36.164383",
          "2017-01-31T00:29:35.342465",
          "2017-02-01T00:30:34.520547",
          "2017-02-02T00:31:33.698630",
          "2017-02-03T00:32:32.876712",
          "2017-02-04T00:33:32.054794",
          "2017-02-05T00:34:31.232876",
          "2017-02-06T00:35:30.410958",
          "2017-02-07T00:36:29.589041",
          "2017-02-08T00:37:28.767123",
          "2017-02-09T00:38:27.945205",
          "2017-02-10T00:39:27.123287",
          "2017-02-11T00:40:26.301369",
          "2017-02-12T00:41:25.479452",
          "2017-02-13T00:42:24.657534",
          "2017-02-14T00:43:23.835616",
          "2017-02-15T00:44:23.013698",
          "2017-02-16T00:45:22.191780",
          "2017-02-17T00:46:21.369862",
          "2017-02-18T00:47:20.547945",
          "2017-02-19T00:48:19.726027",
          "2017-02-20T00:49:18.904109",
          "2017-02-21T00:50:18.082191",
          "2017-02-22T00:51:17.260273",
          "2017-02-23T00:52:16.438356",
          "2017-02-24T00:53:15.616438",
          "2017-02-25T00:54:14.794520",
          "2017-02-26T00:55:13.972602",
          "2017-02-27T00:56:13.150684",
          "2017-02-28T00:57:12.328767",
          "2017-03-01T00:58:11.506849",
          "2017-03-02T00:59:10.684931",
          "2017-03-03T01:00:09.863013",
          "2017-03-04T01:01:09.041095",
          "2017-03-05T01:02:08.219177",
          "2017-03-06T01:03:07.397260",
          "2017-03-07T01:04:06.575342",
          "2017-03-08T01:05:05.753424",
          "2017-03-09T01:06:04.931506",
          "2017-03-10T01:07:04.109588",
          "2017-03-11T01:08:03.287671",
          "2017-03-12T01:09:02.465753",
          "2017-03-13T01:10:01.643835",
          "2017-03-14T01:11:00.821917",
          "2017-03-15T01:12:00",
          "2017-03-16T01:12:59.178082",
          "2017-03-17T01:13:58.356164",
          "2017-03-18T01:14:57.534246",
          "2017-03-19T01:15:56.712328",
          "2017-03-20T01:16:55.890411",
          "2017-03-21T01:17:55.068493",
          "2017-03-22T01:18:54.246575",
          "2017-03-23T01:19:53.424657",
          "2017-03-24T01:20:52.602739",
          "2017-03-25T01:21:51.780822",
          "2017-03-26T01:22:50.958904",
          "2017-03-27T01:23:50.136986",
          "2017-03-28T01:24:49.315068",
          "2017-03-29T01:25:48.493150",
          "2017-03-30T01:26:47.671232",
          "2017-03-31T01:27:46.849315",
          "2017-04-01T01:28:46.027397",
          "2017-04-02T01:29:45.205479",
          "2017-04-03T01:30:44.383561",
          "2017-04-04T01:31:43.561643",
          "2017-04-05T01:32:42.739726",
          "2017-04-06T01:33:41.917808",
          "2017-04-07T01:34:41.095890",
          "2017-04-08T01:35:40.273972",
          "2017-04-09T01:36:39.452054",
          "2017-04-10T01:37:38.630137",
          "2017-04-11T01:38:37.808219",
          "2017-04-12T01:39:36.986301",
          "2017-04-13T01:40:36.164383",
          "2017-04-14T01:41:35.342465",
          "2017-04-15T01:42:34.520547",
          "2017-04-16T01:43:33.698630",
          "2017-04-17T01:44:32.876712",
          "2017-04-18T01:45:32.054794",
          "2017-04-19T01:46:31.232876",
          "2017-04-20T01:47:30.410958",
          "2017-04-21T01:48:29.589041",
          "2017-04-22T01:49:28.767123",
          "2017-04-23T01:50:27.945205",
          "2017-04-24T01:51:27.123287",
          "2017-04-25T01:52:26.301369",
          "2017-04-26T01:53:25.479452",
          "2017-04-27T01:54:24.657534",
          "2017-04-28T01:55:23.835616",
          "2017-04-29T01:56:23.013698",
          "2017-04-30T01:57:22.191780",
          "2017-05-01T01:58:21.369862",
          "2017-05-02T01:59:20.547945",
          "2017-05-03T02:00:19.726027",
          "2017-05-04T02:01:18.904109",
          "2017-05-05T02:02:18.082191",
          "2017-05-06T02:03:17.260273",
          "2017-05-07T02:04:16.438356",
          "2017-05-08T02:05:15.616438",
          "2017-05-09T02:06:14.794520",
          "2017-05-10T02:07:13.972602",
          "2017-05-11T02:08:13.150684",
          "2017-05-12T02:09:12.328767",
          "2017-05-13T02:10:11.506849",
          "2017-05-14T02:11:10.684931",
          "2017-05-15T02:12:09.863013",
          "2017-05-16T02:13:09.041095",
          "2017-05-17T02:14:08.219177",
          "2017-05-18T02:15:07.397260",
          "2017-05-19T02:16:06.575342",
          "2017-05-20T02:17:05.753424",
          "2017-05-21T02:18:04.931506",
          "2017-05-22T02:19:04.109588",
          "2017-05-23T02:20:03.287671",
          "2017-05-24T02:21:02.465753",
          "2017-05-25T02:22:01.643835",
          "2017-05-26T02:23:00.821917",
          "2017-05-27T02:24:00",
          "2017-05-28T02:24:59.178082",
          "2017-05-29T02:25:58.356164",
          "2017-05-30T02:26:57.534246",
          "2017-05-31T02:27:56.712328",
          "2017-06-01T02:28:55.890411",
          "2017-06-02T02:29:55.068493",
          "2017-06-03T02:30:54.246575",
          "2017-06-04T02:31:53.424657",
          "2017-06-05T02:32:52.602739",
          "2017-06-06T02:33:51.780822",
          "2017-06-07T02:34:50.958904",
          "2017-06-08T02:35:50.136986",
          "2017-06-09T02:36:49.315068",
          "2017-06-10T02:37:48.493150",
          "2017-06-11T02:38:47.671232",
          "2017-06-12T02:39:46.849315",
          "2017-06-13T02:40:46.027397",
          "2017-06-14T02:41:45.205479",
          "2017-06-15T02:42:44.383561",
          "2017-06-16T02:43:43.561643",
          "2017-06-17T02:44:42.739726",
          "2017-06-18T02:45:41.917808",
          "2017-06-19T02:46:41.095890",
          "2017-06-20T02:47:40.273972",
          "2017-06-21T02:48:39.452054",
          "2017-06-22T02:49:38.630137",
          "2017-06-23T02:50:37.808219",
          "2017-06-24T02:51:36.986301",
          "2017-06-25T02:52:36.164383",
          "2017-06-26T02:53:35.342465",
          "2017-06-27T02:54:34.520547",
          "2017-06-28T02:55:33.698630",
          "2017-06-29T02:56:32.876712",
          "2017-06-30T02:57:32.054794",
          "2017-07-01T02:58:31.232876",
          "2017-07-02T02:59:30.410958",
          "2017-07-03T03:00:29.589041",
          "2017-07-04T03:01:28.767123",
          "2017-07-05T03:02:27.945205",
          "2017-07-06T03:03:27.123287",
          "2017-07-07T03:04:26.301369",
          "2017-07-08T03:05:25.479452",
          "2017-07-09T03:06:24.657534",
          "2017-07-10T03:07:23.835616",
          "2017-07-11T03:08:23.013698",
          "2017-07-12T03:09:22.191780",
          "2017-07-13T03:10:21.369862",
          "2017-07-14T03:11:20.547945",
          "2017-07-15T03:12:19.726027",
          "2017-07-16T03:13:18.904109",
          "2017-07-17T03:14:18.082191",
          "2017-07-18T03:15:17.260273",
          "2017-07-19T03:16:16.438356",
          "2017-07-20T03:17:15.616438",
          "2017-07-21T03:18:14.794520",
          "2017-07-22T03:19:13.972602",
          "2017-07-23T03:20:13.150684",
          "2017-07-24T03:21:12.328767",
          "2017-07-25T03:22:11.506849",
          "2017-07-26T03:23:10.684931",
          "2017-07-27T03:24:09.863013",
          "2017-07-28T03:25:09.041095",
          "2017-07-29T03:26:08.219177",
          "2017-07-30T03:27:07.397260",
          "2017-07-31T03:28:06.575342",
          "2017-08-01T03:29:05.753424",
          "2017-08-02T03:30:04.931506",
          "2017-08-03T03:31:04.109588",
          "2017-08-04T03:32:03.287671",
          "2017-08-05T03:33:02.465753",
          "2017-08-06T03:34:01.643835",
          "2017-08-07T03:35:00.821917",
          "2017-08-08T03:36:00",
          "2017-08-09T03:36:59.178082",
          "2017-08-10T03:37:58.356164",
          "2017-08-11T03:38:57.534246",
          "2017-08-12T03:39:56.712328",
          "2017-08-13T03:40:55.890411",
          "2017-08-14T03:41:55.068493",
          "2017-08-15T03:42:54.246575",
          "2017-08-16T03:43:53.424657",
          "2017-08-17T03:44:52.602739",
          "2017-08-18T03:45:51.780822",
          "2017-08-19T03:46:50.958904",
          "2017-08-20T03:47:50.136986",
          "2017-08-21T03:48:49.315068",
          "2017-08-22T03:49:48.493150",
          "2017-08-23T03:50:47.671232",
          "2017-08-24T03:51:46.849315",
          "2017-08-25T03:52:46.027397",
          "2017-08-26T03:53:45.205479",
          "2017-08-27T03:54:44.383561",
          "2017-08-28T03:55:43.561643",
          "2017-08-29T03:56:42.739726",
          "2017-08-30T03:57:41.917808",
          "2017-08-31T03:58:41.095890",
          "2017-09-01T03:59:40.273972",
          "2017-09-02T04:00:39.452054",
          "2017-09-03T04:01:38.630137",
          "2017-09-04T04:02:37.808219",
          "2017-09-05T04:03:36.986301",
          "2017-09-06T04:04:36.164383",
          "2017-09-07T04:05:35.342465",
          "2017-09-08T04:06:34.520547",
          "2017-09-09T04:07:33.698630",
          "2017-09-10T04:08:32.876712",
          "2017-09-11T04:09:32.054794",
          "2017-09-12T04:10:31.232876",
          "2017-09-13T04:11:30.410958",
          "2017-09-14T04:12:29.589041",
          "2017-09-15T04:13:28.767123",
          "2017-09-16T04:14:27.945205",
          "2017-09-17T04:15:27.123287",
          "2017-09-18T04:16:26.301369",
          "2017-09-19T04:17:25.479452",
          "2017-09-20T04:18:24.657534",
          "2017-09-21T04:19:23.835616",
          "2017-09-22T04:20:23.013698",
          "2017-09-23T04:21:22.191780",
          "2017-09-24T04:22:21.369862",
          "2017-09-25T04:23:20.547945",
          "2017-09-26T04:24:19.726027",
          "2017-09-27T04:25:18.904109",
          "2017-09-28T04:26:18.082191",
          "2017-09-29T04:27:17.260273",
          "2017-09-30T04:28:16.438356",
          "2017-10-01T04:29:15.616438",
          "2017-10-02T04:30:14.794520",
          "2017-10-03T04:31:13.972602",
          "2017-10-04T04:32:13.150684",
          "2017-10-05T04:33:12.328767",
          "2017-10-06T04:34:11.506849",
          "2017-10-07T04:35:10.684931",
          "2017-10-08T04:36:09.863013",
          "2017-10-09T04:37:09.041095",
          "2017-10-10T04:38:08.219177",
          "2017-10-11T04:39:07.397260",
          "2017-10-12T04:40:06.575342",
          "2017-10-13T04:41:05.753424",
          "2017-10-14T04:42:04.931506",
          "2017-10-15T04:43:04.109588",
          "2017-10-16T04:44:03.287671",
          "2017-10-17T04:45:02.465753",
          "2017-10-18T04:46:01.643835",
          "2017-10-19T04:47:00.821917",
          "2017-10-20T04:48:00",
          "2017-10-21T04:48:59.178082",
          "2017-10-22T04:49:58.356164",
          "2017-10-23T04:50:57.534246",
          "2017-10-24T04:51:56.712328",
          "2017-10-25T04:52:55.890411",
          "2017-10-26T04:53:55.068493",
          "2017-10-27T04:54:54.246575",
          "2017-10-28T04:55:53.424657",
          "2017-10-29T04:56:52.602739",
          "2017-10-30T04:57:51.780822",
          "2017-10-31T04:58:50.958904",
          "2017-11-01T04:59:50.136986",
          "2017-11-02T05:00:49.315068",
          "2017-11-03T05:01:48.493150",
          "2017-11-04T05:02:47.671232",
          "2017-11-05T05:03:46.849315",
          "2017-11-06T05:04:46.027397",
          "2017-11-07T05:05:45.205479",
          "2017-11-08T05:06:44.383561",
          "2017-11-09T05:07:43.561643",
          "2017-11-10T05:08:42.739726",
          "2017-11-11T05:09:41.917808",
          "2017-11-12T05:10:41.095890",
          "2017-11-13T05:11:40.273972",
          "2017-11-14T05:12:39.452054",
          "2017-11-15T05:13:38.630137",
          "2017-11-16T05:14:37.808219",
          "2017-11-17T05:15:36.986301",
          "2017-11-18T05:16:36.164383",
          "2017-11-19T05:17:35.342465",
          "2017-11-20T05:18:34.520547",
          "2017-11-21T05:19:33.698630",
          "2017-11-22T05:20:32.876712",
          "2017-11-23T05:21:32.054794",
          "2017-11-24T05:22:31.232876",
          "2017-11-25T05:23:30.410958",
          "2017-11-26T05:24:29.589041",
          "2017-11-27T05:25:28.767123",
          "2017-11-28T05:26:27.945205",
          "2017-11-29T05:27:27.123287",
          "2017-11-30T05:28:26.301369",
          "2017-12-01T05:29:25.479452",
          "2017-12-02T05:30:24.657534",
          "2017-12-03T05:31:23.835616",
          "2017-12-04T05:32:23.013698",
          "2017-12-05T05:33:22.191780",
          "2017-12-06T05:34:21.369862",
          "2017-12-07T05:35:20.547945",
          "2017-12-08T05:36:19.726027",
          "2017-12-09T05:37:18.904109",
          "2017-12-10T05:38:18.082191",
          "2017-12-11T05:39:17.260273",
          "2017-12-12T05:40:16.438356",
          "2017-12-13T05:41:15.616438",
          "2017-12-14T05:42:14.794520",
          "2017-12-15T05:43:13.972602",
          "2017-12-16T05:44:13.150684",
          "2017-12-17T05:45:12.328767",
          "2017-12-18T05:46:11.506849",
          "2017-12-19T05:47:10.684931",
          "2017-12-20T05:48:09.863013",
          "2017-12-21T05:49:09.041095",
          "2017-12-22T05:50:08.219177",
          "2017-12-23T05:51:07.397260",
          "2017-12-24T05:52:06.575342",
          "2017-12-25T05:53:05.753424",
          "2017-12-26T05:54:04.931506",
          "2017-12-27T05:55:04.109588",
          "2017-12-28T05:56:03.287671",
          "2017-12-29T05:57:02.465753",
          "2017-12-30T05:58:01.643835",
          "2017-12-31T05:59:00.821917"
         ],
         "xaxis": "x2",
         "y": [
          13976.585601496146,
          14200.244854222601,
          14130.937699457898,
          13772.262914998586,
          13134.548579324797,
          12234.57187035131,
          11095.117584461843,
          9744.387272235563,
          8215.274790086994,
          6544.527536683943,
          4771.815587487214,
          2938.7332807035177,
          1087.7594814791676,
          -738.7962845620079,
          -2499.834406666971,
          -4156.465557737878,
          -5672.945167771356,
          -7017.518223612162,
          -8163.153156099364,
          -9088.14667161649,
          -9776.584950622411,
          -10218.650570716934,
          -10410.768707401841,
          -10355.590505243945,
          -10061.815876439327,
          -9543.862253300676,
          -8821.389879631464,
          -7918.697963607249,
          -6864.009331466784,
          -5688.664029198907,
          -4426.244544932423,
          -3111.656911702648,
          -1780.1928598374593,
          -466.59840102781317,
          795.826257789647,
          1976.0717334495303,
          3046.187481437373,
          3981.9532531226523,
          4763.4373368932165,
          5375.428246964668,
          5807.73017532722,
          6055.316399937821,
          6118.338834141683,
          6001.995897137277,
          5716.2647704304745,
          5275.5077738309565,
          4697.965945607815,
          4005.1558547620552,
          3221.188130487046,
          2372.0281011433485,
          1484.720244771441,
          586.5988352480662,
          -295.4927896618851,
          -1135.952503476762,
          -1911.1185756226234,
          -2599.89890114899,
          -3184.313691685879,
          -3649.9377651991754,
          -3986.2316505300814,
          -4186.75406685737,
          -4249.251848641646,
          -4175.626961255477,
          -3971.7837876162175,
          -3647.363260832974,
          -3215.3735764259463,
          -2691.7300513711543,
          -2094.719128955509,
          -1444.4034922278715,
          -761.9866941075543,
          -69.15660289807356,
          612.5727203693112,
          1262.5013546952605,
          1861.3475229231904,
          2391.7980772137585,
          2838.9901107368632,
          3190.9105993491726,
          3438.703589799684,
          3576.8773367468507,
          3603.406861821508,
          3519.730571038342,
          3330.6427287868437,
          3044.086653318053,
          2670.8563817177205,
          2224.2171679765365,
          1719.4574523784677,
          1173.386810272507,
          603.7958027591641,
          28.894574126860366,
          -533.2525506821826,
          -1065.2793272981887,
          -1551.0401935150458,
          -1976.0878028270026,
          -2328.091639765426,
          -2597.1858219906703,
          -2776.236483543499,
          -2861.021684888899,
          -2850.319529675353,
          -2745.9030011396026,
          -2552.4428770238424,
          -2277.322854892333,
          -1930.3736373374213,
          -1523.5351115248855,
          -1070.4578402407303,
          -586.0568022152399,
          -86.03163007224911,
          413.63154157216985,
          897.1611085935974,
          1349.4884801012918,
          1756.709128369307,
          2106.5023178707233,
          2388.4970337932814,
          2594.5734055042235,
          2719.09100562689,
          2759.037733898688,
          2714.095494573172,
          2586.6214686863354,
          2381.546388705875,
          2106.1937633511857,
          1770.0263975864643,
          1384.328735156541,
          961.8354538560054,
          516.3183103158697,
          62.14441738025563,
          -386.18009168097666,
          -814.4667209986866,
          -1209.2874063411978,
          -1558.3898011102501,
          -1851.0723663045069,
          -2078.5079173796394,
          -2234.005961389218,
          -2313.2061245931905,
          -2314.197161159325,
          -2237.5583792378256,
          -2086.3227483802148,
          -1865.8633868134807,
          -1583.7074936009303,
          -1249.2840169688704,
          -873.6133678815331,
          -468.94923711131565,
          -48.3840013182287,
          374.5697323421765,
          786.4082242558329,
          1174.062868026834,
          1525.3103112466104,
          1829.1536931787366,
          2076.1632275252987,
          2258.765685028947,
          2371.473974831638,
          2411.049933284435,
          2376.595543557504,
          2269.5700632412486,
          2093.732859490871,
          1855.0140701306361,
          1561.3174528758693,
          1222.2618840541757,
          848.8698586795201,
          453.2129674409656,
          48.02563397551866,
          -353.7006519990237,
          -739.129801922591,
          -1095.987323956446,
          -1412.9475114326403,
          -1679.989520783091,
          -1888.7112429416698,
          -2032.5912226781543,
          -2107.190530682364,
          -2110.288392221144,
          -2041.94746365232,
          -1904.5068593427243,
          -1702.50329726598,
          -1442.5229816467306,
          -1132.9890053246186,
          -783.8910660633646,
          -406.4660876174451,
          -12.83986234055333,
          384.3589595048959,
          772.4003550097827,
          1138.85723725144,
          1471.9998586050747,
          1761.1679004431892,
          1997.1085480272866,
          2172.2699216841206,
          2281.040639085211,
          2319.9279746902107,
          2287.669008812777,
          2185.271260111988,
          2015.981506365506,
          1785.1837503529844,
          1500.2295104715686,
          1170.2057402593357,
          805.6476409288211,
          418.2053656387373,
          20.275068855057334,
          -375.39411617369603,
          -756.1048198969223,
          -1109.6151630823533,
          -1424.528745230221,
          -1690.6585833873582,
          -1899.3534862666716,
          -2043.7765060302368,
          -2119.1265931170587,
          -2122.796342863847,
          -2054.4607117075284,
          -1916.0937342979025,
          -1711.9125240899039,
          -1448.2501192043815,
          -1133.360971630807,
          -777.16500160466,
          -390.9380837675618,
          13.041463398900477,
          421.8794020885525,
          822.4730579951452,
          1201.9270059131597,
          1547.9638980933557,
          1849.3174779923872,
          2096.095328990693,
          2280.0998055621644,
          2395.096856127499,
          2437.024034897777,
          2404.130866465649,
          2297.0468145737345,
          2118.7743518649327,
          1874.6069610899435,
          1571.974248413142,
          1220.2186432078522,
          830.3103243318561,
          414.50898299789185,
          -14.017255577460872,
          -441.60402968526085,
          -854.5212931029872,
          -1239.4088058988928,
          -1583.7029111186228,
          -1876.0411308110972,
          -2106.6317212963827,
          -2267.576337869288,
          -2353.1353443661287,
          -2359.927022639393,
          -2287.0539397442485,
          -2136.151956468444,
          -1911.3597423394147,
          -1619.2091266784773,
          -1268.4390872961321,
          -869.738581355241,
          -435.4256824494008,
          20.927467053894137,
          484.91261319736327,
          941.7335516147426,
          1376.6707386302771,
          1775.5479674077114,
          2125.186533292883,
          2413.8325709117235,
          2631.543949031475,
          2770.5242395253167,
          2825.3928027977263,
          2793.3819101133895,
          2674.453998645007,
          2471.3345636295326,
          2189.4587616190643,
          1836.8324523953097,
          1423.8110637366422,
          962.8022417852817,
          467.9006704619044,
          -45.53436934040311,
          -561.3462452057802,
          -1063.0790457662993,
          -1534.4913940939964,
          -1960.0702573287583,
          -2325.528825390259,
          -2618.2728345090195,
          -2827.8204957014636,
          -2946.162435214153,
          -2968.0497300574966,
          -2891.200180848265,
          -2716.415347868205,
          -2447.603515234988,
          -2091.7065658288025,
          -1658.531662226288,
          -1160.491549549136,
          -612.260136516563,
          -30.35268471212679,
          567.3576397557813,
          1162.1729991604607,
          1735.1383415311868,
          2267.6262640740297,
          2741.921696141561,
          3141.788567800192,
          3453.000915599535,
          3663.821693942072,
          3765.413890775637,
          3752.1703557527608,
          3621.950990299898,
          3376.2185599814106,
          3020.0672972054804,
          2562.141584126889,
          2014.445251077283,
          1392.0453006678263,
          712.6770753347522,
          -3.739069629619049,
          -735.6567357270904,
          -1460.5227926707594,
          -2155.439697959234,
          -2797.851940180005,
          -3366.2367038517787,
          -3840.778405587562,
          -4204.006893350162,
          -4441.379835691461,
          -4541.791142039902,
          -4497.989117542153,
          -4306.8904188702645,
          -3969.7786788001013,
          -3492.379831088282,
          -2884.8096062868613,
          -2161.3922875722146,
          -1340.353510990083,
          -443.3935616624758,
          504.84885010940843,
          1477.4290534986542,
          2445.8088828218138,
          3380.630367283357,
          4252.5298316373655,
          5032.970123096958,
          5695.067821376333,
          6214.392074921923,
          6569.712150240175,
          6743.671877461007,
          6723.370900161636,
          6500.834948766245,
          6073.360195535139,
          5443.720041092668,
          4620.226339055153,
          3616.6409881390377,
          2451.937902378882,
          1149.9194971336674,
          -261.3041137171842,
          -1749.961139205857,
          -3281.3736996259677,
          -4818.804143680945,
          -6324.37055698692,
          -7760.007792022283,
          -9088.44884692498,
          -10274.200594807657,
          -11284.487744366761,
          -12090.139505296162,
          -12666.39472683211,
          -12993.603244044698,
          -13057.803754850065,
          -12851.161693316091,
          -12372.254179422467,
          -11626.193115081664,
          -10624.581753912858,
          -9385.304482567508,
          -7932.153994594886,
          -6294.304392210497,
          -4505.642898085869,
          -2603.9766833530957,
          -630.1347150880696,
          1373.0125988934326,
          3361.5909170739674,
          5291.789964934614,
          7120.934475309779,
          8808.530355150437,
          10317.258950443409,
          11613.893593317684,
          12670.114622956045,
          13463.201718835415
         ],
         "yaxis": "y2"
        }
       ],
       "layout": {
        "height": 400,
        "showlegend": false,
        "template": {
         "data": {
          "bar": [
           {
            "error_x": {
             "color": "#2a3f5f"
            },
            "error_y": {
             "color": "#2a3f5f"
            },
            "marker": {
             "line": {
              "color": "#E5ECF6",
              "width": 0.5
             }
            },
            "type": "bar"
           }
          ],
          "barpolar": [
           {
            "marker": {
             "line": {
              "color": "#E5ECF6",
              "width": 0.5
             }
            },
            "type": "barpolar"
           }
          ],
          "carpet": [
           {
            "aaxis": {
             "endlinecolor": "#2a3f5f",
             "gridcolor": "white",
             "linecolor": "white",
             "minorgridcolor": "white",
             "startlinecolor": "#2a3f5f"
            },
            "baxis": {
             "endlinecolor": "#2a3f5f",
             "gridcolor": "white",
             "linecolor": "white",
             "minorgridcolor": "white",
             "startlinecolor": "#2a3f5f"
            },
            "type": "carpet"
           }
          ],
          "choropleth": [
           {
            "colorbar": {
             "outlinewidth": 0,
             "ticks": ""
            },
            "type": "choropleth"
           }
          ],
          "contour": [
           {
            "colorbar": {
             "outlinewidth": 0,
             "ticks": ""
            },
            "colorscale": [
             [
              0,
              "#0d0887"
             ],
             [
              0.1111111111111111,
              "#46039f"
             ],
             [
              0.2222222222222222,
              "#7201a8"
             ],
             [
              0.3333333333333333,
              "#9c179e"
             ],
             [
              0.4444444444444444,
              "#bd3786"
             ],
             [
              0.5555555555555556,
              "#d8576b"
             ],
             [
              0.6666666666666666,
              "#ed7953"
             ],
             [
              0.7777777777777778,
              "#fb9f3a"
             ],
             [
              0.8888888888888888,
              "#fdca26"
             ],
             [
              1,
              "#f0f921"
             ]
            ],
            "type": "contour"
           }
          ],
          "contourcarpet": [
           {
            "colorbar": {
             "outlinewidth": 0,
             "ticks": ""
            },
            "type": "contourcarpet"
           }
          ],
          "heatmap": [
           {
            "colorbar": {
             "outlinewidth": 0,
             "ticks": ""
            },
            "colorscale": [
             [
              0,
              "#0d0887"
             ],
             [
              0.1111111111111111,
              "#46039f"
             ],
             [
              0.2222222222222222,
              "#7201a8"
             ],
             [
              0.3333333333333333,
              "#9c179e"
             ],
             [
              0.4444444444444444,
              "#bd3786"
             ],
             [
              0.5555555555555556,
              "#d8576b"
             ],
             [
              0.6666666666666666,
              "#ed7953"
             ],
             [
              0.7777777777777778,
              "#fb9f3a"
             ],
             [
              0.8888888888888888,
              "#fdca26"
             ],
             [
              1,
              "#f0f921"
             ]
            ],
            "type": "heatmap"
           }
          ],
          "heatmapgl": [
           {
            "colorbar": {
             "outlinewidth": 0,
             "ticks": ""
            },
            "colorscale": [
             [
              0,
              "#0d0887"
             ],
             [
              0.1111111111111111,
              "#46039f"
             ],
             [
              0.2222222222222222,
              "#7201a8"
             ],
             [
              0.3333333333333333,
              "#9c179e"
             ],
             [
              0.4444444444444444,
              "#bd3786"
             ],
             [
              0.5555555555555556,
              "#d8576b"
             ],
             [
              0.6666666666666666,
              "#ed7953"
             ],
             [
              0.7777777777777778,
              "#fb9f3a"
             ],
             [
              0.8888888888888888,
              "#fdca26"
             ],
             [
              1,
              "#f0f921"
             ]
            ],
            "type": "heatmapgl"
           }
          ],
          "histogram": [
           {
            "marker": {
             "colorbar": {
              "outlinewidth": 0,
              "ticks": ""
             }
            },
            "type": "histogram"
           }
          ],
          "histogram2d": [
           {
            "colorbar": {
             "outlinewidth": 0,
             "ticks": ""
            },
            "colorscale": [
             [
              0,
              "#0d0887"
             ],
             [
              0.1111111111111111,
              "#46039f"
             ],
             [
              0.2222222222222222,
              "#7201a8"
             ],
             [
              0.3333333333333333,
              "#9c179e"
             ],
             [
              0.4444444444444444,
              "#bd3786"
             ],
             [
              0.5555555555555556,
              "#d8576b"
             ],
             [
              0.6666666666666666,
              "#ed7953"
             ],
             [
              0.7777777777777778,
              "#fb9f3a"
             ],
             [
              0.8888888888888888,
              "#fdca26"
             ],
             [
              1,
              "#f0f921"
             ]
            ],
            "type": "histogram2d"
           }
          ],
          "histogram2dcontour": [
           {
            "colorbar": {
             "outlinewidth": 0,
             "ticks": ""
            },
            "colorscale": [
             [
              0,
              "#0d0887"
             ],
             [
              0.1111111111111111,
              "#46039f"
             ],
             [
              0.2222222222222222,
              "#7201a8"
             ],
             [
              0.3333333333333333,
              "#9c179e"
             ],
             [
              0.4444444444444444,
              "#bd3786"
             ],
             [
              0.5555555555555556,
              "#d8576b"
             ],
             [
              0.6666666666666666,
              "#ed7953"
             ],
             [
              0.7777777777777778,
              "#fb9f3a"
             ],
             [
              0.8888888888888888,
              "#fdca26"
             ],
             [
              1,
              "#f0f921"
             ]
            ],
            "type": "histogram2dcontour"
           }
          ],
          "mesh3d": [
           {
            "colorbar": {
             "outlinewidth": 0,
             "ticks": ""
            },
            "type": "mesh3d"
           }
          ],
          "parcoords": [
           {
            "line": {
             "colorbar": {
              "outlinewidth": 0,
              "ticks": ""
             }
            },
            "type": "parcoords"
           }
          ],
          "pie": [
           {
            "automargin": true,
            "type": "pie"
           }
          ],
          "scatter": [
           {
            "marker": {
             "colorbar": {
              "outlinewidth": 0,
              "ticks": ""
             }
            },
            "type": "scatter"
           }
          ],
          "scatter3d": [
           {
            "line": {
             "colorbar": {
              "outlinewidth": 0,
              "ticks": ""
             }
            },
            "marker": {
             "colorbar": {
              "outlinewidth": 0,
              "ticks": ""
             }
            },
            "type": "scatter3d"
           }
          ],
          "scattercarpet": [
           {
            "marker": {
             "colorbar": {
              "outlinewidth": 0,
              "ticks": ""
             }
            },
            "type": "scattercarpet"
           }
          ],
          "scattergeo": [
           {
            "marker": {
             "colorbar": {
              "outlinewidth": 0,
              "ticks": ""
             }
            },
            "type": "scattergeo"
           }
          ],
          "scattergl": [
           {
            "marker": {
             "colorbar": {
              "outlinewidth": 0,
              "ticks": ""
             }
            },
            "type": "scattergl"
           }
          ],
          "scattermapbox": [
           {
            "marker": {
             "colorbar": {
              "outlinewidth": 0,
              "ticks": ""
             }
            },
            "type": "scattermapbox"
           }
          ],
          "scatterpolar": [
           {
            "marker": {
             "colorbar": {
              "outlinewidth": 0,
              "ticks": ""
             }
            },
            "type": "scatterpolar"
           }
          ],
          "scatterpolargl": [
           {
            "marker": {
             "colorbar": {
              "outlinewidth": 0,
              "ticks": ""
             }
            },
            "type": "scatterpolargl"
           }
          ],
          "scatterternary": [
           {
            "marker": {
             "colorbar": {
              "outlinewidth": 0,
              "ticks": ""
             }
            },
            "type": "scatterternary"
           }
          ],
          "surface": [
           {
            "colorbar": {
             "outlinewidth": 0,
             "ticks": ""
            },
            "colorscale": [
             [
              0,
              "#0d0887"
             ],
             [
              0.1111111111111111,
              "#46039f"
             ],
             [
              0.2222222222222222,
              "#7201a8"
             ],
             [
              0.3333333333333333,
              "#9c179e"
             ],
             [
              0.4444444444444444,
              "#bd3786"
             ],
             [
              0.5555555555555556,
              "#d8576b"
             ],
             [
              0.6666666666666666,
              "#ed7953"
             ],
             [
              0.7777777777777778,
              "#fb9f3a"
             ],
             [
              0.8888888888888888,
              "#fdca26"
             ],
             [
              1,
              "#f0f921"
             ]
            ],
            "type": "surface"
           }
          ],
          "table": [
           {
            "cells": {
             "fill": {
              "color": "#EBF0F8"
             },
             "line": {
              "color": "white"
             }
            },
            "header": {
             "fill": {
              "color": "#C8D4E3"
             },
             "line": {
              "color": "white"
             }
            },
            "type": "table"
           }
          ]
         },
         "layout": {
          "annotationdefaults": {
           "arrowcolor": "#2a3f5f",
           "arrowhead": 0,
           "arrowwidth": 1
          },
          "autotypenumbers": "strict",
          "coloraxis": {
           "colorbar": {
            "outlinewidth": 0,
            "ticks": ""
           }
          },
          "colorscale": {
           "diverging": [
            [
             0,
             "#8e0152"
            ],
            [
             0.1,
             "#c51b7d"
            ],
            [
             0.2,
             "#de77ae"
            ],
            [
             0.3,
             "#f1b6da"
            ],
            [
             0.4,
             "#fde0ef"
            ],
            [
             0.5,
             "#f7f7f7"
            ],
            [
             0.6,
             "#e6f5d0"
            ],
            [
             0.7,
             "#b8e186"
            ],
            [
             0.8,
             "#7fbc41"
            ],
            [
             0.9,
             "#4d9221"
            ],
            [
             1,
             "#276419"
            ]
           ],
           "sequential": [
            [
             0,
             "#0d0887"
            ],
            [
             0.1111111111111111,
             "#46039f"
            ],
            [
             0.2222222222222222,
             "#7201a8"
            ],
            [
             0.3333333333333333,
             "#9c179e"
            ],
            [
             0.4444444444444444,
             "#bd3786"
            ],
            [
             0.5555555555555556,
             "#d8576b"
            ],
            [
             0.6666666666666666,
             "#ed7953"
            ],
            [
             0.7777777777777778,
             "#fb9f3a"
            ],
            [
             0.8888888888888888,
             "#fdca26"
            ],
            [
             1,
             "#f0f921"
            ]
           ],
           "sequentialminus": [
            [
             0,
             "#0d0887"
            ],
            [
             0.1111111111111111,
             "#46039f"
            ],
            [
             0.2222222222222222,
             "#7201a8"
            ],
            [
             0.3333333333333333,
             "#9c179e"
            ],
            [
             0.4444444444444444,
             "#bd3786"
            ],
            [
             0.5555555555555556,
             "#d8576b"
            ],
            [
             0.6666666666666666,
             "#ed7953"
            ],
            [
             0.7777777777777778,
             "#fb9f3a"
            ],
            [
             0.8888888888888888,
             "#fdca26"
            ],
            [
             1,
             "#f0f921"
            ]
           ]
          },
          "colorway": [
           "#636efa",
           "#EF553B",
           "#00cc96",
           "#ab63fa",
           "#FFA15A",
           "#19d3f3",
           "#FF6692",
           "#B6E880",
           "#FF97FF",
           "#FECB52"
          ],
          "font": {
           "color": "#2a3f5f"
          },
          "geo": {
           "bgcolor": "white",
           "lakecolor": "white",
           "landcolor": "#E5ECF6",
           "showlakes": true,
           "showland": true,
           "subunitcolor": "white"
          },
          "hoverlabel": {
           "align": "left"
          },
          "hovermode": "closest",
          "mapbox": {
           "style": "light"
          },
          "paper_bgcolor": "white",
          "plot_bgcolor": "#E5ECF6",
          "polar": {
           "angularaxis": {
            "gridcolor": "white",
            "linecolor": "white",
            "ticks": ""
           },
           "bgcolor": "#E5ECF6",
           "radialaxis": {
            "gridcolor": "white",
            "linecolor": "white",
            "ticks": ""
           }
          },
          "scene": {
           "xaxis": {
            "backgroundcolor": "#E5ECF6",
            "gridcolor": "white",
            "gridwidth": 2,
            "linecolor": "white",
            "showbackground": true,
            "ticks": "",
            "zerolinecolor": "white"
           },
           "yaxis": {
            "backgroundcolor": "#E5ECF6",
            "gridcolor": "white",
            "gridwidth": 2,
            "linecolor": "white",
            "showbackground": true,
            "ticks": "",
            "zerolinecolor": "white"
           },
           "zaxis": {
            "backgroundcolor": "#E5ECF6",
            "gridcolor": "white",
            "gridwidth": 2,
            "linecolor": "white",
            "showbackground": true,
            "ticks": "",
            "zerolinecolor": "white"
           }
          },
          "shapedefaults": {
           "line": {
            "color": "#2a3f5f"
           }
          },
          "ternary": {
           "aaxis": {
            "gridcolor": "white",
            "linecolor": "white",
            "ticks": ""
           },
           "baxis": {
            "gridcolor": "white",
            "linecolor": "white",
            "ticks": ""
           },
           "bgcolor": "#E5ECF6",
           "caxis": {
            "gridcolor": "white",
            "linecolor": "white",
            "ticks": ""
           }
          },
          "title": {
           "x": 0.05
          },
          "xaxis": {
           "automargin": true,
           "gridcolor": "white",
           "linecolor": "white",
           "ticks": "",
           "title": {
            "standoff": 15
           },
           "zerolinecolor": "white",
           "zerolinewidth": 2
          },
          "yaxis": {
           "automargin": true,
           "gridcolor": "white",
           "linecolor": "white",
           "ticks": "",
           "title": {
            "standoff": 15
           },
           "zerolinecolor": "white",
           "zerolinewidth": 2
          }
         }
        },
        "width": 900,
        "xaxis": {
         "anchor": "y",
         "domain": [
          0,
          1
         ],
         "range": [
          "1969-11-25T12:00:00.000002001",
          "1972-02-06T12:00:00.000002018"
         ],
         "type": "date"
        },
        "xaxis2": {
         "anchor": "y2",
         "domain": [
          0,
          1
         ],
         "range": [
          "2016-12-13T18:54:02.958904115",
          "2018-01-18T11:04:57.863013581"
         ],
         "tickformat": "%B %e",
         "type": "date"
        },
        "yaxis": {
         "anchor": "x",
         "domain": [
          0.575,
          1
         ],
         "rangemode": "normal",
         "title": {
          "text": "trend"
         },
         "zerolinecolor": "#AAA"
        },
        "yaxis2": {
         "anchor": "x2",
         "domain": [
          0,
          0.425
         ],
         "title": {
          "text": "yearly"
         },
         "zerolinecolor": "#AAA"
        }
       }
      },
      "text/html": [
       "<div>                            <div id=\"e1eaaa3e-0329-4ff2-be3b-21e02d3bf065\" class=\"plotly-graph-div\" style=\"height:400px; width:900px;\"></div>            <script type=\"text/javascript\">                require([\"plotly\"], function(Plotly) {                    window.PLOTLYENV=window.PLOTLYENV || {};                                    if (document.getElementById(\"e1eaaa3e-0329-4ff2-be3b-21e02d3bf065\")) {                    Plotly.newPlot(                        \"e1eaaa3e-0329-4ff2-be3b-21e02d3bf065\",                        [{\"line\": {\"color\": \"#0072B2\", \"width\": 2}, \"mode\": \"lines\", \"name\": \"trend\", \"type\": \"scatter\", \"x\": [\"1970-01-01T00:00:00.000002\", \"1970-01-01T00:00:00.000002\", \"1970-01-01T00:00:00.000002\", \"1970-01-01T00:00:00.000002\", \"1970-01-01T00:00:00.000002\", \"1970-01-01T00:00:00.000002\", \"1970-01-01T00:00:00.000002\", \"1970-01-01T00:00:00.000002\", \"1970-01-01T00:00:00.000002\", \"1970-01-01T00:00:00.000002\", \"1970-01-01T00:00:00.000002\", \"1970-01-01T00:00:00.000002\", \"1970-01-01T00:00:00.000002\", \"1970-01-01T00:00:00.000002\", \"1970-01-01T00:00:00.000002\", \"1970-01-01T00:00:00.000002\", \"1971-01-01T00:00:00.000002\", \"1972-01-01T00:00:00.000002\"], \"xaxis\": \"x\", \"y\": [18337.343200754414, 18337.343200754414, 18337.343200754414, 18337.343200754414, 18337.343200754414, 18337.343200754414, 18337.343200754414, 18337.343200754414, 18337.343200754414, 18337.343200754414, 18337.343200754414, 18337.343200754414, 18337.343200754414, 18337.343200754414, 18337.343200754414, 18337.343200754414, 17764.779164671596, 17192.21512858878], \"yaxis\": \"y\"}, {\"line\": {\"color\": \"#0072B2\", \"width\": 2}, \"mode\": \"lines\", \"name\": \"yearly\", \"type\": \"scatter\", \"x\": [\"2017-01-01T00:00:00\", \"2017-01-02T00:00:59.178082\", \"2017-01-03T00:01:58.356164\", \"2017-01-04T00:02:57.534246\", \"2017-01-05T00:03:56.712328\", \"2017-01-06T00:04:55.890411\", \"2017-01-07T00:05:55.068493\", \"2017-01-08T00:06:54.246575\", \"2017-01-09T00:07:53.424657\", \"2017-01-10T00:08:52.602739\", \"2017-01-11T00:09:51.780822\", \"2017-01-12T00:10:50.958904\", \"2017-01-13T00:11:50.136986\", \"2017-01-14T00:12:49.315068\", \"2017-01-15T00:13:48.493150\", \"2017-01-16T00:14:47.671232\", \"2017-01-17T00:15:46.849315\", \"2017-01-18T00:16:46.027397\", \"2017-01-19T00:17:45.205479\", \"2017-01-20T00:18:44.383561\", \"2017-01-21T00:19:43.561643\", \"2017-01-22T00:20:42.739726\", \"2017-01-23T00:21:41.917808\", \"2017-01-24T00:22:41.095890\", \"2017-01-25T00:23:40.273972\", \"2017-01-26T00:24:39.452054\", \"2017-01-27T00:25:38.630137\", \"2017-01-28T00:26:37.808219\", \"2017-01-29T00:27:36.986301\", \"2017-01-30T00:28:36.164383\", \"2017-01-31T00:29:35.342465\", \"2017-02-01T00:30:34.520547\", \"2017-02-02T00:31:33.698630\", \"2017-02-03T00:32:32.876712\", \"2017-02-04T00:33:32.054794\", \"2017-02-05T00:34:31.232876\", \"2017-02-06T00:35:30.410958\", \"2017-02-07T00:36:29.589041\", \"2017-02-08T00:37:28.767123\", \"2017-02-09T00:38:27.945205\", \"2017-02-10T00:39:27.123287\", \"2017-02-11T00:40:26.301369\", \"2017-02-12T00:41:25.479452\", \"2017-02-13T00:42:24.657534\", \"2017-02-14T00:43:23.835616\", \"2017-02-15T00:44:23.013698\", \"2017-02-16T00:45:22.191780\", \"2017-02-17T00:46:21.369862\", \"2017-02-18T00:47:20.547945\", \"2017-02-19T00:48:19.726027\", \"2017-02-20T00:49:18.904109\", \"2017-02-21T00:50:18.082191\", \"2017-02-22T00:51:17.260273\", \"2017-02-23T00:52:16.438356\", \"2017-02-24T00:53:15.616438\", \"2017-02-25T00:54:14.794520\", \"2017-02-26T00:55:13.972602\", \"2017-02-27T00:56:13.150684\", \"2017-02-28T00:57:12.328767\", \"2017-03-01T00:58:11.506849\", \"2017-03-02T00:59:10.684931\", \"2017-03-03T01:00:09.863013\", \"2017-03-04T01:01:09.041095\", \"2017-03-05T01:02:08.219177\", \"2017-03-06T01:03:07.397260\", \"2017-03-07T01:04:06.575342\", \"2017-03-08T01:05:05.753424\", \"2017-03-09T01:06:04.931506\", \"2017-03-10T01:07:04.109588\", \"2017-03-11T01:08:03.287671\", \"2017-03-12T01:09:02.465753\", \"2017-03-13T01:10:01.643835\", \"2017-03-14T01:11:00.821917\", \"2017-03-15T01:12:00\", \"2017-03-16T01:12:59.178082\", \"2017-03-17T01:13:58.356164\", \"2017-03-18T01:14:57.534246\", \"2017-03-19T01:15:56.712328\", \"2017-03-20T01:16:55.890411\", \"2017-03-21T01:17:55.068493\", \"2017-03-22T01:18:54.246575\", \"2017-03-23T01:19:53.424657\", \"2017-03-24T01:20:52.602739\", \"2017-03-25T01:21:51.780822\", \"2017-03-26T01:22:50.958904\", \"2017-03-27T01:23:50.136986\", \"2017-03-28T01:24:49.315068\", \"2017-03-29T01:25:48.493150\", \"2017-03-30T01:26:47.671232\", \"2017-03-31T01:27:46.849315\", \"2017-04-01T01:28:46.027397\", \"2017-04-02T01:29:45.205479\", \"2017-04-03T01:30:44.383561\", \"2017-04-04T01:31:43.561643\", \"2017-04-05T01:32:42.739726\", \"2017-04-06T01:33:41.917808\", \"2017-04-07T01:34:41.095890\", \"2017-04-08T01:35:40.273972\", \"2017-04-09T01:36:39.452054\", \"2017-04-10T01:37:38.630137\", \"2017-04-11T01:38:37.808219\", \"2017-04-12T01:39:36.986301\", \"2017-04-13T01:40:36.164383\", \"2017-04-14T01:41:35.342465\", \"2017-04-15T01:42:34.520547\", \"2017-04-16T01:43:33.698630\", \"2017-04-17T01:44:32.876712\", \"2017-04-18T01:45:32.054794\", \"2017-04-19T01:46:31.232876\", \"2017-04-20T01:47:30.410958\", \"2017-04-21T01:48:29.589041\", \"2017-04-22T01:49:28.767123\", \"2017-04-23T01:50:27.945205\", \"2017-04-24T01:51:27.123287\", \"2017-04-25T01:52:26.301369\", \"2017-04-26T01:53:25.479452\", \"2017-04-27T01:54:24.657534\", \"2017-04-28T01:55:23.835616\", \"2017-04-29T01:56:23.013698\", \"2017-04-30T01:57:22.191780\", \"2017-05-01T01:58:21.369862\", \"2017-05-02T01:59:20.547945\", \"2017-05-03T02:00:19.726027\", \"2017-05-04T02:01:18.904109\", \"2017-05-05T02:02:18.082191\", \"2017-05-06T02:03:17.260273\", \"2017-05-07T02:04:16.438356\", \"2017-05-08T02:05:15.616438\", \"2017-05-09T02:06:14.794520\", \"2017-05-10T02:07:13.972602\", \"2017-05-11T02:08:13.150684\", \"2017-05-12T02:09:12.328767\", \"2017-05-13T02:10:11.506849\", \"2017-05-14T02:11:10.684931\", \"2017-05-15T02:12:09.863013\", \"2017-05-16T02:13:09.041095\", \"2017-05-17T02:14:08.219177\", \"2017-05-18T02:15:07.397260\", \"2017-05-19T02:16:06.575342\", \"2017-05-20T02:17:05.753424\", \"2017-05-21T02:18:04.931506\", \"2017-05-22T02:19:04.109588\", \"2017-05-23T02:20:03.287671\", \"2017-05-24T02:21:02.465753\", \"2017-05-25T02:22:01.643835\", \"2017-05-26T02:23:00.821917\", \"2017-05-27T02:24:00\", \"2017-05-28T02:24:59.178082\", \"2017-05-29T02:25:58.356164\", \"2017-05-30T02:26:57.534246\", \"2017-05-31T02:27:56.712328\", \"2017-06-01T02:28:55.890411\", \"2017-06-02T02:29:55.068493\", \"2017-06-03T02:30:54.246575\", \"2017-06-04T02:31:53.424657\", \"2017-06-05T02:32:52.602739\", \"2017-06-06T02:33:51.780822\", \"2017-06-07T02:34:50.958904\", \"2017-06-08T02:35:50.136986\", \"2017-06-09T02:36:49.315068\", \"2017-06-10T02:37:48.493150\", \"2017-06-11T02:38:47.671232\", \"2017-06-12T02:39:46.849315\", \"2017-06-13T02:40:46.027397\", \"2017-06-14T02:41:45.205479\", \"2017-06-15T02:42:44.383561\", \"2017-06-16T02:43:43.561643\", \"2017-06-17T02:44:42.739726\", \"2017-06-18T02:45:41.917808\", \"2017-06-19T02:46:41.095890\", \"2017-06-20T02:47:40.273972\", \"2017-06-21T02:48:39.452054\", \"2017-06-22T02:49:38.630137\", \"2017-06-23T02:50:37.808219\", \"2017-06-24T02:51:36.986301\", \"2017-06-25T02:52:36.164383\", \"2017-06-26T02:53:35.342465\", \"2017-06-27T02:54:34.520547\", \"2017-06-28T02:55:33.698630\", \"2017-06-29T02:56:32.876712\", \"2017-06-30T02:57:32.054794\", \"2017-07-01T02:58:31.232876\", \"2017-07-02T02:59:30.410958\", \"2017-07-03T03:00:29.589041\", \"2017-07-04T03:01:28.767123\", \"2017-07-05T03:02:27.945205\", \"2017-07-06T03:03:27.123287\", \"2017-07-07T03:04:26.301369\", \"2017-07-08T03:05:25.479452\", \"2017-07-09T03:06:24.657534\", \"2017-07-10T03:07:23.835616\", \"2017-07-11T03:08:23.013698\", \"2017-07-12T03:09:22.191780\", \"2017-07-13T03:10:21.369862\", \"2017-07-14T03:11:20.547945\", \"2017-07-15T03:12:19.726027\", \"2017-07-16T03:13:18.904109\", \"2017-07-17T03:14:18.082191\", \"2017-07-18T03:15:17.260273\", \"2017-07-19T03:16:16.438356\", \"2017-07-20T03:17:15.616438\", \"2017-07-21T03:18:14.794520\", \"2017-07-22T03:19:13.972602\", \"2017-07-23T03:20:13.150684\", \"2017-07-24T03:21:12.328767\", \"2017-07-25T03:22:11.506849\", \"2017-07-26T03:23:10.684931\", \"2017-07-27T03:24:09.863013\", \"2017-07-28T03:25:09.041095\", \"2017-07-29T03:26:08.219177\", \"2017-07-30T03:27:07.397260\", \"2017-07-31T03:28:06.575342\", \"2017-08-01T03:29:05.753424\", \"2017-08-02T03:30:04.931506\", \"2017-08-03T03:31:04.109588\", \"2017-08-04T03:32:03.287671\", \"2017-08-05T03:33:02.465753\", \"2017-08-06T03:34:01.643835\", \"2017-08-07T03:35:00.821917\", \"2017-08-08T03:36:00\", \"2017-08-09T03:36:59.178082\", \"2017-08-10T03:37:58.356164\", \"2017-08-11T03:38:57.534246\", \"2017-08-12T03:39:56.712328\", \"2017-08-13T03:40:55.890411\", \"2017-08-14T03:41:55.068493\", \"2017-08-15T03:42:54.246575\", \"2017-08-16T03:43:53.424657\", \"2017-08-17T03:44:52.602739\", \"2017-08-18T03:45:51.780822\", \"2017-08-19T03:46:50.958904\", \"2017-08-20T03:47:50.136986\", \"2017-08-21T03:48:49.315068\", \"2017-08-22T03:49:48.493150\", \"2017-08-23T03:50:47.671232\", \"2017-08-24T03:51:46.849315\", \"2017-08-25T03:52:46.027397\", \"2017-08-26T03:53:45.205479\", \"2017-08-27T03:54:44.383561\", \"2017-08-28T03:55:43.561643\", \"2017-08-29T03:56:42.739726\", \"2017-08-30T03:57:41.917808\", \"2017-08-31T03:58:41.095890\", \"2017-09-01T03:59:40.273972\", \"2017-09-02T04:00:39.452054\", \"2017-09-03T04:01:38.630137\", \"2017-09-04T04:02:37.808219\", \"2017-09-05T04:03:36.986301\", \"2017-09-06T04:04:36.164383\", \"2017-09-07T04:05:35.342465\", \"2017-09-08T04:06:34.520547\", \"2017-09-09T04:07:33.698630\", \"2017-09-10T04:08:32.876712\", \"2017-09-11T04:09:32.054794\", \"2017-09-12T04:10:31.232876\", \"2017-09-13T04:11:30.410958\", \"2017-09-14T04:12:29.589041\", \"2017-09-15T04:13:28.767123\", \"2017-09-16T04:14:27.945205\", \"2017-09-17T04:15:27.123287\", \"2017-09-18T04:16:26.301369\", \"2017-09-19T04:17:25.479452\", \"2017-09-20T04:18:24.657534\", \"2017-09-21T04:19:23.835616\", \"2017-09-22T04:20:23.013698\", \"2017-09-23T04:21:22.191780\", \"2017-09-24T04:22:21.369862\", \"2017-09-25T04:23:20.547945\", \"2017-09-26T04:24:19.726027\", \"2017-09-27T04:25:18.904109\", \"2017-09-28T04:26:18.082191\", \"2017-09-29T04:27:17.260273\", \"2017-09-30T04:28:16.438356\", \"2017-10-01T04:29:15.616438\", \"2017-10-02T04:30:14.794520\", \"2017-10-03T04:31:13.972602\", \"2017-10-04T04:32:13.150684\", \"2017-10-05T04:33:12.328767\", \"2017-10-06T04:34:11.506849\", \"2017-10-07T04:35:10.684931\", \"2017-10-08T04:36:09.863013\", \"2017-10-09T04:37:09.041095\", \"2017-10-10T04:38:08.219177\", \"2017-10-11T04:39:07.397260\", \"2017-10-12T04:40:06.575342\", \"2017-10-13T04:41:05.753424\", \"2017-10-14T04:42:04.931506\", \"2017-10-15T04:43:04.109588\", \"2017-10-16T04:44:03.287671\", \"2017-10-17T04:45:02.465753\", \"2017-10-18T04:46:01.643835\", \"2017-10-19T04:47:00.821917\", \"2017-10-20T04:48:00\", \"2017-10-21T04:48:59.178082\", \"2017-10-22T04:49:58.356164\", \"2017-10-23T04:50:57.534246\", \"2017-10-24T04:51:56.712328\", \"2017-10-25T04:52:55.890411\", \"2017-10-26T04:53:55.068493\", \"2017-10-27T04:54:54.246575\", \"2017-10-28T04:55:53.424657\", \"2017-10-29T04:56:52.602739\", \"2017-10-30T04:57:51.780822\", \"2017-10-31T04:58:50.958904\", \"2017-11-01T04:59:50.136986\", \"2017-11-02T05:00:49.315068\", \"2017-11-03T05:01:48.493150\", \"2017-11-04T05:02:47.671232\", \"2017-11-05T05:03:46.849315\", \"2017-11-06T05:04:46.027397\", \"2017-11-07T05:05:45.205479\", \"2017-11-08T05:06:44.383561\", \"2017-11-09T05:07:43.561643\", \"2017-11-10T05:08:42.739726\", \"2017-11-11T05:09:41.917808\", \"2017-11-12T05:10:41.095890\", \"2017-11-13T05:11:40.273972\", \"2017-11-14T05:12:39.452054\", \"2017-11-15T05:13:38.630137\", \"2017-11-16T05:14:37.808219\", \"2017-11-17T05:15:36.986301\", \"2017-11-18T05:16:36.164383\", \"2017-11-19T05:17:35.342465\", \"2017-11-20T05:18:34.520547\", \"2017-11-21T05:19:33.698630\", \"2017-11-22T05:20:32.876712\", \"2017-11-23T05:21:32.054794\", \"2017-11-24T05:22:31.232876\", \"2017-11-25T05:23:30.410958\", \"2017-11-26T05:24:29.589041\", \"2017-11-27T05:25:28.767123\", \"2017-11-28T05:26:27.945205\", \"2017-11-29T05:27:27.123287\", \"2017-11-30T05:28:26.301369\", \"2017-12-01T05:29:25.479452\", \"2017-12-02T05:30:24.657534\", \"2017-12-03T05:31:23.835616\", \"2017-12-04T05:32:23.013698\", \"2017-12-05T05:33:22.191780\", \"2017-12-06T05:34:21.369862\", \"2017-12-07T05:35:20.547945\", \"2017-12-08T05:36:19.726027\", \"2017-12-09T05:37:18.904109\", \"2017-12-10T05:38:18.082191\", \"2017-12-11T05:39:17.260273\", \"2017-12-12T05:40:16.438356\", \"2017-12-13T05:41:15.616438\", \"2017-12-14T05:42:14.794520\", \"2017-12-15T05:43:13.972602\", \"2017-12-16T05:44:13.150684\", \"2017-12-17T05:45:12.328767\", \"2017-12-18T05:46:11.506849\", \"2017-12-19T05:47:10.684931\", \"2017-12-20T05:48:09.863013\", \"2017-12-21T05:49:09.041095\", \"2017-12-22T05:50:08.219177\", \"2017-12-23T05:51:07.397260\", \"2017-12-24T05:52:06.575342\", \"2017-12-25T05:53:05.753424\", \"2017-12-26T05:54:04.931506\", \"2017-12-27T05:55:04.109588\", \"2017-12-28T05:56:03.287671\", \"2017-12-29T05:57:02.465753\", \"2017-12-30T05:58:01.643835\", \"2017-12-31T05:59:00.821917\"], \"xaxis\": \"x2\", \"y\": [13976.585601496146, 14200.244854222601, 14130.937699457898, 13772.262914998586, 13134.548579324797, 12234.57187035131, 11095.117584461843, 9744.387272235563, 8215.274790086994, 6544.527536683943, 4771.815587487214, 2938.7332807035177, 1087.7594814791676, -738.7962845620079, -2499.834406666971, -4156.465557737878, -5672.945167771356, -7017.518223612162, -8163.153156099364, -9088.14667161649, -9776.584950622411, -10218.650570716934, -10410.768707401841, -10355.590505243945, -10061.815876439327, -9543.862253300676, -8821.389879631464, -7918.697963607249, -6864.009331466784, -5688.664029198907, -4426.244544932423, -3111.656911702648, -1780.1928598374593, -466.59840102781317, 795.826257789647, 1976.0717334495303, 3046.187481437373, 3981.9532531226523, 4763.4373368932165, 5375.428246964668, 5807.73017532722, 6055.316399937821, 6118.338834141683, 6001.995897137277, 5716.2647704304745, 5275.5077738309565, 4697.965945607815, 4005.1558547620552, 3221.188130487046, 2372.0281011433485, 1484.720244771441, 586.5988352480662, -295.4927896618851, -1135.952503476762, -1911.1185756226234, -2599.89890114899, -3184.313691685879, -3649.9377651991754, -3986.2316505300814, -4186.75406685737, -4249.251848641646, -4175.626961255477, -3971.7837876162175, -3647.363260832974, -3215.3735764259463, -2691.7300513711543, -2094.719128955509, -1444.4034922278715, -761.9866941075543, -69.15660289807356, 612.5727203693112, 1262.5013546952605, 1861.3475229231904, 2391.7980772137585, 2838.9901107368632, 3190.9105993491726, 3438.703589799684, 3576.8773367468507, 3603.406861821508, 3519.730571038342, 3330.6427287868437, 3044.086653318053, 2670.8563817177205, 2224.2171679765365, 1719.4574523784677, 1173.386810272507, 603.7958027591641, 28.894574126860366, -533.2525506821826, -1065.2793272981887, -1551.0401935150458, -1976.0878028270026, -2328.091639765426, -2597.1858219906703, -2776.236483543499, -2861.021684888899, -2850.319529675353, -2745.9030011396026, -2552.4428770238424, -2277.322854892333, -1930.3736373374213, -1523.5351115248855, -1070.4578402407303, -586.0568022152399, -86.03163007224911, 413.63154157216985, 897.1611085935974, 1349.4884801012918, 1756.709128369307, 2106.5023178707233, 2388.4970337932814, 2594.5734055042235, 2719.09100562689, 2759.037733898688, 2714.095494573172, 2586.6214686863354, 2381.546388705875, 2106.1937633511857, 1770.0263975864643, 1384.328735156541, 961.8354538560054, 516.3183103158697, 62.14441738025563, -386.18009168097666, -814.4667209986866, -1209.2874063411978, -1558.3898011102501, -1851.0723663045069, -2078.5079173796394, -2234.005961389218, -2313.2061245931905, -2314.197161159325, -2237.5583792378256, -2086.3227483802148, -1865.8633868134807, -1583.7074936009303, -1249.2840169688704, -873.6133678815331, -468.94923711131565, -48.3840013182287, 374.5697323421765, 786.4082242558329, 1174.062868026834, 1525.3103112466104, 1829.1536931787366, 2076.1632275252987, 2258.765685028947, 2371.473974831638, 2411.049933284435, 2376.595543557504, 2269.5700632412486, 2093.732859490871, 1855.0140701306361, 1561.3174528758693, 1222.2618840541757, 848.8698586795201, 453.2129674409656, 48.02563397551866, -353.7006519990237, -739.129801922591, -1095.987323956446, -1412.9475114326403, -1679.989520783091, -1888.7112429416698, -2032.5912226781543, -2107.190530682364, -2110.288392221144, -2041.94746365232, -1904.5068593427243, -1702.50329726598, -1442.5229816467306, -1132.9890053246186, -783.8910660633646, -406.4660876174451, -12.83986234055333, 384.3589595048959, 772.4003550097827, 1138.85723725144, 1471.9998586050747, 1761.1679004431892, 1997.1085480272866, 2172.2699216841206, 2281.040639085211, 2319.9279746902107, 2287.669008812777, 2185.271260111988, 2015.981506365506, 1785.1837503529844, 1500.2295104715686, 1170.2057402593357, 805.6476409288211, 418.2053656387373, 20.275068855057334, -375.39411617369603, -756.1048198969223, -1109.6151630823533, -1424.528745230221, -1690.6585833873582, -1899.3534862666716, -2043.7765060302368, -2119.1265931170587, -2122.796342863847, -2054.4607117075284, -1916.0937342979025, -1711.9125240899039, -1448.2501192043815, -1133.360971630807, -777.16500160466, -390.9380837675618, 13.041463398900477, 421.8794020885525, 822.4730579951452, 1201.9270059131597, 1547.9638980933557, 1849.3174779923872, 2096.095328990693, 2280.0998055621644, 2395.096856127499, 2437.024034897777, 2404.130866465649, 2297.0468145737345, 2118.7743518649327, 1874.6069610899435, 1571.974248413142, 1220.2186432078522, 830.3103243318561, 414.50898299789185, -14.017255577460872, -441.60402968526085, -854.5212931029872, -1239.4088058988928, -1583.7029111186228, -1876.0411308110972, -2106.6317212963827, -2267.576337869288, -2353.1353443661287, -2359.927022639393, -2287.0539397442485, -2136.151956468444, -1911.3597423394147, -1619.2091266784773, -1268.4390872961321, -869.738581355241, -435.4256824494008, 20.927467053894137, 484.91261319736327, 941.7335516147426, 1376.6707386302771, 1775.5479674077114, 2125.186533292883, 2413.8325709117235, 2631.543949031475, 2770.5242395253167, 2825.3928027977263, 2793.3819101133895, 2674.453998645007, 2471.3345636295326, 2189.4587616190643, 1836.8324523953097, 1423.8110637366422, 962.8022417852817, 467.9006704619044, -45.53436934040311, -561.3462452057802, -1063.0790457662993, -1534.4913940939964, -1960.0702573287583, -2325.528825390259, -2618.2728345090195, -2827.8204957014636, -2946.162435214153, -2968.0497300574966, -2891.200180848265, -2716.415347868205, -2447.603515234988, -2091.7065658288025, -1658.531662226288, -1160.491549549136, -612.260136516563, -30.35268471212679, 567.3576397557813, 1162.1729991604607, 1735.1383415311868, 2267.6262640740297, 2741.921696141561, 3141.788567800192, 3453.000915599535, 3663.821693942072, 3765.413890775637, 3752.1703557527608, 3621.950990299898, 3376.2185599814106, 3020.0672972054804, 2562.141584126889, 2014.445251077283, 1392.0453006678263, 712.6770753347522, -3.739069629619049, -735.6567357270904, -1460.5227926707594, -2155.439697959234, -2797.851940180005, -3366.2367038517787, -3840.778405587562, -4204.006893350162, -4441.379835691461, -4541.791142039902, -4497.989117542153, -4306.8904188702645, -3969.7786788001013, -3492.379831088282, -2884.8096062868613, -2161.3922875722146, -1340.353510990083, -443.3935616624758, 504.84885010940843, 1477.4290534986542, 2445.8088828218138, 3380.630367283357, 4252.5298316373655, 5032.970123096958, 5695.067821376333, 6214.392074921923, 6569.712150240175, 6743.671877461007, 6723.370900161636, 6500.834948766245, 6073.360195535139, 5443.720041092668, 4620.226339055153, 3616.6409881390377, 2451.937902378882, 1149.9194971336674, -261.3041137171842, -1749.961139205857, -3281.3736996259677, -4818.804143680945, -6324.37055698692, -7760.007792022283, -9088.44884692498, -10274.200594807657, -11284.487744366761, -12090.139505296162, -12666.39472683211, -12993.603244044698, -13057.803754850065, -12851.161693316091, -12372.254179422467, -11626.193115081664, -10624.581753912858, -9385.304482567508, -7932.153994594886, -6294.304392210497, -4505.642898085869, -2603.9766833530957, -630.1347150880696, 1373.0125988934326, 3361.5909170739674, 5291.789964934614, 7120.934475309779, 8808.530355150437, 10317.258950443409, 11613.893593317684, 12670.114622956045, 13463.201718835415], \"yaxis\": \"y2\"}],                        {\"height\": 400, \"showlegend\": false, \"template\": {\"data\": {\"bar\": [{\"error_x\": {\"color\": \"#2a3f5f\"}, \"error_y\": {\"color\": \"#2a3f5f\"}, \"marker\": {\"line\": {\"color\": \"#E5ECF6\", \"width\": 0.5}}, \"type\": \"bar\"}], \"barpolar\": [{\"marker\": {\"line\": {\"color\": \"#E5ECF6\", \"width\": 0.5}}, \"type\": \"barpolar\"}], \"carpet\": [{\"aaxis\": {\"endlinecolor\": \"#2a3f5f\", \"gridcolor\": \"white\", \"linecolor\": \"white\", \"minorgridcolor\": \"white\", \"startlinecolor\": \"#2a3f5f\"}, \"baxis\": {\"endlinecolor\": \"#2a3f5f\", \"gridcolor\": \"white\", \"linecolor\": \"white\", \"minorgridcolor\": \"white\", \"startlinecolor\": \"#2a3f5f\"}, \"type\": \"carpet\"}], \"choropleth\": [{\"colorbar\": {\"outlinewidth\": 0, \"ticks\": \"\"}, \"type\": \"choropleth\"}], \"contour\": [{\"colorbar\": {\"outlinewidth\": 0, \"ticks\": \"\"}, \"colorscale\": [[0.0, \"#0d0887\"], [0.1111111111111111, \"#46039f\"], [0.2222222222222222, \"#7201a8\"], [0.3333333333333333, \"#9c179e\"], [0.4444444444444444, \"#bd3786\"], [0.5555555555555556, \"#d8576b\"], [0.6666666666666666, \"#ed7953\"], [0.7777777777777778, \"#fb9f3a\"], [0.8888888888888888, \"#fdca26\"], [1.0, \"#f0f921\"]], \"type\": \"contour\"}], \"contourcarpet\": [{\"colorbar\": {\"outlinewidth\": 0, \"ticks\": \"\"}, \"type\": \"contourcarpet\"}], \"heatmap\": [{\"colorbar\": {\"outlinewidth\": 0, \"ticks\": \"\"}, \"colorscale\": [[0.0, \"#0d0887\"], [0.1111111111111111, \"#46039f\"], [0.2222222222222222, \"#7201a8\"], [0.3333333333333333, \"#9c179e\"], [0.4444444444444444, \"#bd3786\"], [0.5555555555555556, \"#d8576b\"], [0.6666666666666666, \"#ed7953\"], [0.7777777777777778, \"#fb9f3a\"], [0.8888888888888888, \"#fdca26\"], [1.0, \"#f0f921\"]], \"type\": \"heatmap\"}], \"heatmapgl\": [{\"colorbar\": {\"outlinewidth\": 0, \"ticks\": \"\"}, \"colorscale\": [[0.0, \"#0d0887\"], [0.1111111111111111, \"#46039f\"], [0.2222222222222222, \"#7201a8\"], [0.3333333333333333, \"#9c179e\"], [0.4444444444444444, \"#bd3786\"], [0.5555555555555556, \"#d8576b\"], [0.6666666666666666, \"#ed7953\"], [0.7777777777777778, \"#fb9f3a\"], [0.8888888888888888, \"#fdca26\"], [1.0, \"#f0f921\"]], \"type\": \"heatmapgl\"}], \"histogram\": [{\"marker\": {\"colorbar\": {\"outlinewidth\": 0, \"ticks\": \"\"}}, \"type\": \"histogram\"}], \"histogram2d\": [{\"colorbar\": {\"outlinewidth\": 0, \"ticks\": \"\"}, \"colorscale\": [[0.0, \"#0d0887\"], [0.1111111111111111, \"#46039f\"], [0.2222222222222222, \"#7201a8\"], [0.3333333333333333, \"#9c179e\"], [0.4444444444444444, \"#bd3786\"], [0.5555555555555556, \"#d8576b\"], [0.6666666666666666, \"#ed7953\"], [0.7777777777777778, \"#fb9f3a\"], [0.8888888888888888, \"#fdca26\"], [1.0, \"#f0f921\"]], \"type\": \"histogram2d\"}], \"histogram2dcontour\": [{\"colorbar\": {\"outlinewidth\": 0, \"ticks\": \"\"}, \"colorscale\": [[0.0, \"#0d0887\"], [0.1111111111111111, \"#46039f\"], [0.2222222222222222, \"#7201a8\"], [0.3333333333333333, \"#9c179e\"], [0.4444444444444444, \"#bd3786\"], [0.5555555555555556, \"#d8576b\"], [0.6666666666666666, \"#ed7953\"], [0.7777777777777778, \"#fb9f3a\"], [0.8888888888888888, \"#fdca26\"], [1.0, \"#f0f921\"]], \"type\": \"histogram2dcontour\"}], \"mesh3d\": [{\"colorbar\": {\"outlinewidth\": 0, \"ticks\": \"\"}, \"type\": \"mesh3d\"}], \"parcoords\": [{\"line\": {\"colorbar\": {\"outlinewidth\": 0, \"ticks\": \"\"}}, \"type\": \"parcoords\"}], \"pie\": [{\"automargin\": true, \"type\": \"pie\"}], \"scatter\": [{\"marker\": {\"colorbar\": {\"outlinewidth\": 0, \"ticks\": \"\"}}, \"type\": \"scatter\"}], \"scatter3d\": [{\"line\": {\"colorbar\": {\"outlinewidth\": 0, \"ticks\": \"\"}}, \"marker\": {\"colorbar\": {\"outlinewidth\": 0, \"ticks\": \"\"}}, \"type\": \"scatter3d\"}], \"scattercarpet\": [{\"marker\": {\"colorbar\": {\"outlinewidth\": 0, \"ticks\": \"\"}}, \"type\": \"scattercarpet\"}], \"scattergeo\": [{\"marker\": {\"colorbar\": {\"outlinewidth\": 0, \"ticks\": \"\"}}, \"type\": \"scattergeo\"}], \"scattergl\": [{\"marker\": {\"colorbar\": {\"outlinewidth\": 0, \"ticks\": \"\"}}, \"type\": \"scattergl\"}], \"scattermapbox\": [{\"marker\": {\"colorbar\": {\"outlinewidth\": 0, \"ticks\": \"\"}}, \"type\": \"scattermapbox\"}], \"scatterpolar\": [{\"marker\": {\"colorbar\": {\"outlinewidth\": 0, \"ticks\": \"\"}}, \"type\": \"scatterpolar\"}], \"scatterpolargl\": [{\"marker\": {\"colorbar\": {\"outlinewidth\": 0, \"ticks\": \"\"}}, \"type\": \"scatterpolargl\"}], \"scatterternary\": [{\"marker\": {\"colorbar\": {\"outlinewidth\": 0, \"ticks\": \"\"}}, \"type\": \"scatterternary\"}], \"surface\": [{\"colorbar\": {\"outlinewidth\": 0, \"ticks\": \"\"}, \"colorscale\": [[0.0, \"#0d0887\"], [0.1111111111111111, \"#46039f\"], [0.2222222222222222, \"#7201a8\"], [0.3333333333333333, \"#9c179e\"], [0.4444444444444444, \"#bd3786\"], [0.5555555555555556, \"#d8576b\"], [0.6666666666666666, \"#ed7953\"], [0.7777777777777778, \"#fb9f3a\"], [0.8888888888888888, \"#fdca26\"], [1.0, \"#f0f921\"]], \"type\": \"surface\"}], \"table\": [{\"cells\": {\"fill\": {\"color\": \"#EBF0F8\"}, \"line\": {\"color\": \"white\"}}, \"header\": {\"fill\": {\"color\": \"#C8D4E3\"}, \"line\": {\"color\": \"white\"}}, \"type\": \"table\"}]}, \"layout\": {\"annotationdefaults\": {\"arrowcolor\": \"#2a3f5f\", \"arrowhead\": 0, \"arrowwidth\": 1}, \"autotypenumbers\": \"strict\", \"coloraxis\": {\"colorbar\": {\"outlinewidth\": 0, \"ticks\": \"\"}}, \"colorscale\": {\"diverging\": [[0, \"#8e0152\"], [0.1, \"#c51b7d\"], [0.2, \"#de77ae\"], [0.3, \"#f1b6da\"], [0.4, \"#fde0ef\"], [0.5, \"#f7f7f7\"], [0.6, \"#e6f5d0\"], [0.7, \"#b8e186\"], [0.8, \"#7fbc41\"], [0.9, \"#4d9221\"], [1, \"#276419\"]], \"sequential\": [[0.0, \"#0d0887\"], [0.1111111111111111, \"#46039f\"], [0.2222222222222222, \"#7201a8\"], [0.3333333333333333, \"#9c179e\"], [0.4444444444444444, \"#bd3786\"], [0.5555555555555556, \"#d8576b\"], [0.6666666666666666, \"#ed7953\"], [0.7777777777777778, \"#fb9f3a\"], [0.8888888888888888, \"#fdca26\"], [1.0, \"#f0f921\"]], \"sequentialminus\": [[0.0, \"#0d0887\"], [0.1111111111111111, \"#46039f\"], [0.2222222222222222, \"#7201a8\"], [0.3333333333333333, \"#9c179e\"], [0.4444444444444444, \"#bd3786\"], [0.5555555555555556, \"#d8576b\"], [0.6666666666666666, \"#ed7953\"], [0.7777777777777778, \"#fb9f3a\"], [0.8888888888888888, \"#fdca26\"], [1.0, \"#f0f921\"]]}, \"colorway\": [\"#636efa\", \"#EF553B\", \"#00cc96\", \"#ab63fa\", \"#FFA15A\", \"#19d3f3\", \"#FF6692\", \"#B6E880\", \"#FF97FF\", \"#FECB52\"], \"font\": {\"color\": \"#2a3f5f\"}, \"geo\": {\"bgcolor\": \"white\", \"lakecolor\": \"white\", \"landcolor\": \"#E5ECF6\", \"showlakes\": true, \"showland\": true, \"subunitcolor\": \"white\"}, \"hoverlabel\": {\"align\": \"left\"}, \"hovermode\": \"closest\", \"mapbox\": {\"style\": \"light\"}, \"paper_bgcolor\": \"white\", \"plot_bgcolor\": \"#E5ECF6\", \"polar\": {\"angularaxis\": {\"gridcolor\": \"white\", \"linecolor\": \"white\", \"ticks\": \"\"}, \"bgcolor\": \"#E5ECF6\", \"radialaxis\": {\"gridcolor\": \"white\", \"linecolor\": \"white\", \"ticks\": \"\"}}, \"scene\": {\"xaxis\": {\"backgroundcolor\": \"#E5ECF6\", \"gridcolor\": \"white\", \"gridwidth\": 2, \"linecolor\": \"white\", \"showbackground\": true, \"ticks\": \"\", \"zerolinecolor\": \"white\"}, \"yaxis\": {\"backgroundcolor\": \"#E5ECF6\", \"gridcolor\": \"white\", \"gridwidth\": 2, \"linecolor\": \"white\", \"showbackground\": true, \"ticks\": \"\", \"zerolinecolor\": \"white\"}, \"zaxis\": {\"backgroundcolor\": \"#E5ECF6\", \"gridcolor\": \"white\", \"gridwidth\": 2, \"linecolor\": \"white\", \"showbackground\": true, \"ticks\": \"\", \"zerolinecolor\": \"white\"}}, \"shapedefaults\": {\"line\": {\"color\": \"#2a3f5f\"}}, \"ternary\": {\"aaxis\": {\"gridcolor\": \"white\", \"linecolor\": \"white\", \"ticks\": \"\"}, \"baxis\": {\"gridcolor\": \"white\", \"linecolor\": \"white\", \"ticks\": \"\"}, \"bgcolor\": \"#E5ECF6\", \"caxis\": {\"gridcolor\": \"white\", \"linecolor\": \"white\", \"ticks\": \"\"}}, \"title\": {\"x\": 0.05}, \"xaxis\": {\"automargin\": true, \"gridcolor\": \"white\", \"linecolor\": \"white\", \"ticks\": \"\", \"title\": {\"standoff\": 15}, \"zerolinecolor\": \"white\", \"zerolinewidth\": 2}, \"yaxis\": {\"automargin\": true, \"gridcolor\": \"white\", \"linecolor\": \"white\", \"ticks\": \"\", \"title\": {\"standoff\": 15}, \"zerolinecolor\": \"white\", \"zerolinewidth\": 2}}}, \"width\": 900, \"xaxis\": {\"anchor\": \"y\", \"domain\": [0.0, 1.0], \"range\": [\"1969-11-25T12:00:00.000002001\", \"1972-02-06T12:00:00.000002018\"], \"type\": \"date\"}, \"xaxis2\": {\"anchor\": \"y2\", \"domain\": [0.0, 1.0], \"range\": [\"2016-12-13T18:54:02.958904115\", \"2018-01-18T11:04:57.863013581\"], \"tickformat\": \"%B %e\", \"type\": \"date\"}, \"yaxis\": {\"anchor\": \"x\", \"domain\": [0.575, 1.0], \"rangemode\": \"normal\", \"title\": {\"text\": \"trend\"}, \"zerolinecolor\": \"#AAA\"}, \"yaxis2\": {\"anchor\": \"x2\", \"domain\": [0.0, 0.425], \"title\": {\"text\": \"yearly\"}, \"zerolinecolor\": \"#AAA\"}},                        {\"responsive\": true}                    ).then(function(){\n",
       "                            \n",
       "var gd = document.getElementById('e1eaaa3e-0329-4ff2-be3b-21e02d3bf065');\n",
       "var x = new MutationObserver(function (mutations, observer) {{\n",
       "        var display = window.getComputedStyle(gd).display;\n",
       "        if (!display || display === 'none') {{\n",
       "            console.log([gd, 'removed!']);\n",
       "            Plotly.purge(gd);\n",
       "            observer.disconnect();\n",
       "        }}\n",
       "}});\n",
       "\n",
       "// Listen for the removal of the full notebook cells\n",
       "var notebookContainer = gd.closest('#notebook-container');\n",
       "if (notebookContainer) {{\n",
       "    x.observe(notebookContainer, {childList: true});\n",
       "}}\n",
       "\n",
       "// Listen for the clearing of the current output cell\n",
       "var outputEl = gd.closest('.output');\n",
       "if (outputEl) {{\n",
       "    x.observe(outputEl, {childList: true});\n",
       "}}\n",
       "\n",
       "                        })                };                });            </script>        </div>"
      ]
     },
     "metadata": {},
     "output_type": "display_data"
    }
   ],
   "source": [
    "plot_components_plotly(m, forecast)"
   ]
  },
  {
   "cell_type": "code",
   "execution_count": null,
   "metadata": {},
   "outputs": [],
   "source": []
  }
 ],
 "metadata": {
  "kernelspec": {
   "display_name": "Python 3",
   "language": "python",
   "name": "python3"
  },
  "language_info": {
   "codemirror_mode": {
    "name": "ipython",
    "version": 3
   },
   "file_extension": ".py",
   "mimetype": "text/x-python",
   "name": "python",
   "nbconvert_exporter": "python",
   "pygments_lexer": "ipython3",
   "version": "3.9.2"
  }
 },
 "nbformat": 4,
 "nbformat_minor": 4
}
